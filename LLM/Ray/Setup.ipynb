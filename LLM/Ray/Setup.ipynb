{
 "cells": [
  {
   "cell_type": "code",
   "execution_count": 1,
   "metadata": {},
   "outputs": [],
   "source": [
    "# !pip install -U \"ray[air]\"\n",
    "# python3 -m pip install --upgrade pip setuptools wheel\n",
    "# export GITHUB_USERNAME=\"KaranHC\"  # <-- CHANGE THIS to your username\n",
    "\n",
    "# git clone https://github.com/GokuMohandas/Made-With-ML.git .\n",
    "# git remote set-url origin https://github.com/$GITHUB_USERNAME/Made-With-ML.git\n",
    "# git checkout -b dev\n",
    "# export PYTHONPATH=$PYTHONPATH:$PWD  # so we can import modules from our scripts"
   ]
  },
  {
   "cell_type": "code",
   "execution_count": 2,
   "metadata": {},
   "outputs": [],
   "source": [
    "import ray"
   ]
  },
  {
   "cell_type": "code",
   "execution_count": 3,
   "metadata": {},
   "outputs": [
    {
     "name": "stderr",
     "output_type": "stream",
     "text": [
      "2023-09-06 20:04:55,878\tINFO worker.py:1612 -- Started a local Ray instance. View the dashboard at \u001b[1m\u001b[32m127.0.0.1:8265 \u001b[39m\u001b[22m\n"
     ]
    },
    {
     "data": {
      "application/vnd.jupyter.widget-view+json": {
       "model_id": "accaf7cd505e418497df704a72eaab8e",
       "version_major": 2,
       "version_minor": 0
      },
      "text/html": [
       "<div class=\"lm-Widget p-Widget lm-Panel p-Panel jp-Cell-outputWrapper\">\n",
       "    <div style=\"margin-left: 50px;display: flex;flex-direction: row;align-items: center\">\n",
       "        <div class=\"jp-RenderedHTMLCommon\" style=\"display: flex; flex-direction: row;\">\n",
       "  <svg viewBox=\"0 0 567 224\" fill=\"none\" xmlns=\"http://www.w3.org/2000/svg\" style=\"height: 3em;\">\n",
       "    <g clip-path=\"url(#clip0_4338_178347)\">\n",
       "        <path d=\"M341.29 165.561H355.29L330.13 129.051C345.63 123.991 354.21 112.051 354.21 94.2307C354.21 71.3707 338.72 58.1807 311.88 58.1807H271V165.561H283.27V131.661H311.8C314.25 131.661 316.71 131.501 319.01 131.351L341.25 165.561H341.29ZM283.29 119.851V70.0007H311.82C331.3 70.0007 342.34 78.2907 342.34 94.5507C342.34 111.271 331.34 119.861 311.82 119.861L283.29 119.851ZM451.4 138.411L463.4 165.561H476.74L428.74 58.1807H416L367.83 165.561H380.83L392.83 138.411H451.4ZM446.19 126.601H398L422 72.1407L446.24 126.601H446.19ZM526.11 128.741L566.91 58.1807H554.35L519.99 114.181L485.17 58.1807H472.44L514.01 129.181V165.541H526.13V128.741H526.11Z\" fill=\"var(--jp-ui-font-color0)\"/>\n",
       "        <path d=\"M82.35 104.44C84.0187 97.8827 87.8248 92.0678 93.1671 87.9146C98.5094 83.7614 105.083 81.5067 111.85 81.5067C118.617 81.5067 125.191 83.7614 130.533 87.9146C135.875 92.0678 139.681 97.8827 141.35 104.44H163.75C164.476 101.562 165.622 98.8057 167.15 96.2605L127.45 56.5605C121.071 60.3522 113.526 61.6823 106.235 60.3005C98.9443 58.9187 92.4094 54.9203 87.8602 49.0574C83.3109 43.1946 81.0609 35.8714 81.5332 28.4656C82.0056 21.0599 85.1679 14.0819 90.4252 8.8446C95.6824 3.60726 102.672 0.471508 110.08 0.0272655C117.487 -0.416977 124.802 1.86091 130.647 6.4324C136.493 11.0039 140.467 17.5539 141.821 24.8501C143.175 32.1463 141.816 39.6859 138 46.0505L177.69 85.7505C182.31 82.9877 187.58 81.4995 192.962 81.4375C198.345 81.3755 203.648 82.742 208.33 85.3976C213.012 88.0532 216.907 91.9029 219.616 96.5544C222.326 101.206 223.753 106.492 223.753 111.875C223.753 117.258 222.326 122.545 219.616 127.197C216.907 131.848 213.012 135.698 208.33 138.353C203.648 141.009 198.345 142.375 192.962 142.313C187.58 142.251 182.31 140.763 177.69 138L138 177.7C141.808 184.071 143.155 191.614 141.79 198.91C140.424 206.205 136.44 212.75 130.585 217.313C124.731 221.875 117.412 224.141 110.004 223.683C102.596 223.226 95.6103 220.077 90.3621 214.828C85.1139 209.58 81.9647 202.595 81.5072 195.187C81.0497 187.779 83.3154 180.459 87.878 174.605C92.4405 168.751 98.9853 164.766 106.281 163.401C113.576 162.035 121.119 163.383 127.49 167.19L167.19 127.49C165.664 124.941 164.518 122.182 163.79 119.3H141.39C139.721 125.858 135.915 131.673 130.573 135.826C125.231 139.98 118.657 142.234 111.89 142.234C105.123 142.234 98.5494 139.98 93.2071 135.826C87.8648 131.673 84.0587 125.858 82.39 119.3H60C58.1878 126.495 53.8086 132.78 47.6863 136.971C41.5641 141.163 34.1211 142.972 26.7579 142.059C19.3947 141.146 12.6191 137.574 7.70605 132.014C2.79302 126.454 0.0813599 119.29 0.0813599 111.87C0.0813599 104.451 2.79302 97.2871 7.70605 91.7272C12.6191 86.1673 19.3947 82.5947 26.7579 81.6817C34.1211 80.7686 41.5641 82.5781 47.6863 86.7696C53.8086 90.9611 58.1878 97.2456 60 104.44H82.35ZM100.86 204.32C103.407 206.868 106.759 208.453 110.345 208.806C113.93 209.159 117.527 208.258 120.522 206.256C123.517 204.254 125.725 201.276 126.771 197.828C127.816 194.38 127.633 190.677 126.253 187.349C124.874 184.021 122.383 181.274 119.205 179.577C116.027 177.88 112.359 177.337 108.826 178.042C105.293 178.746 102.113 180.654 99.8291 183.44C97.5451 186.226 96.2979 189.718 96.3 193.32C96.2985 195.364 96.7006 197.388 97.4831 199.275C98.2656 201.163 99.4132 202.877 100.86 204.32ZM204.32 122.88C206.868 120.333 208.453 116.981 208.806 113.396C209.159 109.811 208.258 106.214 206.256 103.219C204.254 100.223 201.275 98.0151 197.827 96.97C194.38 95.9249 190.676 96.1077 187.348 97.4873C184.02 98.8669 181.274 101.358 179.577 104.536C177.879 107.714 177.337 111.382 178.041 114.915C178.746 118.448 180.653 121.627 183.439 123.911C186.226 126.195 189.717 127.443 193.32 127.44C195.364 127.443 197.388 127.042 199.275 126.259C201.163 125.476 202.878 124.328 204.32 122.88ZM122.88 19.4205C120.333 16.8729 116.981 15.2876 113.395 14.9347C109.81 14.5817 106.213 15.483 103.218 17.4849C100.223 19.4868 98.0146 22.4654 96.9696 25.9131C95.9245 29.3608 96.1073 33.0642 97.4869 36.3922C98.8665 39.7202 101.358 42.4668 104.535 44.1639C107.713 45.861 111.381 46.4036 114.914 45.6992C118.447 44.9949 121.627 43.0871 123.911 40.301C126.195 37.515 127.442 34.0231 127.44 30.4205C127.44 28.3772 127.038 26.3539 126.255 24.4664C125.473 22.5788 124.326 20.8642 122.88 19.4205ZM19.42 100.86C16.8725 103.408 15.2872 106.76 14.9342 110.345C14.5813 113.93 15.4826 117.527 17.4844 120.522C19.4863 123.518 22.4649 125.726 25.9127 126.771C29.3604 127.816 33.0638 127.633 36.3918 126.254C39.7198 124.874 42.4664 122.383 44.1635 119.205C45.8606 116.027 46.4032 112.359 45.6988 108.826C44.9944 105.293 43.0866 102.114 40.3006 99.8296C37.5145 97.5455 34.0227 96.2983 30.42 96.3005C26.2938 96.3018 22.337 97.9421 19.42 100.86ZM100.86 100.86C98.3125 103.408 96.7272 106.76 96.3742 110.345C96.0213 113.93 96.9226 117.527 98.9244 120.522C100.926 123.518 103.905 125.726 107.353 126.771C110.8 127.816 114.504 127.633 117.832 126.254C121.16 124.874 123.906 122.383 125.604 119.205C127.301 116.027 127.843 112.359 127.139 108.826C126.434 105.293 124.527 102.114 121.741 99.8296C118.955 97.5455 115.463 96.2983 111.86 96.3005C109.817 96.299 107.793 96.701 105.905 97.4835C104.018 98.2661 102.303 99.4136 100.86 100.86Z\" fill=\"#00AEEF\"/>\n",
       "    </g>\n",
       "    <defs>\n",
       "        <clipPath id=\"clip0_4338_178347\">\n",
       "            <rect width=\"566.93\" height=\"223.75\" fill=\"white\"/>\n",
       "        </clipPath>\n",
       "    </defs>\n",
       "  </svg>\n",
       "</div>\n",
       "\n",
       "        <table class=\"jp-RenderedHTMLCommon\" style=\"border-collapse: collapse;color: var(--jp-ui-font-color1);font-size: var(--jp-ui-font-size1);\">\n",
       "    <tr>\n",
       "        <td style=\"text-align: left\"><b>Python version:</b></td>\n",
       "        <td style=\"text-align: left\"><b>3.10.11</b></td>\n",
       "    </tr>\n",
       "    <tr>\n",
       "        <td style=\"text-align: left\"><b>Ray version:</b></td>\n",
       "        <td style=\"text-align: left\"><b>2.6.0</b></td>\n",
       "    </tr>\n",
       "    <tr>\n",
       "    <td style=\"text-align: left\"><b>Dashboard:</b></td>\n",
       "    <td style=\"text-align: left\"><b><a href=\"http://127.0.0.1:8265\" target=\"_blank\">http://127.0.0.1:8265</a></b></td>\n",
       "</tr>\n",
       "\n",
       "</table>\n",
       "\n",
       "    </div>\n",
       "</div>\n"
      ],
      "text/plain": [
       "RayContext(dashboard_url='127.0.0.1:8265', python_version='3.10.11', ray_version='2.6.0', ray_commit='0db82e31e249eac614f7c8e7da1c4f8f05c9064a', protocol_version=None)"
      ]
     },
     "execution_count": 3,
     "metadata": {},
     "output_type": "execute_result"
    }
   ],
   "source": [
    "# Initialize Ray\n",
    "if ray.is_initialized():\n",
    "    ray.shutdown()\n",
    "\n",
    "ray.init()"
   ]
  },
  {
   "cell_type": "code",
   "execution_count": null,
   "metadata": {},
   "outputs": [],
   "source": []
  },
  {
   "cell_type": "code",
   "execution_count": 4,
   "metadata": {},
   "outputs": [
    {
     "data": {
      "text/plain": [
       "{'node:127.0.0.1': 1.0,\n",
       " 'memory': 3933460071.0,\n",
       " 'object_store_memory': 1966730035.0,\n",
       " 'CPU': 8.0,\n",
       " 'node:__internal_head__': 1.0}"
      ]
     },
     "execution_count": 4,
     "metadata": {},
     "output_type": "execute_result"
    }
   ],
   "source": [
    "ray.cluster_resources()"
   ]
  },
  {
   "cell_type": "code",
   "execution_count": 5,
   "metadata": {},
   "outputs": [],
   "source": [
    "# Workers (1 g4dn.xlarge)\n",
    "num_workers = 1\n",
    "resources_per_worker={\"CPU\":3}#{\"CPU\": 3, \"GPU\": 1}"
   ]
  },
  {
   "cell_type": "code",
   "execution_count": 6,
   "metadata": {},
   "outputs": [],
   "source": [
    "import pandas as pd\n"
   ]
  },
  {
   "cell_type": "code",
   "execution_count": 7,
   "metadata": {},
   "outputs": [
    {
     "data": {
      "text/html": [
       "<div>\n",
       "<style scoped>\n",
       "    .dataframe tbody tr th:only-of-type {\n",
       "        vertical-align: middle;\n",
       "    }\n",
       "\n",
       "    .dataframe tbody tr th {\n",
       "        vertical-align: top;\n",
       "    }\n",
       "\n",
       "    .dataframe thead th {\n",
       "        text-align: right;\n",
       "    }\n",
       "</style>\n",
       "<table border=\"1\" class=\"dataframe\">\n",
       "  <thead>\n",
       "    <tr style=\"text-align: right;\">\n",
       "      <th></th>\n",
       "      <th>id</th>\n",
       "      <th>created_on</th>\n",
       "      <th>title</th>\n",
       "      <th>description</th>\n",
       "      <th>tag</th>\n",
       "    </tr>\n",
       "  </thead>\n",
       "  <tbody>\n",
       "    <tr>\n",
       "      <th>254</th>\n",
       "      <td>855</td>\n",
       "      <td>2020-05-14 12:32:20</td>\n",
       "      <td>Fake new detection Pytorch</td>\n",
       "      <td>Fake News Detection by Learning Convolution Fi...</td>\n",
       "      <td>natural-language-processing</td>\n",
       "    </tr>\n",
       "    <tr>\n",
       "      <th>487</th>\n",
       "      <td>1645</td>\n",
       "      <td>2020-06-29 17:16:17</td>\n",
       "      <td>Using Data Science Pipelines for Disaster Resp...</td>\n",
       "      <td>Uses ETL and ML pipeline to build an NLP syste...</td>\n",
       "      <td>natural-language-processing</td>\n",
       "    </tr>\n",
       "    <tr>\n",
       "      <th>510</th>\n",
       "      <td>1710</td>\n",
       "      <td>2020-07-05 05:47:35</td>\n",
       "      <td>NLP-task-visualizer-app</td>\n",
       "      <td>This application designed with streamlit libra...</td>\n",
       "      <td>natural-language-processing</td>\n",
       "    </tr>\n",
       "    <tr>\n",
       "      <th>72</th>\n",
       "      <td>269</td>\n",
       "      <td>2020-04-06 22:46:54</td>\n",
       "      <td>Attention Mechanism</td>\n",
       "      <td>Main concepts behind Attention, including an i...</td>\n",
       "      <td>natural-language-processing</td>\n",
       "    </tr>\n",
       "    <tr>\n",
       "      <th>214</th>\n",
       "      <td>707</td>\n",
       "      <td>2020-05-05 03:36:50</td>\n",
       "      <td>The Big Bad NLP Database</td>\n",
       "      <td>A collection of 400+ NLP datasets with papers ...</td>\n",
       "      <td>natural-language-processing</td>\n",
       "    </tr>\n",
       "  </tbody>\n",
       "</table>\n",
       "</div>"
      ],
      "text/plain": [
       "       id           created_on   \n",
       "254   855  2020-05-14 12:32:20  \\\n",
       "487  1645  2020-06-29 17:16:17   \n",
       "510  1710  2020-07-05 05:47:35   \n",
       "72    269  2020-04-06 22:46:54   \n",
       "214   707  2020-05-05 03:36:50   \n",
       "\n",
       "                                                 title   \n",
       "254                         Fake new detection Pytorch  \\\n",
       "487  Using Data Science Pipelines for Disaster Resp...   \n",
       "510                            NLP-task-visualizer-app   \n",
       "72                                 Attention Mechanism   \n",
       "214                           The Big Bad NLP Database   \n",
       "\n",
       "                                           description   \n",
       "254  Fake News Detection by Learning Convolution Fi...  \\\n",
       "487  Uses ETL and ML pipeline to build an NLP syste...   \n",
       "510  This application designed with streamlit libra...   \n",
       "72   Main concepts behind Attention, including an i...   \n",
       "214  A collection of 400+ NLP datasets with papers ...   \n",
       "\n",
       "                             tag  \n",
       "254  natural-language-processing  \n",
       "487  natural-language-processing  \n",
       "510  natural-language-processing  \n",
       "72   natural-language-processing  \n",
       "214  natural-language-processing  "
      ]
     },
     "execution_count": 7,
     "metadata": {},
     "output_type": "execute_result"
    }
   ],
   "source": [
    "DATASET_LOC = \"https://raw.githubusercontent.com/GokuMohandas/Made-With-ML/main/datasets/dataset.csv\"\n",
    "df = pd.read_csv(DATASET_LOC).sample(500)\n",
    "df.head()"
   ]
  },
  {
   "cell_type": "code",
   "execution_count": null,
   "metadata": {},
   "outputs": [],
   "source": []
  },
  {
   "cell_type": "code",
   "execution_count": 8,
   "metadata": {},
   "outputs": [
    {
     "data": {
      "text/plain": [
       "(500, 5)"
      ]
     },
     "execution_count": 8,
     "metadata": {},
     "output_type": "execute_result"
    }
   ],
   "source": [
    "df.shape"
   ]
  },
  {
   "cell_type": "code",
   "execution_count": 9,
   "metadata": {},
   "outputs": [],
   "source": [
    "from sklearn.model_selection import train_test_split\n"
   ]
  },
  {
   "cell_type": "code",
   "execution_count": 10,
   "metadata": {},
   "outputs": [
    {
     "data": {
      "text/plain": [
       "tag\n",
       "natural-language-processing    206\n",
       "computer-vision                197\n",
       "other                           65\n",
       "mlops                           32\n",
       "Name: count, dtype: int64"
      ]
     },
     "execution_count": 10,
     "metadata": {},
     "output_type": "execute_result"
    }
   ],
   "source": [
    "df.tag.value_counts()\n"
   ]
  },
  {
   "cell_type": "code",
   "execution_count": 11,
   "metadata": {},
   "outputs": [],
   "source": [
    "test_size = 0.2\n",
    "train_df, val_df = train_test_split(df, stratify=df.tag, test_size=test_size, random_state=1234)"
   ]
  },
  {
   "cell_type": "code",
   "execution_count": 12,
   "metadata": {},
   "outputs": [
    {
     "data": {
      "text/plain": [
       "tag\n",
       "natural-language-processing    165\n",
       "computer-vision                157\n",
       "other                           52\n",
       "mlops                           26\n",
       "Name: count, dtype: int64"
      ]
     },
     "execution_count": 12,
     "metadata": {},
     "output_type": "execute_result"
    }
   ],
   "source": [
    "train_df.tag.value_counts()\n"
   ]
  },
  {
   "cell_type": "code",
   "execution_count": 13,
   "metadata": {},
   "outputs": [
    {
     "data": {
      "text/plain": [
       "4.0"
      ]
     },
     "execution_count": 13,
     "metadata": {},
     "output_type": "execute_result"
    }
   ],
   "source": [
    "0.8/test_size"
   ]
  },
  {
   "cell_type": "code",
   "execution_count": 14,
   "metadata": {},
   "outputs": [
    {
     "data": {
      "text/plain": [
       "tag\n",
       "natural-language-processing    164\n",
       "computer-vision                160\n",
       "other                           52\n",
       "mlops                           24\n",
       "Name: count, dtype: int64"
      ]
     },
     "execution_count": 14,
     "metadata": {},
     "output_type": "execute_result"
    }
   ],
   "source": [
    "val_df.tag.value_counts() * int((1-test_size) / test_size)\n"
   ]
  },
  {
   "cell_type": "code",
   "execution_count": 15,
   "metadata": {},
   "outputs": [],
   "source": [
    "from collections import Counter\n",
    "import matplotlib.pyplot as plt\n",
    "import seaborn as sns; sns.set_theme()\n",
    "import warnings; warnings.filterwarnings(\"ignore\")\n",
    "from wordcloud import WordCloud, STOPWORDS"
   ]
  },
  {
   "cell_type": "code",
   "execution_count": 16,
   "metadata": {},
   "outputs": [
    {
     "data": {
      "text/plain": [
       "[('natural-language-processing', 206),\n",
       " ('computer-vision', 197),\n",
       " ('other', 65),\n",
       " ('mlops', 32)]"
      ]
     },
     "execution_count": 16,
     "metadata": {},
     "output_type": "execute_result"
    }
   ],
   "source": [
    "all_tags = Counter(df.tag)\n",
    "all_tags.most_common()"
   ]
  },
  {
   "cell_type": "code",
   "execution_count": 17,
   "metadata": {},
   "outputs": [
    {
     "data": {
      "text/plain": [
       "([('natural-language-processing', 206),\n",
       "  ('computer-vision', 197),\n",
       "  ('other', 65),\n",
       "  ('mlops', 32)],\n",
       " <zip at 0x2c228c6e1c0>)"
      ]
     },
     "execution_count": 17,
     "metadata": {},
     "output_type": "execute_result"
    }
   ],
   "source": [
    "all_tags.most_common(),zip(*all_tags.most_common())"
   ]
  },
  {
   "cell_type": "code",
   "execution_count": 18,
   "metadata": {},
   "outputs": [
    {
     "data": {
      "image/png": "[encoded data removed]",
      "text/plain": [
       "<Figure size 1000x300 with 1 Axes>"
      ]
     },
     "metadata": {},
     "output_type": "display_data"
    }
   ],
   "source": [
    "# Plot tag frequencies\n",
    "tags, tag_counts = zip(*all_tags.most_common())\n",
    "plt.figure(figsize=(10, 3))\n",
    "ax = sns.barplot(x=list(tags), y=list(tag_counts))\n",
    "ax.set_xticklabels(tags, rotation=0, fontsize=8)\n",
    "plt.title(\"Tag distribution\", fontsize=14)\n",
    "plt.ylabel(\"# of projects\", fontsize=12)\n",
    "plt.show()"
   ]
  },
  {
   "cell_type": "code",
   "execution_count": 19,
   "metadata": {},
   "outputs": [
    {
     "data": {
      "text/plain": [
       "(('natural-language-processing', 'computer-vision', 'other', 'mlops'),\n",
       " (206, 197, 65, 32))"
      ]
     },
     "execution_count": 19,
     "metadata": {},
     "output_type": "execute_result"
    }
   ],
   "source": [
    "tags, tag_counts"
   ]
  },
  {
   "cell_type": "code",
   "execution_count": 20,
   "metadata": {},
   "outputs": [],
   "source": [
    "tags, tag_counts = zip(*all_tags.most_common())\n"
   ]
  },
  {
   "cell_type": "code",
   "execution_count": 21,
   "metadata": {},
   "outputs": [
    {
     "data": {
      "text/plain": [
       "<matplotlib.image.AxesImage at 0x2c2290776a0>"
      ]
     },
     "execution_count": 21,
     "metadata": {},
     "output_type": "execute_result"
    },
    {
     "data": {
      "image/png": "[encoded data removed]",
      "text/plain": [
       "<Figure size 1000x300 with 1 Axes>"
      ]
     },
     "metadata": {},
     "output_type": "display_data"
    }
   ],
   "source": [
    "# Most frequent tokens for each tag\n",
    "tag=\"natural-language-processing\"\n",
    "plt.figure(figsize=(10, 3))\n",
    "subset = df[df.tag==tag]\n",
    "text = subset.title.values\n",
    "cloud = WordCloud(\n",
    "    stopwords=STOPWORDS, background_color=\"black\", collocations=False,\n",
    "    width=500, height=300).generate(\" \".join(text))\n",
    "plt.axis(\"off\")\n",
    "plt.imshow(cloud)\n"
   ]
  },
  {
   "cell_type": "code",
   "execution_count": null,
   "metadata": {},
   "outputs": [],
   "source": []
  },
  {
   "cell_type": "code",
   "execution_count": 22,
   "metadata": {},
   "outputs": [],
   "source": [
    "import json\n",
    "import nltk\n",
    "from nltk.corpus import stopwords\n",
    "from nltk.stem import PorterStemmer\n",
    "import re"
   ]
  },
  {
   "cell_type": "code",
   "execution_count": 23,
   "metadata": {},
   "outputs": [],
   "source": [
    "df[\"text\"] = df.title + \" \" + df.description\n"
   ]
  },
  {
   "cell_type": "code",
   "execution_count": 24,
   "metadata": {},
   "outputs": [
    {
     "name": "stderr",
     "output_type": "stream",
     "text": [
      "[nltk_data] Downloading package stopwords to\n",
      "[nltk_data]     C:\\Users\\sri.karan\\AppData\\Roaming\\nltk_data...\n",
      "[nltk_data]   Package stopwords is already up-to-date!\n"
     ]
    }
   ],
   "source": [
    "nltk.download(\"stopwords\")\n",
    "STOPWORDS = stopwords.words(\"english\")"
   ]
  },
  {
   "cell_type": "code",
   "execution_count": 25,
   "metadata": {},
   "outputs": [],
   "source": [
    "def clean_text(text, stopwords=STOPWORDS):\n",
    "    \"\"\"Clean raw text string.\"\"\"\n",
    "    # Lower\n",
    "    text = text.lower()\n",
    "\n",
    "    # Remove stopwords\n",
    "    pattern = re.compile(r'\\b(' + r\"|\".join(stopwords) + r\")\\b\\s*\")\n",
    "    text = pattern.sub('', text)\n",
    "\n",
    "    # Spacing and filters\n",
    "    text = re.sub(r\"([!\\\"'#$%&()*\\+,-./:;<=>?@\\\\\\[\\]^_`{|}~])\", r\" \\1 \", text)  # add spacing\n",
    "    text = re.sub(\"[^A-Za-z0-9]+\", \" \", text)  # remove non alphanumeric chars\n",
    "    text = re.sub(\" +\", \" \", text)  # remove multiple spaces\n",
    "    text = text.strip()  # strip white space at the ends\n",
    "    text = re.sub(r\"http\\S+\", \"\", text)  #  remove links\n",
    "\n",
    "    return text"
   ]
  },
  {
   "cell_type": "code",
   "execution_count": 26,
   "metadata": {},
   "outputs": [
    {
     "data": {
      "text/html": [
       "<div>\n",
       "<style scoped>\n",
       "    .dataframe tbody tr th:only-of-type {\n",
       "        vertical-align: middle;\n",
       "    }\n",
       "\n",
       "    .dataframe tbody tr th {\n",
       "        vertical-align: top;\n",
       "    }\n",
       "\n",
       "    .dataframe thead th {\n",
       "        text-align: right;\n",
       "    }\n",
       "</style>\n",
       "<table border=\"1\" class=\"dataframe\">\n",
       "  <thead>\n",
       "    <tr style=\"text-align: right;\">\n",
       "      <th></th>\n",
       "      <th>id</th>\n",
       "      <th>created_on</th>\n",
       "      <th>title</th>\n",
       "      <th>description</th>\n",
       "      <th>tag</th>\n",
       "      <th>text</th>\n",
       "    </tr>\n",
       "  </thead>\n",
       "  <tbody>\n",
       "    <tr>\n",
       "      <th>254</th>\n",
       "      <td>855</td>\n",
       "      <td>2020-05-14 12:32:20</td>\n",
       "      <td>Fake new detection Pytorch</td>\n",
       "      <td>Fake News Detection by Learning Convolution Fi...</td>\n",
       "      <td>natural-language-processing</td>\n",
       "      <td>Fake new detection Pytorch Fake News Detection...</td>\n",
       "    </tr>\n",
       "    <tr>\n",
       "      <th>487</th>\n",
       "      <td>1645</td>\n",
       "      <td>2020-06-29 17:16:17</td>\n",
       "      <td>Using Data Science Pipelines for Disaster Resp...</td>\n",
       "      <td>Uses ETL and ML pipeline to build an NLP syste...</td>\n",
       "      <td>natural-language-processing</td>\n",
       "      <td>Using Data Science Pipelines for Disaster Resp...</td>\n",
       "    </tr>\n",
       "  </tbody>\n",
       "</table>\n",
       "</div>"
      ],
      "text/plain": [
       "       id           created_on   \n",
       "254   855  2020-05-14 12:32:20  \\\n",
       "487  1645  2020-06-29 17:16:17   \n",
       "\n",
       "                                                 title   \n",
       "254                         Fake new detection Pytorch  \\\n",
       "487  Using Data Science Pipelines for Disaster Resp...   \n",
       "\n",
       "                                           description   \n",
       "254  Fake News Detection by Learning Convolution Fi...  \\\n",
       "487  Uses ETL and ML pipeline to build an NLP syste...   \n",
       "\n",
       "                             tag   \n",
       "254  natural-language-processing  \\\n",
       "487  natural-language-processing   \n",
       "\n",
       "                                                  text  \n",
       "254  Fake new detection Pytorch Fake News Detection...  \n",
       "487  Using Data Science Pipelines for Disaster Resp...  "
      ]
     },
     "execution_count": 26,
     "metadata": {},
     "output_type": "execute_result"
    }
   ],
   "source": [
    "df.head(2)"
   ]
  },
  {
   "cell_type": "code",
   "execution_count": 27,
   "metadata": {},
   "outputs": [
    {
     "name": "stdout",
     "output_type": "stream",
     "text": [
      "Fake new detection Pytorch Fake News Detection by Learning Convolution Filters through Contextualized Attention.\n",
      "fake new detection pytorch fake news detection learning convolution filters contextualized attention\n"
     ]
    }
   ],
   "source": [
    "# Apply to dataframe\n",
    "original_df = df.copy()\n",
    "df.text = df.text.apply(clean_text)\n",
    "print (f\"{original_df.text.values[0]}\\n{df.text.values[0]}\")"
   ]
  },
  {
   "cell_type": "code",
   "execution_count": 28,
   "metadata": {},
   "outputs": [
    {
     "data": {
      "text/html": [
       "<div>\n",
       "<style scoped>\n",
       "    .dataframe tbody tr th:only-of-type {\n",
       "        vertical-align: middle;\n",
       "    }\n",
       "\n",
       "    .dataframe tbody tr th {\n",
       "        vertical-align: top;\n",
       "    }\n",
       "\n",
       "    .dataframe thead th {\n",
       "        text-align: right;\n",
       "    }\n",
       "</style>\n",
       "<table border=\"1\" class=\"dataframe\">\n",
       "  <thead>\n",
       "    <tr style=\"text-align: right;\">\n",
       "      <th></th>\n",
       "      <th>text</th>\n",
       "      <th>tag</th>\n",
       "    </tr>\n",
       "  </thead>\n",
       "  <tbody>\n",
       "    <tr>\n",
       "      <th>254</th>\n",
       "      <td>fake new detection pytorch fake news detection...</td>\n",
       "      <td>natural-language-processing</td>\n",
       "    </tr>\n",
       "    <tr>\n",
       "      <th>487</th>\n",
       "      <td>using data science pipelines disaster response...</td>\n",
       "      <td>natural-language-processing</td>\n",
       "    </tr>\n",
       "    <tr>\n",
       "      <th>510</th>\n",
       "      <td>nlp task visualizer app application designed s...</td>\n",
       "      <td>natural-language-processing</td>\n",
       "    </tr>\n",
       "    <tr>\n",
       "      <th>72</th>\n",
       "      <td>attention mechanism main concepts behind atten...</td>\n",
       "      <td>natural-language-processing</td>\n",
       "    </tr>\n",
       "    <tr>\n",
       "      <th>214</th>\n",
       "      <td>big bad nlp database collection 400 nlp datase...</td>\n",
       "      <td>natural-language-processing</td>\n",
       "    </tr>\n",
       "  </tbody>\n",
       "</table>\n",
       "</div>"
      ],
      "text/plain": [
       "                                                  text   \n",
       "254  fake new detection pytorch fake news detection...  \\\n",
       "487  using data science pipelines disaster response...   \n",
       "510  nlp task visualizer app application designed s...   \n",
       "72   attention mechanism main concepts behind atten...   \n",
       "214  big bad nlp database collection 400 nlp datase...   \n",
       "\n",
       "                             tag  \n",
       "254  natural-language-processing  \n",
       "487  natural-language-processing  \n",
       "510  natural-language-processing  \n",
       "72   natural-language-processing  \n",
       "214  natural-language-processing  "
      ]
     },
     "execution_count": 28,
     "metadata": {},
     "output_type": "execute_result"
    }
   ],
   "source": [
    "# DataFrame cleanup\n",
    "df = df.drop(columns=[\"id\", \"created_on\", \"title\", \"description\"], errors=\"ignore\")  # drop cols\n",
    "df = df.dropna(subset=[\"tag\"])  # drop nulls\n",
    "df = df[[\"text\", \"tag\"]]  # rearrange cols\n",
    "df.head()"
   ]
  },
  {
   "cell_type": "code",
   "execution_count": 29,
   "metadata": {},
   "outputs": [
    {
     "data": {
      "text/plain": [
       "{'computer-vision': 0,\n",
       " 'mlops': 1,\n",
       " 'natural-language-processing': 2,\n",
       " 'other': 3}"
      ]
     },
     "execution_count": 29,
     "metadata": {},
     "output_type": "execute_result"
    }
   ],
   "source": [
    "# Label to index\n",
    "tags = train_df.tag.unique().tolist()\n",
    "num_classes = len(tags)\n",
    "class_to_index = {tag: i for i, tag in enumerate(tags)}\n",
    "class_to_index"
   ]
  },
  {
   "cell_type": "code",
   "execution_count": 30,
   "metadata": {},
   "outputs": [
    {
     "data": {
      "text/html": [
       "<div>\n",
       "<style scoped>\n",
       "    .dataframe tbody tr th:only-of-type {\n",
       "        vertical-align: middle;\n",
       "    }\n",
       "\n",
       "    .dataframe tbody tr th {\n",
       "        vertical-align: top;\n",
       "    }\n",
       "\n",
       "    .dataframe thead th {\n",
       "        text-align: right;\n",
       "    }\n",
       "</style>\n",
       "<table border=\"1\" class=\"dataframe\">\n",
       "  <thead>\n",
       "    <tr style=\"text-align: right;\">\n",
       "      <th></th>\n",
       "      <th>text</th>\n",
       "      <th>tag</th>\n",
       "    </tr>\n",
       "  </thead>\n",
       "  <tbody>\n",
       "    <tr>\n",
       "      <th>254</th>\n",
       "      <td>fake new detection pytorch fake news detection...</td>\n",
       "      <td>2</td>\n",
       "    </tr>\n",
       "    <tr>\n",
       "      <th>487</th>\n",
       "      <td>using data science pipelines disaster response...</td>\n",
       "      <td>2</td>\n",
       "    </tr>\n",
       "    <tr>\n",
       "      <th>510</th>\n",
       "      <td>nlp task visualizer app application designed s...</td>\n",
       "      <td>2</td>\n",
       "    </tr>\n",
       "    <tr>\n",
       "      <th>72</th>\n",
       "      <td>attention mechanism main concepts behind atten...</td>\n",
       "      <td>2</td>\n",
       "    </tr>\n",
       "    <tr>\n",
       "      <th>214</th>\n",
       "      <td>big bad nlp database collection 400 nlp datase...</td>\n",
       "      <td>2</td>\n",
       "    </tr>\n",
       "  </tbody>\n",
       "</table>\n",
       "</div>"
      ],
      "text/plain": [
       "                                                  text  tag\n",
       "254  fake new detection pytorch fake news detection...    2\n",
       "487  using data science pipelines disaster response...    2\n",
       "510  nlp task visualizer app application designed s...    2\n",
       "72   attention mechanism main concepts behind atten...    2\n",
       "214  big bad nlp database collection 400 nlp datase...    2"
      ]
     },
     "execution_count": 30,
     "metadata": {},
     "output_type": "execute_result"
    }
   ],
   "source": [
    "# Encode labels\n",
    "df[\"tag\"] = df[\"tag\"].map(class_to_index)\n",
    "df.head()\n"
   ]
  },
  {
   "cell_type": "code",
   "execution_count": 31,
   "metadata": {},
   "outputs": [],
   "source": [
    "def decode(indices, index_to_class):\n",
    "    return [index_to_class[index] for index in indices]"
   ]
  },
  {
   "cell_type": "code",
   "execution_count": 32,
   "metadata": {},
   "outputs": [
    {
     "data": {
      "text/plain": [
       "['natural-language-processing',\n",
       " 'natural-language-processing',\n",
       " 'natural-language-processing',\n",
       " 'natural-language-processing',\n",
       " 'natural-language-processing']"
      ]
     },
     "execution_count": 32,
     "metadata": {},
     "output_type": "execute_result"
    }
   ],
   "source": [
    "index_to_class = {v:k for k, v in class_to_index.items()}\n",
    "decode(df.head()[\"tag\"].values, index_to_class=index_to_class)"
   ]
  },
  {
   "cell_type": "code",
   "execution_count": 33,
   "metadata": {},
   "outputs": [],
   "source": [
    "import numpy as np\n",
    "from transformers import BertTokenizer"
   ]
  },
  {
   "cell_type": "code",
   "execution_count": 34,
   "metadata": {},
   "outputs": [
    {
     "name": "stdout",
     "output_type": "stream",
     "text": [
      "input_ids: [[  102  2268  1904   190 29155   168  3267  2998   205   103]]\n",
      "attention_mask: [[1 1 1 1 1 1 1 1 1 1]]\n",
      "[CLS] transfer learning with transformers for text classification. [SEP]\n",
      "[CLS] transfer learning with transformers for text classification. [SEP]\n"
     ]
    }
   ],
   "source": [
    "# Bert tokenizer\n",
    "tokenizer = BertTokenizer.from_pretrained(\"allenai/scibert_scivocab_uncased\", return_dict=False)\n",
    "text = \"Transfer learning with transformers for text classification.\"\n",
    "\n",
    "encoded_inputs = tokenizer([text], return_tensors=\"np\", padding=\"longest\")  # pad to longest item in batch\n",
    "print (\"input_ids:\", encoded_inputs[\"input_ids\"])\n",
    "print (\"attention_mask:\", encoded_inputs[\"attention_mask\"])\n",
    "print (tokenizer.decode(encoded_inputs[\"input_ids\"][0]))\n",
    "print (tokenizer.decode(encoded_inputs[\"input_ids\"][0]))"
   ]
  },
  {
   "cell_type": "code",
   "execution_count": 35,
   "metadata": {},
   "outputs": [
    {
     "data": {
      "text/plain": [
       "array([[  102,  2268,  1904,   190, 29155,   168,  3267,  2998,   205,\n",
       "          103]])"
      ]
     },
     "execution_count": 35,
     "metadata": {},
     "output_type": "execute_result"
    }
   ],
   "source": [
    "encoded_inputs[\"input_ids\"]"
   ]
  },
  {
   "cell_type": "code",
   "execution_count": 36,
   "metadata": {},
   "outputs": [],
   "source": [
    "def tokenize(batch):\n",
    "    tokenizer = BertTokenizer.from_pretrained(\"allenai/scibert_scivocab_uncased\", return_dict=False)\n",
    "    encoded_inputs = tokenizer(batch[\"text\"].tolist(), return_tensors=\"np\", padding=\"longest\")\n",
    "    \n",
    "    return dict(ids=encoded_inputs[\"input_ids\"], masks=encoded_inputs[\"attention_mask\"], targets=np.array(batch[\"tag\"]))"
   ]
  },
  {
   "cell_type": "code",
   "execution_count": 37,
   "metadata": {},
   "outputs": [
    {
     "data": {
      "text/plain": [
       "{'ids': array([[  102, 17444, 30107,   758,  1995,  5702,  2112,   255, 17444,\n",
       "         30107,  9340,  1995,  1904, 12524,  7347, 11695,   645,  3577,\n",
       "           103]]),\n",
       " 'masks': array([[1, 1, 1, 1, 1, 1, 1, 1, 1, 1, 1, 1, 1, 1, 1, 1, 1, 1, 1]]),\n",
       " 'targets': array([2], dtype=int64)}"
      ]
     },
     "execution_count": 37,
     "metadata": {},
     "output_type": "execute_result"
    }
   ],
   "source": [
    "tokenize(df.head(1))\n"
   ]
  },
  {
   "cell_type": "code",
   "execution_count": 38,
   "metadata": {},
   "outputs": [],
   "source": [
    "def preprocess(df, class_to_index):\n",
    "    \"\"\"Preprocess the data.\"\"\"\n",
    "    df[\"text\"] = df.title + \" \" + df.description  # feature engineering\n",
    "    df[\"text\"] = df.text.apply(clean_text)  # clean text\n",
    "    df = df.drop(columns=[\"id\", \"created_on\", \"title\", \"description\"], errors=\"ignore\")  # clean dataframe\n",
    "    df = df[[\"text\", \"tag\"]]  # rearrange columns\n",
    "    df[\"tag\"] = df[\"tag\"].map(class_to_index)  # label encoding\n",
    "    outputs = tokenize(df)\n",
    "    return outputs"
   ]
  },
  {
   "cell_type": "code",
   "execution_count": 39,
   "metadata": {},
   "outputs": [],
   "source": [
    "ray.data.DatasetContext.get_current().execution_options.preserve_order = True  # deterministic\n"
   ]
  },
  {
   "cell_type": "code",
   "execution_count": 40,
   "metadata": {},
   "outputs": [
    {
     "name": "stderr",
     "output_type": "stream",
     "text": [
      "2023-09-06 20:05:13,929\tINFO read_api.py:374 -- To satisfy the requested parallelism of 16, each read task output will be split into 16 smaller blocks.\n",
      "2023-09-06 20:05:13,945\tINFO dataset.py:2180 -- Tip: Use `take_batch()` instead of `take() / show()` to return records in pandas or numpy batch format.\n",
      "2023-09-06 20:05:13,949\tINFO streaming_executor.py:92 -- Executing DAG InputDataBuffer[Input] -> TaskPoolMapOperator[ReadCSV->SplitBlocks(16)] -> AllToAllOperator[RandomShuffle]\n",
      "2023-09-06 20:05:13,950\tINFO streaming_executor.py:93 -- Execution config: ExecutionOptions(resource_limits=ExecutionResources(cpu=None, gpu=None, object_store_memory=None), locality_with_output=False, preserve_order=True, actor_locality_enabled=True, verbose_progress=False)\n",
      "2023-09-06 20:05:13,953\tINFO streaming_executor.py:95 -- Tip: For detailed progress reporting, run `ray.data.DataContext.get_current().execution_options.verbose_progress = True`\n"
     ]
    },
    {
     "data": {
      "application/vnd.jupyter.widget-view+json": {
       "model_id": "3301e1eec09049a28d07ca529f3b9a68",
       "version_major": 2,
       "version_minor": 0
      },
      "text/plain": [
       "- RandomShuffle 1:   0%|          | 0/16 [00:00<?, ?it/s]"
      ]
     },
     "metadata": {},
     "output_type": "display_data"
    },
    {
     "data": {
      "application/vnd.jupyter.widget-view+json": {
       "model_id": "d5d281af95fb4f7e9ac7a0dc53d8a226",
       "version_major": 2,
       "version_minor": 0
      },
      "text/plain": [
       "Shuffle Map 2:   0%|          | 0/16 [00:00<?, ?it/s]"
      ]
     },
     "metadata": {},
     "output_type": "display_data"
    },
    {
     "data": {
      "application/vnd.jupyter.widget-view+json": {
       "model_id": "36370f4e163f4d21b64335f5ae34267b",
       "version_major": 2,
       "version_minor": 0
      },
      "text/plain": [
       "Shuffle Reduce 3:   0%|          | 0/16 [00:00<?, ?it/s]"
      ]
     },
     "metadata": {},
     "output_type": "display_data"
    },
    {
     "data": {
      "application/vnd.jupyter.widget-view+json": {
       "model_id": "9e42e81f5f1347f0baef37f7201a57c7",
       "version_major": 2,
       "version_minor": 0
      },
      "text/plain": [
       "Running 0:   0%|          | 0/16 [00:00<?, ?it/s]"
      ]
     },
     "metadata": {},
     "output_type": "display_data"
    },
    {
     "data": {
      "text/plain": [
       "[{'id': 428,\n",
       "  'created_on': datetime.datetime(2020, 4, 10, 4, 57, 53),\n",
       "  'title': 'AiLight: Automatic  Highlighting Using BERT',\n",
       "  'description': 'Automatically highlight pdfs using BERT embeddings and clustering.\\nhttps://anishthite.github.io/ailight',\n",
       "  'tag': 'natural-language-processing'}]"
      ]
     },
     "execution_count": 40,
     "metadata": {},
     "output_type": "execute_result"
    }
   ],
   "source": [
    "# Data ingestion\n",
    "ds = ray.data.read_csv(DATASET_LOC)\n",
    "ds = ds.random_shuffle(seed=1234)\n",
    "\n",
    "ds.take(1)"
   ]
  },
  {
   "cell_type": "code",
   "execution_count": 41,
   "metadata": {},
   "outputs": [],
   "source": [
    "import re\n",
    "from typing import Dict, List, Tuple\n",
    "\n",
    "import numpy as np\n",
    "import pandas as pd\n",
    "import ray\n",
    "from ray.data import Dataset\n",
    "from ray.data.preprocessor import Preprocessor\n",
    "from sklearn.model_selection import train_test_split\n",
    "from transformers import BertTokenizer\n",
    "\n",
    "# from madewithml.config import STOPWORDS\n",
    "\n",
    "\n",
    "def load_data(dataset_loc: str, num_samples: int = None) -> Dataset:\n",
    "    \"\"\"Load data from source into a Ray Dataset.\n",
    "\n",
    "    Args:\n",
    "        dataset_loc (str): Location of the dataset.\n",
    "        num_samples (int, optional): The number of samples to load. Defaults to None.\n",
    "\n",
    "    Returns:\n",
    "        Dataset: Our dataset represented by a Ray Dataset.\n",
    "    \"\"\"\n",
    "    ds = ray.data.read_csv(dataset_loc)\n",
    "    ds = ds.random_shuffle(seed=1234)\n",
    "    ds = ray.data.from_items(ds.take(num_samples)) if num_samples else ds\n",
    "    return ds\n",
    "\n",
    "\n",
    "def stratify_split(\n",
    "    ds: Dataset,\n",
    "    stratify: str,\n",
    "    test_size: float,\n",
    "    shuffle: bool = True,\n",
    "    seed: int = 1234,\n",
    ") -> Tuple[Dataset, Dataset]:\n",
    "    \"\"\"Split a dataset into train and test splits with equal\n",
    "    amounts of data points from each class in the column we\n",
    "    want to stratify on.\n",
    "\n",
    "    Args:\n",
    "        ds (Dataset): Input dataset to split.\n",
    "        stratify (str): Name of column to split on.\n",
    "        test_size (float): Proportion of dataset to split for test set.\n",
    "        shuffle (bool, optional): whether to shuffle the dataset. Defaults to True.\n",
    "        seed (int, optional): seed for shuffling. Defaults to 1234.\n",
    "\n",
    "    Returns:\n",
    "        Tuple[Dataset, Dataset]: the stratified train and test datasets.\n",
    "    \"\"\"\n",
    "\n",
    "    def _add_split(df: pd.DataFrame) -> pd.DataFrame:  # pragma: no cover, used in parent function\n",
    "        \"\"\"Naively split a dataframe into train and test splits.\n",
    "        Add a column specifying whether it's the train or test split.\"\"\"\n",
    "        train, test = train_test_split(df, test_size=test_size, shuffle=shuffle, random_state=seed)\n",
    "        train[\"_split\"] = \"train\"\n",
    "        test[\"_split\"] = \"test\"\n",
    "        return pd.concat([train, test])\n",
    "\n",
    "    def _filter_split(df: pd.DataFrame, split: str) -> pd.DataFrame:  # pragma: no cover, used in parent function\n",
    "        \"\"\"Filter by data points that match the split column's value\n",
    "        and return the dataframe with the _split column dropped.\"\"\"\n",
    "        return df[df[\"_split\"] == split].drop(\"_split\", axis=1)\n",
    "\n",
    "    # Train, test split with stratify\n",
    "    grouped = ds.groupby(stratify).map_groups(_add_split, batch_format=\"pandas\")  # group by each unique value in the column we want to stratify on\n",
    "    train_ds = grouped.map_batches(_filter_split, fn_kwargs={\"split\": \"train\"}, batch_format=\"pandas\")  # combine\n",
    "    test_ds = grouped.map_batches(_filter_split, fn_kwargs={\"split\": \"test\"}, batch_format=\"pandas\")  # combine\n",
    "\n",
    "    # Shuffle each split (required)\n",
    "    train_ds = train_ds.random_shuffle(seed=seed)\n",
    "    test_ds = test_ds.random_shuffle(seed=seed)\n",
    "\n",
    "    return train_ds, test_ds\n",
    "\n",
    "\n",
    "def clean_text(text: str, stopwords: List = STOPWORDS) -> str:\n",
    "    \"\"\"Clean raw text string.\n",
    "\n",
    "    Args:\n",
    "        text (str): Raw text to clean.\n",
    "        stopwords (List, optional): list of words to filter out. Defaults to STOPWORDS.\n",
    "\n",
    "    Returns:\n",
    "        str: cleaned text.\n",
    "    \"\"\"\n",
    "    # Lower\n",
    "    text = text.lower()\n",
    "\n",
    "    # Remove stopwords\n",
    "    pattern = re.compile(r\"\\b(\" + r\"|\".join(stopwords) + r\")\\b\\s*\")\n",
    "    text = pattern.sub(\" \", text)\n",
    "\n",
    "    # Spacing and filters\n",
    "    text = re.sub(r\"([!\\\"'#$%&()*\\+,-./:;<=>?@\\\\\\[\\]^_`{|}~])\", r\" \\1 \", text)  # add spacing\n",
    "    text = re.sub(\"[^A-Za-z0-9]+\", \" \", text)  # remove non alphanumeric chars\n",
    "    text = re.sub(\" +\", \" \", text)  # remove multiple spaces\n",
    "    text = text.strip()  # strip white space at the ends\n",
    "    text = re.sub(r\"http\\S+\", \"\", text)  # remove links\n",
    "\n",
    "    return text\n",
    "\n",
    "\n",
    "def tokenize(batch: Dict) -> Dict:\n",
    "    \"\"\"Tokenize the text input in our batch using a tokenizer.\n",
    "\n",
    "    Args:\n",
    "        batch (Dict): batch of data with the text inputs to tokenize.\n",
    "\n",
    "    Returns:\n",
    "        Dict: batch of data with the results of tokenization (`input_ids` and `attention_mask`) on the text inputs.\n",
    "    \"\"\"\n",
    "    tokenizer = BertTokenizer.from_pretrained(\"allenai/scibert_scivocab_uncased\", return_dict=False)\n",
    "    encoded_inputs = tokenizer(batch[\"text\"].tolist(), return_tensors=\"np\", padding=\"longest\")\n",
    "    return dict(ids=encoded_inputs[\"input_ids\"], masks=encoded_inputs[\"attention_mask\"], targets=np.array(batch[\"tag\"]))\n",
    "\n",
    "\n",
    "def preprocess(df: pd.DataFrame, class_to_index: Dict) -> Dict:\n",
    "    \"\"\"Preprocess the data in our dataframe.\n",
    "\n",
    "    Args:\n",
    "        df (pd.DataFrame): Raw dataframe to preprocess.\n",
    "        class_to_index (Dict): Mapping of class names to indices.\n",
    "\n",
    "    Returns:\n",
    "        Dict: preprocessed data (ids, masks, targets).\n",
    "    \"\"\"\n",
    "    df[\"text\"] = df.title + \" \" + df.description  # feature engineering\n",
    "    df[\"text\"] = df.text.apply(clean_text)  # clean text\n",
    "    df = df.drop(columns=[\"id\", \"created_on\", \"title\", \"description\"], errors=\"ignore\")  # clean dataframe\n",
    "    df = df[[\"text\", \"tag\"]]  # rearrange columns\n",
    "    df[\"tag\"] = df[\"tag\"].map(class_to_index)  # label encoding\n",
    "    outputs = tokenize(df)\n",
    "    return outputs\n",
    "\n",
    "\n",
    "class CustomPreprocessor(Preprocessor):\n",
    "    \"\"\"Custom preprocessor class.\"\"\"\n",
    "\n",
    "    def _fit(self, ds):\n",
    "        tags = ds.unique(column=\"tag\")\n",
    "        self.class_to_index = {tag: i for i, tag in enumerate(tags)}\n",
    "        self.index_to_class = {v: k for k, v in self.class_to_index.items()}\n",
    "\n",
    "    def _transform_pandas(self, batch):  # could also do _transform_numpy\n",
    "        return preprocess(batch, class_to_index=self.class_to_index)"
   ]
  },
  {
   "cell_type": "code",
   "execution_count": 42,
   "metadata": {},
   "outputs": [
    {
     "data": {
      "text/html": [
       "<div>\n",
       "<style scoped>\n",
       "    .dataframe tbody tr th:only-of-type {\n",
       "        vertical-align: middle;\n",
       "    }\n",
       "\n",
       "    .dataframe tbody tr th {\n",
       "        vertical-align: top;\n",
       "    }\n",
       "\n",
       "    .dataframe thead th {\n",
       "        text-align: right;\n",
       "    }\n",
       "</style>\n",
       "<table border=\"1\" class=\"dataframe\">\n",
       "  <thead>\n",
       "    <tr style=\"text-align: right;\">\n",
       "      <th></th>\n",
       "      <th>text</th>\n",
       "      <th>tag</th>\n",
       "    </tr>\n",
       "  </thead>\n",
       "  <tbody>\n",
       "    <tr>\n",
       "      <th>254</th>\n",
       "      <td>fake new detection pytorch fake news detection...</td>\n",
       "      <td>2</td>\n",
       "    </tr>\n",
       "    <tr>\n",
       "      <th>487</th>\n",
       "      <td>using data science pipelines disaster response...</td>\n",
       "      <td>2</td>\n",
       "    </tr>\n",
       "  </tbody>\n",
       "</table>\n",
       "</div>"
      ],
      "text/plain": [
       "                                                  text  tag\n",
       "254  fake new detection pytorch fake news detection...    2\n",
       "487  using data science pipelines disaster response...    2"
      ]
     },
     "execution_count": 42,
     "metadata": {},
     "output_type": "execute_result"
    }
   ],
   "source": [
    "df.head(2)"
   ]
  },
  {
   "cell_type": "code",
   "execution_count": 43,
   "metadata": {},
   "outputs": [],
   "source": [
    "def _add_split(df: pd.DataFrame) -> pd.DataFrame:  # pragma: no cover, used in parent function\n",
    "        \"\"\"Naively split a dataframe into train and test splits.\n",
    "        Add a column specifying whether it's the train or test split.\"\"\"\n",
    "        train, test = train_test_split(df, test_size=test_size, shuffle=shuffle, random_state=seed)\n",
    "        train[\"_split\"] = \"train\"\n",
    "        test[\"_split\"] = \"test\"\n",
    "        return pd.concat([train, test])\n"
   ]
  },
  {
   "cell_type": "code",
   "execution_count": 44,
   "metadata": {},
   "outputs": [],
   "source": [
    "def _filter_split(df: pd.DataFrame, split: str) -> pd.DataFrame:  # pragma: no cover, used in parent function\n",
    "        \"\"\"Filter by data points that match the split column's value\n",
    "        and return the dataframe with the _split column dropped.\"\"\"\n",
    "        \n",
    "        return df[df[\"_split\"] == split].drop(\"_split\", axis=1)"
   ]
  },
  {
   "cell_type": "code",
   "execution_count": 45,
   "metadata": {},
   "outputs": [
    {
     "name": "stderr",
     "output_type": "stream",
     "text": [
      "2023-09-06 20:05:17,273\tINFO streaming_executor.py:92 -- Executing DAG InputDataBuffer[Input] -> TaskPoolMapOperator[ReadCSV->SplitBlocks(16)] -> AllToAllOperator[RandomShuffle] -> LimitOperator[limit=1]\n",
      "2023-09-06 20:05:17,275\tINFO streaming_executor.py:93 -- Execution config: ExecutionOptions(resource_limits=ExecutionResources(cpu=None, gpu=None, object_store_memory=None), locality_with_output=False, preserve_order=True, actor_locality_enabled=True, verbose_progress=False)\n",
      "2023-09-06 20:05:17,277\tINFO streaming_executor.py:95 -- Tip: For detailed progress reporting, run `ray.data.DataContext.get_current().execution_options.verbose_progress = True`\n"
     ]
    },
    {
     "data": {
      "application/vnd.jupyter.widget-view+json": {
       "model_id": "a740f3ccfd624b89a6abf988b7b47c39",
       "version_major": 2,
       "version_minor": 0
      },
      "text/plain": [
       "- RandomShuffle 1:   0%|          | 0/16 [00:00<?, ?it/s]"
      ]
     },
     "metadata": {},
     "output_type": "display_data"
    },
    {
     "data": {
      "application/vnd.jupyter.widget-view+json": {
       "model_id": "6a03cf6498ac490894f01da04cf7e73a",
       "version_major": 2,
       "version_minor": 0
      },
      "text/plain": [
       "Shuffle Map 2:   0%|          | 0/16 [00:00<?, ?it/s]"
      ]
     },
     "metadata": {},
     "output_type": "display_data"
    },
    {
     "data": {
      "application/vnd.jupyter.widget-view+json": {
       "model_id": "9b158590642e4778ad4ecec9160b8cbc",
       "version_major": 2,
       "version_minor": 0
      },
      "text/plain": [
       "Shuffle Reduce 3:   0%|          | 0/16 [00:00<?, ?it/s]"
      ]
     },
     "metadata": {},
     "output_type": "display_data"
    },
    {
     "data": {
      "application/vnd.jupyter.widget-view+json": {
       "model_id": "6e09b51318e845df98b7fd8b7ad74aef",
       "version_major": 2,
       "version_minor": 0
      },
      "text/plain": [
       "Running 0:   0%|          | 0/1 [00:00<?, ?it/s]"
      ]
     },
     "metadata": {},
     "output_type": "display_data"
    },
    {
     "data": {
      "application/vnd.jupyter.widget-view+json": {
       "model_id": "cc6ee20b23364ecea770cc1fc4c4f537",
       "version_major": 2,
       "version_minor": 0
      },
      "text/plain": [
       "MapBatches(_filter_split)\n",
       "+- MapBatches(group_fn)\n",
       "   +- Sort\n",
       "      +- RandomShuffle\n",
       "         +- Dataset(\n",
       "               num_blocks=16,\n",
       "               num_rows=764,\n",
       "               schema={\n",
       "                  id: int64,\n",
       "                  created_on: timestamp[s],\n",
       "                  title: string,\n",
       "                  description: string,\n",
       "                  tag: string\n",
       "               }\n",
       "            )"
      ]
     },
     "execution_count": 45,
     "metadata": {},
     "output_type": "execute_result"
    }
   ],
   "source": [
    "ds.groupby(\"tag\").map_groups(_add_split, batch_format=\"pandas\").map_batches(_filter_split, fn_kwargs={\"split\": \"train\"}, batch_format=\"pandas\")"
   ]
  },
  {
   "cell_type": "code",
   "execution_count": 46,
   "metadata": {},
   "outputs": [],
   "source": [
    "# grouped = ds.groupby(stratify).map_groups(_add_split, batch_format=\"pandas\")  # group by each unique value in the column we want to stratify on\n",
    "# train_ds = grouped.map_batches(_filter_split, fn_kwargs={\"split\": \"train\"}, batch_format=\"pandas\")  # combine\n",
    "# test_ds = grouped.map_batches(_filter_split, fn_kwargs={\"split\": \"test\"}, batch_format=\"pandas\")  # combine\n",
    "\n",
    "# # Shuffle each split (required)\n",
    "# train_ds = train_ds.random_shuffle(seed=seed)\n",
    "# test_ds = test_ds.random_shuffle(seed=seed)"
   ]
  },
  {
   "cell_type": "code",
   "execution_count": 47,
   "metadata": {},
   "outputs": [],
   "source": [
    "import sys\n",
    "# sys.path.append(\"..\")\n",
    "# import  stratify_split\n",
    "# Split dataset\n",
    "test_size = 0.2\n",
    "train_ds, val_ds = stratify_split(ds, stratify=\"tag\", test_size=test_size)"
   ]
  },
  {
   "cell_type": "code",
   "execution_count": 48,
   "metadata": {},
   "outputs": [
    {
     "name": "stderr",
     "output_type": "stream",
     "text": [
      "2023-09-06 20:05:20,606\tINFO streaming_executor.py:92 -- Executing DAG InputDataBuffer[Input] -> TaskPoolMapOperator[ReadCSV->SplitBlocks(16)] -> AllToAllOperator[RandomShuffle] -> AllToAllOperator[Sort] -> AllToAllOperator[MapBatches(group_fn)->MapBatches(_filter_split)->RandomShuffle]\n",
      "2023-09-06 20:05:20,607\tINFO streaming_executor.py:93 -- Execution config: ExecutionOptions(resource_limits=ExecutionResources(cpu=None, gpu=None, object_store_memory=None), locality_with_output=False, preserve_order=True, actor_locality_enabled=True, verbose_progress=False)\n",
      "2023-09-06 20:05:20,608\tINFO streaming_executor.py:95 -- Tip: For detailed progress reporting, run `ray.data.DataContext.get_current().execution_options.verbose_progress = True`\n"
     ]
    },
    {
     "data": {
      "application/vnd.jupyter.widget-view+json": {
       "model_id": "6081b5adf7054f319c30cea83d0e451d",
       "version_major": 2,
       "version_minor": 0
      },
      "text/plain": [
       "- RandomShuffle 1:   0%|          | 0/16 [00:00<?, ?it/s]"
      ]
     },
     "metadata": {},
     "output_type": "display_data"
    },
    {
     "data": {
      "application/vnd.jupyter.widget-view+json": {
       "model_id": "40f6ff97b11f4998a8b57218ae79de9a",
       "version_major": 2,
       "version_minor": 0
      },
      "text/plain": [
       "Shuffle Map 2:   0%|          | 0/16 [00:00<?, ?it/s]"
      ]
     },
     "metadata": {},
     "output_type": "display_data"
    },
    {
     "data": {
      "application/vnd.jupyter.widget-view+json": {
       "model_id": "6dbbcfb67a0a4adc955e92b62a54fdd7",
       "version_major": 2,
       "version_minor": 0
      },
      "text/plain": [
       "Shuffle Reduce 3:   0%|          | 0/16 [00:00<?, ?it/s]"
      ]
     },
     "metadata": {},
     "output_type": "display_data"
    },
    {
     "data": {
      "application/vnd.jupyter.widget-view+json": {
       "model_id": "771cc7be6760422a822f163dfc7460e4",
       "version_major": 2,
       "version_minor": 0
      },
      "text/plain": [
       "- Sort 4:   0%|          | 0/16 [00:00<?, ?it/s]"
      ]
     },
     "metadata": {},
     "output_type": "display_data"
    },
    {
     "data": {
      "application/vnd.jupyter.widget-view+json": {
       "model_id": "e99befb6c283400681a86153e32fff1d",
       "version_major": 2,
       "version_minor": 0
      },
      "text/plain": [
       "Sort Sample 5:   0%|          | 0/16 [00:00<?, ?it/s]"
      ]
     },
     "metadata": {},
     "output_type": "display_data"
    },
    {
     "data": {
      "application/vnd.jupyter.widget-view+json": {
       "model_id": "0827ed4d9c604e9e95298e5d2e5a7197",
       "version_major": 2,
       "version_minor": 0
      },
      "text/plain": [
       "Shuffle Map 6:   0%|          | 0/16 [00:00<?, ?it/s]"
      ]
     },
     "metadata": {},
     "output_type": "display_data"
    },
    {
     "data": {
      "application/vnd.jupyter.widget-view+json": {
       "model_id": "5fd81ce84bb5480798c4ff405cd80d36",
       "version_major": 2,
       "version_minor": 0
      },
      "text/plain": [
       "Shuffle Reduce 7:   0%|          | 0/16 [00:00<?, ?it/s]"
      ]
     },
     "metadata": {},
     "output_type": "display_data"
    },
    {
     "data": {
      "application/vnd.jupyter.widget-view+json": {
       "model_id": "4ebaa36d41c145dab67eec7b990b9c5c",
       "version_major": 2,
       "version_minor": 0
      },
      "text/plain": [
       "- MapBatches(group_fn)->MapBatches(_filter_split)->RandomShuffle 8:   0%|          | 0/16 [00:00<?, ?it/s]"
      ]
     },
     "metadata": {},
     "output_type": "display_data"
    },
    {
     "data": {
      "application/vnd.jupyter.widget-view+json": {
       "model_id": "401dce73e0c045818396e1a072c6ac6d",
       "version_major": 2,
       "version_minor": 0
      },
      "text/plain": [
       "Shuffle Map 9:   0%|          | 0/16 [00:00<?, ?it/s]"
      ]
     },
     "metadata": {},
     "output_type": "display_data"
    },
    {
     "data": {
      "application/vnd.jupyter.widget-view+json": {
       "model_id": "88058e68883e4833ae2bf48918bf68d2",
       "version_major": 2,
       "version_minor": 0
      },
      "text/plain": [
       "Shuffle Reduce 10:   0%|          | 0/16 [00:00<?, ?it/s]"
      ]
     },
     "metadata": {},
     "output_type": "display_data"
    },
    {
     "data": {
      "application/vnd.jupyter.widget-view+json": {
       "model_id": "7228d989982646f494b2d35eb5aee850",
       "version_major": 2,
       "version_minor": 0
      },
      "text/plain": [
       "Running 0:   0%|          | 0/16 [00:00<?, ?it/s]"
      ]
     },
     "metadata": {},
     "output_type": "display_data"
    },
    {
     "data": {
      "application/vnd.jupyter.widget-view+json": {
       "model_id": "508ca7b41854453ea119c94ebeefcca2",
       "version_major": 2,
       "version_minor": 0
      },
      "text/plain": [
       "Sort Sample 0:   0%|          | 0/16 [00:00<?, ?it/s]"
      ]
     },
     "metadata": {},
     "output_type": "display_data"
    },
    {
     "data": {
      "application/vnd.jupyter.widget-view+json": {
       "model_id": "53510e8b828c4767b79688bce9f8b348",
       "version_major": 2,
       "version_minor": 0
      },
      "text/plain": [
       "Running: 0.0/8.0 CPU, 0.0/0.0 GPU, 0.21 MiB/468.9 MiB object_store_memory 0:   0%|          | 0/3 [00:00<?, ?i…"
      ]
     },
     "metadata": {},
     "output_type": "display_data"
    },
    {
     "data": {
      "text/plain": [
       "[{'id': 2223,\n",
       "  'created_on': Timestamp('2020-08-26 04:21:37'),\n",
       "  'title': 'AxCell',\n",
       "  'description': 'Automatic Extraction of Results from Machine Learning Papers',\n",
       "  'tag': 'computer-vision'}]"
      ]
     },
     "execution_count": 48,
     "metadata": {},
     "output_type": "execute_result"
    }
   ],
   "source": [
    "train_ds.take(1)"
   ]
  },
  {
   "cell_type": "code",
   "execution_count": 49,
   "metadata": {},
   "outputs": [
    {
     "name": "stderr",
     "output_type": "stream",
     "text": [
      "2023-09-06 20:05:23,578\tINFO streaming_executor.py:92 -- Executing DAG InputDataBuffer[Input] -> TaskPoolMapOperator[ReadCSV->SplitBlocks(16)] -> AllToAllOperator[RandomShuffle] -> AllToAllOperator[Sort] -> AllToAllOperator[MapBatches(group_fn)->MapBatches(_filter_split)->RandomShuffle] -> LimitOperator[limit=1]\n",
      "2023-09-06 20:05:23,580\tINFO streaming_executor.py:93 -- Execution config: ExecutionOptions(resource_limits=ExecutionResources(cpu=None, gpu=None, object_store_memory=None), locality_with_output=False, preserve_order=True, actor_locality_enabled=True, verbose_progress=False)\n",
      "2023-09-06 20:05:23,581\tINFO streaming_executor.py:95 -- Tip: For detailed progress reporting, run `ray.data.DataContext.get_current().execution_options.verbose_progress = True`\n"
     ]
    },
    {
     "data": {
      "application/vnd.jupyter.widget-view+json": {
       "model_id": "75a45b9099d045c08dc4626d86d7bffe",
       "version_major": 2,
       "version_minor": 0
      },
      "text/plain": [
       "- RandomShuffle 1:   0%|          | 0/16 [00:00<?, ?it/s]"
      ]
     },
     "metadata": {},
     "output_type": "display_data"
    },
    {
     "data": {
      "application/vnd.jupyter.widget-view+json": {
       "model_id": "45d457569fe7453bb925e3528fdce766",
       "version_major": 2,
       "version_minor": 0
      },
      "text/plain": [
       "Shuffle Map 2:   0%|          | 0/16 [00:00<?, ?it/s]"
      ]
     },
     "metadata": {},
     "output_type": "display_data"
    },
    {
     "data": {
      "application/vnd.jupyter.widget-view+json": {
       "model_id": "3911140c7ed64da3beed3c3e69f5fd99",
       "version_major": 2,
       "version_minor": 0
      },
      "text/plain": [
       "Shuffle Reduce 3:   0%|          | 0/16 [00:00<?, ?it/s]"
      ]
     },
     "metadata": {},
     "output_type": "display_data"
    },
    {
     "data": {
      "application/vnd.jupyter.widget-view+json": {
       "model_id": "d5906089b7e44b0492333193b63fad0d",
       "version_major": 2,
       "version_minor": 0
      },
      "text/plain": [
       "- Sort 4:   0%|          | 0/16 [00:00<?, ?it/s]"
      ]
     },
     "metadata": {},
     "output_type": "display_data"
    },
    {
     "data": {
      "application/vnd.jupyter.widget-view+json": {
       "model_id": "5c9bcd4248f145c6a8cf58c7c74f56da",
       "version_major": 2,
       "version_minor": 0
      },
      "text/plain": [
       "Sort Sample 5:   0%|          | 0/16 [00:00<?, ?it/s]"
      ]
     },
     "metadata": {},
     "output_type": "display_data"
    },
    {
     "data": {
      "application/vnd.jupyter.widget-view+json": {
       "model_id": "1ca36329ada34fd8a43a11dab0d70bf9",
       "version_major": 2,
       "version_minor": 0
      },
      "text/plain": [
       "Shuffle Map 6:   0%|          | 0/16 [00:00<?, ?it/s]"
      ]
     },
     "metadata": {},
     "output_type": "display_data"
    },
    {
     "data": {
      "application/vnd.jupyter.widget-view+json": {
       "model_id": "e69d19ba76b8426ea8739c80480aba70",
       "version_major": 2,
       "version_minor": 0
      },
      "text/plain": [
       "Shuffle Reduce 7:   0%|          | 0/16 [00:00<?, ?it/s]"
      ]
     },
     "metadata": {},
     "output_type": "display_data"
    },
    {
     "data": {
      "application/vnd.jupyter.widget-view+json": {
       "model_id": "c6d8f1972e3b4d26a258637e3aa4b301",
       "version_major": 2,
       "version_minor": 0
      },
      "text/plain": [
       "- MapBatches(group_fn)->MapBatches(_filter_split)->RandomShuffle 8:   0%|          | 0/16 [00:00<?, ?it/s]"
      ]
     },
     "metadata": {},
     "output_type": "display_data"
    },
    {
     "data": {
      "application/vnd.jupyter.widget-view+json": {
       "model_id": "8883a531eadb492fa4e28a8d5ef90f33",
       "version_major": 2,
       "version_minor": 0
      },
      "text/plain": [
       "Shuffle Map 9:   0%|          | 0/16 [00:00<?, ?it/s]"
      ]
     },
     "metadata": {},
     "output_type": "display_data"
    },
    {
     "data": {
      "application/vnd.jupyter.widget-view+json": {
       "model_id": "4e1e1b20582a49c5babadf4bd7e43275",
       "version_major": 2,
       "version_minor": 0
      },
      "text/plain": [
       "Shuffle Reduce 10:   0%|          | 0/16 [00:00<?, ?it/s]"
      ]
     },
     "metadata": {},
     "output_type": "display_data"
    },
    {
     "data": {
      "application/vnd.jupyter.widget-view+json": {
       "model_id": "6a0458012f234395b71a2ff6dd4c9e8c",
       "version_major": 2,
       "version_minor": 0
      },
      "text/plain": [
       "Running 0:   0%|          | 0/1 [00:00<?, ?it/s]"
      ]
     },
     "metadata": {},
     "output_type": "display_data"
    },
    {
     "data": {
      "application/vnd.jupyter.widget-view+json": {
       "model_id": "b4a8252b60ec4bedbec4e607a01c3bb4",
       "version_major": 2,
       "version_minor": 0
      },
      "text/plain": [
       "Sort Sample 0:   0%|          | 0/16 [00:00<?, ?it/s]"
      ]
     },
     "metadata": {},
     "output_type": "display_data"
    },
    {
     "name": "stderr",
     "output_type": "stream",
     "text": [
      "2023-09-06 20:05:25,040\tINFO streaming_executor.py:92 -- Executing DAG InputDataBuffer[Input] -> TaskPoolMapOperator[ReadCSV->SplitBlocks(16)] -> AllToAllOperator[RandomShuffle] -> AllToAllOperator[Sort] -> AllToAllOperator[MapBatches(group_fn)->MapBatches(_filter_split)->RandomShuffle] -> AllToAllOperator[Aggregate] -> TaskPoolMapOperator[MapBatches(<lambda>)]\n",
      "2023-09-06 20:05:25,067\tINFO streaming_executor.py:93 -- Execution config: ExecutionOptions(resource_limits=ExecutionResources(cpu=None, gpu=None, object_store_memory=None), locality_with_output=False, preserve_order=True, actor_locality_enabled=True, verbose_progress=False)\n",
      "2023-09-06 20:05:25,076\tINFO streaming_executor.py:95 -- Tip: For detailed progress reporting, run `ray.data.DataContext.get_current().execution_options.verbose_progress = True`\n"
     ]
    },
    {
     "data": {
      "application/vnd.jupyter.widget-view+json": {
       "model_id": "7c82497bbde64aa7b600106e1dd3b3ff",
       "version_major": 2,
       "version_minor": 0
      },
      "text/plain": [
       "- RandomShuffle 1:   0%|          | 0/16 [00:00<?, ?it/s]"
      ]
     },
     "metadata": {},
     "output_type": "display_data"
    },
    {
     "data": {
      "application/vnd.jupyter.widget-view+json": {
       "model_id": "0884b9f04be5457b966e2b789c581cbe",
       "version_major": 2,
       "version_minor": 0
      },
      "text/plain": [
       "Shuffle Map 2:   0%|          | 0/16 [00:00<?, ?it/s]"
      ]
     },
     "metadata": {},
     "output_type": "display_data"
    },
    {
     "data": {
      "application/vnd.jupyter.widget-view+json": {
       "model_id": "1d0367ba660245dca079021ae9a51a90",
       "version_major": 2,
       "version_minor": 0
      },
      "text/plain": [
       "Shuffle Reduce 3:   0%|          | 0/16 [00:00<?, ?it/s]"
      ]
     },
     "metadata": {},
     "output_type": "display_data"
    },
    {
     "data": {
      "application/vnd.jupyter.widget-view+json": {
       "model_id": "7073f0378a35439292d2274ffaacca92",
       "version_major": 2,
       "version_minor": 0
      },
      "text/plain": [
       "- Sort 4:   0%|          | 0/16 [00:00<?, ?it/s]"
      ]
     },
     "metadata": {},
     "output_type": "display_data"
    },
    {
     "data": {
      "application/vnd.jupyter.widget-view+json": {
       "model_id": "185694321b7b4c3c80bbd6dbd9da0b55",
       "version_major": 2,
       "version_minor": 0
      },
      "text/plain": [
       "Sort Sample 5:   0%|          | 0/16 [00:00<?, ?it/s]"
      ]
     },
     "metadata": {},
     "output_type": "display_data"
    },
    {
     "data": {
      "application/vnd.jupyter.widget-view+json": {
       "model_id": "ff31831361444757b1cacea14b54a7bf",
       "version_major": 2,
       "version_minor": 0
      },
      "text/plain": [
       "Shuffle Map 6:   0%|          | 0/16 [00:00<?, ?it/s]"
      ]
     },
     "metadata": {},
     "output_type": "display_data"
    },
    {
     "data": {
      "application/vnd.jupyter.widget-view+json": {
       "model_id": "d051a3bfe5ea4c6fa316e0f42ef3fd71",
       "version_major": 2,
       "version_minor": 0
      },
      "text/plain": [
       "Shuffle Reduce 7:   0%|          | 0/16 [00:00<?, ?it/s]"
      ]
     },
     "metadata": {},
     "output_type": "display_data"
    },
    {
     "data": {
      "application/vnd.jupyter.widget-view+json": {
       "model_id": "54a32bba475f42a09ed68523163cd89d",
       "version_major": 2,
       "version_minor": 0
      },
      "text/plain": [
       "- MapBatches(group_fn)->MapBatches(_filter_split)->RandomShuffle 8:   0%|          | 0/16 [00:00<?, ?it/s]"
      ]
     },
     "metadata": {},
     "output_type": "display_data"
    },
    {
     "data": {
      "application/vnd.jupyter.widget-view+json": {
       "model_id": "f5d3c600c36d4e938dac299313e05137",
       "version_major": 2,
       "version_minor": 0
      },
      "text/plain": [
       "Shuffle Map 9:   0%|          | 0/16 [00:00<?, ?it/s]"
      ]
     },
     "metadata": {},
     "output_type": "display_data"
    },
    {
     "data": {
      "application/vnd.jupyter.widget-view+json": {
       "model_id": "7d33bb7efbaa42ca948ce470595da76c",
       "version_major": 2,
       "version_minor": 0
      },
      "text/plain": [
       "Shuffle Reduce 10:   0%|          | 0/16 [00:00<?, ?it/s]"
      ]
     },
     "metadata": {},
     "output_type": "display_data"
    },
    {
     "data": {
      "application/vnd.jupyter.widget-view+json": {
       "model_id": "7578cce66d0642a19c84f1502c68651e",
       "version_major": 2,
       "version_minor": 0
      },
      "text/plain": [
       "- Aggregate 11:   0%|          | 0/16 [00:00<?, ?it/s]"
      ]
     },
     "metadata": {},
     "output_type": "display_data"
    },
    {
     "data": {
      "application/vnd.jupyter.widget-view+json": {
       "model_id": "3a87169ed58d469b8f981b09188ab2ba",
       "version_major": 2,
       "version_minor": 0
      },
      "text/plain": [
       "Shuffle Map 12:   0%|          | 0/16 [00:00<?, ?it/s]"
      ]
     },
     "metadata": {},
     "output_type": "display_data"
    },
    {
     "data": {
      "application/vnd.jupyter.widget-view+json": {
       "model_id": "d22383f61f9a4f0cb9c359e5d9de6462",
       "version_major": 2,
       "version_minor": 0
      },
      "text/plain": [
       "Shuffle Reduce 13:   0%|          | 0/16 [00:00<?, ?it/s]"
      ]
     },
     "metadata": {},
     "output_type": "display_data"
    },
    {
     "data": {
      "application/vnd.jupyter.widget-view+json": {
       "model_id": "08c4bb6e52bf4b998a0136ebc9e0c848",
       "version_major": 2,
       "version_minor": 0
      },
      "text/plain": [
       "Running 0:   0%|          | 0/16 [00:00<?, ?it/s]"
      ]
     },
     "metadata": {},
     "output_type": "display_data"
    },
    {
     "data": {
      "application/vnd.jupyter.widget-view+json": {
       "model_id": "2395ad12c29d46fba1945bf3d5cdae06",
       "version_major": 2,
       "version_minor": 0
      },
      "text/plain": [
       "Sort Sample 0:   0%|          | 0/16 [00:00<?, ?it/s]"
      ]
     },
     "metadata": {},
     "output_type": "display_data"
    },
    {
     "data": {
      "application/vnd.jupyter.widget-view+json": {
       "model_id": "5fd8dd782e754f07bf4ff80ba9152036",
       "version_major": 2,
       "version_minor": 0
      },
      "text/plain": [
       "Sort Sample 0:   0%|          | 0/16 [00:00<?, ?it/s]"
      ]
     },
     "metadata": {},
     "output_type": "display_data"
    },
    {
     "data": {
      "text/plain": [
       "['computer-vision', 'mlops', 'natural-language-processing', 'other']"
      ]
     },
     "execution_count": 49,
     "metadata": {},
     "output_type": "execute_result"
    }
   ],
   "source": [
    "tags = train_ds.unique(column=\"tag\")\n",
    "tags"
   ]
  },
  {
   "cell_type": "code",
   "execution_count": 50,
   "metadata": {},
   "outputs": [],
   "source": [
    "class_to_index = {tag: i for i, tag in enumerate(tags)}\n"
   ]
  },
  {
   "cell_type": "code",
   "execution_count": 51,
   "metadata": {},
   "outputs": [
    {
     "name": "stderr",
     "output_type": "stream",
     "text": [
      "2023-09-06 20:05:27,163\tINFO streaming_executor.py:92 -- Executing DAG InputDataBuffer[Input] -> TaskPoolMapOperator[ReadCSV->SplitBlocks(16)] -> AllToAllOperator[RandomShuffle] -> AllToAllOperator[Sort] -> AllToAllOperator[MapBatches(group_fn)->MapBatches(_filter_split)->RandomShuffle] -> TaskPoolMapOperator[MapBatches(preprocess)]\n",
      "2023-09-06 20:05:27,164\tINFO streaming_executor.py:93 -- Execution config: ExecutionOptions(resource_limits=ExecutionResources(cpu=None, gpu=None, object_store_memory=None), locality_with_output=False, preserve_order=True, actor_locality_enabled=True, verbose_progress=False)\n",
      "2023-09-06 20:05:27,165\tINFO streaming_executor.py:95 -- Tip: For detailed progress reporting, run `ray.data.DataContext.get_current().execution_options.verbose_progress = True`\n"
     ]
    },
    {
     "data": {
      "application/vnd.jupyter.widget-view+json": {
       "model_id": "c5ec1fc3953b417b90cc8c0c34315299",
       "version_major": 2,
       "version_minor": 0
      },
      "text/plain": [
       "- RandomShuffle 1:   0%|          | 0/16 [00:00<?, ?it/s]"
      ]
     },
     "metadata": {},
     "output_type": "display_data"
    },
    {
     "data": {
      "application/vnd.jupyter.widget-view+json": {
       "model_id": "cc7176a684cf4cf78fa182f0f4071c20",
       "version_major": 2,
       "version_minor": 0
      },
      "text/plain": [
       "Shuffle Map 2:   0%|          | 0/16 [00:00<?, ?it/s]"
      ]
     },
     "metadata": {},
     "output_type": "display_data"
    },
    {
     "data": {
      "application/vnd.jupyter.widget-view+json": {
       "model_id": "0f20c67eaa1d460dbc001cbb483347d0",
       "version_major": 2,
       "version_minor": 0
      },
      "text/plain": [
       "Shuffle Reduce 3:   0%|          | 0/16 [00:00<?, ?it/s]"
      ]
     },
     "metadata": {},
     "output_type": "display_data"
    },
    {
     "data": {
      "application/vnd.jupyter.widget-view+json": {
       "model_id": "22bb2867b70246ad864350a20854e149",
       "version_major": 2,
       "version_minor": 0
      },
      "text/plain": [
       "- Sort 4:   0%|          | 0/16 [00:00<?, ?it/s]"
      ]
     },
     "metadata": {},
     "output_type": "display_data"
    },
    {
     "data": {
      "application/vnd.jupyter.widget-view+json": {
       "model_id": "28dc2abc94934f4fb5d8d170135cc734",
       "version_major": 2,
       "version_minor": 0
      },
      "text/plain": [
       "Sort Sample 5:   0%|          | 0/16 [00:00<?, ?it/s]"
      ]
     },
     "metadata": {},
     "output_type": "display_data"
    },
    {
     "data": {
      "application/vnd.jupyter.widget-view+json": {
       "model_id": "8ba645dd1a7044bfa1e0b2dce0980e76",
       "version_major": 2,
       "version_minor": 0
      },
      "text/plain": [
       "Shuffle Map 6:   0%|          | 0/16 [00:00<?, ?it/s]"
      ]
     },
     "metadata": {},
     "output_type": "display_data"
    },
    {
     "data": {
      "application/vnd.jupyter.widget-view+json": {
       "model_id": "2dd8d231d16b4b3fb12398600ea45ba2",
       "version_major": 2,
       "version_minor": 0
      },
      "text/plain": [
       "Shuffle Reduce 7:   0%|          | 0/16 [00:00<?, ?it/s]"
      ]
     },
     "metadata": {},
     "output_type": "display_data"
    },
    {
     "data": {
      "application/vnd.jupyter.widget-view+json": {
       "model_id": "2fda229753db48c18eb2eded5d86aa0f",
       "version_major": 2,
       "version_minor": 0
      },
      "text/plain": [
       "- MapBatches(group_fn)->MapBatches(_filter_split)->RandomShuffle 8:   0%|          | 0/16 [00:00<?, ?it/s]"
      ]
     },
     "metadata": {},
     "output_type": "display_data"
    },
    {
     "data": {
      "application/vnd.jupyter.widget-view+json": {
       "model_id": "943299cd0cac458ab6ab78117138956b",
       "version_major": 2,
       "version_minor": 0
      },
      "text/plain": [
       "Shuffle Map 9:   0%|          | 0/16 [00:00<?, ?it/s]"
      ]
     },
     "metadata": {},
     "output_type": "display_data"
    },
    {
     "data": {
      "application/vnd.jupyter.widget-view+json": {
       "model_id": "5ae181e4249f476d9b55ea47f4b2a4e3",
       "version_major": 2,
       "version_minor": 0
      },
      "text/plain": [
       "Shuffle Reduce 10:   0%|          | 0/16 [00:00<?, ?it/s]"
      ]
     },
     "metadata": {},
     "output_type": "display_data"
    },
    {
     "data": {
      "application/vnd.jupyter.widget-view+json": {
       "model_id": "85c32d9c763d4ccb89b82e69e57ed93e",
       "version_major": 2,
       "version_minor": 0
      },
      "text/plain": [
       "Running 0:   0%|          | 0/16 [00:00<?, ?it/s]"
      ]
     },
     "metadata": {},
     "output_type": "display_data"
    },
    {
     "data": {
      "application/vnd.jupyter.widget-view+json": {
       "model_id": "f4d88c57494642c5b792b8943b8cb389",
       "version_major": 2,
       "version_minor": 0
      },
      "text/plain": [
       "Sort Sample 0:   0%|          | 0/16 [00:00<?, ?it/s]"
      ]
     },
     "metadata": {},
     "output_type": "display_data"
    },
    {
     "name": "stdout",
     "output_type": "stream",
     "text": [
      "{'ids': array([ 102, 2189, 2782, 6487, 4220,  545, 3997, 1904, 5995,  103,    0,\n",
      "          0,    0,    0,    0,    0,    0,    0,    0,    0,    0,    0,\n",
      "          0,    0,    0,    0,    0,    0,    0,    0,    0,    0,    0]), 'masks': array([1, 1, 1, 1, 1, 1, 1, 1, 1, 1, 0, 0, 0, 0, 0, 0, 0, 0, 0, 0, 0, 0,\n",
      "       0, 0, 0, 0, 0, 0, 0, 0, 0, 0, 0]), 'targets': 0}\n"
     ]
    }
   ],
   "source": [
    "# Distributed preprocessing\n",
    "sample_ds = train_ds.map_batches(\n",
    "  preprocess,\n",
    "  fn_kwargs={\"class_to_index\": class_to_index},\n",
    "  batch_format=\"pandas\")\n",
    "sample_ds.show(1)"
   ]
  },
  {
   "cell_type": "code",
   "execution_count": 52,
   "metadata": {},
   "outputs": [],
   "source": [
    "import pandas as pd\n"
   ]
  },
  {
   "cell_type": "code",
   "execution_count": 53,
   "metadata": {},
   "outputs": [
    {
     "data": {
      "text/html": [
       "<div>\n",
       "<style scoped>\n",
       "    .dataframe tbody tr th:only-of-type {\n",
       "        vertical-align: middle;\n",
       "    }\n",
       "\n",
       "    .dataframe tbody tr th {\n",
       "        vertical-align: top;\n",
       "    }\n",
       "\n",
       "    .dataframe thead th {\n",
       "        text-align: right;\n",
       "    }\n",
       "</style>\n",
       "<table border=\"1\" class=\"dataframe\">\n",
       "  <thead>\n",
       "    <tr style=\"text-align: right;\">\n",
       "      <th></th>\n",
       "      <th>id</th>\n",
       "      <th>created_on</th>\n",
       "      <th>title</th>\n",
       "      <th>description</th>\n",
       "      <th>tag</th>\n",
       "    </tr>\n",
       "  </thead>\n",
       "  <tbody>\n",
       "    <tr>\n",
       "      <th>754</th>\n",
       "      <td>2418</td>\n",
       "      <td>2020-10-02 10:16:17</td>\n",
       "      <td>Top Research Papers from the ECML-PKDD 2020 Co...</td>\n",
       "      <td>ECML-PKDD -&gt; selectionof the best reaesch papers</td>\n",
       "      <td>other</td>\n",
       "    </tr>\n",
       "    <tr>\n",
       "      <th>90</th>\n",
       "      <td>307</td>\n",
       "      <td>2020-04-07 20:11:29</td>\n",
       "      <td>GLUE Explained: Understanding BERT Through Ben...</td>\n",
       "      <td>In this post we take a look at an important NL...</td>\n",
       "      <td>natural-language-processing</td>\n",
       "    </tr>\n",
       "    <tr>\n",
       "      <th>644</th>\n",
       "      <td>2062</td>\n",
       "      <td>2020-08-06 12:38:55</td>\n",
       "      <td>Predict Vehicle Speed From Dash Cam Video</td>\n",
       "      <td>A series of experiments attempting to predict ...</td>\n",
       "      <td>computer-vision</td>\n",
       "    </tr>\n",
       "    <tr>\n",
       "      <th>75</th>\n",
       "      <td>272</td>\n",
       "      <td>2020-04-06 23:38:26</td>\n",
       "      <td>The Annotated GPT-2</td>\n",
       "      <td>GPT-2 explained with visualization and PyTorch...</td>\n",
       "      <td>natural-language-processing</td>\n",
       "    </tr>\n",
       "    <tr>\n",
       "      <th>233</th>\n",
       "      <td>800</td>\n",
       "      <td>2020-05-11 00:44:10</td>\n",
       "      <td>Feature Stores for ML</td>\n",
       "      <td>List of production ML groups and their open-so...</td>\n",
       "      <td>mlops</td>\n",
       "    </tr>\n",
       "  </tbody>\n",
       "</table>\n",
       "</div>"
      ],
      "text/plain": [
       "       id           created_on   \n",
       "754  2418  2020-10-02 10:16:17  \\\n",
       "90    307  2020-04-07 20:11:29   \n",
       "644  2062  2020-08-06 12:38:55   \n",
       "75    272  2020-04-06 23:38:26   \n",
       "233   800  2020-05-11 00:44:10   \n",
       "\n",
       "                                                 title   \n",
       "754  Top Research Papers from the ECML-PKDD 2020 Co...  \\\n",
       "90   GLUE Explained: Understanding BERT Through Ben...   \n",
       "644          Predict Vehicle Speed From Dash Cam Video   \n",
       "75                                 The Annotated GPT-2   \n",
       "233                              Feature Stores for ML   \n",
       "\n",
       "                                           description   \n",
       "754   ECML-PKDD -> selectionof the best reaesch papers  \\\n",
       "90   In this post we take a look at an important NL...   \n",
       "644  A series of experiments attempting to predict ...   \n",
       "75   GPT-2 explained with visualization and PyTorch...   \n",
       "233  List of production ML groups and their open-so...   \n",
       "\n",
       "                             tag  \n",
       "754                        other  \n",
       "90   natural-language-processing  \n",
       "644              computer-vision  \n",
       "75   natural-language-processing  \n",
       "233                        mlops  "
      ]
     },
     "execution_count": 53,
     "metadata": {},
     "output_type": "execute_result"
    }
   ],
   "source": [
    "# Load training data\n",
    "DATASET_LOC = \"https://raw.githubusercontent.com/GokuMohandas/Made-With-ML/main/datasets/dataset.csv\"\n",
    "train_df = pd.read_csv(DATASET_LOC).sample(500)\n",
    "train_df.head()"
   ]
  },
  {
   "cell_type": "code",
   "execution_count": 54,
   "metadata": {},
   "outputs": [
    {
     "data": {
      "text/plain": [
       "['other', 'natural-language-processing', 'computer-vision', 'mlops']"
      ]
     },
     "execution_count": 54,
     "metadata": {},
     "output_type": "execute_result"
    }
   ],
   "source": [
    "# Unique labels\n",
    "tags = train_df.tag.unique().tolist()\n",
    "tags"
   ]
  },
  {
   "cell_type": "code",
   "execution_count": 55,
   "metadata": {},
   "outputs": [],
   "source": [
    "# Load inference dataset\n",
    "HOLDOUT_LOC = \"https://raw.githubusercontent.com/GokuMohandas/Made-With-ML/main/datasets/holdout.csv\"\n",
    "test_df = pd.read_csv(HOLDOUT_LOC)"
   ]
  },
  {
   "cell_type": "code",
   "execution_count": 56,
   "metadata": {},
   "outputs": [],
   "source": [
    "import json\n",
    "from collections import Counter\n",
    "import matplotlib.pyplot as plt\n",
    "import seaborn as sns; sns.set_theme()\n",
    "from sklearn.metrics import precision_recall_fscore_support\n",
    "import time\n",
    "from tqdm import tqdm"
   ]
  },
  {
   "cell_type": "code",
   "execution_count": 57,
   "metadata": {},
   "outputs": [],
   "source": [
    "# # from dotenv import load_dotenv\n",
    "# import openai"
   ]
  },
  {
   "cell_type": "code",
   "execution_count": 58,
   "metadata": {},
   "outputs": [],
   "source": [
    "# import pandas  as pd\n",
    "# # from langchain.llms import OpenAI\n",
    "# from dotenv import load_dotenv\n",
    "\n",
    "# import openai,os\n",
    "# load_dotenv(r'/home/niq/hcsr2001/code/Nearest NaN Experiments_zero_touch/.env')\n",
    "# openai_api_key = os.getenv(\"OPENAI_API_KEY\")\n",
    "\n",
    "# assert openai_api_key, \"ERROR: Azure OpenAI Key is missing\"\n",
    "# openai.api_key = openai_api_key\n",
    "\n",
    "# openai.api_base = os.getenv(\"OpenAiService\")\n",
    "# openai.api_type = \"azure\"\n",
    "# openai.api_version =os.getenv(\"OpenAiVersion\")\n",
    "# davincimodel= os.getenv(\"OpenAiDavinci\")\n",
    "# active_loop_token=os.getenv(\"ACTIVELOOP_TOKEN\")\n",
    "# embedding_model=os.getenv(\"OpenAiEmbedding\")\n",
    "# chat_ai=os.getenv(\"ChatAI\")#\n",
    "# HUGGINGFACEHUB_API_TOKEN=os.getenv(\"HUGGINGFACEHUB_API_TOKEN\")"
   ]
  },
  {
   "cell_type": "code",
   "execution_count": 59,
   "metadata": {},
   "outputs": [],
   "source": [
    "# openai.api_key = openai_api_key"
   ]
  },
  {
   "cell_type": "code",
   "execution_count": 60,
   "metadata": {},
   "outputs": [],
   "source": [
    "# # Query OpenAI endpoint\n",
    "# system_content = \"you only answer in rhymes\"  # system content (behavior)\n",
    "# assistant_content = \"\"  # assistant content (context)\n",
    "# user_content = \"how are you\"  # user content (message)\n",
    "# response = openai.ChatCompletion.create(\n",
    "#     engine=chat_ai,\n",
    "#     messages=[\n",
    "#         {\"role\": \"system\", \"content\": system_content},\n",
    "#         {\"role\": \"assistant\", \"content\": assistant_content},\n",
    "#         {\"role\": \"user\", \"content\": user_content},\n",
    "#     ],\n",
    "# )\n",
    "# print (response.to_dict()[\"choices\"][0].to_dict()[\"message\"][\"content\"])"
   ]
  },
  {
   "cell_type": "code",
   "execution_count": 61,
   "metadata": {},
   "outputs": [],
   "source": [
    "# response"
   ]
  },
  {
   "cell_type": "code",
   "execution_count": 62,
   "metadata": {},
   "outputs": [],
   "source": [
    "# def get_tag(model, system_content=\"\", assistant_content=\"\", user_content=\"\"):\n",
    "#     try:\n",
    "#         # Get response from OpenAI\n",
    "#         response = openai.ChatCompletion.create(\n",
    "#             engine=model,\n",
    "#             messages=[\n",
    "#                 {\"role\": \"system\", \"content\": system_content},\n",
    "#                 {\"role\": \"assistant\", \"content\": assistant_content},\n",
    "#                 {\"role\": \"user\", \"content\": user_content},\n",
    "#             ],\n",
    "#         )\n",
    "#         predicted_tag = response.to_dict()[\"choices\"][0].to_dict()[\"message\"][\"content\"]\n",
    "#         return predicted_tag\n",
    "\n",
    "#     except (openai.error.ServiceUnavailableError, openai.error.APIError) as e:\n",
    "#         return None"
   ]
  },
  {
   "cell_type": "code",
   "execution_count": 63,
   "metadata": {},
   "outputs": [],
   "source": [
    "# # Get tag\n",
    "# model = chat_ai\n",
    "# system_context = f\"\"\"\n",
    "#     You are a NLP prediction service that predicts the label given an input's title and description.\n",
    "#     You must choose between one of the following labels for each input: {tags}.\n",
    "#     Only respond with the label name and nothing else.\n",
    "#     \"\"\"\n",
    "# assistant_content = \"\"\n",
    "# user_context = \"Transfer learning with transformers: Using transformers for transfer learning on text classification tasks.\"\n",
    "# tag = get_tag(model=model, system_content=system_context, assistant_content=assistant_content, user_content=user_context)\n",
    "# print (tag)"
   ]
  },
  {
   "cell_type": "code",
   "execution_count": 64,
   "metadata": {},
   "outputs": [
    {
     "data": {
      "text/plain": [
       "(191, 5)"
      ]
     },
     "execution_count": 64,
     "metadata": {},
     "output_type": "execute_result"
    }
   ],
   "source": [
    "test_df.shape"
   ]
  },
  {
   "cell_type": "code",
   "execution_count": 65,
   "metadata": {},
   "outputs": [],
   "source": [
    "# # List of dicts w/ {title, description} (just the first 3 samples for now)\n",
    "# samples = test_df[[\"title\", \"description\"]].to_dict(orient=\"records\")[:3]\n",
    "# samples"
   ]
  },
  {
   "cell_type": "code",
   "execution_count": 66,
   "metadata": {},
   "outputs": [],
   "source": [
    "# def get_predictions(inputs, model, system_content, assistant_content=\"\"):\n",
    "#     y_pred = []\n",
    "#     # print(inputs)\n",
    "#     for item in tqdm(inputs):\n",
    "#         # Convert item dict to string\n",
    "#         user_content = str(item)\n",
    "\n",
    "#         # Get prediction\n",
    "#         predicted_tag = get_tag(\n",
    "#             model=model, system_content=system_content,\n",
    "#             assistant_content=assistant_content, user_content=user_content)\n",
    "\n",
    "#         # If error, try again after pause (repeatedly until success)\n",
    "#         while predicted_tag is None:\n",
    "#             time.sleep(30)  # could also do exponential backoff\n",
    "#             predicted_tag = get_tag(\n",
    "#                 model=model, system_content=system_content,\n",
    "#                 assistant_content=assistant_content, user_content=user_content)\n",
    "\n",
    "#         # Add to list of predictions\n",
    "#         y_pred.append(predicted_tag)\n",
    "\n",
    "#     return y_pred"
   ]
  },
  {
   "cell_type": "code",
   "execution_count": 67,
   "metadata": {},
   "outputs": [],
   "source": [
    "# samples"
   ]
  },
  {
   "cell_type": "code",
   "execution_count": 68,
   "metadata": {},
   "outputs": [],
   "source": [
    "# get_predictions(inputs=samples, model=model, system_content=system_context)\n"
   ]
  },
  {
   "cell_type": "code",
   "execution_count": 69,
   "metadata": {},
   "outputs": [],
   "source": [
    "# def clean_predictions(y_pred, tags, default=\"other\"):\n",
    "#     for i, item in enumerate(y_pred):\n",
    "#         if item not in tags:  # hallucinations\n",
    "#             y_pred[i] = default\n",
    "#         if item.startswith(\"'\") and item.endswith(\"'\"):  # GPT 4 likes to places quotes\n",
    "#             y_pred[i] = item[1:-1]\n",
    "#     return y_pred"
   ]
  },
  {
   "cell_type": "code",
   "execution_count": 70,
   "metadata": {},
   "outputs": [],
   "source": [
    "# def plot_tag_dist(y_true, y_pred):\n",
    "#     # Distribution of tags\n",
    "#     true_tag_freq = dict(Counter(y_true))\n",
    "#     pred_tag_freq = dict(Counter(y_pred))\n",
    "#     df_true = pd.DataFrame({\"tag\": list(true_tag_freq.keys()), \"freq\": list(true_tag_freq.values()), \"source\": \"true\"})\n",
    "#     df_pred = pd.DataFrame({\"tag\": list(pred_tag_freq.keys()), \"freq\": list(pred_tag_freq.values()), \"source\": \"pred\"})\n",
    "#     df = pd.concat([df_true, df_pred], ignore_index=True)\n",
    "\n",
    "#     # Plot\n",
    "#     plt.figure(figsize=(10, 3))\n",
    "#     plt.title(\"Tag distribution\", fontsize=14)\n",
    "#     ax = sns.barplot(x=\"tag\", y=\"freq\", hue=\"source\", data=df)\n",
    "#     ax.set_xticklabels(list(true_tag_freq.keys()), rotation=0, fontsize=8)\n",
    "#     plt.legend()\n",
    "#     plt.show()"
   ]
  },
  {
   "cell_type": "code",
   "execution_count": 71,
   "metadata": {},
   "outputs": [],
   "source": [
    "# def evaluate(test_df, model, system_content, assistant_content=\"\", tags=[]):\n",
    "#     # Predictions\n",
    "#     y_test = test_df.tag.to_list()\n",
    "#     test_samples = test_df[[\"title\", \"description\"]].to_dict(orient=\"records\")\n",
    "#     y_pred = get_predictions(\n",
    "#         inputs=test_samples, model=model,\n",
    "#         system_content=system_content, assistant_content=assistant_content)\n",
    "#     y_pred = clean_predictions(y_pred=y_pred, tags=tags)\n",
    "\n",
    "#     # Performance\n",
    "#     metrics = precision_recall_fscore_support(y_test, y_pred, average=\"weighted\")\n",
    "#     performance = {\"precision\": metrics[0], \"recall\": metrics[1], \"f1\": metrics[2]}\n",
    "#     print(json.dumps(performance, indent=2))\n",
    "#     plot_tag_dist(y_true=y_test, y_pred=y_pred)\n",
    "#     return y_pred, performance"
   ]
  },
  {
   "cell_type": "code",
   "execution_count": 72,
   "metadata": {},
   "outputs": [],
   "source": [
    "y_pred = {\"zero_shot\": {}, \"few_shot\": {}}\n",
    "performance = {\"zero_shot\": {}, \"few_shot\": {}}"
   ]
  },
  {
   "cell_type": "code",
   "execution_count": 73,
   "metadata": {},
   "outputs": [],
   "source": [
    "# system_content = f\"\"\"\n",
    "#     You are a NLP prediction service that predicts the label given an input's title and description.\n",
    "#     You must choose between one of the following labels for each input: {tags}.\n",
    "#     Only respond with the label name and nothing else.\n",
    "#     \"\"\""
   ]
  },
  {
   "cell_type": "code",
   "execution_count": 74,
   "metadata": {},
   "outputs": [],
   "source": [
    "# # Zero-shot with GPT 3.5\n",
    "# method = \"zero_shot\"\n",
    "# model = chat_ai\n",
    "# y_pred[method][model], performance[method][model] = evaluate(\n",
    "#     test_df=test_df, model=model, system_content=system_content, tags=tags)"
   ]
  },
  {
   "cell_type": "code",
   "execution_count": 75,
   "metadata": {},
   "outputs": [],
   "source": [
    "# # Zero-shot with GPT 4\n",
    "# method = \"zero_shot\"\n",
    "# model = \"gpt-4-0613\"\n",
    "# y_pred[method][model], performance[method][model] = evaluate(\n",
    "#     test_df=test_df, model=model, system_content=system_content, tags=tags)"
   ]
  },
  {
   "cell_type": "code",
   "execution_count": 76,
   "metadata": {},
   "outputs": [],
   "source": [
    "# num_samples = 2\n",
    "# additional_context = []\n",
    "# cols_to_keep = [\"title\", \"description\", \"tag\"]\n",
    "# for tag in tags:\n",
    "#     samples = train_df[cols_to_keep][train_df.tag == tag][:num_samples].to_dict(orient=\"records\")\n",
    "#     additional_context.extend(samples)\n",
    "\n",
    "# additional_context"
   ]
  },
  {
   "cell_type": "code",
   "execution_count": 77,
   "metadata": {},
   "outputs": [],
   "source": [
    "# # Add assistant context\n",
    "# assistant_content = f\"\"\"Here are some examples with the correct labels: {additional_context}\"\"\"\n",
    "# print (assistant_content)"
   ]
  },
  {
   "cell_type": "code",
   "execution_count": 78,
   "metadata": {},
   "outputs": [],
   "source": [
    "# # Few-shot with GPT 3.5\n",
    "# method = \"few_shot\"\n",
    "# model = chat_ai\n",
    "# y_pred[method][model], performance[method][model] = evaluate(\n",
    "#     test_df=test_df, model=model, system_content=system_content,\n",
    "#     assistant_content=assistant_content, tags=tags)"
   ]
  },
  {
   "cell_type": "code",
   "execution_count": 79,
   "metadata": {},
   "outputs": [],
   "source": [
    "# # Few-shot with GPT 4\n",
    "# method = \"few_shot\"\n",
    "# model = \"gpt-4-0613\"\n",
    "# y_pred[method][model], performance[method][model] = evaluate(\n",
    "#     test_df=test_df, model=model, system_content=few_shot_context,\n",
    "#     assistant_content=assistant_content, tags=tags)"
   ]
  },
  {
   "cell_type": "code",
   "execution_count": 80,
   "metadata": {},
   "outputs": [],
   "source": [
    "# print(json.dumps(performance, indent=2))"
   ]
  },
  {
   "cell_type": "code",
   "execution_count": 81,
   "metadata": {},
   "outputs": [],
   "source": [
    "# # Transform data into a new dictionary with four keys\n",
    "# by_model_and_context = {}\n",
    "# for context_type, models_data in performance.items():\n",
    "#     for model, metrics in models_data.items():\n",
    "#         key = f\"{model}_{context_type}\"\n",
    "#         by_model_and_context[key] = metrics"
   ]
  },
  {
   "cell_type": "code",
   "execution_count": 82,
   "metadata": {},
   "outputs": [],
   "source": [
    "# by_model_and_context"
   ]
  },
  {
   "cell_type": "code",
   "execution_count": 83,
   "metadata": {},
   "outputs": [],
   "source": [
    "# # Extracting the model names and the metric values\n",
    "# models = list(by_model_and_context.keys())\n",
    "# metrics = list(by_model_and_context[models[0]].keys())\n",
    "\n",
    "# # Plotting the bar chart with metric scores on top of each bar\n",
    "# fig, ax = plt.subplots(figsize=(10, 4))\n",
    "# width = 0.2\n",
    "# x = range(len(models))\n",
    "\n",
    "# for i, metric in enumerate(metrics):\n",
    "#     metric_values = [by_model_and_context[model][metric] for model in models]\n",
    "#     ax.bar([pos + width * i for pos in x], metric_values, width, label=metric)\n",
    "#     # Displaying the metric scores on top of each bar\n",
    "#     for pos, val in zip(x, metric_values):\n",
    "#         ax.text(pos + width * i, val, f'{val:.3f}', ha='center', va='bottom', fontsize=9)\n",
    "\n",
    "# ax.set_xticks([pos + width for pos in x])\n",
    "# ax.set_xticklabels(models, rotation=0, ha='center', fontsize=8)\n",
    "# ax.set_ylabel('Performance')\n",
    "# ax.set_title('GPT Benchmarks')\n",
    "# ax.legend(loc='upper left', bbox_to_anchor=(1, 1))\n",
    "\n",
    "# plt.tight_layout()\n",
    "# plt.show()"
   ]
  },
  {
   "cell_type": "code",
   "execution_count": 84,
   "metadata": {},
   "outputs": [],
   "source": [
    "import os\n",
    "import random\n",
    "import torch\n",
    "\n",
    "from ray.data.preprocessor import Preprocessor"
   ]
  },
  {
   "cell_type": "code",
   "execution_count": 85,
   "metadata": {},
   "outputs": [],
   "source": [
    "def set_seeds(seed=42):\n",
    "    \"\"\"Set seeds for reproducibility.\"\"\"\n",
    "    np.random.seed(seed)\n",
    "    random.seed(seed)\n",
    "    torch.manual_seed(seed)\n",
    "    torch.cuda.manual_seed(seed)\n",
    "    eval(\"setattr(torch.backends.cudnn, 'deterministic', True)\")\n",
    "    eval(\"setattr(torch.backends.cudnn, 'benchmark', False)\")\n",
    "    os.environ[\"PYTHONHASHSEED\"] = str(seed)"
   ]
  },
  {
   "cell_type": "code",
   "execution_count": 86,
   "metadata": {},
   "outputs": [],
   "source": [
    "def load_data(num_samples=None):\n",
    "    ds = ray.data.read_csv(DATASET_LOC)\n",
    "    ds = ds.random_shuffle(seed=1234)\n",
    "    ds = ray.data.from_items(ds.take(num_samples)) if num_samples else ds\n",
    "    return ds"
   ]
  },
  {
   "cell_type": "code",
   "execution_count": 87,
   "metadata": {},
   "outputs": [],
   "source": [
    "def clean_text(text, stopwords=STOPWORDS):\n",
    "    \"\"\"Clean raw text string.\"\"\"\n",
    "    # Lower\n",
    "    text = text.lower()\n",
    "\n",
    "    # Remove stopwords\n",
    "    pattern = re.compile(r'\\b(' + r\"|\".join(stopwords) + r\")\\b\\s*\")\n",
    "    text = pattern.sub('', text)\n",
    "\n",
    "    # Spacing and filters\n",
    "    text = re.sub(r\"([!\\\"'#$%&()*\\+,-./:;<=>?@\\\\\\[\\]^_`{|}~])\", r\" \\1 \", text)  # add spacing\n",
    "    text = re.sub(\"[^A-Za-z0-9]+\", \" \", text)  # remove non alphanumeric chars\n",
    "    text = re.sub(\" +\", \" \", text)  # remove multiple spaces\n",
    "    text = text.strip()  # strip white space at the ends\n",
    "    text = re.sub(r\"http\\S+\", \"\", text)  #  remove links\n",
    "\n",
    "    return text"
   ]
  },
  {
   "cell_type": "code",
   "execution_count": 88,
   "metadata": {},
   "outputs": [],
   "source": [
    "def preprocess(df, class_to_index):\n",
    "    \"\"\"Preprocess the data.\"\"\"\n",
    "    df[\"text\"] = df.title + \" \" + df.description  # feature engineering\n",
    "    df[\"text\"] = df.text.apply(clean_text)  # clean text\n",
    "    df = df.drop(columns=[\"id\", \"created_on\", \"title\", \"description\"], errors=\"ignore\")  # clean dataframe\n",
    "    df = df[[\"text\", \"tag\"]]  # rearrange columns\n",
    "    df[\"tag\"] = df[\"tag\"].map(class_to_index)  # label encoding\n",
    "    outputs = tokenize(df)\n",
    "    return outputs"
   ]
  },
  {
   "cell_type": "code",
   "execution_count": 89,
   "metadata": {},
   "outputs": [
    {
     "data": {
      "text/plain": [
       "{'ids': array([[  102, 14962,  5341,  3997,  1904,  5829,  1098,  5751,  2617,\n",
       "          1845,  3997,  1904,  3469,  4578,  9819,  2465,  6156,  3750,\n",
       "          1845,  7908,   453,   103,     0,     0,     0,     0,     0],\n",
       "        [  102,  8985,  3512,  5653, 14488,  1212, 13572,  1815,  1836,\n",
       "         15670,  5524,   123,  8985,  8265,  5653, 14488,  1212,  4037,\n",
       "           482,   982, 20942,  1692,  1212, 10849, 20022,  1736,   103],\n",
       "        [  102,  4725,  8999,   729,  3701, 25311,  3130,  3267,   791,\n",
       "          4725,  2208,  3014,   487,  5712, 30108,   170,   103,     0,\n",
       "             0,     0,     0,     0,     0,     0,     0,     0,     0],\n",
       "        [  102, 19294,  3577,  1505, 29155,  4490,   502,  2177,  2115,\n",
       "          1045,  2722,  3577, 13932,   521,  3577,  1505,   103,     0,\n",
       "             0,     0,     0,     0,     0,     0,     0,     0,     0],\n",
       "        [  102, 19535, 11831, 29463, 30107, 17829, 13387,  1227,   632,\n",
       "          1836,  4298,  1290,  1227,   632,   954,   615,  2647,   437,\n",
       "           103,     0,     0,     0,     0,     0,     0,     0,     0]]),\n",
       " 'masks': array([[1, 1, 1, 1, 1, 1, 1, 1, 1, 1, 1, 1, 1, 1, 1, 1, 1, 1, 1, 1, 1, 1,\n",
       "         0, 0, 0, 0, 0],\n",
       "        [1, 1, 1, 1, 1, 1, 1, 1, 1, 1, 1, 1, 1, 1, 1, 1, 1, 1, 1, 1, 1, 1,\n",
       "         1, 1, 1, 1, 1],\n",
       "        [1, 1, 1, 1, 1, 1, 1, 1, 1, 1, 1, 1, 1, 1, 1, 1, 1, 0, 0, 0, 0, 0,\n",
       "         0, 0, 0, 0, 0],\n",
       "        [1, 1, 1, 1, 1, 1, 1, 1, 1, 1, 1, 1, 1, 1, 1, 1, 1, 0, 0, 0, 0, 0,\n",
       "         0, 0, 0, 0, 0],\n",
       "        [1, 1, 1, 1, 1, 1, 1, 1, 1, 1, 1, 1, 1, 1, 1, 1, 1, 1, 1, 0, 0, 0,\n",
       "         0, 0, 0, 0, 0]]),\n",
       " 'targets': array([3, 0, 2, 2, 2], dtype=int64)}"
      ]
     },
     "execution_count": 89,
     "metadata": {},
     "output_type": "execute_result"
    }
   ],
   "source": [
    "df = pd.read_csv(DATASET_LOC).sample(500)\n",
    "preprocess(df.head(5),class_to_index)"
   ]
  },
  {
   "cell_type": "code",
   "execution_count": 90,
   "metadata": {},
   "outputs": [],
   "source": [
    "class CustomPreprocessor(Preprocessor):\n",
    "    \"\"\"Custom preprocessor class.\"\"\"\n",
    "    def _fit(self, ds):\n",
    "        tags = ds.unique(column=\"tag\")\n",
    "        self.class_to_index = {tag: i for i, tag in enumerate(tags)}\n",
    "        self.index_to_class = {v:k for k, v in self.class_to_index.items()}\n",
    "    def _transform_pandas(self, batch):  # could also do _transform_numpy\n",
    "        return preprocess(batch, class_to_index=self.class_to_index)"
   ]
  },
  {
   "cell_type": "code",
   "execution_count": 91,
   "metadata": {},
   "outputs": [],
   "source": [
    "import torch.nn as nn\n",
    "from transformers import BertModel"
   ]
  },
  {
   "cell_type": "code",
   "execution_count": 92,
   "metadata": {},
   "outputs": [
    {
     "name": "stderr",
     "output_type": "stream",
     "text": [
      "Some weights of the model checkpoint at allenai/scibert_scivocab_uncased were not used when initializing BertModel: ['cls.predictions.bias', 'cls.predictions.transform.LayerNorm.bias', 'cls.predictions.transform.dense.bias', 'cls.predictions.transform.dense.weight', 'cls.seq_relationship.weight', 'cls.predictions.decoder.weight', 'cls.seq_relationship.bias', 'cls.predictions.decoder.bias', 'cls.predictions.transform.LayerNorm.weight']\n",
      "- This IS expected if you are initializing BertModel from the checkpoint of a model trained on another task or with another architecture (e.g. initializing a BertForSequenceClassification model from a BertForPreTraining model).\n",
      "- This IS NOT expected if you are initializing BertModel from the checkpoint of a model that you expect to be exactly identical (initializing a BertForSequenceClassification model from a BertForSequenceClassification model).\n"
     ]
    }
   ],
   "source": [
    "# Pretrained LLM\n",
    "llm = BertModel.from_pretrained(\"allenai/scibert_scivocab_uncased\", return_dict=False)\n",
    "embedding_dim = llm.config.hidden_size"
   ]
  },
  {
   "cell_type": "code",
   "execution_count": 93,
   "metadata": {},
   "outputs": [
    {
     "data": {
      "text/plain": [
       "768"
      ]
     },
     "execution_count": 93,
     "metadata": {},
     "output_type": "execute_result"
    }
   ],
   "source": [
    "embedding_dim"
   ]
  },
  {
   "cell_type": "code",
   "execution_count": 94,
   "metadata": {},
   "outputs": [
    {
     "data": {
      "text/plain": [
       "(torch.Size([1, 10, 768]), torch.Size([1, 768]))"
      ]
     },
     "execution_count": 94,
     "metadata": {},
     "output_type": "execute_result"
    }
   ],
   "source": [
    "# Sample\n",
    "text = \"Transfer learning with transformers for text classification.\"\n",
    "batch = tokenizer([text], return_tensors=\"np\", padding=\"longest\")\n",
    "batch = {k:torch.tensor(v) for k,v in batch.items()}  # convert to torch tensors\n",
    "seq, pool = llm(input_ids=batch[\"input_ids\"], attention_mask=batch[\"attention_mask\"])\n",
    "np.shape(seq), np.shape(pool)"
   ]
  },
  {
   "cell_type": "code",
   "execution_count": 95,
   "metadata": {},
   "outputs": [],
   "source": [
    "class FinetunedLLM(nn.Module):\n",
    "    def __init__(self, llm, dropout_p, embedding_dim, num_classes):\n",
    "        super(FinetunedLLM, self).__init__()\n",
    "        self.llm = llm\n",
    "        self.dropout = torch.nn.Dropout(dropout_p)\n",
    "        self.fc1 = torch.nn.Linear(embedding_dim, num_classes)\n",
    "\n",
    "    def forward(self, batch):\n",
    "        ids, masks = batch[\"ids\"], batch[\"masks\"]\n",
    "        seq, pool = self.llm(input_ids=ids, attention_mask=masks)\n",
    "        z = self.dropout(pool)\n",
    "        z = self.fc1(z)\n",
    "        return z\n",
    "\n",
    "    @torch.inference_mode()\n",
    "    def predict(self, batch):\n",
    "        self.eval()\n",
    "        z = self(inputs)\n",
    "        y_pred = torch.argmax(z, dim=1).cpu().numpy()\n",
    "        return y_pred\n",
    "\n",
    "    @torch.inference_mode()\n",
    "    def predict_proba(self, batch):\n",
    "        self.eval()\n",
    "        z = self(batch)\n",
    "        y_probs = F.softmax(z).cpu().numpy()\n",
    "        return y_probs"
   ]
  },
  {
   "cell_type": "code",
   "execution_count": 96,
   "metadata": {},
   "outputs": [
    {
     "name": "stdout",
     "output_type": "stream",
     "text": [
      "<bound method Module.named_parameters of FinetunedLLM(\n",
      "  (llm): BertModel(\n",
      "    (embeddings): BertEmbeddings(\n",
      "      (word_embeddings): Embedding(31090, 768, padding_idx=0)\n",
      "      (position_embeddings): Embedding(512, 768)\n",
      "      (token_type_embeddings): Embedding(2, 768)\n",
      "      (LayerNorm): LayerNorm((768,), eps=1e-12, elementwise_affine=True)\n",
      "      (dropout): Dropout(p=0.1, inplace=False)\n",
      "    )\n",
      "    (encoder): BertEncoder(\n",
      "      (layer): ModuleList(\n",
      "        (0-11): 12 x BertLayer(\n",
      "          (attention): BertAttention(\n",
      "            (self): BertSelfAttention(\n",
      "              (query): Linear(in_features=768, out_features=768, bias=True)\n",
      "              (key): Linear(in_features=768, out_features=768, bias=True)\n",
      "              (value): Linear(in_features=768, out_features=768, bias=True)\n",
      "              (dropout): Dropout(p=0.1, inplace=False)\n",
      "            )\n",
      "            (output): BertSelfOutput(\n",
      "              (dense): Linear(in_features=768, out_features=768, bias=True)\n",
      "              (LayerNorm): LayerNorm((768,), eps=1e-12, elementwise_affine=True)\n",
      "              (dropout): Dropout(p=0.1, inplace=False)\n",
      "            )\n",
      "          )\n",
      "          (intermediate): BertIntermediate(\n",
      "            (dense): Linear(in_features=768, out_features=3072, bias=True)\n",
      "            (intermediate_act_fn): GELUActivation()\n",
      "          )\n",
      "          (output): BertOutput(\n",
      "            (dense): Linear(in_features=3072, out_features=768, bias=True)\n",
      "            (LayerNorm): LayerNorm((768,), eps=1e-12, elementwise_affine=True)\n",
      "            (dropout): Dropout(p=0.1, inplace=False)\n",
      "          )\n",
      "        )\n",
      "      )\n",
      "    )\n",
      "    (pooler): BertPooler(\n",
      "      (dense): Linear(in_features=768, out_features=768, bias=True)\n",
      "      (activation): Tanh()\n",
      "    )\n",
      "  )\n",
      "  (dropout): Dropout(p=0.5, inplace=False)\n",
      "  (fc1): Linear(in_features=768, out_features=4, bias=True)\n",
      ")>\n"
     ]
    }
   ],
   "source": [
    "# Initialize model\n",
    "model = FinetunedLLM(llm=llm, dropout_p=0.5, embedding_dim=embedding_dim, num_classes=num_classes)\n",
    "print (model.named_parameters)"
   ]
  },
  {
   "cell_type": "code",
   "execution_count": 97,
   "metadata": {},
   "outputs": [],
   "source": [
    "from ray.train.torch import get_device\n"
   ]
  },
  {
   "cell_type": "code",
   "execution_count": 98,
   "metadata": {},
   "outputs": [
    {
     "data": {
      "text/plain": [
       "<function ray.train.torch.train_loop_utils.get_device() -> Union[torch.device, List[torch.device]]>"
      ]
     },
     "execution_count": 98,
     "metadata": {},
     "output_type": "execute_result"
    }
   ],
   "source": [
    "get_device"
   ]
  },
  {
   "cell_type": "code",
   "execution_count": 99,
   "metadata": {},
   "outputs": [],
   "source": [
    "def pad_array(arr, dtype=np.int32):\n",
    "    max_len = max(len(row) for row in arr)\n",
    "    padded_arr = np.zeros((arr.shape[0], max_len), dtype=dtype)\n",
    "    for i, row in enumerate(arr):\n",
    "        padded_arr[i][:len(row)] = row\n",
    "    return padded_arr"
   ]
  },
  {
   "cell_type": "code",
   "execution_count": 100,
   "metadata": {},
   "outputs": [],
   "source": [
    "def collate_fn(batch):\n",
    "    batch[\"ids\"] = pad_array(batch[\"ids\"])\n",
    "    batch[\"masks\"] = pad_array(batch[\"masks\"])\n",
    "    dtypes = {\"ids\": torch.int32, \"masks\": torch.int32, \"targets\": torch.int64}\n",
    "    tensor_batch = {}\n",
    "    for key, array in batch.items():\n",
    "        tensor_batch[key] = torch.as_tensor(array, dtype=dtypes[key], device=get_device())\n",
    "    return tensor_batch"
   ]
  },
  {
   "cell_type": "code",
   "execution_count": 101,
   "metadata": {},
   "outputs": [
    {
     "name": "stderr",
     "output_type": "stream",
     "text": [
      "2023-09-06 20:05:39,712\tINFO streaming_executor.py:92 -- Executing DAG InputDataBuffer[Input] -> TaskPoolMapOperator[ReadCSV->SplitBlocks(16)] -> AllToAllOperator[RandomShuffle] -> AllToAllOperator[Sort] -> AllToAllOperator[MapBatches(group_fn)->MapBatches(_filter_split)->RandomShuffle] -> TaskPoolMapOperator[MapBatches(preprocess)]\n",
      "2023-09-06 20:05:39,714\tINFO streaming_executor.py:93 -- Execution config: ExecutionOptions(resource_limits=ExecutionResources(cpu=None, gpu=None, object_store_memory=None), locality_with_output=False, preserve_order=True, actor_locality_enabled=True, verbose_progress=False)\n",
      "2023-09-06 20:05:39,715\tINFO streaming_executor.py:95 -- Tip: For detailed progress reporting, run `ray.data.DataContext.get_current().execution_options.verbose_progress = True`\n"
     ]
    },
    {
     "data": {
      "application/vnd.jupyter.widget-view+json": {
       "model_id": "8fed5d40afa74e7fa31bbb894833b197",
       "version_major": 2,
       "version_minor": 0
      },
      "text/plain": [
       "- RandomShuffle 1:   0%|          | 0/16 [00:00<?, ?it/s]"
      ]
     },
     "metadata": {},
     "output_type": "display_data"
    },
    {
     "data": {
      "application/vnd.jupyter.widget-view+json": {
       "model_id": "2c6d16cb97054e0d90e0e85d60b46267",
       "version_major": 2,
       "version_minor": 0
      },
      "text/plain": [
       "Shuffle Map 2:   0%|          | 0/16 [00:00<?, ?it/s]"
      ]
     },
     "metadata": {},
     "output_type": "display_data"
    },
    {
     "data": {
      "application/vnd.jupyter.widget-view+json": {
       "model_id": "fb105e273c144995a61fca5f44e16929",
       "version_major": 2,
       "version_minor": 0
      },
      "text/plain": [
       "Shuffle Reduce 3:   0%|          | 0/16 [00:00<?, ?it/s]"
      ]
     },
     "metadata": {},
     "output_type": "display_data"
    },
    {
     "data": {
      "application/vnd.jupyter.widget-view+json": {
       "model_id": "c4e00e0080434419a7e82c42bfe2ac74",
       "version_major": 2,
       "version_minor": 0
      },
      "text/plain": [
       "- Sort 4:   0%|          | 0/16 [00:00<?, ?it/s]"
      ]
     },
     "metadata": {},
     "output_type": "display_data"
    },
    {
     "data": {
      "application/vnd.jupyter.widget-view+json": {
       "model_id": "5b674a17691b4c108bbbd937ab72a578",
       "version_major": 2,
       "version_minor": 0
      },
      "text/plain": [
       "Sort Sample 5:   0%|          | 0/16 [00:00<?, ?it/s]"
      ]
     },
     "metadata": {},
     "output_type": "display_data"
    },
    {
     "data": {
      "application/vnd.jupyter.widget-view+json": {
       "model_id": "d57fbfd3ab06453c8dc30ca0c542bdc3",
       "version_major": 2,
       "version_minor": 0
      },
      "text/plain": [
       "Shuffle Map 6:   0%|          | 0/16 [00:00<?, ?it/s]"
      ]
     },
     "metadata": {},
     "output_type": "display_data"
    },
    {
     "data": {
      "application/vnd.jupyter.widget-view+json": {
       "model_id": "3964da3f01434e558a3f723f3d9195ee",
       "version_major": 2,
       "version_minor": 0
      },
      "text/plain": [
       "Shuffle Reduce 7:   0%|          | 0/16 [00:00<?, ?it/s]"
      ]
     },
     "metadata": {},
     "output_type": "display_data"
    },
    {
     "data": {
      "application/vnd.jupyter.widget-view+json": {
       "model_id": "d48f210e76674ec0b133ec623bb33a1d",
       "version_major": 2,
       "version_minor": 0
      },
      "text/plain": [
       "- MapBatches(group_fn)->MapBatches(_filter_split)->RandomShuffle 8:   0%|          | 0/16 [00:00<?, ?it/s]"
      ]
     },
     "metadata": {},
     "output_type": "display_data"
    },
    {
     "data": {
      "application/vnd.jupyter.widget-view+json": {
       "model_id": "b88e26cc4d1c4bb8b4ad7177dd8da922",
       "version_major": 2,
       "version_minor": 0
      },
      "text/plain": [
       "Shuffle Map 9:   0%|          | 0/16 [00:00<?, ?it/s]"
      ]
     },
     "metadata": {},
     "output_type": "display_data"
    },
    {
     "data": {
      "application/vnd.jupyter.widget-view+json": {
       "model_id": "4790db41cb6f4642aa9105b5670bef02",
       "version_major": 2,
       "version_minor": 0
      },
      "text/plain": [
       "Shuffle Reduce 10:   0%|          | 0/16 [00:00<?, ?it/s]"
      ]
     },
     "metadata": {},
     "output_type": "display_data"
    },
    {
     "data": {
      "application/vnd.jupyter.widget-view+json": {
       "model_id": "cf2e3e6fe3e340c8bf5f8c12bbbf6f4d",
       "version_major": 2,
       "version_minor": 0
      },
      "text/plain": [
       "Running 0:   0%|          | 0/16 [00:00<?, ?it/s]"
      ]
     },
     "metadata": {},
     "output_type": "display_data"
    },
    {
     "data": {
      "application/vnd.jupyter.widget-view+json": {
       "model_id": "5a82f66250d54c09b6361982c175c554",
       "version_major": 2,
       "version_minor": 0
      },
      "text/plain": [
       "Sort Sample 0:   0%|          | 0/16 [00:00<?, ?it/s]"
      ]
     },
     "metadata": {},
     "output_type": "display_data"
    },
    {
     "data": {
      "text/plain": [
       "{'ids': tensor([[  102,  2189,  2782,  ...,     0,     0,     0],\n",
       "         [  102,  3997,  1904,  ...,     0,     0,     0],\n",
       "         [  102,  3155, 13558,  ...,     0,     0,     0],\n",
       "         ...,\n",
       "         [  102,  1477,  1995,  ...,     0,     0,     0],\n",
       "         [  102,  7683,  5011,  ...,     0,     0,     0],\n",
       "         [  102,  1968,   510,  ...,     0,     0,     0]], dtype=torch.int32),\n",
       " 'masks': tensor([[1, 1, 1,  ..., 0, 0, 0],\n",
       "         [1, 1, 1,  ..., 0, 0, 0],\n",
       "         [1, 1, 1,  ..., 0, 0, 0],\n",
       "         ...,\n",
       "         [1, 1, 1,  ..., 0, 0, 0],\n",
       "         [1, 1, 1,  ..., 0, 0, 0],\n",
       "         [1, 1, 1,  ..., 0, 0, 0]], dtype=torch.int32),\n",
       " 'targets': tensor([0, 1, 2, 0, 0, 2, 3, 0, 0, 2, 0, 0, 0, 0, 0, 0, 0, 2, 2, 3, 1, 3, 0, 2,\n",
       "         0, 1, 3, 2, 2, 2, 2, 3, 2, 2, 2, 2, 1, 2, 0, 3, 2, 0, 1, 2, 0, 0, 2, 3,\n",
       "         0, 0, 2, 0, 0, 0, 0, 0, 0, 0, 2, 2, 3, 1, 3, 0, 2, 0, 1, 3, 2, 2, 2, 2,\n",
       "         3, 2, 2, 2, 2, 1, 2, 0, 3, 2, 0, 3, 0, 0, 0, 2, 2, 2, 0, 2, 0, 0, 0, 0,\n",
       "         0, 0, 3, 2, 2, 2, 3, 3, 2, 0, 2, 3, 2, 2, 3, 0, 2, 0, 2, 2, 2, 0, 2, 0,\n",
       "         0, 0, 0, 2, 0, 0, 2, 0])}"
      ]
     },
     "execution_count": 101,
     "metadata": {},
     "output_type": "execute_result"
    }
   ],
   "source": [
    "# Sample batch\n",
    "sample_batch = sample_ds.take_batch(batch_size=128)\n",
    "collate_fn(batch=sample_batch)"
   ]
  },
  {
   "cell_type": "code",
   "execution_count": 102,
   "metadata": {},
   "outputs": [
    {
     "name": "stderr",
     "output_type": "stream",
     "text": [
      "2023-09-06 20:05:44,704\tINFO streaming_executor.py:92 -- Executing DAG InputDataBuffer[Input] -> TaskPoolMapOperator[ReadCSV->SplitBlocks(16)] -> AllToAllOperator[RandomShuffle] -> AllToAllOperator[Sort] -> AllToAllOperator[MapBatches(group_fn)->MapBatches(_filter_split)->RandomShuffle] -> TaskPoolMapOperator[MapBatches(preprocess)]\n",
      "2023-09-06 20:05:44,704\tINFO streaming_executor.py:93 -- Execution config: ExecutionOptions(resource_limits=ExecutionResources(cpu=None, gpu=None, object_store_memory=None), locality_with_output=False, preserve_order=True, actor_locality_enabled=True, verbose_progress=False)\n",
      "2023-09-06 20:05:44,706\tINFO streaming_executor.py:95 -- Tip: For detailed progress reporting, run `ray.data.DataContext.get_current().execution_options.verbose_progress = True`\n"
     ]
    },
    {
     "data": {
      "application/vnd.jupyter.widget-view+json": {
       "model_id": "399f36fc95f24c0eadbd23bfacb103e5",
       "version_major": 2,
       "version_minor": 0
      },
      "text/plain": [
       "- RandomShuffle 1:   0%|          | 0/16 [00:00<?, ?it/s]"
      ]
     },
     "metadata": {},
     "output_type": "display_data"
    },
    {
     "data": {
      "application/vnd.jupyter.widget-view+json": {
       "model_id": "e69b8d54bd954dc08592e5e861dbbb64",
       "version_major": 2,
       "version_minor": 0
      },
      "text/plain": [
       "Shuffle Map 2:   0%|          | 0/16 [00:00<?, ?it/s]"
      ]
     },
     "metadata": {},
     "output_type": "display_data"
    },
    {
     "data": {
      "application/vnd.jupyter.widget-view+json": {
       "model_id": "1e8165ca4e7f4203aea72aaea7ad7df1",
       "version_major": 2,
       "version_minor": 0
      },
      "text/plain": [
       "Shuffle Reduce 3:   0%|          | 0/16 [00:00<?, ?it/s]"
      ]
     },
     "metadata": {},
     "output_type": "display_data"
    },
    {
     "data": {
      "application/vnd.jupyter.widget-view+json": {
       "model_id": "7e016f9ff2fb4ddc9dfc073cdefb6659",
       "version_major": 2,
       "version_minor": 0
      },
      "text/plain": [
       "- Sort 4:   0%|          | 0/16 [00:00<?, ?it/s]"
      ]
     },
     "metadata": {},
     "output_type": "display_data"
    },
    {
     "data": {
      "application/vnd.jupyter.widget-view+json": {
       "model_id": "daff511caa8941899df4815d641d5890",
       "version_major": 2,
       "version_minor": 0
      },
      "text/plain": [
       "Sort Sample 5:   0%|          | 0/16 [00:00<?, ?it/s]"
      ]
     },
     "metadata": {},
     "output_type": "display_data"
    },
    {
     "data": {
      "application/vnd.jupyter.widget-view+json": {
       "model_id": "dc468c349fc24ecc89604096623f4816",
       "version_major": 2,
       "version_minor": 0
      },
      "text/plain": [
       "Shuffle Map 6:   0%|          | 0/16 [00:00<?, ?it/s]"
      ]
     },
     "metadata": {},
     "output_type": "display_data"
    },
    {
     "data": {
      "application/vnd.jupyter.widget-view+json": {
       "model_id": "ea9ac042a95b40c4ba7b6fd2473f3a0d",
       "version_major": 2,
       "version_minor": 0
      },
      "text/plain": [
       "Shuffle Reduce 7:   0%|          | 0/16 [00:00<?, ?it/s]"
      ]
     },
     "metadata": {},
     "output_type": "display_data"
    },
    {
     "data": {
      "application/vnd.jupyter.widget-view+json": {
       "model_id": "da1de69e18b54b7b909c20e940a5a000",
       "version_major": 2,
       "version_minor": 0
      },
      "text/plain": [
       "- MapBatches(group_fn)->MapBatches(_filter_split)->RandomShuffle 8:   0%|          | 0/16 [00:00<?, ?it/s]"
      ]
     },
     "metadata": {},
     "output_type": "display_data"
    },
    {
     "data": {
      "application/vnd.jupyter.widget-view+json": {
       "model_id": "79c855c1c38341bcad05808db9d7f697",
       "version_major": 2,
       "version_minor": 0
      },
      "text/plain": [
       "Shuffle Map 9:   0%|          | 0/16 [00:00<?, ?it/s]"
      ]
     },
     "metadata": {},
     "output_type": "display_data"
    },
    {
     "data": {
      "application/vnd.jupyter.widget-view+json": {
       "model_id": "dbdf0ebd165742268a70213f72f76c93",
       "version_major": 2,
       "version_minor": 0
      },
      "text/plain": [
       "Shuffle Reduce 10:   0%|          | 0/16 [00:00<?, ?it/s]"
      ]
     },
     "metadata": {},
     "output_type": "display_data"
    },
    {
     "data": {
      "application/vnd.jupyter.widget-view+json": {
       "model_id": "c42b23ac70d242859809a70ca88b4240",
       "version_major": 2,
       "version_minor": 0
      },
      "text/plain": [
       "Running 0:   0%|          | 0/16 [00:00<?, ?it/s]"
      ]
     },
     "metadata": {},
     "output_type": "display_data"
    },
    {
     "data": {
      "application/vnd.jupyter.widget-view+json": {
       "model_id": "e46d5a0586b14a8faaab0c8b3fc63e64",
       "version_major": 2,
       "version_minor": 0
      },
      "text/plain": [
       "Sort Sample 0:   0%|          | 0/16 [00:00<?, ?it/s]"
      ]
     },
     "metadata": {},
     "output_type": "display_data"
    },
    {
     "data": {
      "text/plain": [
       "{'ids': array([[  102,  2189,  2782,  6487,  4220,   545,  3997,  1904,  5995,\n",
       "           103,     0,     0,     0,     0,     0,     0,     0,     0,\n",
       "             0,     0,     0,     0,     0,     0,     0,     0,     0,\n",
       "             0,     0,     0,     0,     0,     0],\n",
       "        [  102,   437, 17574,  7513,  5363,  1904, 14440,  1904,  7746,\n",
       "         30132,   144, 27370,   150,   437, 17574,  7513,  5363,  1904,\n",
       "         23151, 30115,  1765, 14440,  1904,  2010,  9205,  4872,   170,\n",
       "           103,     0,     0,     0,     0,     0],\n",
       "        [  102, 13288, 30113,  2556,  6021,  2159,  7147,  7291, 30135,\n",
       "          2148,  2568,  2159,  7147,  7291, 30135,  2148,  2568,  1851,\n",
       "         11426,   872,   993,  1012,  6425,  6329,  2487,  8412,  5995,\n",
       "          1632,  2568,   370,  6309,   103,     0]]),\n",
       " 'masks': array([[1, 1, 1, 1, 1, 1, 1, 1, 1, 1, 0, 0, 0, 0, 0, 0, 0, 0, 0, 0, 0, 0,\n",
       "         0, 0, 0, 0, 0, 0, 0, 0, 0, 0, 0],\n",
       "        [1, 1, 1, 1, 1, 1, 1, 1, 1, 1, 1, 1, 1, 1, 1, 1, 1, 1, 1, 1, 1, 1,\n",
       "         1, 1, 1, 1, 1, 1, 0, 0, 0, 0, 0],\n",
       "        [1, 1, 1, 1, 1, 1, 1, 1, 1, 1, 1, 1, 1, 1, 1, 1, 1, 1, 1, 1, 1, 1,\n",
       "         1, 1, 1, 1, 1, 1, 1, 1, 1, 1, 0]]),\n",
       " 'targets': array([0, 3, 0], dtype=int64)}"
      ]
     },
     "execution_count": 102,
     "metadata": {},
     "output_type": "execute_result"
    }
   ],
   "source": [
    "sample_ds.take_batch(batch_size=3)"
   ]
  },
  {
   "cell_type": "code",
   "execution_count": 103,
   "metadata": {},
   "outputs": [],
   "source": [
    "from ray.air import Checkpoint, session\n",
    "from ray.air.config import CheckpointConfig, DatasetConfig, RunConfig, ScalingConfig\n",
    "import ray.train as train\n",
    "from ray.train.torch import TorchCheckpoint, TorchTrainer\n",
    "import torch.nn.functional as F"
   ]
  },
  {
   "cell_type": "code",
   "execution_count": 104,
   "metadata": {},
   "outputs": [],
   "source": [
    "def train_step(ds, batch_size, model, num_classes, loss_fn, optimizer):\n",
    "    \"\"\"Train step.\"\"\"\n",
    "    model.train()\n",
    "    loss = 0.0\n",
    "    ds_generator = ds.iter_torch_batches(batch_size=batch_size, collate_fn=collate_fn)\n",
    "    for i, batch in enumerate(ds_generator):\n",
    "        optimizer.zero_grad()  # reset gradients\n",
    "        z = model(batch)  # forward pass\n",
    "        targets = F.one_hot(batch[\"targets\"], num_classes=num_classes).float()  # one-hot (for loss_fn)\n",
    "        J = loss_fn(z, targets)  # define loss\n",
    "        J.backward()  # backward pass\n",
    "        optimizer.step()  # update weights\n",
    "        loss += (J.detach().item() - loss) / (i + 1)  # cumulative loss\n",
    "    return loss"
   ]
  },
  {
   "cell_type": "code",
   "execution_count": 105,
   "metadata": {},
   "outputs": [],
   "source": [
    "def eval_step(ds, batch_size, model, num_classes, loss_fn):\n",
    "    \"\"\"Eval step.\"\"\"\n",
    "    model.eval()\n",
    "    loss = 0.0\n",
    "    y_trues, y_preds = [], []\n",
    "    ds_generator = ds.iter_torch_batches(batch_size=batch_size, collate_fn=collate_fn)\n",
    "    with torch.inference_mode():\n",
    "        for i, batch in enumerate(ds_generator):\n",
    "            z = model(batch)\n",
    "            targets = F.one_hot(batch[\"targets\"], num_classes=num_classes).float()  # one-hot (for loss_fn)\n",
    "            J = loss_fn(z, targets).item()\n",
    "            loss += (J - loss) / (i + 1)\n",
    "            y_trues.extend(batch[\"targets\"].cpu().numpy())\n",
    "            y_preds.extend(torch.argmax(z, dim=1).cpu().numpy())\n",
    "    return loss, np.vstack(y_trues), np.vstack(y_preds)"
   ]
  },
  {
   "cell_type": "markdown",
   "metadata": {},
   "source": [
    "The only additional lines of code we need to add compared to a typical PyTorch training loop are the following:\n",
    "\n",
    "session.get_dataset_shard(\"train\") and session.get_dataset_shard(\"val\") to load the data splits (session.get_dataset_shard).\n",
    "\n",
    "\n",
    "model = train.torch.prepare_model(model) to prepare the torch model for distributed execution (train.torch.prepare_model).\n",
    "\n",
    "\n",
    "batch_size_per_worker = batch_size // session.get_world_size() to adjust the batch size for each worker (session.get_world_size).\n",
    "\n",
    "\n",
    "session.report(metrics, checkpoint=checkpoint) to report metrics and save our model checkpoint (session.report).\n",
    "\n",
    "\n"
   ]
  },
  {
   "cell_type": "code",
   "execution_count": 106,
   "metadata": {},
   "outputs": [],
   "source": [
    "# Training loop\n",
    "def train_loop_per_worker(config):\n",
    "    # Hyperparameters\n",
    "    dropout_p = config[\"dropout_p\"]\n",
    "    lr = config[\"lr\"]\n",
    "    lr_factor = config[\"lr_factor\"]\n",
    "    lr_patience = config[\"lr_patience\"]\n",
    "    num_epochs = config[\"num_epochs\"]\n",
    "    batch_size = config[\"batch_size\"]\n",
    "    num_classes = config[\"num_classes\"]\n",
    "\n",
    "    # Get datasets\n",
    "    set_seeds()\n",
    "    train_ds = session.get_dataset_shard(\"train\")\n",
    "    val_ds = session.get_dataset_shard(\"val\")\n",
    "\n",
    "    # Model\n",
    "    llm = BertModel.from_pretrained(\"allenai/scibert_scivocab_uncased\", return_dict=False)\n",
    "    model = FinetunedLLM(llm=llm, dropout_p=dropout_p, embedding_dim=llm.config.hidden_size, num_classes=num_classes)\n",
    "    model = train.torch.prepare_model(model)\n",
    "\n",
    "    # Training components\n",
    "    loss_fn = nn.BCEWithLogitsLoss()\n",
    "    optimizer = torch.optim.Adam(model.parameters(), lr=lr)\n",
    "    scheduler = torch.optim.lr_scheduler.ReduceLROnPlateau(optimizer, mode=\"min\", factor=lr_factor, patience=lr_patience)\n",
    "\n",
    "    # Training\n",
    "    batch_size_per_worker = batch_size // session.get_world_size()\n",
    "    for epoch in range(num_epochs):\n",
    "        # Step\n",
    "        train_loss = train_step(train_ds, batch_size_per_worker, model, num_classes, loss_fn, optimizer)\n",
    "        val_loss, _, _ = eval_step(val_ds, batch_size_per_worker, model, num_classes, loss_fn)\n",
    "        scheduler.step(val_loss)\n",
    "\n",
    "        # Checkpoint\n",
    "        metrics = dict(epoch=epoch, lr=optimizer.param_groups[0][\"lr\"], train_loss=train_loss, val_loss=val_loss)\n",
    "        checkpoint = TorchCheckpoint.from_model(model=model)\n",
    "        session.report(metrics, checkpoint=checkpoint)"
   ]
  },
  {
   "cell_type": "code",
   "execution_count": 107,
   "metadata": {},
   "outputs": [],
   "source": [
    "# Train loop config\n",
    "train_loop_config = {\n",
    "    \"dropout_p\": 0.5,\n",
    "    \"lr\": 1e-4,\n",
    "    \"lr_factor\": 0.8,\n",
    "    \"lr_patience\": 3,\n",
    "    \"num_epochs\": 10,\n",
    "    \"batch_size\": 256,\n",
    "    \"num_classes\": num_classes,\n",
    "}"
   ]
  },
  {
   "cell_type": "code",
   "execution_count": 108,
   "metadata": {},
   "outputs": [
    {
     "data": {
      "text/plain": [
       "{'CPU': 3}"
      ]
     },
     "execution_count": 108,
     "metadata": {},
     "output_type": "execute_result"
    }
   ],
   "source": [
    "resources_per_worker"
   ]
  },
  {
   "cell_type": "code",
   "execution_count": 109,
   "metadata": {},
   "outputs": [],
   "source": [
    "# Scaling config\n",
    "scaling_config = ScalingConfig(\n",
    "    num_workers=num_workers,\n",
    "    use_gpu=False,#bool(resources_per_worker[\"GPU\"]),\n",
    "    resources_per_worker=resources_per_worker,\n",
    "    _max_cpu_fraction_per_node=0.3,\n",
    ")"
   ]
  },
  {
   "cell_type": "code",
   "execution_count": 110,
   "metadata": {},
   "outputs": [],
   "source": [
    "# Run config\n",
    "checkpoint_config = CheckpointConfig(num_to_keep=1, checkpoint_score_attribute=\"val_loss\", checkpoint_score_order=\"min\")\n",
    "run_config = RunConfig(name=\"llm\", checkpoint_config=checkpoint_config, local_dir=\"~/ray_results\")"
   ]
  },
  {
   "cell_type": "code",
   "execution_count": 111,
   "metadata": {},
   "outputs": [
    {
     "name": "stderr",
     "output_type": "stream",
     "text": [
      "2023-09-06 20:05:50,008\tINFO read_api.py:374 -- To satisfy the requested parallelism of 16, each read task output will be split into 16 smaller blocks.\n",
      "2023-09-06 20:05:50,014\tINFO streaming_executor.py:92 -- Executing DAG InputDataBuffer[Input] -> TaskPoolMapOperator[ReadCSV->SplitBlocks(16)] -> AllToAllOperator[RandomShuffle] -> LimitOperator[limit=1]\n",
      "2023-09-06 20:05:50,014\tINFO streaming_executor.py:93 -- Execution config: ExecutionOptions(resource_limits=ExecutionResources(cpu=None, gpu=None, object_store_memory=None), locality_with_output=False, preserve_order=True, actor_locality_enabled=True, verbose_progress=False)\n",
      "2023-09-06 20:05:50,015\tINFO streaming_executor.py:95 -- Tip: For detailed progress reporting, run `ray.data.DataContext.get_current().execution_options.verbose_progress = True`\n"
     ]
    },
    {
     "data": {
      "application/vnd.jupyter.widget-view+json": {
       "model_id": "b0d8a808b1954044b3ea42d9c428040e",
       "version_major": 2,
       "version_minor": 0
      },
      "text/plain": [
       "- RandomShuffle 1:   0%|          | 0/16 [00:00<?, ?it/s]"
      ]
     },
     "metadata": {},
     "output_type": "display_data"
    },
    {
     "data": {
      "application/vnd.jupyter.widget-view+json": {
       "model_id": "d49b50087c5c49e697f0529efb0e1ae2",
       "version_major": 2,
       "version_minor": 0
      },
      "text/plain": [
       "Shuffle Map 2:   0%|          | 0/16 [00:00<?, ?it/s]"
      ]
     },
     "metadata": {},
     "output_type": "display_data"
    },
    {
     "data": {
      "application/vnd.jupyter.widget-view+json": {
       "model_id": "5c91c327a04e4ef2a2d5d0fc96501579",
       "version_major": 2,
       "version_minor": 0
      },
      "text/plain": [
       "Shuffle Reduce 3:   0%|          | 0/16 [00:00<?, ?it/s]"
      ]
     },
     "metadata": {},
     "output_type": "display_data"
    },
    {
     "data": {
      "application/vnd.jupyter.widget-view+json": {
       "model_id": "3808a9d47be9440c988595bec389937d",
       "version_major": 2,
       "version_minor": 0
      },
      "text/plain": [
       "Running 0:   0%|          | 0/1 [00:00<?, ?it/s]"
      ]
     },
     "metadata": {},
     "output_type": "display_data"
    }
   ],
   "source": [
    "# Load and split data\n",
    "ds = load_data()\n",
    "train_ds, val_ds = stratify_split(ds, stratify=\"tag\", test_size=test_size)"
   ]
  },
  {
   "cell_type": "code",
   "execution_count": 112,
   "metadata": {},
   "outputs": [
    {
     "name": "stderr",
     "output_type": "stream",
     "text": [
      "2023-09-06 20:05:50,753\tINFO streaming_executor.py:92 -- Executing DAG InputDataBuffer[Input] -> TaskPoolMapOperator[ReadCSV->SplitBlocks(16)] -> AllToAllOperator[RandomShuffle] -> AllToAllOperator[Sort] -> AllToAllOperator[MapBatches(group_fn)->MapBatches(_filter_split)->RandomShuffle] -> LimitOperator[limit=1]\n",
      "2023-09-06 20:05:50,754\tINFO streaming_executor.py:93 -- Execution config: ExecutionOptions(resource_limits=ExecutionResources(cpu=None, gpu=None, object_store_memory=None), locality_with_output=False, preserve_order=True, actor_locality_enabled=True, verbose_progress=False)\n",
      "2023-09-06 20:05:50,757\tINFO streaming_executor.py:95 -- Tip: For detailed progress reporting, run `ray.data.DataContext.get_current().execution_options.verbose_progress = True`\n"
     ]
    },
    {
     "data": {
      "application/vnd.jupyter.widget-view+json": {
       "model_id": "5cfa45c535eb4b3dbb683e829741312d",
       "version_major": 2,
       "version_minor": 0
      },
      "text/plain": [
       "- RandomShuffle 1:   0%|          | 0/16 [00:00<?, ?it/s]"
      ]
     },
     "metadata": {},
     "output_type": "display_data"
    },
    {
     "data": {
      "application/vnd.jupyter.widget-view+json": {
       "model_id": "7c8406ecb7084af993441acc0238eca8",
       "version_major": 2,
       "version_minor": 0
      },
      "text/plain": [
       "Shuffle Map 2:   0%|          | 0/16 [00:00<?, ?it/s]"
      ]
     },
     "metadata": {},
     "output_type": "display_data"
    },
    {
     "data": {
      "application/vnd.jupyter.widget-view+json": {
       "model_id": "bb47293e4eb545a982c6a8d2aa0da146",
       "version_major": 2,
       "version_minor": 0
      },
      "text/plain": [
       "Shuffle Reduce 3:   0%|          | 0/16 [00:00<?, ?it/s]"
      ]
     },
     "metadata": {},
     "output_type": "display_data"
    },
    {
     "data": {
      "application/vnd.jupyter.widget-view+json": {
       "model_id": "4543c2f62e15425a853a417c519cc179",
       "version_major": 2,
       "version_minor": 0
      },
      "text/plain": [
       "- Sort 4:   0%|          | 0/16 [00:00<?, ?it/s]"
      ]
     },
     "metadata": {},
     "output_type": "display_data"
    },
    {
     "data": {
      "application/vnd.jupyter.widget-view+json": {
       "model_id": "4354f1074458405c98d6e3c3397de037",
       "version_major": 2,
       "version_minor": 0
      },
      "text/plain": [
       "Sort Sample 5:   0%|          | 0/16 [00:00<?, ?it/s]"
      ]
     },
     "metadata": {},
     "output_type": "display_data"
    },
    {
     "data": {
      "application/vnd.jupyter.widget-view+json": {
       "model_id": "adb229b4eb7a487ebf35487440d2929a",
       "version_major": 2,
       "version_minor": 0
      },
      "text/plain": [
       "Shuffle Map 6:   0%|          | 0/16 [00:00<?, ?it/s]"
      ]
     },
     "metadata": {},
     "output_type": "display_data"
    },
    {
     "data": {
      "application/vnd.jupyter.widget-view+json": {
       "model_id": "4e6cb1192dfa4a7abec24adb719aec5e",
       "version_major": 2,
       "version_minor": 0
      },
      "text/plain": [
       "Shuffle Reduce 7:   0%|          | 0/16 [00:00<?, ?it/s]"
      ]
     },
     "metadata": {},
     "output_type": "display_data"
    },
    {
     "data": {
      "application/vnd.jupyter.widget-view+json": {
       "model_id": "39a10c90c3af4db7b79181da1c720925",
       "version_major": 2,
       "version_minor": 0
      },
      "text/plain": [
       "- MapBatches(group_fn)->MapBatches(_filter_split)->RandomShuffle 8:   0%|          | 0/16 [00:00<?, ?it/s]"
      ]
     },
     "metadata": {},
     "output_type": "display_data"
    },
    {
     "data": {
      "application/vnd.jupyter.widget-view+json": {
       "model_id": "7ea023989f614019a1e40b71b455fa1f",
       "version_major": 2,
       "version_minor": 0
      },
      "text/plain": [
       "Shuffle Map 9:   0%|          | 0/16 [00:00<?, ?it/s]"
      ]
     },
     "metadata": {},
     "output_type": "display_data"
    },
    {
     "data": {
      "application/vnd.jupyter.widget-view+json": {
       "model_id": "cfbe9d38382c4833a9f882bd175c9b0b",
       "version_major": 2,
       "version_minor": 0
      },
      "text/plain": [
       "Shuffle Reduce 10:   0%|          | 0/16 [00:00<?, ?it/s]"
      ]
     },
     "metadata": {},
     "output_type": "display_data"
    },
    {
     "data": {
      "application/vnd.jupyter.widget-view+json": {
       "model_id": "91727f64acbf45fda2a12fe4ef06828f",
       "version_major": 2,
       "version_minor": 0
      },
      "text/plain": [
       "Running 0:   0%|          | 0/1 [00:00<?, ?it/s]"
      ]
     },
     "metadata": {},
     "output_type": "display_data"
    },
    {
     "data": {
      "application/vnd.jupyter.widget-view+json": {
       "model_id": "2b70d24a05dd45e8afdc22c583cc16e4",
       "version_major": 2,
       "version_minor": 0
      },
      "text/plain": [
       "Sort Sample 0:   0%|          | 0/16 [00:00<?, ?it/s]"
      ]
     },
     "metadata": {},
     "output_type": "display_data"
    },
    {
     "name": "stderr",
     "output_type": "stream",
     "text": [
      "2023-09-06 20:05:52,321\tINFO streaming_executor.py:92 -- Executing DAG InputDataBuffer[Input] -> TaskPoolMapOperator[ReadCSV->SplitBlocks(16)] -> AllToAllOperator[RandomShuffle] -> AllToAllOperator[Sort] -> AllToAllOperator[MapBatches(group_fn)->MapBatches(_filter_split)->RandomShuffle] -> AllToAllOperator[Aggregate] -> TaskPoolMapOperator[MapBatches(<lambda>)]\n",
      "2023-09-06 20:05:52,322\tINFO streaming_executor.py:93 -- Execution config: ExecutionOptions(resource_limits=ExecutionResources(cpu=None, gpu=None, object_store_memory=None), locality_with_output=False, preserve_order=True, actor_locality_enabled=True, verbose_progress=False)\n",
      "2023-09-06 20:05:52,324\tINFO streaming_executor.py:95 -- Tip: For detailed progress reporting, run `ray.data.DataContext.get_current().execution_options.verbose_progress = True`\n"
     ]
    },
    {
     "data": {
      "application/vnd.jupyter.widget-view+json": {
       "model_id": "b8b863cf708e44afbe8502754eac2c10",
       "version_major": 2,
       "version_minor": 0
      },
      "text/plain": [
       "- RandomShuffle 1:   0%|          | 0/16 [00:00<?, ?it/s]"
      ]
     },
     "metadata": {},
     "output_type": "display_data"
    },
    {
     "data": {
      "application/vnd.jupyter.widget-view+json": {
       "model_id": "1032eea8b19145aca36c84896a21e0c5",
       "version_major": 2,
       "version_minor": 0
      },
      "text/plain": [
       "Shuffle Map 2:   0%|          | 0/16 [00:00<?, ?it/s]"
      ]
     },
     "metadata": {},
     "output_type": "display_data"
    },
    {
     "data": {
      "application/vnd.jupyter.widget-view+json": {
       "model_id": "ce5a62bd18f94f16bb37080b254deab6",
       "version_major": 2,
       "version_minor": 0
      },
      "text/plain": [
       "Shuffle Reduce 3:   0%|          | 0/16 [00:00<?, ?it/s]"
      ]
     },
     "metadata": {},
     "output_type": "display_data"
    },
    {
     "data": {
      "application/vnd.jupyter.widget-view+json": {
       "model_id": "63eff224833b447dbaff584b8ff2c243",
       "version_major": 2,
       "version_minor": 0
      },
      "text/plain": [
       "- Sort 4:   0%|          | 0/16 [00:00<?, ?it/s]"
      ]
     },
     "metadata": {},
     "output_type": "display_data"
    },
    {
     "data": {
      "application/vnd.jupyter.widget-view+json": {
       "model_id": "536e8ad1f43b486bafc957e4a560768e",
       "version_major": 2,
       "version_minor": 0
      },
      "text/plain": [
       "Sort Sample 5:   0%|          | 0/16 [00:00<?, ?it/s]"
      ]
     },
     "metadata": {},
     "output_type": "display_data"
    },
    {
     "data": {
      "application/vnd.jupyter.widget-view+json": {
       "model_id": "9ff3eb1ec6c1400aaa670e5993e8dcc8",
       "version_major": 2,
       "version_minor": 0
      },
      "text/plain": [
       "Shuffle Map 6:   0%|          | 0/16 [00:00<?, ?it/s]"
      ]
     },
     "metadata": {},
     "output_type": "display_data"
    },
    {
     "data": {
      "application/vnd.jupyter.widget-view+json": {
       "model_id": "1ce88079d1bb459fa41c8abda8bd62c0",
       "version_major": 2,
       "version_minor": 0
      },
      "text/plain": [
       "Shuffle Reduce 7:   0%|          | 0/16 [00:00<?, ?it/s]"
      ]
     },
     "metadata": {},
     "output_type": "display_data"
    },
    {
     "data": {
      "application/vnd.jupyter.widget-view+json": {
       "model_id": "2bc728ea36554864bbdf6cb53df2a1fa",
       "version_major": 2,
       "version_minor": 0
      },
      "text/plain": [
       "- MapBatches(group_fn)->MapBatches(_filter_split)->RandomShuffle 8:   0%|          | 0/16 [00:00<?, ?it/s]"
      ]
     },
     "metadata": {},
     "output_type": "display_data"
    },
    {
     "data": {
      "application/vnd.jupyter.widget-view+json": {
       "model_id": "b9b1e8744ccf40ba986c4754ac7c04f8",
       "version_major": 2,
       "version_minor": 0
      },
      "text/plain": [
       "Shuffle Map 9:   0%|          | 0/16 [00:00<?, ?it/s]"
      ]
     },
     "metadata": {},
     "output_type": "display_data"
    },
    {
     "data": {
      "application/vnd.jupyter.widget-view+json": {
       "model_id": "645c240432734401980f5f4e4227884d",
       "version_major": 2,
       "version_minor": 0
      },
      "text/plain": [
       "Shuffle Reduce 10:   0%|          | 0/16 [00:00<?, ?it/s]"
      ]
     },
     "metadata": {},
     "output_type": "display_data"
    },
    {
     "data": {
      "application/vnd.jupyter.widget-view+json": {
       "model_id": "ddbd677299c644448dfe124320c09d84",
       "version_major": 2,
       "version_minor": 0
      },
      "text/plain": [
       "- Aggregate 11:   0%|          | 0/16 [00:00<?, ?it/s]"
      ]
     },
     "metadata": {},
     "output_type": "display_data"
    },
    {
     "data": {
      "application/vnd.jupyter.widget-view+json": {
       "model_id": "34cd5efbcb15469d80950f8e546c9e77",
       "version_major": 2,
       "version_minor": 0
      },
      "text/plain": [
       "Shuffle Map 12:   0%|          | 0/16 [00:00<?, ?it/s]"
      ]
     },
     "metadata": {},
     "output_type": "display_data"
    },
    {
     "data": {
      "application/vnd.jupyter.widget-view+json": {
       "model_id": "53fa2da33c19437ea854c0138ee5b070",
       "version_major": 2,
       "version_minor": 0
      },
      "text/plain": [
       "Shuffle Reduce 13:   0%|          | 0/16 [00:00<?, ?it/s]"
      ]
     },
     "metadata": {},
     "output_type": "display_data"
    },
    {
     "data": {
      "application/vnd.jupyter.widget-view+json": {
       "model_id": "658f67b9df6742a5b2640dc2ef917d43",
       "version_major": 2,
       "version_minor": 0
      },
      "text/plain": [
       "Running 0:   0%|          | 0/16 [00:00<?, ?it/s]"
      ]
     },
     "metadata": {},
     "output_type": "display_data"
    },
    {
     "data": {
      "application/vnd.jupyter.widget-view+json": {
       "model_id": "ecb933c47f9e4a529016102cfb050c62",
       "version_major": 2,
       "version_minor": 0
      },
      "text/plain": [
       "Sort Sample 0:   0%|          | 0/16 [00:00<?, ?it/s]"
      ]
     },
     "metadata": {},
     "output_type": "display_data"
    },
    {
     "data": {
      "application/vnd.jupyter.widget-view+json": {
       "model_id": "5122dcd105fc4ab883b059da870fedb3",
       "version_major": 2,
       "version_minor": 0
      },
      "text/plain": [
       "Sort Sample 0:   0%|          | 0/16 [00:00<?, ?it/s]"
      ]
     },
     "metadata": {},
     "output_type": "display_data"
    },
    {
     "name": "stderr",
     "output_type": "stream",
     "text": [
      "2023-09-06 20:05:53,991\tINFO streaming_executor.py:92 -- Executing DAG InputDataBuffer[Input] -> TaskPoolMapOperator[ReadCSV->SplitBlocks(16)] -> AllToAllOperator[RandomShuffle] -> AllToAllOperator[Sort] -> AllToAllOperator[MapBatches(group_fn)->MapBatches(_filter_split)->RandomShuffle] -> TaskPoolMapOperator[MapBatches(CustomPreprocessor._transform_pandas)]\n",
      "2023-09-06 20:05:53,993\tINFO streaming_executor.py:93 -- Execution config: ExecutionOptions(resource_limits=ExecutionResources(cpu=None, gpu=None, object_store_memory=None), locality_with_output=False, preserve_order=True, actor_locality_enabled=True, verbose_progress=False)\n",
      "2023-09-06 20:05:53,993\tINFO streaming_executor.py:95 -- Tip: For detailed progress reporting, run `ray.data.DataContext.get_current().execution_options.verbose_progress = True`\n"
     ]
    },
    {
     "data": {
      "application/vnd.jupyter.widget-view+json": {
       "model_id": "4bcf484f6bad47a3aa0f49073b970b26",
       "version_major": 2,
       "version_minor": 0
      },
      "text/plain": [
       "- RandomShuffle 1:   0%|          | 0/16 [00:00<?, ?it/s]"
      ]
     },
     "metadata": {},
     "output_type": "display_data"
    },
    {
     "data": {
      "application/vnd.jupyter.widget-view+json": {
       "model_id": "97b4558f4c0e4782851843f67f261c0e",
       "version_major": 2,
       "version_minor": 0
      },
      "text/plain": [
       "Shuffle Map 2:   0%|          | 0/16 [00:00<?, ?it/s]"
      ]
     },
     "metadata": {},
     "output_type": "display_data"
    },
    {
     "data": {
      "application/vnd.jupyter.widget-view+json": {
       "model_id": "1608b2ea3e7d4a8dbe61c42574abaa17",
       "version_major": 2,
       "version_minor": 0
      },
      "text/plain": [
       "Shuffle Reduce 3:   0%|          | 0/16 [00:00<?, ?it/s]"
      ]
     },
     "metadata": {},
     "output_type": "display_data"
    },
    {
     "data": {
      "application/vnd.jupyter.widget-view+json": {
       "model_id": "ba7bef0c0724418ca55dad7be1a93cc0",
       "version_major": 2,
       "version_minor": 0
      },
      "text/plain": [
       "- Sort 4:   0%|          | 0/16 [00:00<?, ?it/s]"
      ]
     },
     "metadata": {},
     "output_type": "display_data"
    },
    {
     "data": {
      "application/vnd.jupyter.widget-view+json": {
       "model_id": "462757bbf9a9436ca8c624f3a2a7c1dc",
       "version_major": 2,
       "version_minor": 0
      },
      "text/plain": [
       "Sort Sample 5:   0%|          | 0/16 [00:00<?, ?it/s]"
      ]
     },
     "metadata": {},
     "output_type": "display_data"
    },
    {
     "data": {
      "application/vnd.jupyter.widget-view+json": {
       "model_id": "6771f08b430247649a6147600580f37e",
       "version_major": 2,
       "version_minor": 0
      },
      "text/plain": [
       "Shuffle Map 6:   0%|          | 0/16 [00:00<?, ?it/s]"
      ]
     },
     "metadata": {},
     "output_type": "display_data"
    },
    {
     "data": {
      "application/vnd.jupyter.widget-view+json": {
       "model_id": "9920416735914cc8b9664d324413de77",
       "version_major": 2,
       "version_minor": 0
      },
      "text/plain": [
       "Shuffle Reduce 7:   0%|          | 0/16 [00:00<?, ?it/s]"
      ]
     },
     "metadata": {},
     "output_type": "display_data"
    },
    {
     "data": {
      "application/vnd.jupyter.widget-view+json": {
       "model_id": "3c13ed20cf9d4901af419052ebb298e7",
       "version_major": 2,
       "version_minor": 0
      },
      "text/plain": [
       "- MapBatches(group_fn)->MapBatches(_filter_split)->RandomShuffle 8:   0%|          | 0/16 [00:00<?, ?it/s]"
      ]
     },
     "metadata": {},
     "output_type": "display_data"
    },
    {
     "data": {
      "application/vnd.jupyter.widget-view+json": {
       "model_id": "08a4f46e46a44d658ce372b7422e5bae",
       "version_major": 2,
       "version_minor": 0
      },
      "text/plain": [
       "Shuffle Map 9:   0%|          | 0/16 [00:00<?, ?it/s]"
      ]
     },
     "metadata": {},
     "output_type": "display_data"
    },
    {
     "data": {
      "application/vnd.jupyter.widget-view+json": {
       "model_id": "826afbf1c4ff4caf9d5275fd9b704140",
       "version_major": 2,
       "version_minor": 0
      },
      "text/plain": [
       "Shuffle Reduce 10:   0%|          | 0/16 [00:00<?, ?it/s]"
      ]
     },
     "metadata": {},
     "output_type": "display_data"
    },
    {
     "data": {
      "application/vnd.jupyter.widget-view+json": {
       "model_id": "979c5079f4d04bbd93b797690793bb39",
       "version_major": 2,
       "version_minor": 0
      },
      "text/plain": [
       "Running 0:   0%|          | 0/16 [00:00<?, ?it/s]"
      ]
     },
     "metadata": {},
     "output_type": "display_data"
    },
    {
     "data": {
      "application/vnd.jupyter.widget-view+json": {
       "model_id": "25390914369b45a1b2200c614e080462",
       "version_major": 2,
       "version_minor": 0
      },
      "text/plain": [
       "Sort Sample 0:   0%|          | 0/16 [00:00<?, ?it/s]"
      ]
     },
     "metadata": {},
     "output_type": "display_data"
    },
    {
     "name": "stderr",
     "output_type": "stream",
     "text": [
      "2023-09-06 20:05:58,744\tINFO streaming_executor.py:92 -- Executing DAG InputDataBuffer[Input] -> TaskPoolMapOperator[ReadCSV->SplitBlocks(16)] -> AllToAllOperator[RandomShuffle] -> AllToAllOperator[Sort] -> AllToAllOperator[MapBatches(group_fn)->MapBatches(_filter_split)->RandomShuffle] -> TaskPoolMapOperator[MapBatches(CustomPreprocessor._transform_pandas)]\n",
      "2023-09-06 20:05:58,746\tINFO streaming_executor.py:93 -- Execution config: ExecutionOptions(resource_limits=ExecutionResources(cpu=None, gpu=None, object_store_memory=None), locality_with_output=False, preserve_order=True, actor_locality_enabled=True, verbose_progress=False)\n",
      "2023-09-06 20:05:58,747\tINFO streaming_executor.py:95 -- Tip: For detailed progress reporting, run `ray.data.DataContext.get_current().execution_options.verbose_progress = True`\n"
     ]
    },
    {
     "data": {
      "application/vnd.jupyter.widget-view+json": {
       "model_id": "6ed37592e459471dac574939fb9df344",
       "version_major": 2,
       "version_minor": 0
      },
      "text/plain": [
       "- RandomShuffle 1:   0%|          | 0/16 [00:00<?, ?it/s]"
      ]
     },
     "metadata": {},
     "output_type": "display_data"
    },
    {
     "data": {
      "application/vnd.jupyter.widget-view+json": {
       "model_id": "8fe2d17918904a23a94bd56eed7f0300",
       "version_major": 2,
       "version_minor": 0
      },
      "text/plain": [
       "Shuffle Map 2:   0%|          | 0/16 [00:00<?, ?it/s]"
      ]
     },
     "metadata": {},
     "output_type": "display_data"
    },
    {
     "data": {
      "application/vnd.jupyter.widget-view+json": {
       "model_id": "0d4b27c64e0e4dd6b00d1aca4399ee3e",
       "version_major": 2,
       "version_minor": 0
      },
      "text/plain": [
       "Shuffle Reduce 3:   0%|          | 0/16 [00:00<?, ?it/s]"
      ]
     },
     "metadata": {},
     "output_type": "display_data"
    },
    {
     "data": {
      "application/vnd.jupyter.widget-view+json": {
       "model_id": "e74d633fb38843e6b525569d4f55e42e",
       "version_major": 2,
       "version_minor": 0
      },
      "text/plain": [
       "- Sort 4:   0%|          | 0/16 [00:00<?, ?it/s]"
      ]
     },
     "metadata": {},
     "output_type": "display_data"
    },
    {
     "data": {
      "application/vnd.jupyter.widget-view+json": {
       "model_id": "3db8a4bb9c854a43ad07702c5355e00d",
       "version_major": 2,
       "version_minor": 0
      },
      "text/plain": [
       "Sort Sample 5:   0%|          | 0/16 [00:00<?, ?it/s]"
      ]
     },
     "metadata": {},
     "output_type": "display_data"
    },
    {
     "data": {
      "application/vnd.jupyter.widget-view+json": {
       "model_id": "af09c3569d8f4ee0b734bb670ac29fc3",
       "version_major": 2,
       "version_minor": 0
      },
      "text/plain": [
       "Shuffle Map 6:   0%|          | 0/16 [00:00<?, ?it/s]"
      ]
     },
     "metadata": {},
     "output_type": "display_data"
    },
    {
     "data": {
      "application/vnd.jupyter.widget-view+json": {
       "model_id": "be9e5a95bf6541058cdece6db3e96d05",
       "version_major": 2,
       "version_minor": 0
      },
      "text/plain": [
       "Shuffle Reduce 7:   0%|          | 0/16 [00:00<?, ?it/s]"
      ]
     },
     "metadata": {},
     "output_type": "display_data"
    },
    {
     "data": {
      "application/vnd.jupyter.widget-view+json": {
       "model_id": "58feff30b66d4505b64796af5a7bdd26",
       "version_major": 2,
       "version_minor": 0
      },
      "text/plain": [
       "- MapBatches(group_fn)->MapBatches(_filter_split)->RandomShuffle 8:   0%|          | 0/16 [00:00<?, ?it/s]"
      ]
     },
     "metadata": {},
     "output_type": "display_data"
    },
    {
     "data": {
      "application/vnd.jupyter.widget-view+json": {
       "model_id": "b5288edf86c74ec8b93f54500abf98f1",
       "version_major": 2,
       "version_minor": 0
      },
      "text/plain": [
       "Shuffle Map 9:   0%|          | 0/16 [00:00<?, ?it/s]"
      ]
     },
     "metadata": {},
     "output_type": "display_data"
    },
    {
     "data": {
      "application/vnd.jupyter.widget-view+json": {
       "model_id": "c9589b3e13cc46b49d91cce203ef4e67",
       "version_major": 2,
       "version_minor": 0
      },
      "text/plain": [
       "Shuffle Reduce 10:   0%|          | 0/16 [00:00<?, ?it/s]"
      ]
     },
     "metadata": {},
     "output_type": "display_data"
    },
    {
     "data": {
      "application/vnd.jupyter.widget-view+json": {
       "model_id": "cd243cad770640b8abe9416e4984253f",
       "version_major": 2,
       "version_minor": 0
      },
      "text/plain": [
       "Running 0:   0%|          | 0/16 [00:00<?, ?it/s]"
      ]
     },
     "metadata": {},
     "output_type": "display_data"
    },
    {
     "data": {
      "application/vnd.jupyter.widget-view+json": {
       "model_id": "6578026b84654f1e9e2f526ac871a169",
       "version_major": 2,
       "version_minor": 0
      },
      "text/plain": [
       "Sort Sample 0:   0%|          | 0/16 [00:00<?, ?it/s]"
      ]
     },
     "metadata": {},
     "output_type": "display_data"
    },
    {
     "name": "stderr",
     "output_type": "stream",
     "text": [
      "2023-09-06 20:06:00,724\tWARNING plan.py:567 -- Warning: The Ray cluster currently does not have any available CPUs. The Dataset job will hang unless more CPUs are freed up. A common reason is that cluster resources are used by Actors or Tune trials; see the following link for more details: https://docs.ray.io/en/master/data/dataset-internals.html#datasets-and-tune\n"
     ]
    }
   ],
   "source": [
    "# Preprocess\n",
    "preprocessor = CustomPreprocessor()\n",
    "train_ds =  preprocessor.fit_transform(train_ds)\n",
    "val_ds = preprocessor.transform(val_ds)\n",
    "train_ds = train_ds.materialize()\n",
    "val_ds = val_ds.materialize()"
   ]
  },
  {
   "cell_type": "markdown",
   "metadata": {},
   "source": []
  },
  {
   "cell_type": "code",
   "execution_count": 113,
   "metadata": {},
   "outputs": [],
   "source": [
    "# Dataset config\n",
    "dataset_config = {\n",
    "    \"train\": DatasetConfig(fit=False, transform=False, randomize_block_order=False),\n",
    "    \"val\": DatasetConfig(fit=False, transform=False, randomize_block_order=False),\n",
    "}"
   ]
  },
  {
   "cell_type": "code",
   "execution_count": 114,
   "metadata": {},
   "outputs": [
    {
     "name": "stderr",
     "output_type": "stream",
     "text": [
      "2023-09-06 20:06:00,841\tWARNING data_parallel_trainer.py:278 -- The dict form of `dataset_config` is deprecated. Use the DataConfig class instead. Support for this will be dropped in a future release.\n",
      "2023-09-06 20:06:00,843\tWARNING base_trainer.py:205 -- The `preprocessor` arg to Trainer is deprecated. Apply preprocessor transformations ahead of time by calling `preprocessor.transform(ds)`. Support for the preprocessor arg will be dropped in a future release.\n"
     ]
    }
   ],
   "source": [
    "# Trainer\n",
    "trainer = TorchTrainer(\n",
    "    train_loop_per_worker=train_loop_per_worker,\n",
    "    train_loop_config=train_loop_config,\n",
    "    scaling_config=scaling_config,\n",
    "    run_config=run_config,\n",
    "    datasets={\"train\": train_ds, \"val\": val_ds},\n",
    "    dataset_config=dataset_config,\n",
    "    preprocessor=preprocessor,\n",
    ")"
   ]
  },
  {
   "cell_type": "code",
   "execution_count": 115,
   "metadata": {},
   "outputs": [
    {
     "data": {
      "text/html": [
       "<div class=\"tuneStatus\">\n",
       "  <div style=\"display: flex;flex-direction: row\">\n",
       "    <div style=\"display: flex;flex-direction: column;\">\n",
       "      <h3>Tune Status</h3>\n",
       "      <table>\n",
       "<tbody>\n",
       "<tr><td>Current time:</td><td>2023-09-07 10:57:07</td></tr>\n",
       "<tr><td>Running for: </td><td>14:51:06.11        </td></tr>\n",
       "<tr><td>Memory:      </td><td>13.4/15.7 GiB      </td></tr>\n",
       "</tbody>\n",
       "</table>\n",
       "    </div>\n",
       "    <div class=\"vDivider\"></div>\n",
       "    <div class=\"systemInfo\">\n",
       "      <h3>System Info</h3>\n",
       "      Using FIFO scheduling algorithm.<br>Logical resource usage: 0/8 CPUs, 0/0 GPUs\n",
       "    </div>\n",
       "    \n",
       "  </div>\n",
       "  <div class=\"hDivider\"></div>\n",
       "  <div class=\"trialStatus\">\n",
       "    <h3>Trial Status</h3>\n",
       "    <table>\n",
       "<thead>\n",
       "<tr><th>Trial name              </th><th>status  </th><th>loc  </th></tr>\n",
       "</thead>\n",
       "<tbody>\n",
       "<tr><td>TorchTrainer_b33de_00000</td><td>PENDING </td><td>     </td></tr>\n",
       "</tbody>\n",
       "</table>\n",
       "  </div>\n",
       "</div>\n",
       "<style>\n",
       ".tuneStatus {\n",
       "  color: var(--jp-ui-font-color1);\n",
       "}\n",
       ".tuneStatus .systemInfo {\n",
       "  display: flex;\n",
       "  flex-direction: column;\n",
       "}\n",
       ".tuneStatus td {\n",
       "  white-space: nowrap;\n",
       "}\n",
       ".tuneStatus .trialStatus {\n",
       "  display: flex;\n",
       "  flex-direction: column;\n",
       "}\n",
       ".tuneStatus h3 {\n",
       "  font-weight: bold;\n",
       "}\n",
       ".tuneStatus .hDivider {\n",
       "  border-bottom-width: var(--jp-border-width);\n",
       "  border-bottom-color: var(--jp-border-color0);\n",
       "  border-bottom-style: solid;\n",
       "}\n",
       ".tuneStatus .vDivider {\n",
       "  border-left-width: var(--jp-border-width);\n",
       "  border-left-color: var(--jp-border-color0);\n",
       "  border-left-style: solid;\n",
       "  margin: 0.5em 1em 0.5em 1em;\n",
       "}\n",
       "</style>\n"
      ],
      "text/plain": [
       "<IPython.core.display.HTML object>"
      ]
     },
     "metadata": {},
     "output_type": "display_data"
    },
    {
     "name": "stderr",
     "output_type": "stream",
     "text": [
      "2023-09-06 20:11:02,928\tWARNING syncer.py:585 -- Last sync command failed: Sync process failed: GetFileInfo() yielded path 'C:/Users/sri.karan/ray_results/llm', which is outside base dir 'C:\\Users\\sri.karan\\ray_results\\llm'\n",
      "2023-09-06 20:16:04,548\tWARNING syncer.py:585 -- Last sync command failed: Sync process failed: GetFileInfo() yielded path 'C:/Users/sri.karan/ray_results/llm', which is outside base dir 'C:\\Users\\sri.karan\\ray_results\\llm'\n",
      "2023-09-06 20:21:06,147\tWARNING syncer.py:585 -- Last sync command failed: Sync process failed: GetFileInfo() yielded path 'C:/Users/sri.karan/ray_results/llm', which is outside base dir 'C:\\Users\\sri.karan\\ray_results\\llm'\n",
      "2023-09-06 20:26:08,390\tWARNING syncer.py:585 -- Last sync command failed: Sync process failed: GetFileInfo() yielded path 'C:/Users/sri.karan/ray_results/llm', which is outside base dir 'C:\\Users\\sri.karan\\ray_results\\llm'\n",
      "2023-09-06 20:31:10,507\tWARNING syncer.py:585 -- Last sync command failed: Sync process failed: GetFileInfo() yielded path 'C:/Users/sri.karan/ray_results/llm', which is outside base dir 'C:\\Users\\sri.karan\\ray_results\\llm'\n",
      "2023-09-06 20:36:12,565\tWARNING syncer.py:585 -- Last sync command failed: Sync process failed: GetFileInfo() yielded path 'C:/Users/sri.karan/ray_results/llm', which is outside base dir 'C:\\Users\\sri.karan\\ray_results\\llm'\n",
      "2023-09-06 20:41:14,714\tWARNING syncer.py:585 -- Last sync command failed: Sync process failed: GetFileInfo() yielded path 'C:/Users/sri.karan/ray_results/llm', which is outside base dir 'C:\\Users\\sri.karan\\ray_results\\llm'\n",
      "2023-09-06 20:46:16,867\tWARNING syncer.py:585 -- Last sync command failed: Sync process failed: GetFileInfo() yielded path 'C:/Users/sri.karan/ray_results/llm', which is outside base dir 'C:\\Users\\sri.karan\\ray_results\\llm'\n",
      "2023-09-06 20:51:19,016\tWARNING syncer.py:585 -- Last sync command failed: Sync process failed: GetFileInfo() yielded path 'C:/Users/sri.karan/ray_results/llm', which is outside base dir 'C:\\Users\\sri.karan\\ray_results\\llm'\n",
      "2023-09-06 20:56:21,051\tWARNING syncer.py:585 -- Last sync command failed: Sync process failed: GetFileInfo() yielded path 'C:/Users/sri.karan/ray_results/llm', which is outside base dir 'C:\\Users\\sri.karan\\ray_results\\llm'\n",
      "2023-09-06 21:01:23,179\tWARNING syncer.py:585 -- Last sync command failed: Sync process failed: GetFileInfo() yielded path 'C:/Users/sri.karan/ray_results/llm', which is outside base dir 'C:\\Users\\sri.karan\\ray_results\\llm'\n",
      "2023-09-06 21:06:25,399\tWARNING syncer.py:585 -- Last sync command failed: Sync process failed: GetFileInfo() yielded path 'C:/Users/sri.karan/ray_results/llm', which is outside base dir 'C:\\Users\\sri.karan\\ray_results\\llm'\n",
      "2023-09-06 21:11:27,583\tWARNING syncer.py:585 -- Last sync command failed: Sync process failed: GetFileInfo() yielded path 'C:/Users/sri.karan/ray_results/llm', which is outside base dir 'C:\\Users\\sri.karan\\ray_results\\llm'\n",
      "2023-09-06 21:16:29,688\tWARNING syncer.py:585 -- Last sync command failed: Sync process failed: GetFileInfo() yielded path 'C:/Users/sri.karan/ray_results/llm', which is outside base dir 'C:\\Users\\sri.karan\\ray_results\\llm'\n",
      "2023-09-06 21:21:32,094\tWARNING syncer.py:585 -- Last sync command failed: Sync process failed: GetFileInfo() yielded path 'C:/Users/sri.karan/ray_results/llm', which is outside base dir 'C:\\Users\\sri.karan\\ray_results\\llm'\n",
      "2023-09-06 21:26:34,274\tWARNING syncer.py:585 -- Last sync command failed: Sync process failed: GetFileInfo() yielded path 'C:/Users/sri.karan/ray_results/llm', which is outside base dir 'C:\\Users\\sri.karan\\ray_results\\llm'\n",
      "2023-09-06 21:31:36,458\tWARNING syncer.py:585 -- Last sync command failed: Sync process failed: GetFileInfo() yielded path 'C:/Users/sri.karan/ray_results/llm', which is outside base dir 'C:\\Users\\sri.karan\\ray_results\\llm'\n",
      "2023-09-06 21:36:38,684\tWARNING syncer.py:585 -- Last sync command failed: Sync process failed: GetFileInfo() yielded path 'C:/Users/sri.karan/ray_results/llm', which is outside base dir 'C:\\Users\\sri.karan\\ray_results\\llm'\n",
      "2023-09-06 21:41:40,866\tWARNING syncer.py:585 -- Last sync command failed: Sync process failed: GetFileInfo() yielded path 'C:/Users/sri.karan/ray_results/llm', which is outside base dir 'C:\\Users\\sri.karan\\ray_results\\llm'\n",
      "2023-09-06 21:46:43,225\tWARNING syncer.py:585 -- Last sync command failed: Sync process failed: GetFileInfo() yielded path 'C:/Users/sri.karan/ray_results/llm', which is outside base dir 'C:\\Users\\sri.karan\\ray_results\\llm'\n",
      "2023-09-06 21:51:44,991\tWARNING syncer.py:585 -- Last sync command failed: Sync process failed: GetFileInfo() yielded path 'C:/Users/sri.karan/ray_results/llm', which is outside base dir 'C:\\Users\\sri.karan\\ray_results\\llm'\n",
      "2023-09-06 21:56:46,735\tWARNING syncer.py:585 -- Last sync command failed: Sync process failed: GetFileInfo() yielded path 'C:/Users/sri.karan/ray_results/llm', which is outside base dir 'C:\\Users\\sri.karan\\ray_results\\llm'\n",
      "2023-09-06 22:01:48,469\tWARNING syncer.py:585 -- Last sync command failed: Sync process failed: GetFileInfo() yielded path 'C:/Users/sri.karan/ray_results/llm', which is outside base dir 'C:\\Users\\sri.karan\\ray_results\\llm'\n",
      "2023-09-06 22:06:50,508\tWARNING syncer.py:585 -- Last sync command failed: Sync process failed: GetFileInfo() yielded path 'C:/Users/sri.karan/ray_results/llm', which is outside base dir 'C:\\Users\\sri.karan\\ray_results\\llm'\n",
      "2023-09-06 22:11:52,709\tWARNING syncer.py:585 -- Last sync command failed: Sync process failed: GetFileInfo() yielded path 'C:/Users/sri.karan/ray_results/llm', which is outside base dir 'C:\\Users\\sri.karan\\ray_results\\llm'\n",
      "2023-09-06 22:16:54,990\tWARNING syncer.py:585 -- Last sync command failed: Sync process failed: GetFileInfo() yielded path 'C:/Users/sri.karan/ray_results/llm', which is outside base dir 'C:\\Users\\sri.karan\\ray_results\\llm'\n",
      "2023-09-06 22:21:57,153\tWARNING syncer.py:585 -- Last sync command failed: Sync process failed: GetFileInfo() yielded path 'C:/Users/sri.karan/ray_results/llm', which is outside base dir 'C:\\Users\\sri.karan\\ray_results\\llm'\n",
      "2023-09-06 22:26:59,219\tWARNING syncer.py:585 -- Last sync command failed: Sync process failed: GetFileInfo() yielded path 'C:/Users/sri.karan/ray_results/llm', which is outside base dir 'C:\\Users\\sri.karan\\ray_results\\llm'\n",
      "2023-09-06 22:32:01,260\tWARNING syncer.py:585 -- Last sync command failed: Sync process failed: GetFileInfo() yielded path 'C:/Users/sri.karan/ray_results/llm', which is outside base dir 'C:\\Users\\sri.karan\\ray_results\\llm'\n",
      "2023-09-06 22:37:02,921\tWARNING syncer.py:585 -- Last sync command failed: Sync process failed: GetFileInfo() yielded path 'C:/Users/sri.karan/ray_results/llm', which is outside base dir 'C:\\Users\\sri.karan\\ray_results\\llm'\n",
      "2023-09-06 22:42:04,519\tWARNING syncer.py:585 -- Last sync command failed: Sync process failed: GetFileInfo() yielded path 'C:/Users/sri.karan/ray_results/llm', which is outside base dir 'C:\\Users\\sri.karan\\ray_results\\llm'\n",
      "2023-09-06 22:47:06,251\tWARNING syncer.py:585 -- Last sync command failed: Sync process failed: GetFileInfo() yielded path 'C:/Users/sri.karan/ray_results/llm', which is outside base dir 'C:\\Users\\sri.karan\\ray_results\\llm'\n",
      "2023-09-06 22:52:07,886\tWARNING syncer.py:585 -- Last sync command failed: Sync process failed: GetFileInfo() yielded path 'C:/Users/sri.karan/ray_results/llm', which is outside base dir 'C:\\Users\\sri.karan\\ray_results\\llm'\n",
      "2023-09-06 22:57:09,497\tWARNING syncer.py:585 -- Last sync command failed: Sync process failed: GetFileInfo() yielded path 'C:/Users/sri.karan/ray_results/llm', which is outside base dir 'C:\\Users\\sri.karan\\ray_results\\llm'\n",
      "2023-09-06 23:02:11,177\tWARNING syncer.py:585 -- Last sync command failed: Sync process failed: GetFileInfo() yielded path 'C:/Users/sri.karan/ray_results/llm', which is outside base dir 'C:\\Users\\sri.karan\\ray_results\\llm'\n",
      "2023-09-06 23:07:12,898\tWARNING syncer.py:585 -- Last sync command failed: Sync process failed: GetFileInfo() yielded path 'C:/Users/sri.karan/ray_results/llm', which is outside base dir 'C:\\Users\\sri.karan\\ray_results\\llm'\n",
      "2023-09-07 10:50:57,703\tWARNING syncer.py:585 -- Last sync command failed: Sync process failed: GetFileInfo() yielded path 'C:/Users/sri.karan/ray_results/llm', which is outside base dir 'C:\\Users\\sri.karan\\ray_results\\llm'\n",
      "2023-09-07 10:56:00,439\tWARNING syncer.py:585 -- Last sync command failed: Sync process failed: GetFileInfo() yielded path 'C:/Users/sri.karan/ray_results/llm', which is outside base dir 'C:\\Users\\sri.karan\\ray_results\\llm'\n"
     ]
    }
   ],
   "source": [
    "results = trainer.fit()\n"
   ]
  },
  {
   "cell_type": "code",
   "execution_count": null,
   "metadata": {},
   "outputs": [],
   "source": [
    "results.metrics_dataframe\n"
   ]
  },
  {
   "cell_type": "code",
   "execution_count": null,
   "metadata": {},
   "outputs": [],
   "source": [
    "results.best_checkpoints\n"
   ]
  },
  {
   "cell_type": "code",
   "execution_count": null,
   "metadata": {},
   "outputs": [],
   "source": [
    "from ray.train.torch import TorchPredictor\n",
    "from sklearn.metrics import precision_recall_fscore_support"
   ]
  },
  {
   "cell_type": "code",
   "execution_count": null,
   "metadata": {},
   "outputs": [],
   "source": [
    "# Predictor\n",
    "best_checkpoint = results.best_checkpoints[0][0]\n",
    "predictor = TorchPredictor.from_checkpoint(best_checkpoint)\n",
    "\n",
    "preprocessor = predictor.get_preprocessor()"
   ]
  },
  {
   "cell_type": "code",
   "execution_count": null,
   "metadata": {},
   "outputs": [],
   "source": [
    "# Test (holdout) dataset\n",
    "HOLDOUT_LOC = \"https://raw.githubusercontent.com/GokuMohandas/Made-With-ML/main/datasets/holdout.csv\"\n",
    "test_ds = ray.data.read_csv(HOLDOUT_LOC)\n",
    "preprocessed_ds = preprocessor.transform(test_ds)\n",
    "preprocessed_ds.take(1)"
   ]
  },
  {
   "cell_type": "code",
   "execution_count": null,
   "metadata": {},
   "outputs": [],
   "source": [
    "# y_true\n",
    "values = preprocessed_ds.select_columns(cols=[\"targets\"]).take_all()\n",
    "y_true = np.stack([item[\"targets\"] for item in values])\n",
    "print (y_true)"
   ]
  },
  {
   "cell_type": "code",
   "execution_count": null,
   "metadata": {},
   "outputs": [],
   "source": [
    "# y_pred\n",
    "z = predictor.predict(data=test_ds.to_pandas())[\"predictions\"]\n",
    "y_pred = np.stack(z).argmax(1)\n",
    "print (y_pred)"
   ]
  },
  {
   "cell_type": "code",
   "execution_count": null,
   "metadata": {},
   "outputs": [],
   "source": [
    "# Evaluate\n",
    "metrics = precision_recall_fscore_support(y_true, y_pred, average=\"weighted\")\n",
    "{\"precision\": metrics[0], \"recall\": metrics[1], \"f1\": metrics[2]}"
   ]
  },
  {
   "cell_type": "code",
   "execution_count": null,
   "metadata": {},
   "outputs": [],
   "source": [
    "def evaluate(ds, predictor):\n",
    "    # y_true\n",
    "    preprocessor = predictor.get_preprocessor()\n",
    "    preprocessed_ds = preprocessor.transform(ds)\n",
    "    values = preprocessed_ds.select_columns(cols=[\"targets\"]).take_all()\n",
    "    y_true = np.stack([item[\"targets\"] for item in values])\n",
    "\n",
    "    # y_pred\n",
    "    z = predictor.predict(data=ds.to_pandas())[\"predictions\"]\n",
    "    y_pred = np.stack(z).argmax(1)\n",
    "\n",
    "    # Evaluate\n",
    "    metrics = precision_recall_fscore_support(y_true, y_pred, average=\"weighted\")\n",
    "    performance = {\"precision\": metrics[0], \"recall\": metrics[1], \"f1\": metrics[2]}\n",
    "    return performance"
   ]
  },
  {
   "cell_type": "code",
   "execution_count": null,
   "metadata": {},
   "outputs": [],
   "source": [
    "import pandas as pd\n"
   ]
  },
  {
   "cell_type": "code",
   "execution_count": null,
   "metadata": {},
   "outputs": [],
   "source": [
    "def format_prob(prob, index_to_class):\n",
    "    d = {}\n",
    "    for i, item in enumerate(prob):\n",
    "        d[index_to_class[i]] = item\n",
    "    return d"
   ]
  },
  {
   "cell_type": "code",
   "execution_count": null,
   "metadata": {},
   "outputs": [],
   "source": [
    "def predict_with_proba(df, predictor):\n",
    "    preprocessor = predictor.get_preprocessor()\n",
    "    z = predictor.predict(data=df)[\"predictions\"]\n",
    "    y_prob = torch.tensor(np.stack(z)).softmax(dim=1).numpy()\n",
    "    results = []\n",
    "    for i, prob in enumerate(y_prob):\n",
    "        tag = decode([z[i].argmax()], preprocessor.index_to_class)[0]\n",
    "        results.append({\"prediction\": tag, \"probabilities\": format_prob(prob, preprocessor.index_to_class)})\n",
    "    return results"
   ]
  },
  {
   "cell_type": "code",
   "execution_count": null,
   "metadata": {},
   "outputs": [],
   "source": [
    "# Preprocessor\n",
    "predictor = TorchPredictor.from_checkpoint(best_checkpoint)\n",
    "preprocessor = predictor.get_preprocessor()"
   ]
  },
  {
   "cell_type": "code",
   "execution_count": null,
   "metadata": {},
   "outputs": [],
   "source": []
  },
  {
   "cell_type": "code",
   "execution_count": null,
   "metadata": {},
   "outputs": [],
   "source": [
    "# Predict on sample\n",
    "title = \"Transfer learning with transformers\"\n",
    "description = \"Using transformers for transfer learning on text classification tasks.\"\n",
    "sample_df = pd.DataFrame([{\"title\": title, \"description\": description, \"tag\": \"other\"}])\n",
    "predict_with_proba(df=sample_df, predictor=predictor)"
   ]
  },
  {
   "cell_type": "code",
   "execution_count": null,
   "metadata": {},
   "outputs": [],
   "source": [
    "import mlflow\n",
    "from pathlib import Path\n",
    "from ray.air.integrations.mlflow import MLflowLoggerCallback\n",
    "\n",
    "import time"
   ]
  },
  {
   "cell_type": "code",
   "execution_count": null,
   "metadata": {},
   "outputs": [],
   "source": [
    "# Config MLflow\n",
    "MODEL_REGISTRY = Path(\"./tmp/mlflow\")\n",
    "Path(MODEL_REGISTRY).mkdir(parents=True, exist_ok=True)\n",
    "\n",
    "str(MODEL_REGISTRY.absolute())"
   ]
  },
  {
   "cell_type": "code",
   "execution_count": null,
   "metadata": {},
   "outputs": [],
   "source": [
    "MLFLOW_TRACKING_URI = \"file://\" + str(MODEL_REGISTRY.absolute())\n",
    "mlflow.set_tracking_uri(MLFLOW_TRACKING_URI)\n",
    "print (mlflow.get_tracking_uri())"
   ]
  },
  {
   "cell_type": "code",
   "execution_count": null,
   "metadata": {},
   "outputs": [],
   "source": [
    "dir"
   ]
  },
  {
   "cell_type": "code",
   "execution_count": null,
   "metadata": {},
   "outputs": [],
   "source": [
    "# MLFLOW_TRACKING_URI = \"file:///\" + str(MODEL_REGISTRY.absolute()) #for windows"
   ]
  },
  {
   "cell_type": "code",
   "execution_count": null,
   "metadata": {},
   "outputs": [],
   "source": [
    "train_loss=results.best_checkpoints[0][1][\"train_loss\"]\n",
    "val_loss=results.best_checkpoints[0][1][\"val_loss\"]\n",
    "epoch=results.best_checkpoints[0][1][\"epoch\"]"
   ]
  },
  {
   "cell_type": "code",
   "execution_count": null,
   "metadata": {},
   "outputs": [],
   "source": [
    "# # Example mlflow calls\n",
    "# mlflow.log_metrics({\"train_loss\": train_loss, \"val_loss\": val_loss}, step=epoch)\n",
    "# mlflow.log_artifacts(dir)\n",
    "# mlflow.log_params(config)"
   ]
  },
  {
   "cell_type": "code",
   "execution_count": null,
   "metadata": {},
   "outputs": [],
   "source": [
    "# MLflow callback\n",
    "experiment_name = f\"llm-{int(time.time())}\"\n",
    "mlflow_callback = MLflowLoggerCallback(\n",
    "    tracking_uri=MLFLOW_TRACKING_URI,\n",
    "    experiment_name=experiment_name,\n",
    "    save_artifact=True)"
   ]
  },
  {
   "cell_type": "code",
   "execution_count": null,
   "metadata": {},
   "outputs": [],
   "source": [
    "# Run configuration with MLflow callback\n",
    "run_config = RunConfig(\n",
    "    callbacks=[mlflow_callback],\n",
    "    checkpoint_config=checkpoint_config,\n",
    ")"
   ]
  },
  {
   "cell_type": "code",
   "execution_count": null,
   "metadata": {},
   "outputs": [],
   "source": [
    "# Dataset\n",
    "ds = load_data()\n",
    "train_ds, val_ds = stratify_split(ds, stratify=\"tag\", test_size=test_size)\n",
    "\n",
    "# Preprocess\n",
    "preprocessor = CustomPreprocessor()\n",
    "train_ds = preprocessor.fit_transform(train_ds)\n",
    "val_ds = preprocessor.transform(val_ds)\n",
    "train_ds = train_ds.materialize()\n",
    "val_ds = val_ds.materialize()\n",
    "\n",
    "# Trainer\n",
    "trainer = TorchTrainer(\n",
    "    train_loop_per_worker=train_loop_per_worker,\n",
    "    train_loop_config=train_loop_config,\n",
    "    scaling_config=scaling_config,\n",
    "    run_config=run_config,  # uses RunConfig with MLflow callback\n",
    "    datasets={\"train\": train_ds, \"val\": val_ds},\n",
    "    dataset_config=dataset_config,\n",
    "    preprocessor=preprocessor,\n",
    ")\n",
    "\n",
    "# Train\n",
    "results = trainer.fit()"
   ]
  },
  {
   "cell_type": "code",
   "execution_count": null,
   "metadata": {},
   "outputs": [],
   "source": [
    "results.metrics_dataframe\n"
   ]
  },
  {
   "cell_type": "code",
   "execution_count": null,
   "metadata": {},
   "outputs": [],
   "source": [
    "# Sorted runs\n",
    "sorted_runs = mlflow.search_runs(experiment_names=[experiment_name], order_by=[\"metrics.val_loss ASC\"])\n",
    "sorted_runs"
   ]
  },
  {
   "cell_type": "code",
   "execution_count": null,
   "metadata": {},
   "outputs": [],
   "source": [
    "# mlflow server -h 0.0.0.0 -p 8080 --backend-store-uri /tmp/mlflow/\n"
   ]
  },
  {
   "cell_type": "code",
   "execution_count": null,
   "metadata": {},
   "outputs": [],
   "source": [
    "from ray.air import Result\n",
    "from urllib.parse import urlparse"
   ]
  },
  {
   "cell_type": "code",
   "execution_count": null,
   "metadata": {},
   "outputs": [],
   "source": [
    "def get_best_checkpoint(run_id):\n",
    "    artifact_dir = urlparse(mlflow.get_run(run_id).info.artifact_uri).path  # get path from mlflow\n",
    "    results = Result.from_path(artifact_dir)\n",
    "    return results.best_checkpoints[0][0]"
   ]
  },
  {
   "cell_type": "code",
   "execution_count": null,
   "metadata": {},
   "outputs": [],
   "source": [
    "# Evaluate on test split\n",
    "best_checkpoint = get_best_checkpoint(run_id=\"71ee538019ab408ab39aa4e9ff65c544\")\n",
    "predictor = TorchPredictor.from_checkpoint(best_checkpoint)\n",
    "performance = evaluate(ds=test_ds, predictor=predictor)\n",
    "print (json.dumps(performance, indent=2))"
   ]
  },
  {
   "cell_type": "code",
   "execution_count": null,
   "metadata": {},
   "outputs": [],
   "source": [
    "preprocessor = predictor.get_preprocessor()\n"
   ]
  },
  {
   "cell_type": "code",
   "execution_count": null,
   "metadata": {},
   "outputs": [],
   "source": [
    "# Predict on sample\n",
    "title = \"Transfer learning with transformers\"\n",
    "description = \"Using transformers for transfer learning on text classification tasks.\"\n",
    "sample_df = pd.DataFrame([{\"title\": title, \"description\": description, \"tag\": \"other\"}])\n",
    "predict_with_proba(df=sample_df, predictor=predictor)"
   ]
  },
  {
   "cell_type": "code",
   "execution_count": null,
   "metadata": {},
   "outputs": [],
   "source": []
  }
 ],
 "metadata": {
  "kernelspec": {
   "display_name": "ray",
   "language": "python",
   "name": "python3"
  },
  "language_info": {
   "codemirror_mode": {
    "name": "ipython",
    "version": 3
   },
   "file_extension": ".py",
   "mimetype": "text/x-python",
   "name": "python",
   "nbconvert_exporter": "python",
   "pygments_lexer": "ipython3",
   "version": "3.10.11"
  },
  "orig_nbformat": 4
 },
 "nbformat": 4,
 "nbformat_minor": 2
}
