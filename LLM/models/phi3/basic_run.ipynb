{
 "cells": [
  {
   "cell_type": "code",
   "execution_count": 3,
   "metadata": {},
   "outputs": [],
   "source": [
    "import ollama\n"
   ]
  },
  {
   "cell_type": "code",
   "execution_count": 6,
   "metadata": {},
   "outputs": [
    {
     "data": {
      "text/plain": [
       "{'status': 'success'}"
      ]
     },
     "execution_count": 6,
     "metadata": {},
     "output_type": "execute_result"
    }
   ],
   "source": [
    "ollama.pull(model = \"phi3:instruct\")\n"
   ]
  },
  {
   "cell_type": "code",
   "execution_count": 7,
   "metadata": {},
   "outputs": [],
   "source": [
    "def prompt_phi3(prompt, system_prompt=\"You are a great question answering machine that answers in a concise manner.\"):\n",
    "    if (len(system_prompt) > 0):\n",
    "      response = ollama.chat(model=\"phi3:instruct\", messages=[\n",
    "            {'role': 'system','content': system_prompt},\n",
    "            {'role': 'user','content': prompt},\n",
    "          ])\n",
    "    else:\n",
    "      response = ollama.chat(model=\"phi3:instruct\", messages=[\n",
    "            {'role': 'user','content': prompt},\n",
    "          ])\n",
    "\n",
    "    return response[\"message\"][\"content\"]"
   ]
  },
  {
   "cell_type": "code",
   "execution_count": 8,
   "metadata": {},
   "outputs": [
    {
     "data": {
      "text/plain": [
       "\" About 71% of the Earth' end surface, excluding glaciers and ice caps, is covered by oceans which contain saltwater. However, if we consider all forms of water including freshwater sources like rivers, lakes, streams, and underground aquifers (although a significant portion of this freshwater isn't easily accessible for human use), the percentage would still be around 71%.\""
      ]
     },
     "execution_count": 8,
     "metadata": {},
     "output_type": "execute_result"
    }
   ],
   "source": [
    "prompt_phi3(\"How much percentage of earth is covered with water?\")"
   ]
  },
  {
   "cell_type": "code",
   "execution_count": null,
   "metadata": {},
   "outputs": [],
   "source": []
  }
 ],
 "metadata": {
  "kernelspec": {
   "display_name": "rag",
   "language": "python",
   "name": "python3"
  },
  "language_info": {
   "codemirror_mode": {
    "name": "ipython",
    "version": 3
   },
   "file_extension": ".py",
   "mimetype": "text/x-python",
   "name": "python",
   "nbconvert_exporter": "python",
   "pygments_lexer": "ipython3",
   "version": "3.10.14"
  }
 },
 "nbformat": 4,
 "nbformat_minor": 2
}
