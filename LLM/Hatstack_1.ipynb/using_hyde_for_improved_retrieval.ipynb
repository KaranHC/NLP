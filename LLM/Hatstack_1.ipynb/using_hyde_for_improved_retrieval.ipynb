{
  "cells": [
    {
      "cell_type": "markdown",
      "metadata": {
        "id": "chBgl-RHFAKi"
      },
      "source": [
        "# Using Hypothetical Document Embeddinga (HyDE) to Improve Retrieval\n",
        "\n",
        "> 📚 This cookbook has an accompanying article with a complete walkthrough [\"Optimizing Retrival with HyDE\"](https://haystack.deepset.ai/blog/optimizing-retrieval-with-hyde)\n",
        "\n",
        "In this coookbook, we are building Haystack components that allow us to easily incorporate HyDE into our RAG pipelines, to optimize retrieval.\n",
        "\n",
        "> To learn more about HyDE and when it's useful, check out our [guide to Hypothetical Document Embeddings (HyDE)](https://docs.haystack.deepset.ai/v2.0/docs/hypothetical-document-embeddings-hyde)\n",
        "\n",
        "## Install Requirements"
      ]
    },
    {
      "cell_type": "code",
      "execution_count": 1,
      "metadata": {
        "colab": {
          "base_uri": "https://localhost:8080/"
        },
        "id": "_ZIUJlvQCDvF",
        "outputId": "2879cabf-1d6e-49c4-ab60-17c2688f88ea"
      },
      "outputs": [],
      "source": [
        "# !pip install haystack-ai sentence-transformers datasets"
      ]
    },
    {
      "cell_type": "markdown",
      "metadata": {
        "id": "Kr6_UhFyFh-c"
      },
      "source": [
        "In the following sections, we will be using the `OpenAIGenerator`, so we need to provide our API key 👇"
      ]
    },
    {
      "cell_type": "code",
      "execution_count": 2,
      "metadata": {
        "colab": {
          "base_uri": "https://localhost:8080/"
        },
        "id": "J5l8zljUB1wc",
        "outputId": "228bc893-03a8-4185-f298-eedc309eccf9"
      },
      "outputs": [],
      "source": [
        "from getpass import getpass\n",
        "import os\n",
        "\n",
        "os.environ[\"OPENAI_API_KEY\"] = getpass(\"Enter your openAI key:\")"
      ]
    },
    {
      "cell_type": "markdown",
      "metadata": {
        "id": "yiIk0Bt2GVbl"
      },
      "source": [
        "## Building a Pipeline for Hypothetical Document Embeddings\n",
        "\n",
        "We will build a Haystack pipeline that generates 'fake' documents.\n",
        "For this part, we are using the `OpenAIGenerator` with a `PromptBuilder` that instructs the model to generate paragraphs."
      ]
    },
    {
      "cell_type": "code",
      "execution_count": 3,
      "metadata": {
        "id": "q7vs3ubjB7PB"
      },
      "outputs": [],
      "source": [
        "from haystack.components.generators.openai import OpenAIGenerator\n",
        "from haystack.components.builders import PromptBuilder\n",
        "\n",
        "generator = OpenAIGenerator(\n",
        "    model=\"gpt-3.5-turbo\",\n",
        "    generation_kwargs={\"n\": 5, \"temperature\": 0.75, \"max_tokens\": 400},\n",
        ")\n",
        "\n",
        "template=\"\"\"Given a question, generate a paragraph of text that answers the question.\n",
        "            Question: {{question}}\n",
        "            Paragraph:\"\"\"\n",
        "\n",
        "prompt_builder = PromptBuilder(template=template)"
      ]
    },
    {
      "cell_type": "markdown",
      "metadata": {
        "id": "dJVyxytsG6Zc"
      },
      "source": [
        "Next, we use the `OutputAdapter` to transform the generated paragraphs into a List of Documents. This way, we will be able to use the `SentenceTransformersDocumentEmbedder` to create embeddings, since this component expects `List[Document]`"
      ]
    },
    {
      "cell_type": "markdown",
      "metadata": {},
      "source": [
        "Components that use heavy resources, like LLMs or embedding models, additionally have a warm_up() method. When you run a component like this on its own, you must run warm_up() after initializing it, but before running it, like this:"
      ]
    },
    {
      "cell_type": "code",
      "execution_count": 4,
      "metadata": {
        "id": "K72gcW84CFtT"
      },
      "outputs": [
        {
          "data": {
            "application/vnd.jupyter.widget-view+json": {
              "model_id": "69bba137122a45f19bd55207091420f6",
              "version_major": 2,
              "version_minor": 0
            },
            "text/plain": [
              "modules.json:   0%|          | 0.00/349 [00:00<?, ?B/s]"
            ]
          },
          "metadata": {},
          "output_type": "display_data"
        },
        {
          "name": "stderr",
          "output_type": "stream",
          "text": [
            "c:\\Users\\sri.karan\\.conda\\envs\\rag\\lib\\site-packages\\huggingface_hub\\file_download.py:157: UserWarning: `huggingface_hub` cache-system uses symlinks by default to efficiently store duplicated files but your machine does not support them in C:\\Users\\sri.karan\\.cache\\huggingface\\hub\\models--sentence-transformers--all-MiniLM-L6-v2. Caching files will still work but in a degraded version that might require more space on your disk. This warning can be disabled by setting the `HF_HUB_DISABLE_SYMLINKS_WARNING` environment variable. For more details, see https://huggingface.co/docs/huggingface_hub/how-to-cache#limitations.\n",
            "To support symlinks on Windows, you either need to activate Developer Mode or to run Python as an administrator. In order to see activate developer mode, see this article: https://docs.microsoft.com/en-us/windows/apps/get-started/enable-your-device-for-development\n",
            "  warnings.warn(message)\n"
          ]
        },
        {
          "data": {
            "application/vnd.jupyter.widget-view+json": {
              "model_id": "7a101786299d46daa8cec0ce4dcef09c",
              "version_major": 2,
              "version_minor": 0
            },
            "text/plain": [
              "config_sentence_transformers.json:   0%|          | 0.00/116 [00:00<?, ?B/s]"
            ]
          },
          "metadata": {},
          "output_type": "display_data"
        },
        {
          "data": {
            "application/vnd.jupyter.widget-view+json": {
              "model_id": "60a02bbfb3434a0dafb8a237ada25cc7",
              "version_major": 2,
              "version_minor": 0
            },
            "text/plain": [
              "README.md:   0%|          | 0.00/10.7k [00:00<?, ?B/s]"
            ]
          },
          "metadata": {},
          "output_type": "display_data"
        },
        {
          "data": {
            "application/vnd.jupyter.widget-view+json": {
              "model_id": "14dab5be2ff343d3ad671ae9a0a52ad0",
              "version_major": 2,
              "version_minor": 0
            },
            "text/plain": [
              "sentence_bert_config.json:   0%|          | 0.00/53.0 [00:00<?, ?B/s]"
            ]
          },
          "metadata": {},
          "output_type": "display_data"
        },
        {
          "name": "stderr",
          "output_type": "stream",
          "text": [
            "c:\\Users\\sri.karan\\.conda\\envs\\rag\\lib\\site-packages\\huggingface_hub\\file_download.py:1132: FutureWarning: `resume_download` is deprecated and will be removed in version 1.0.0. Downloads always resume when possible. If you want to force a new download, use `force_download=True`.\n",
            "  warnings.warn(\n"
          ]
        },
        {
          "data": {
            "application/vnd.jupyter.widget-view+json": {
              "model_id": "f6cdf3819bbe4f5f8dc6c814d59773db",
              "version_major": 2,
              "version_minor": 0
            },
            "text/plain": [
              "config.json:   0%|          | 0.00/612 [00:00<?, ?B/s]"
            ]
          },
          "metadata": {},
          "output_type": "display_data"
        },
        {
          "data": {
            "application/vnd.jupyter.widget-view+json": {
              "model_id": "d59ad01e94e844f9bd8c21ab65beae7e",
              "version_major": 2,
              "version_minor": 0
            },
            "text/plain": [
              "model.safetensors:   0%|          | 0.00/90.9M [00:00<?, ?B/s]"
            ]
          },
          "metadata": {},
          "output_type": "display_data"
        },
        {
          "data": {
            "application/vnd.jupyter.widget-view+json": {
              "model_id": "a8632b897b8c478d90a53a978e0beaf3",
              "version_major": 2,
              "version_minor": 0
            },
            "text/plain": [
              "tokenizer_config.json:   0%|          | 0.00/350 [00:00<?, ?B/s]"
            ]
          },
          "metadata": {},
          "output_type": "display_data"
        },
        {
          "data": {
            "application/vnd.jupyter.widget-view+json": {
              "model_id": "e4adb5393ea04d41a9c9e290303f6f6d",
              "version_major": 2,
              "version_minor": 0
            },
            "text/plain": [
              "vocab.txt:   0%|          | 0.00/232k [00:00<?, ?B/s]"
            ]
          },
          "metadata": {},
          "output_type": "display_data"
        },
        {
          "data": {
            "application/vnd.jupyter.widget-view+json": {
              "model_id": "523fa6a6083b4b478bb11728efb59bab",
              "version_major": 2,
              "version_minor": 0
            },
            "text/plain": [
              "tokenizer.json:   0%|          | 0.00/466k [00:00<?, ?B/s]"
            ]
          },
          "metadata": {},
          "output_type": "display_data"
        },
        {
          "data": {
            "application/vnd.jupyter.widget-view+json": {
              "model_id": "9ff9fe2cf1fa4e1583112b87d7ebfdab",
              "version_major": 2,
              "version_minor": 0
            },
            "text/plain": [
              "special_tokens_map.json:   0%|          | 0.00/112 [00:00<?, ?B/s]"
            ]
          },
          "metadata": {},
          "output_type": "display_data"
        },
        {
          "data": {
            "application/vnd.jupyter.widget-view+json": {
              "model_id": "c5b81a8a8b2f46eb87e9cea6a706e151",
              "version_major": 2,
              "version_minor": 0
            },
            "text/plain": [
              "1_Pooling/config.json:   0%|          | 0.00/190 [00:00<?, ?B/s]"
            ]
          },
          "metadata": {},
          "output_type": "display_data"
        }
      ],
      "source": [
        "from haystack import Document\n",
        "from haystack.components.converters import OutputAdapter\n",
        "from haystack.components.embedders import SentenceTransformersDocumentEmbedder\n",
        "from typing import List\n",
        "\n",
        "adapter = OutputAdapter(\n",
        "    template=\"{{answers | build_doc}}\",\n",
        "    output_type=List[Document],\n",
        "    custom_filters={\"build_doc\": lambda data: [Document(content=d) for d in data]}\n",
        ")\n",
        "\n",
        "embedder = SentenceTransformersDocumentEmbedder(model=\"sentence-transformers/all-MiniLM-L6-v2\")#First, initialize the component\n",
        "embedder.warm_up()# Then, warm it up to load the model"
      ]
    },
    {
      "cell_type": "markdown",
      "metadata": {
        "id": "j6L5jXO0HcQo"
      },
      "source": [
        "Finally, we create a custom component, `HypotheticalDocumentEmbedder`, that expects `documents` and can return a list of `hypotethetical_embeddings` which is the average of the embeddings from the \"hypothetical\" (fake) documents. To learn more about this technique and where it's useful, check out our [Guide to HyDE](https://docs.haystack.deepset.ai/v2.0/docs/hypothetical-document-embeddings-hyde)"
      ]
    },
    {
      "cell_type": "code",
      "execution_count": 5,
      "metadata": {
        "id": "5A7nb9MaCXTH"
      },
      "outputs": [],
      "source": [
        "from numpy import array, mean\n",
        "from haystack import component\n",
        "\n",
        "@component\n",
        "class HypotheticalDocumentEmbedder:\n",
        "\n",
        "  @component.output_types(hypothetical_embedding=List[float])\n",
        "  def run(self, documents: List[Document]):\n",
        "    stacked_embeddings = array([doc.embedding for doc in documents])\n",
        "    avg_embeddings = mean(stacked_embeddings, axis=0)\n",
        "    hyde_vector = avg_embeddings.reshape((1, len(avg_embeddings)))\n",
        "    return {\"hypothetical_embedding\": hyde_vector[0].tolist()}"
      ]
    },
    {
      "cell_type": "markdown",
      "metadata": {
        "id": "0vCg130JIW3A"
      },
      "source": [
        "We add all of our components into a pipeline to genereate a hypothetical document embedding 🚀👇"
      ]
    },
    {
      "cell_type": "code",
      "execution_count": 6,
      "metadata": {
        "colab": {
          "base_uri": "https://localhost:8080/",
          "height": 49,
          "referenced_widgets": [
            "e37e414744b04538a24a6ee4d9a5ba90",
            "3a1bc15fb77943988919ca6f504f6d4f",
            "66455f3ba9594dada59f669a43c85e8f",
            "866bb81e20e24caaa363784f4fd048ec",
            "d437b2869445412e8cdbbfccc1c40101",
            "a4be69c6d110405ab55510b59b9a6f41",
            "0b4c12dbf599431c987339d2861fcb78",
            "5d4aebc2bf35465dbb6b02f6f3512d0b",
            "49d16d19959c43bb9bd5cd4ce9fd3850",
            "625f9cd6cb934f1984e2d4108d238c43",
            "c519b25093884b60bf9a826ea1ef36f3"
          ]
        },
        "id": "2sa91tDQCaHC",
        "outputId": "92359ba0-26e0-4ba0-85a1-5b9740d4ba66"
      },
      "outputs": [
        {
          "data": {
            "application/vnd.jupyter.widget-view+json": {
              "model_id": "e2fe9405c15f47a2881949859264e611",
              "version_major": 2,
              "version_minor": 0
            },
            "text/plain": [
              "Batches:   0%|          | 0/1 [00:00<?, ?it/s]"
            ]
          },
          "metadata": {},
          "output_type": "display_data"
        }
      ],
      "source": [
        "from haystack import Pipeline\n",
        "\n",
        "hyde = HypotheticalDocumentEmbedder()\n",
        "\n",
        "pipeline = Pipeline()\n",
        "pipeline.add_component(name=\"prompt_builder\", instance=prompt_builder)\n",
        "pipeline.add_component(name=\"generator\", instance=generator)\n",
        "pipeline.add_component(name=\"adapter\", instance=adapter)\n",
        "pipeline.add_component(name=\"embedder\", instance=embedder)\n",
        "pipeline.add_component(name=\"hyde\", instance=hyde)\n",
        "\n",
        "pipeline.connect(\"prompt_builder\", \"generator\")\n",
        "pipeline.connect(\"generator.replies\", \"adapter.answers\")\n",
        "pipeline.connect(\"adapter.output\", \"embedder.documents\")\n",
        "pipeline.connect(\"embedder.documents\", \"hyde.documents\")\n",
        "\n",
        "query = \"What should I do if I have a fever?\"\n",
        "result = pipeline.run(data={\"prompt_builder\": {\"question\": query}})"
      ]
    },
    {
      "cell_type": "code",
      "execution_count": 7,
      "metadata": {
        "colab": {
          "base_uri": "https://localhost:8080/"
        },
        "id": "AtR8JLUmKqwI",
        "outputId": "80cec7d3-e66b-487d-8c05-a4f362146645"
      },
      "outputs": [
        {
          "name": "stdout",
          "output_type": "stream",
          "text": [
            "{'hypothetical_embedding': [0.0034947479609400032, 0.03057028278708458, 0.03657022649422288, 0.04142231792211533, 0.06088000908493996, 0.010732880351133645, 0.0015576664241962134, 0.039151085913181304, 0.019605993758887053, -0.02549406196922064, -0.08347966894507408, -0.04400303736329079, 0.07709210589528084, 0.0879963144659996, 0.03589583393186331, -0.0796284593641758, 0.018148287758231164, 0.005981175787746906, -0.003148116637021303, -0.0267334271222353, -0.1018729031085968, -0.02116571506485343, -0.023622474120929837, 0.03710565268993378, -0.024143813364207744, 0.10136220008134841, 0.03964416553499177, 0.027055959217250347, -0.003908039559610188, 0.029470601864159108, 0.007206507958471775, -0.03363596126437187, 0.007229621731676161, -0.03701051119714975, -0.019760082056745887, 0.07434764429926873, -0.024239076115190984, -0.023802184872329234, -0.04384289793670178, 0.044565974920988086, 0.0099062564317137, 0.10630172193050384, 0.00034430441446602343, -0.023563247919082642, 0.09104609340429307, 0.042888098210096356, -0.07983919754624366, 0.09440694153308868, 0.0636829487979412, 0.04257763884961605, 0.041470589116215706, 0.047790976241230965, 0.008122842013835906, 0.06100022569298744, -0.04006655216217041, 0.08480333313345909, -0.04707277212291956, -0.08601123988628387, -0.023455779440701006, 0.013357534632086753, -0.10489105880260467, 0.019823193736374378, 0.021938134077936412, -0.03958089724183082, -0.031373768113553524, -0.018551886733621358, -0.04554397985339165, 0.01827452052384615, 0.03535498827695847, 0.09825698733329773, -0.015412799501791596, -0.03958037495613098, 0.07846179753541946, -0.006067100318614393, -0.028560795402154327, -0.04867162443697452, 0.09659145474433899, -0.07715775594115257, 0.04385489709675312, 0.05293051823973656, 0.0063073704019188884, -0.0289536215364933, 0.06835080981254578, 0.040731693431735036, -0.003922953363507986, -0.015663973809569142, 0.11238164007663727, 0.031240012985654174, -0.006231787102296949, 0.030363505706191063, 0.04637716747820377, -0.04310102723538876, 0.00970112457871437, 0.002950164722278714, 0.05102662220597267, 0.037594543769955635, 0.00785821070894599, 0.029366953298449516, -0.03866969905793667, 0.012427923735231161, -0.036558258533477786, -0.11752929836511612, -0.011236021667718888, 0.043607878405600785, 0.07828977853059768, -0.040719848871231076, 0.05225258134305477, -0.05253422185778618, 0.07266278266906738, -0.07410723939538003, 0.006915196764748543, 0.04226762764155865, -0.0214293347671628, 0.010331200994551181, -0.007313142763450742, -0.0020102534093894065, 0.030505123920738696, 0.022172742569819093, -0.04621110931038856, 0.01812127325683832, 0.0423364732414484, -0.022856550477445125, 0.03514059837907553, -0.013437378616072238, 0.024980631191283464, 0.03558010421693325, 0.06760179921984673, 1.1494974942850361e-33, -0.007521347887814045, 0.04849887639284134, 0.02758322274312377, 0.021976756580988875, 0.0299095805734396, -0.030944199487566947, -0.035114535689353944, 0.01830327408388257, 0.006922490429133177, -0.03891379050910473, 0.08755920976400375, -0.020674042776226996, -0.01763559114187956, 0.030276718363165856, -0.0905669316649437, 0.024365011136978865, -0.0009111656807363033, -0.015390789683442563, 0.06250874772667885, 0.016896425932645797, 0.04790697656571865, -0.06242187954485416, 0.0006656651385128498, 0.03521694391965866, -0.01734356596134603, 0.027702882140874862, 0.006668532406911254, 0.05167159885168075, 0.0019832228717859834, -0.02729184180498123, -0.03611192051321268, -0.05894148536026478, -0.040746565395966175, 0.03857704438269138, -0.06559788547456265, 0.029525181092321873, -0.09662980735301971, 0.029436761396937072, 0.019005574565380812, -0.018237824365496636, 0.04643811518326402, 0.026251167897135018, -0.05817359052598477, 0.06304657161235809, 0.06297839656472207, 0.0066227932460606095, -0.05499393604695797, 0.029127100855112074, -0.07158666104078293, -0.03524390645325184, -0.0020867735147476196, 0.00014580212300643324, 0.06728844195604325, -0.05514283925294876, -0.0617268443107605, -0.06835629865527153, 0.009021535783540457, 0.0021856619976460935, 0.0007681336253881454, 0.001623561861924827, 0.054713548719882966, -0.03589316867291927, -0.021897599473595618, 0.01211924697854556, 0.006049391953274608, 0.01120835542678833, 0.0038205719261895864, -0.021096595237031578, -0.009017083048820495, -0.05747304558753967, -0.026408160477876662, 0.029566080402582885, 0.007687290947069414, 0.11623635292053222, -0.02917631287127733, 0.011186229414306581, 0.05053156167268753, -0.09533824175596237, -0.0709231823682785, -0.039434322901070115, -0.007549944031052291, -0.01119264264125377, 0.13252974599599837, 0.07681130468845368, 0.07259867787361145, -0.107719524204731, -0.07380754202604294, 0.04113501496613026, -0.021924432646483184, -0.0252545015886426, -0.013562388997524977, -0.02451697359792888, -0.021752804331481457, 0.08848593682050705, -0.032121697813272475, -2.7557221697528383e-33, 0.07459419965744019, -0.03094595279544592, -0.010126493126153945, -0.016345809726044536, -0.08086102306842805, 0.030146766151301563, 0.014451500680297612, -0.023980436357669534, -0.003735868586227298, -0.019154762476682664, 0.03390761148184538, -0.09940588623285293, -0.03839915655553341, -0.08786333352327347, -0.01945425933226943, 0.011960936384275556, 0.05037178844213486, 0.04390907362103462, -0.019252418377436697, 0.09292656183242798, -0.09950109720230102, -0.042866123467683794, 0.07719487100839614, -0.04795649945735932, 0.03227812573313713, -0.0067069765878841284, 0.038596446812152865, -0.076947520673275, -0.06450863853096962, -0.02757240505889058, 0.04122944921255112, -0.03409020863473415, 0.00866717048920691, -0.061273496598005295, -0.013768520392477512, 0.044123077765107155, 0.1153849259018898, -0.068302670866251, -0.003387873247265816, 0.06598713472485543, 0.03889103680849075, 0.0014077759347856044, 0.007681993604637683, 0.05242245346307754, 0.03671434037387371, 0.06693727225065231, -0.06707159653306008, -0.0043589041335508226, -0.01848229793831706, 0.07064268961548806, 0.01426858939230442, -0.064541245251894, -0.038935884833335876, 0.03147466827649623, -0.028416763804852963, -0.08379192352294922, -0.1236641988158226, -0.07694301530718803, -0.03830846287310123, 0.016195404122117906, -0.01625042600207962, -0.06848574057221413, -0.055788475275039676, 0.03626959156244993, -0.05992938913404942, 0.010243172314949334, -0.02013276293873787, 0.04181840233504772, 0.024606815353035928, -0.015062155527994036, -0.016399190947413444, -0.03711199164390564, -0.06221142709255219, 0.04665774814784527, 0.0630697786808014, -0.03364995376905426, -0.016917979065328836, 0.03561486322432757, 0.04490152969956398, -0.036349982023239136, -0.008360478095710278, 0.03988664299249649, -0.027600932121276855, -0.059948479384183885, -0.0278291636146605, -0.037212039530277255, 0.046452180668711665, -0.006240164767950774, -0.019888581521809102, -0.018019329861272127, 0.039319464936852455, -0.06674303188920021, -0.010015939688310027, 0.11099620163440704, -0.026062923669815063, -4.1458513067027525e-08, 0.026501143351197243, -0.06966278403997421, 0.051897139847278596, 0.0038025473710149526, -0.06482789292931557, -0.03683735281229019, -0.028495609015226363, -0.029843191150575876, 0.008249782101484016, 0.01887082140892744, -0.034392814710736276, 0.05612771287560463, 0.07285095378756523, 0.0032710487954318523, -0.09508362412452698, -0.014553102850914, 0.012510378658771516, -0.02036048984155059, -0.004870329715777189, -0.0014495314564555884, -0.022052720468491317, -0.05410519912838936, 0.013917193934321403, 0.02855077348649502, 0.1337154909968376, -0.007231728546321392, 0.04810364916920662, -0.020208649709820746, -0.0059344917070120575, -0.05077577978372574, -0.08823136538267136, -0.010664203483611346, -0.04245627857744694, -0.06013500839471817, 0.017164664529263973, -0.018859491497278214, 0.11723682135343552, -0.0266402218490839, 0.07066506519913673, -0.02046027793549001, 0.03444617502391338, -0.03493550047278404, -0.04397416934370994, -0.004118610732257366, 0.019288788875564934, -0.10733808279037475, 0.012544593401253223, -0.004056943324394524, 0.060639762133359906, -0.07253722473978996, 0.08037404417991638, -0.05567329153418541, 0.04573984146118164, 0.03488763626664877, -0.07716249451041221, -0.043411169573664664, -0.04582436978816986, -0.005462793141123257, 0.031324279680848124, -0.04703619107604027, -0.019382126815617084, -0.05348599255084992, -0.12638348042964936, -0.0502726249396801]}\n"
          ]
        }
      ],
      "source": [
        "print(result[\"hyde\"])"
      ]
    },
    {
      "cell_type": "markdown",
      "metadata": {
        "id": "8TaYDwNmKzkH"
      },
      "source": [
        "## Build a HyDE Component That Encapsulates the Whole Logic\n",
        "\n",
        "This section shows you how to create a `HypotheticalDocumentEmbedder` that instead, encapsulates the entire logic, and also allows us to provide the embedding model as an optional parameter.\n",
        "\n",
        "This \"mega\" components does a few things:\n",
        "\n",
        "- Allows the user to pick the LLM which generates the hypothetical documents\n",
        "- Allows users to define how many documents should be created with `nr_completions`\n",
        "- Allows users to define the embedding model they want to use to generate the HyDE embeddings.\n",
        "\n"
      ]
    },
    {
      "cell_type": "code",
      "execution_count": 8,
      "metadata": {
        "id": "_57Um_GtKsfM"
      },
      "outputs": [],
      "source": [
        "from haystack import Pipeline, component, Document, default_to_dict, default_from_dict\n",
        "from haystack.components.converters import OutputAdapter\n",
        "from haystack.components.embedders.sentence_transformers_document_embedder import SentenceTransformersDocumentEmbedder\n",
        "from haystack.components.generators.openai import OpenAIGenerator\n",
        "from haystack.components.builders import PromptBuilder\n",
        "\n",
        "from typing import Dict, Any, List\n",
        "from numpy import array, mean\n",
        "from haystack.utils import Secret\n",
        "\n",
        "\n",
        "@component\n",
        "class HypotheticalDocumentEmbedder:\n",
        "\n",
        "    def __init__(\n",
        "        self,\n",
        "        instruct_llm: str = \"gpt-3.5-turbo\",\n",
        "        instruct_llm_api_key: Secret = Secret.from_env_var(\"OPENAI_API_KEY\"),\n",
        "        nr_completions: int = 5,\n",
        "        embedder_model: str = \"sentence-transformers/all-MiniLM-L6-v2\",\n",
        "    ):\n",
        "        self.instruct_llm = instruct_llm\n",
        "        self.instruct_llm_api_key = instruct_llm_api_key\n",
        "        self.nr_completions = nr_completions\n",
        "        self.embedder_model = embedder_model\n",
        "        self.generator = OpenAIGenerator(\n",
        "            api_key=self.instruct_llm_api_key,\n",
        "            model=self.instruct_llm,\n",
        "            generation_kwargs={\"n\": self.nr_completions, \"temperature\": 0.75, \"max_tokens\": 400},\n",
        "        )\n",
        "        self.prompt_builder = PromptBuilder(\n",
        "            template=\"\"\"Given a question, generate a paragraph of text that answers the question.\n",
        "            Question: {{question}}\n",
        "            Paragraph:\n",
        "            \"\"\"\n",
        "        )\n",
        "\n",
        "        self.adapter = OutputAdapter(\n",
        "            template=\"{{answers | build_doc}}\",\n",
        "            output_type=List[Document],\n",
        "            custom_filters={\"build_doc\": lambda data: [Document(content=d) for d in data]},\n",
        "        )\n",
        "\n",
        "        self.embedder = SentenceTransformersDocumentEmbedder(model=embedder_model, progress_bar=False)\n",
        "        self.embedder.warm_up()\n",
        "\n",
        "        self.pipeline = Pipeline()\n",
        "        self.pipeline.add_component(name=\"prompt_builder\", instance=self.prompt_builder)\n",
        "        self.pipeline.add_component(name=\"generator\", instance=self.generator)\n",
        "        self.pipeline.add_component(name=\"adapter\", instance=self.adapter)\n",
        "        self.pipeline.add_component(name=\"embedder\", instance=self.embedder)\n",
        "        self.pipeline.connect(\"prompt_builder\", \"generator\")\n",
        "        self.pipeline.connect(\"generator.replies\", \"adapter.answers\")\n",
        "        self.pipeline.connect(\"adapter.output\", \"embedder.documents\")\n",
        "\n",
        "    def to_dict(self) -> Dict[str, Any]:\n",
        "        data = default_to_dict(\n",
        "            self,\n",
        "            instruct_llm=self.instruct_llm,\n",
        "            instruct_llm_api_key=self.instruct_llm_api_key,\n",
        "            nr_completions=self.nr_completions,\n",
        "            embedder_model=self.embedder_model,\n",
        "        )\n",
        "        data[\"pipeline\"] = self.pipeline.to_dict()\n",
        "        return data\n",
        "\n",
        "    @classmethod\n",
        "    def from_dict(cls, data: Dict[str, Any]) -> \"HypotheticalDocumentEmbedder\":\n",
        "        hyde_obj = default_from_dict(cls, data)\n",
        "        hyde_obj.pipeline = Pipeline.from_dict(data[\"pipeline\"])\n",
        "        return hyde_obj\n",
        "\n",
        "    @component.output_types(hypothetical_embedding=List[float])\n",
        "    def run(self, query: str):\n",
        "        result = self.pipeline.run(data={\"prompt_builder\": {\"question\": query}})\n",
        "        # return a single query vector embedding representing the average of the hypothetical document embeddings\n",
        "        stacked_embeddings = array([doc.embedding for doc in result[\"embedder\"][\"documents\"]])\n",
        "        avg_embeddings = mean(stacked_embeddings, axis=0)\n",
        "        hyde_vector = avg_embeddings.reshape((1, len(avg_embeddings)))\n",
        "        return {\"hypothetical_embedding\": hyde_vector[0].tolist()}"
      ]
    },
    {
      "cell_type": "markdown",
      "metadata": {
        "id": "z3BTZF6qMtTY"
      },
      "source": [
        "## Use HyDE For Retrieval\n",
        "\n",
        "Let's see how we can use this component in a full pipeline. First, let's index some documents into an `InMemoryDocumentStore`"
      ]
    },
    {
      "cell_type": "code",
      "execution_count": 9,
      "metadata": {
        "colab": {
          "base_uri": "https://localhost:8080/",
          "height": 145,
          "referenced_widgets": [
            "76720573a77442408a924d14c563d711",
            "d15fb403b71d4bff843c5a387a5ea36c",
            "9d8125468bf74c1589fcbe04b0623926",
            "efbcd9eaef6c40f48721cd1ef81ad4ea",
            "f6b5bb6382964c36999cd4c6982b664f",
            "897db75b6abc4cd0923d7caf2448e82b",
            "3afaf53201e94c7e8ba391b95fc1c3d8",
            "1ae296845e2142f0a78b743ecd22ace2",
            "fa5edd6cc3544e2b8ed9165b1536a8fe",
            "43f1affb1f9d4597b2ed08f4dccfa82d",
            "7f8a1097e0b54ac9bede391ae62a5ea0",
            "bfa1065e3afd4d6ab9d8b9cce855730f",
            "b0b397924c2f498db32d7cb57b2648db",
            "8c691d394cf24eb2b6eb61b2d17d59c7",
            "23c5ec7c16144c2e83e57ff396a9a98b",
            "cdbec1d537854931b737ffa577dd3fa6",
            "c7913c050b574b298c8a11ee6ab0fcfd",
            "d689fe03f55f4148b4f62445873b055c",
            "4ef80343c53e40a7804aae8be58bc24e",
            "f0e778c920f043349c44ddc66518b59b",
            "c3db2230ae9e40c597548a551bc5e4d6",
            "a561031934464b0194d648c18fa96076",
            "0cd8313fe64c4f62aa1235b778266137",
            "c7eb9ba2c7794e68a5e3b4f73e5b069a",
            "d3ae8fb928144977823d719cc71bf943",
            "1295414dbaf6409d8c78091e4003c8f6",
            "61119518e3104ccab011ece38978abc5",
            "716bec098dc240fd849be1e70c23b958",
            "e830d27e5dc4418588a65af93c32f7e6",
            "434bd85cc1694c76bd76cfd62f9a9be5",
            "d02c59ff64d64a619df33657727c2ac4",
            "df4fb8b15c8e4464b5834c6a3dbd12c9",
            "9df88f66f7854edaa8c37253a159a51e",
            "09b1b88ae086428ea2f2fcce7fec4be1",
            "2d6db0c1041744dd9671f0b9c7352dd5",
            "752a21d454cc468abb9dcff5c12ecd2d",
            "37e00469a4f94143a488879c6e6535bf",
            "3ec4e9cbfaad40d9827a4d879fded0bc",
            "4ce3d94567de4eb48ae6653d16a53b03",
            "16b211c5cad1464d9c50a7bad22a2e24",
            "7ea1fc96fc7f46699ce20eed96902e8f",
            "d9a5c93f47954f00bb4d7b2562b87e60",
            "efdebbeba075454c896231a39ecd9002",
            "c30cb96c9c9f4846ab4bf94fe2e2ad9d"
          ]
        },
        "id": "9tb9zO_vMzuf",
        "outputId": "f059661e-6656-46b0-9e0f-344999d7de0d"
      },
      "outputs": [
        {
          "data": {
            "application/vnd.jupyter.widget-view+json": {
              "model_id": "420e6323ceb14d1093c21473de0250be",
              "version_major": 2,
              "version_minor": 0
            },
            "text/plain": [
              "Downloading metadata:   0%|          | 0.00/1.51k [00:00<?, ?B/s]"
            ]
          },
          "metadata": {},
          "output_type": "display_data"
        },
        {
          "data": {
            "application/vnd.jupyter.widget-view+json": {
              "model_id": "3b4188391a56471b92bd9156cbd3bf03",
              "version_major": 2,
              "version_minor": 0
            },
            "text/plain": [
              "Downloading data:   0%|          | 0.00/1.53M [00:00<?, ?B/s]"
            ]
          },
          "metadata": {},
          "output_type": "display_data"
        },
        {
          "data": {
            "application/vnd.jupyter.widget-view+json": {
              "model_id": "58e8060db4594a3c8aa9931f0c39b961",
              "version_major": 2,
              "version_minor": 0
            },
            "text/plain": [
              "Generating train split:   0%|          | 0/2357 [00:00<?, ? examples/s]"
            ]
          },
          "metadata": {},
          "output_type": "display_data"
        },
        {
          "data": {
            "application/vnd.jupyter.widget-view+json": {
              "model_id": "6d39fe70e0ba44a38466e38e0f92dd70",
              "version_major": 2,
              "version_minor": 0
            },
            "text/plain": [
              "Batches:   0%|          | 0/103 [00:00<?, ?it/s]"
            ]
          },
          "metadata": {},
          "output_type": "display_data"
        }
      ],
      "source": [
        "from datasets import load_dataset, Dataset\n",
        "\n",
        "from haystack import Pipeline, Document\n",
        "from haystack.components.embedders import SentenceTransformersDocumentEmbedder\n",
        "from haystack.components.preprocessors import DocumentCleaner, DocumentSplitter\n",
        "from haystack.components.writers import DocumentWriter\n",
        "from haystack.document_stores.in_memory import InMemoryDocumentStore\n",
        "\n",
        "embedder_model = \"sentence-transformers/all-MiniLM-L6-v2\"\n",
        "\n",
        "\n",
        "def index_docs(data: Dataset):\n",
        "    # create a data store and indexing pipeline with the components\n",
        "    document_store = InMemoryDocumentStore()\n",
        "\n",
        "    pipeline = Pipeline()\n",
        "    pipeline.add_component(\"cleaner\", DocumentCleaner())\n",
        "    pipeline.add_component(\"splitter\", DocumentSplitter(split_by=\"sentence\", split_length=10))\n",
        "    pipeline.add_component(\"embedder\", SentenceTransformersDocumentEmbedder(model=embedder_model))\n",
        "    pipeline.add_component(\"writer\", DocumentWriter(document_store=document_store, policy=\"skip\"))\n",
        "\n",
        "    # connect the components\n",
        "    pipeline.connect(\"cleaner\", \"splitter\")\n",
        "    pipeline.connect(\"splitter\", \"embedder\")\n",
        "    pipeline.connect(\"embedder\", \"writer\")\n",
        "\n",
        "    # index the documents and return the data store\n",
        "    pipeline.run({\"cleaner\": {\"documents\": [Document.from_dict(doc) for doc in data[\"train\"]]}})\n",
        "    return document_store\n",
        "\n",
        "\n",
        "data = load_dataset(\"Tuana/game-of-thrones\")\n",
        "doc_store = index_docs(data)"
      ]
    },
    {
      "cell_type": "markdown",
      "metadata": {
        "id": "b0Fq-oSUNkvE"
      },
      "source": [
        "We can now run a retrieval pipeline that doesn't just retrieve based on the query embeddings, instead, it uses the `HypotheticalDocumentEmbedder` to create hypothetical document embeddings based on our `query` and uses these new embeddings to retrieve documents."
      ]
    },
    {
      "cell_type": "code",
      "execution_count": 10,
      "metadata": {
        "colab": {
          "base_uri": "https://localhost:8080/"
        },
        "id": "whyIdwT_M5QQ",
        "outputId": "e8b0dada-c7f6-4169-c784-150a5d0f5f76"
      },
      "outputs": [
        {
          "data": {
            "text/plain": [
              "{'retriever': {'documents': [Document(id=f21283f81311acf8c402cc0ef79a1fcc1d583fdfade0f48939c08d2242a44985, content: ''''Arya Stark''' is a fictional character in American author George R. R. Martin's ''A Song of Ice a...', meta: {'name': '43_Arya_Stark.txt', 'source_id': '557ad8704d47b0e12aef859563c87c86782b832f3d06909ede1c0e36dc039540', 'page_number': 1, 'split_id': 0, 'split_idx_start': 0}, score: 0.7199782127335106),\n",
              "   Document(id=097bcaeffac04eaa9f97320bb9c15a692e95a427a86f60270abb18c079ebd867, content: '=== Sansa Stark ===\n",
              "   Sansa Stark is the second child and elder daughter of Eddard and Catelyn Stark. ...', meta: {'name': '30_List_of_A_Song_of_Ice_and_Fire_characters.txt', 'source_id': '0c945854b1eb4db6cde79229fb608b5d22933274396a52b0fb0c1945e8fcde36', 'page_number': 1, 'split_id': 0, 'split_idx_start': 0}, score: 0.7009547645339009),\n",
              "   Document(id=a89c0e8f7acd10f8e7b87577f00287f4f82d78e316e2c32f25ffedaafaae8f10, content: '===Arya Stark===\n",
              "   '''Arya Stark''' portrayed by Maisie Williams. Arya Stark of House Stark is the you...', meta: {'name': '349_List_of_Game_of_Thrones_characters.txt', 'source_id': '4c711b50138e5db004b183dd8e5e7a3fe3bf7360b317d61f0a31168fbd311c1e', 'page_number': 1, 'split_id': 0, 'split_idx_start': 0}, score: 0.679284499458504),\n",
              "   Document(id=308c61926844aa727a6594a341bfad6d5b9423b4c339e65f8a473135b5c64351, content: '=== Arya Stark ===\n",
              "   Arya Stark is the third child and younger daughter of Eddard and Catelyn Stark. S...', meta: {'name': '30_List_of_A_Song_of_Ice_and_Fire_characters.txt', 'source_id': '149b834592e852fb81df0b4d0b7f31fcb4253b4987da2ea6fda829e322e4b105', 'page_number': 1, 'split_id': 0, 'split_idx_start': 0}, score: 0.675467480904542),\n",
              "   Document(id=d3bc799593b5b2e3fa3b93c5937c2e501f738bd0fded0c9bfd4b49f2b320bdbb, content: ' She has her hair dyed dark brown later on while in the Vale, disguised as Alayne Stone, the bastard...', meta: {'name': '332_Sansa_Stark.txt', 'source_id': '513d0a12d54860cd1f9837ca95f59217b2f6efa3c35e1780798b061e7ddd0c18', 'page_number': 1, 'split_id': 1, 'split_idx_start': 1110}, score: 0.6747864936550155)]}}"
            ]
          },
          "execution_count": 10,
          "metadata": {},
          "output_type": "execute_result"
        }
      ],
      "source": [
        "from haystack.components.retrievers.in_memory import InMemoryEmbeddingRetriever\n",
        "\n",
        "def retriever_with_hyde(doc_store):\n",
        "    hyde = HypotheticalDocumentEmbedder(instruct_llm=\"gpt-3.5-turbo\", nr_completions=5)\n",
        "    retriever = InMemoryEmbeddingRetriever(document_store=doc_store)\n",
        "\n",
        "    retrieval_pipeline = Pipeline()\n",
        "    retrieval_pipeline.add_component(instance=hyde, name=\"query_embedder\")\n",
        "    retrieval_pipeline.add_component(instance=retriever, name=\"retriever\")\n",
        "\n",
        "    retrieval_pipeline.connect(\"query_embedder.hypothetical_embedding\", \"retriever.query_embedding\")\n",
        "    return retrieval_pipeline\n",
        "\n",
        "retrieval_pipeline = retriever_with_hyde(doc_store)\n",
        "query = \"Who is Araya Stark?\"\n",
        "retrieval_pipeline.run(data={\"query_embedder\": {\"query\": query}, \"retriever\": {\"top_k\": 5}})"
      ]
    }
  ],
  "metadata": {
    "colab": {
      "provenance": []
    },
    "kernelspec": {
      "display_name": "Python 3",
      "name": "python3"
    },
    "language_info": {
      "codemirror_mode": {
        "name": "ipython",
        "version": 3
      },
      "file_extension": ".py",
      "mimetype": "text/x-python",
      "name": "python",
      "nbconvert_exporter": "python",
      "pygments_lexer": "ipython3",
      "version": "3.10.14"
    },
    "widgets": {
      "application/vnd.jupyter.widget-state+json": {
        "09b1b88ae086428ea2f2fcce7fec4be1": {
          "model_module": "@jupyter-widgets/controls",
          "model_module_version": "1.5.0",
          "model_name": "HBoxModel",
          "state": {
            "_dom_classes": [],
            "_model_module": "@jupyter-widgets/controls",
            "_model_module_version": "1.5.0",
            "_model_name": "HBoxModel",
            "_view_count": null,
            "_view_module": "@jupyter-widgets/controls",
            "_view_module_version": "1.5.0",
            "_view_name": "HBoxView",
            "box_style": "",
            "children": [
              "IPY_MODEL_2d6db0c1041744dd9671f0b9c7352dd5",
              "IPY_MODEL_752a21d454cc468abb9dcff5c12ecd2d",
              "IPY_MODEL_37e00469a4f94143a488879c6e6535bf"
            ],
            "layout": "IPY_MODEL_3ec4e9cbfaad40d9827a4d879fded0bc"
          }
        },
        "0b4c12dbf599431c987339d2861fcb78": {
          "model_module": "@jupyter-widgets/controls",
          "model_module_version": "1.5.0",
          "model_name": "DescriptionStyleModel",
          "state": {
            "_model_module": "@jupyter-widgets/controls",
            "_model_module_version": "1.5.0",
            "_model_name": "DescriptionStyleModel",
            "_view_count": null,
            "_view_module": "@jupyter-widgets/base",
            "_view_module_version": "1.2.0",
            "_view_name": "StyleView",
            "description_width": ""
          }
        },
        "0cd8313fe64c4f62aa1235b778266137": {
          "model_module": "@jupyter-widgets/controls",
          "model_module_version": "1.5.0",
          "model_name": "HBoxModel",
          "state": {
            "_dom_classes": [],
            "_model_module": "@jupyter-widgets/controls",
            "_model_module_version": "1.5.0",
            "_model_name": "HBoxModel",
            "_view_count": null,
            "_view_module": "@jupyter-widgets/controls",
            "_view_module_version": "1.5.0",
            "_view_name": "HBoxView",
            "box_style": "",
            "children": [
              "IPY_MODEL_c7eb9ba2c7794e68a5e3b4f73e5b069a",
              "IPY_MODEL_d3ae8fb928144977823d719cc71bf943",
              "IPY_MODEL_1295414dbaf6409d8c78091e4003c8f6"
            ],
            "layout": "IPY_MODEL_61119518e3104ccab011ece38978abc5"
          }
        },
        "1295414dbaf6409d8c78091e4003c8f6": {
          "model_module": "@jupyter-widgets/controls",
          "model_module_version": "1.5.0",
          "model_name": "HTMLModel",
          "state": {
            "_dom_classes": [],
            "_model_module": "@jupyter-widgets/controls",
            "_model_module_version": "1.5.0",
            "_model_name": "HTMLModel",
            "_view_count": null,
            "_view_module": "@jupyter-widgets/controls",
            "_view_module_version": "1.5.0",
            "_view_name": "HTMLView",
            "description": "",
            "description_tooltip": null,
            "layout": "IPY_MODEL_df4fb8b15c8e4464b5834c6a3dbd12c9",
            "placeholder": "​",
            "style": "IPY_MODEL_9df88f66f7854edaa8c37253a159a51e",
            "value": " 2357/2357 [00:00&lt;00:00, 25078.51 examples/s]"
          }
        },
        "16b211c5cad1464d9c50a7bad22a2e24": {
          "model_module": "@jupyter-widgets/controls",
          "model_module_version": "1.5.0",
          "model_name": "DescriptionStyleModel",
          "state": {
            "_model_module": "@jupyter-widgets/controls",
            "_model_module_version": "1.5.0",
            "_model_name": "DescriptionStyleModel",
            "_view_count": null,
            "_view_module": "@jupyter-widgets/base",
            "_view_module_version": "1.2.0",
            "_view_name": "StyleView",
            "description_width": ""
          }
        },
        "1ae296845e2142f0a78b743ecd22ace2": {
          "model_module": "@jupyter-widgets/base",
          "model_module_version": "1.2.0",
          "model_name": "LayoutModel",
          "state": {
            "_model_module": "@jupyter-widgets/base",
            "_model_module_version": "1.2.0",
            "_model_name": "LayoutModel",
            "_view_count": null,
            "_view_module": "@jupyter-widgets/base",
            "_view_module_version": "1.2.0",
            "_view_name": "LayoutView",
            "align_content": null,
            "align_items": null,
            "align_self": null,
            "border": null,
            "bottom": null,
            "display": null,
            "flex": null,
            "flex_flow": null,
            "grid_area": null,
            "grid_auto_columns": null,
            "grid_auto_flow": null,
            "grid_auto_rows": null,
            "grid_column": null,
            "grid_gap": null,
            "grid_row": null,
            "grid_template_areas": null,
            "grid_template_columns": null,
            "grid_template_rows": null,
            "height": null,
            "justify_content": null,
            "justify_items": null,
            "left": null,
            "margin": null,
            "max_height": null,
            "max_width": null,
            "min_height": null,
            "min_width": null,
            "object_fit": null,
            "object_position": null,
            "order": null,
            "overflow": null,
            "overflow_x": null,
            "overflow_y": null,
            "padding": null,
            "right": null,
            "top": null,
            "visibility": null,
            "width": null
          }
        },
        "23c5ec7c16144c2e83e57ff396a9a98b": {
          "model_module": "@jupyter-widgets/controls",
          "model_module_version": "1.5.0",
          "model_name": "HTMLModel",
          "state": {
            "_dom_classes": [],
            "_model_module": "@jupyter-widgets/controls",
            "_model_module_version": "1.5.0",
            "_model_name": "HTMLModel",
            "_view_count": null,
            "_view_module": "@jupyter-widgets/controls",
            "_view_module_version": "1.5.0",
            "_view_name": "HTMLView",
            "description": "",
            "description_tooltip": null,
            "layout": "IPY_MODEL_c3db2230ae9e40c597548a551bc5e4d6",
            "placeholder": "​",
            "style": "IPY_MODEL_a561031934464b0194d648c18fa96076",
            "value": " 1.53M/1.53M [00:00&lt;00:00, 2.73MB/s]"
          }
        },
        "2d6db0c1041744dd9671f0b9c7352dd5": {
          "model_module": "@jupyter-widgets/controls",
          "model_module_version": "1.5.0",
          "model_name": "HTMLModel",
          "state": {
            "_dom_classes": [],
            "_model_module": "@jupyter-widgets/controls",
            "_model_module_version": "1.5.0",
            "_model_name": "HTMLModel",
            "_view_count": null,
            "_view_module": "@jupyter-widgets/controls",
            "_view_module_version": "1.5.0",
            "_view_name": "HTMLView",
            "description": "",
            "description_tooltip": null,
            "layout": "IPY_MODEL_4ce3d94567de4eb48ae6653d16a53b03",
            "placeholder": "​",
            "style": "IPY_MODEL_16b211c5cad1464d9c50a7bad22a2e24",
            "value": "Batches: 100%"
          }
        },
        "37e00469a4f94143a488879c6e6535bf": {
          "model_module": "@jupyter-widgets/controls",
          "model_module_version": "1.5.0",
          "model_name": "HTMLModel",
          "state": {
            "_dom_classes": [],
            "_model_module": "@jupyter-widgets/controls",
            "_model_module_version": "1.5.0",
            "_model_name": "HTMLModel",
            "_view_count": null,
            "_view_module": "@jupyter-widgets/controls",
            "_view_module_version": "1.5.0",
            "_view_name": "HTMLView",
            "description": "",
            "description_tooltip": null,
            "layout": "IPY_MODEL_efdebbeba075454c896231a39ecd9002",
            "placeholder": "​",
            "style": "IPY_MODEL_c30cb96c9c9f4846ab4bf94fe2e2ad9d",
            "value": " 103/103 [07:13&lt;00:00,  2.40it/s]"
          }
        },
        "3a1bc15fb77943988919ca6f504f6d4f": {
          "model_module": "@jupyter-widgets/controls",
          "model_module_version": "1.5.0",
          "model_name": "HTMLModel",
          "state": {
            "_dom_classes": [],
            "_model_module": "@jupyter-widgets/controls",
            "_model_module_version": "1.5.0",
            "_model_name": "HTMLModel",
            "_view_count": null,
            "_view_module": "@jupyter-widgets/controls",
            "_view_module_version": "1.5.0",
            "_view_name": "HTMLView",
            "description": "",
            "description_tooltip": null,
            "layout": "IPY_MODEL_a4be69c6d110405ab55510b59b9a6f41",
            "placeholder": "​",
            "style": "IPY_MODEL_0b4c12dbf599431c987339d2861fcb78",
            "value": "Batches: 100%"
          }
        },
        "3afaf53201e94c7e8ba391b95fc1c3d8": {
          "model_module": "@jupyter-widgets/controls",
          "model_module_version": "1.5.0",
          "model_name": "DescriptionStyleModel",
          "state": {
            "_model_module": "@jupyter-widgets/controls",
            "_model_module_version": "1.5.0",
            "_model_name": "DescriptionStyleModel",
            "_view_count": null,
            "_view_module": "@jupyter-widgets/base",
            "_view_module_version": "1.2.0",
            "_view_name": "StyleView",
            "description_width": ""
          }
        },
        "3ec4e9cbfaad40d9827a4d879fded0bc": {
          "model_module": "@jupyter-widgets/base",
          "model_module_version": "1.2.0",
          "model_name": "LayoutModel",
          "state": {
            "_model_module": "@jupyter-widgets/base",
            "_model_module_version": "1.2.0",
            "_model_name": "LayoutModel",
            "_view_count": null,
            "_view_module": "@jupyter-widgets/base",
            "_view_module_version": "1.2.0",
            "_view_name": "LayoutView",
            "align_content": null,
            "align_items": null,
            "align_self": null,
            "border": null,
            "bottom": null,
            "display": null,
            "flex": null,
            "flex_flow": null,
            "grid_area": null,
            "grid_auto_columns": null,
            "grid_auto_flow": null,
            "grid_auto_rows": null,
            "grid_column": null,
            "grid_gap": null,
            "grid_row": null,
            "grid_template_areas": null,
            "grid_template_columns": null,
            "grid_template_rows": null,
            "height": null,
            "justify_content": null,
            "justify_items": null,
            "left": null,
            "margin": null,
            "max_height": null,
            "max_width": null,
            "min_height": null,
            "min_width": null,
            "object_fit": null,
            "object_position": null,
            "order": null,
            "overflow": null,
            "overflow_x": null,
            "overflow_y": null,
            "padding": null,
            "right": null,
            "top": null,
            "visibility": null,
            "width": null
          }
        },
        "434bd85cc1694c76bd76cfd62f9a9be5": {
          "model_module": "@jupyter-widgets/base",
          "model_module_version": "1.2.0",
          "model_name": "LayoutModel",
          "state": {
            "_model_module": "@jupyter-widgets/base",
            "_model_module_version": "1.2.0",
            "_model_name": "LayoutModel",
            "_view_count": null,
            "_view_module": "@jupyter-widgets/base",
            "_view_module_version": "1.2.0",
            "_view_name": "LayoutView",
            "align_content": null,
            "align_items": null,
            "align_self": null,
            "border": null,
            "bottom": null,
            "display": null,
            "flex": null,
            "flex_flow": null,
            "grid_area": null,
            "grid_auto_columns": null,
            "grid_auto_flow": null,
            "grid_auto_rows": null,
            "grid_column": null,
            "grid_gap": null,
            "grid_row": null,
            "grid_template_areas": null,
            "grid_template_columns": null,
            "grid_template_rows": null,
            "height": null,
            "justify_content": null,
            "justify_items": null,
            "left": null,
            "margin": null,
            "max_height": null,
            "max_width": null,
            "min_height": null,
            "min_width": null,
            "object_fit": null,
            "object_position": null,
            "order": null,
            "overflow": null,
            "overflow_x": null,
            "overflow_y": null,
            "padding": null,
            "right": null,
            "top": null,
            "visibility": null,
            "width": null
          }
        },
        "43f1affb1f9d4597b2ed08f4dccfa82d": {
          "model_module": "@jupyter-widgets/base",
          "model_module_version": "1.2.0",
          "model_name": "LayoutModel",
          "state": {
            "_model_module": "@jupyter-widgets/base",
            "_model_module_version": "1.2.0",
            "_model_name": "LayoutModel",
            "_view_count": null,
            "_view_module": "@jupyter-widgets/base",
            "_view_module_version": "1.2.0",
            "_view_name": "LayoutView",
            "align_content": null,
            "align_items": null,
            "align_self": null,
            "border": null,
            "bottom": null,
            "display": null,
            "flex": null,
            "flex_flow": null,
            "grid_area": null,
            "grid_auto_columns": null,
            "grid_auto_flow": null,
            "grid_auto_rows": null,
            "grid_column": null,
            "grid_gap": null,
            "grid_row": null,
            "grid_template_areas": null,
            "grid_template_columns": null,
            "grid_template_rows": null,
            "height": null,
            "justify_content": null,
            "justify_items": null,
            "left": null,
            "margin": null,
            "max_height": null,
            "max_width": null,
            "min_height": null,
            "min_width": null,
            "object_fit": null,
            "object_position": null,
            "order": null,
            "overflow": null,
            "overflow_x": null,
            "overflow_y": null,
            "padding": null,
            "right": null,
            "top": null,
            "visibility": null,
            "width": null
          }
        },
        "49d16d19959c43bb9bd5cd4ce9fd3850": {
          "model_module": "@jupyter-widgets/controls",
          "model_module_version": "1.5.0",
          "model_name": "ProgressStyleModel",
          "state": {
            "_model_module": "@jupyter-widgets/controls",
            "_model_module_version": "1.5.0",
            "_model_name": "ProgressStyleModel",
            "_view_count": null,
            "_view_module": "@jupyter-widgets/base",
            "_view_module_version": "1.2.0",
            "_view_name": "StyleView",
            "bar_color": null,
            "description_width": ""
          }
        },
        "4ce3d94567de4eb48ae6653d16a53b03": {
          "model_module": "@jupyter-widgets/base",
          "model_module_version": "1.2.0",
          "model_name": "LayoutModel",
          "state": {
            "_model_module": "@jupyter-widgets/base",
            "_model_module_version": "1.2.0",
            "_model_name": "LayoutModel",
            "_view_count": null,
            "_view_module": "@jupyter-widgets/base",
            "_view_module_version": "1.2.0",
            "_view_name": "LayoutView",
            "align_content": null,
            "align_items": null,
            "align_self": null,
            "border": null,
            "bottom": null,
            "display": null,
            "flex": null,
            "flex_flow": null,
            "grid_area": null,
            "grid_auto_columns": null,
            "grid_auto_flow": null,
            "grid_auto_rows": null,
            "grid_column": null,
            "grid_gap": null,
            "grid_row": null,
            "grid_template_areas": null,
            "grid_template_columns": null,
            "grid_template_rows": null,
            "height": null,
            "justify_content": null,
            "justify_items": null,
            "left": null,
            "margin": null,
            "max_height": null,
            "max_width": null,
            "min_height": null,
            "min_width": null,
            "object_fit": null,
            "object_position": null,
            "order": null,
            "overflow": null,
            "overflow_x": null,
            "overflow_y": null,
            "padding": null,
            "right": null,
            "top": null,
            "visibility": null,
            "width": null
          }
        },
        "4ef80343c53e40a7804aae8be58bc24e": {
          "model_module": "@jupyter-widgets/base",
          "model_module_version": "1.2.0",
          "model_name": "LayoutModel",
          "state": {
            "_model_module": "@jupyter-widgets/base",
            "_model_module_version": "1.2.0",
            "_model_name": "LayoutModel",
            "_view_count": null,
            "_view_module": "@jupyter-widgets/base",
            "_view_module_version": "1.2.0",
            "_view_name": "LayoutView",
            "align_content": null,
            "align_items": null,
            "align_self": null,
            "border": null,
            "bottom": null,
            "display": null,
            "flex": null,
            "flex_flow": null,
            "grid_area": null,
            "grid_auto_columns": null,
            "grid_auto_flow": null,
            "grid_auto_rows": null,
            "grid_column": null,
            "grid_gap": null,
            "grid_row": null,
            "grid_template_areas": null,
            "grid_template_columns": null,
            "grid_template_rows": null,
            "height": null,
            "justify_content": null,
            "justify_items": null,
            "left": null,
            "margin": null,
            "max_height": null,
            "max_width": null,
            "min_height": null,
            "min_width": null,
            "object_fit": null,
            "object_position": null,
            "order": null,
            "overflow": null,
            "overflow_x": null,
            "overflow_y": null,
            "padding": null,
            "right": null,
            "top": null,
            "visibility": null,
            "width": null
          }
        },
        "5d4aebc2bf35465dbb6b02f6f3512d0b": {
          "model_module": "@jupyter-widgets/base",
          "model_module_version": "1.2.0",
          "model_name": "LayoutModel",
          "state": {
            "_model_module": "@jupyter-widgets/base",
            "_model_module_version": "1.2.0",
            "_model_name": "LayoutModel",
            "_view_count": null,
            "_view_module": "@jupyter-widgets/base",
            "_view_module_version": "1.2.0",
            "_view_name": "LayoutView",
            "align_content": null,
            "align_items": null,
            "align_self": null,
            "border": null,
            "bottom": null,
            "display": null,
            "flex": null,
            "flex_flow": null,
            "grid_area": null,
            "grid_auto_columns": null,
            "grid_auto_flow": null,
            "grid_auto_rows": null,
            "grid_column": null,
            "grid_gap": null,
            "grid_row": null,
            "grid_template_areas": null,
            "grid_template_columns": null,
            "grid_template_rows": null,
            "height": null,
            "justify_content": null,
            "justify_items": null,
            "left": null,
            "margin": null,
            "max_height": null,
            "max_width": null,
            "min_height": null,
            "min_width": null,
            "object_fit": null,
            "object_position": null,
            "order": null,
            "overflow": null,
            "overflow_x": null,
            "overflow_y": null,
            "padding": null,
            "right": null,
            "top": null,
            "visibility": null,
            "width": null
          }
        },
        "61119518e3104ccab011ece38978abc5": {
          "model_module": "@jupyter-widgets/base",
          "model_module_version": "1.2.0",
          "model_name": "LayoutModel",
          "state": {
            "_model_module": "@jupyter-widgets/base",
            "_model_module_version": "1.2.0",
            "_model_name": "LayoutModel",
            "_view_count": null,
            "_view_module": "@jupyter-widgets/base",
            "_view_module_version": "1.2.0",
            "_view_name": "LayoutView",
            "align_content": null,
            "align_items": null,
            "align_self": null,
            "border": null,
            "bottom": null,
            "display": null,
            "flex": null,
            "flex_flow": null,
            "grid_area": null,
            "grid_auto_columns": null,
            "grid_auto_flow": null,
            "grid_auto_rows": null,
            "grid_column": null,
            "grid_gap": null,
            "grid_row": null,
            "grid_template_areas": null,
            "grid_template_columns": null,
            "grid_template_rows": null,
            "height": null,
            "justify_content": null,
            "justify_items": null,
            "left": null,
            "margin": null,
            "max_height": null,
            "max_width": null,
            "min_height": null,
            "min_width": null,
            "object_fit": null,
            "object_position": null,
            "order": null,
            "overflow": null,
            "overflow_x": null,
            "overflow_y": null,
            "padding": null,
            "right": null,
            "top": null,
            "visibility": null,
            "width": null
          }
        },
        "625f9cd6cb934f1984e2d4108d238c43": {
          "model_module": "@jupyter-widgets/base",
          "model_module_version": "1.2.0",
          "model_name": "LayoutModel",
          "state": {
            "_model_module": "@jupyter-widgets/base",
            "_model_module_version": "1.2.0",
            "_model_name": "LayoutModel",
            "_view_count": null,
            "_view_module": "@jupyter-widgets/base",
            "_view_module_version": "1.2.0",
            "_view_name": "LayoutView",
            "align_content": null,
            "align_items": null,
            "align_self": null,
            "border": null,
            "bottom": null,
            "display": null,
            "flex": null,
            "flex_flow": null,
            "grid_area": null,
            "grid_auto_columns": null,
            "grid_auto_flow": null,
            "grid_auto_rows": null,
            "grid_column": null,
            "grid_gap": null,
            "grid_row": null,
            "grid_template_areas": null,
            "grid_template_columns": null,
            "grid_template_rows": null,
            "height": null,
            "justify_content": null,
            "justify_items": null,
            "left": null,
            "margin": null,
            "max_height": null,
            "max_width": null,
            "min_height": null,
            "min_width": null,
            "object_fit": null,
            "object_position": null,
            "order": null,
            "overflow": null,
            "overflow_x": null,
            "overflow_y": null,
            "padding": null,
            "right": null,
            "top": null,
            "visibility": null,
            "width": null
          }
        },
        "66455f3ba9594dada59f669a43c85e8f": {
          "model_module": "@jupyter-widgets/controls",
          "model_module_version": "1.5.0",
          "model_name": "FloatProgressModel",
          "state": {
            "_dom_classes": [],
            "_model_module": "@jupyter-widgets/controls",
            "_model_module_version": "1.5.0",
            "_model_name": "FloatProgressModel",
            "_view_count": null,
            "_view_module": "@jupyter-widgets/controls",
            "_view_module_version": "1.5.0",
            "_view_name": "ProgressView",
            "bar_style": "success",
            "description": "",
            "description_tooltip": null,
            "layout": "IPY_MODEL_5d4aebc2bf35465dbb6b02f6f3512d0b",
            "max": 1,
            "min": 0,
            "orientation": "horizontal",
            "style": "IPY_MODEL_49d16d19959c43bb9bd5cd4ce9fd3850",
            "value": 1
          }
        },
        "716bec098dc240fd849be1e70c23b958": {
          "model_module": "@jupyter-widgets/base",
          "model_module_version": "1.2.0",
          "model_name": "LayoutModel",
          "state": {
            "_model_module": "@jupyter-widgets/base",
            "_model_module_version": "1.2.0",
            "_model_name": "LayoutModel",
            "_view_count": null,
            "_view_module": "@jupyter-widgets/base",
            "_view_module_version": "1.2.0",
            "_view_name": "LayoutView",
            "align_content": null,
            "align_items": null,
            "align_self": null,
            "border": null,
            "bottom": null,
            "display": null,
            "flex": null,
            "flex_flow": null,
            "grid_area": null,
            "grid_auto_columns": null,
            "grid_auto_flow": null,
            "grid_auto_rows": null,
            "grid_column": null,
            "grid_gap": null,
            "grid_row": null,
            "grid_template_areas": null,
            "grid_template_columns": null,
            "grid_template_rows": null,
            "height": null,
            "justify_content": null,
            "justify_items": null,
            "left": null,
            "margin": null,
            "max_height": null,
            "max_width": null,
            "min_height": null,
            "min_width": null,
            "object_fit": null,
            "object_position": null,
            "order": null,
            "overflow": null,
            "overflow_x": null,
            "overflow_y": null,
            "padding": null,
            "right": null,
            "top": null,
            "visibility": null,
            "width": null
          }
        },
        "752a21d454cc468abb9dcff5c12ecd2d": {
          "model_module": "@jupyter-widgets/controls",
          "model_module_version": "1.5.0",
          "model_name": "FloatProgressModel",
          "state": {
            "_dom_classes": [],
            "_model_module": "@jupyter-widgets/controls",
            "_model_module_version": "1.5.0",
            "_model_name": "FloatProgressModel",
            "_view_count": null,
            "_view_module": "@jupyter-widgets/controls",
            "_view_module_version": "1.5.0",
            "_view_name": "ProgressView",
            "bar_style": "success",
            "description": "",
            "description_tooltip": null,
            "layout": "IPY_MODEL_7ea1fc96fc7f46699ce20eed96902e8f",
            "max": 103,
            "min": 0,
            "orientation": "horizontal",
            "style": "IPY_MODEL_d9a5c93f47954f00bb4d7b2562b87e60",
            "value": 103
          }
        },
        "76720573a77442408a924d14c563d711": {
          "model_module": "@jupyter-widgets/controls",
          "model_module_version": "1.5.0",
          "model_name": "HBoxModel",
          "state": {
            "_dom_classes": [],
            "_model_module": "@jupyter-widgets/controls",
            "_model_module_version": "1.5.0",
            "_model_name": "HBoxModel",
            "_view_count": null,
            "_view_module": "@jupyter-widgets/controls",
            "_view_module_version": "1.5.0",
            "_view_name": "HBoxView",
            "box_style": "",
            "children": [
              "IPY_MODEL_d15fb403b71d4bff843c5a387a5ea36c",
              "IPY_MODEL_9d8125468bf74c1589fcbe04b0623926",
              "IPY_MODEL_efbcd9eaef6c40f48721cd1ef81ad4ea"
            ],
            "layout": "IPY_MODEL_f6b5bb6382964c36999cd4c6982b664f"
          }
        },
        "7ea1fc96fc7f46699ce20eed96902e8f": {
          "model_module": "@jupyter-widgets/base",
          "model_module_version": "1.2.0",
          "model_name": "LayoutModel",
          "state": {
            "_model_module": "@jupyter-widgets/base",
            "_model_module_version": "1.2.0",
            "_model_name": "LayoutModel",
            "_view_count": null,
            "_view_module": "@jupyter-widgets/base",
            "_view_module_version": "1.2.0",
            "_view_name": "LayoutView",
            "align_content": null,
            "align_items": null,
            "align_self": null,
            "border": null,
            "bottom": null,
            "display": null,
            "flex": null,
            "flex_flow": null,
            "grid_area": null,
            "grid_auto_columns": null,
            "grid_auto_flow": null,
            "grid_auto_rows": null,
            "grid_column": null,
            "grid_gap": null,
            "grid_row": null,
            "grid_template_areas": null,
            "grid_template_columns": null,
            "grid_template_rows": null,
            "height": null,
            "justify_content": null,
            "justify_items": null,
            "left": null,
            "margin": null,
            "max_height": null,
            "max_width": null,
            "min_height": null,
            "min_width": null,
            "object_fit": null,
            "object_position": null,
            "order": null,
            "overflow": null,
            "overflow_x": null,
            "overflow_y": null,
            "padding": null,
            "right": null,
            "top": null,
            "visibility": null,
            "width": null
          }
        },
        "7f8a1097e0b54ac9bede391ae62a5ea0": {
          "model_module": "@jupyter-widgets/controls",
          "model_module_version": "1.5.0",
          "model_name": "DescriptionStyleModel",
          "state": {
            "_model_module": "@jupyter-widgets/controls",
            "_model_module_version": "1.5.0",
            "_model_name": "DescriptionStyleModel",
            "_view_count": null,
            "_view_module": "@jupyter-widgets/base",
            "_view_module_version": "1.2.0",
            "_view_name": "StyleView",
            "description_width": ""
          }
        },
        "866bb81e20e24caaa363784f4fd048ec": {
          "model_module": "@jupyter-widgets/controls",
          "model_module_version": "1.5.0",
          "model_name": "HTMLModel",
          "state": {
            "_dom_classes": [],
            "_model_module": "@jupyter-widgets/controls",
            "_model_module_version": "1.5.0",
            "_model_name": "HTMLModel",
            "_view_count": null,
            "_view_module": "@jupyter-widgets/controls",
            "_view_module_version": "1.5.0",
            "_view_name": "HTMLView",
            "description": "",
            "description_tooltip": null,
            "layout": "IPY_MODEL_625f9cd6cb934f1984e2d4108d238c43",
            "placeholder": "​",
            "style": "IPY_MODEL_c519b25093884b60bf9a826ea1ef36f3",
            "value": " 1/1 [00:00&lt;00:00,  2.45it/s]"
          }
        },
        "897db75b6abc4cd0923d7caf2448e82b": {
          "model_module": "@jupyter-widgets/base",
          "model_module_version": "1.2.0",
          "model_name": "LayoutModel",
          "state": {
            "_model_module": "@jupyter-widgets/base",
            "_model_module_version": "1.2.0",
            "_model_name": "LayoutModel",
            "_view_count": null,
            "_view_module": "@jupyter-widgets/base",
            "_view_module_version": "1.2.0",
            "_view_name": "LayoutView",
            "align_content": null,
            "align_items": null,
            "align_self": null,
            "border": null,
            "bottom": null,
            "display": null,
            "flex": null,
            "flex_flow": null,
            "grid_area": null,
            "grid_auto_columns": null,
            "grid_auto_flow": null,
            "grid_auto_rows": null,
            "grid_column": null,
            "grid_gap": null,
            "grid_row": null,
            "grid_template_areas": null,
            "grid_template_columns": null,
            "grid_template_rows": null,
            "height": null,
            "justify_content": null,
            "justify_items": null,
            "left": null,
            "margin": null,
            "max_height": null,
            "max_width": null,
            "min_height": null,
            "min_width": null,
            "object_fit": null,
            "object_position": null,
            "order": null,
            "overflow": null,
            "overflow_x": null,
            "overflow_y": null,
            "padding": null,
            "right": null,
            "top": null,
            "visibility": null,
            "width": null
          }
        },
        "8c691d394cf24eb2b6eb61b2d17d59c7": {
          "model_module": "@jupyter-widgets/controls",
          "model_module_version": "1.5.0",
          "model_name": "FloatProgressModel",
          "state": {
            "_dom_classes": [],
            "_model_module": "@jupyter-widgets/controls",
            "_model_module_version": "1.5.0",
            "_model_name": "FloatProgressModel",
            "_view_count": null,
            "_view_module": "@jupyter-widgets/controls",
            "_view_module_version": "1.5.0",
            "_view_name": "ProgressView",
            "bar_style": "success",
            "description": "",
            "description_tooltip": null,
            "layout": "IPY_MODEL_4ef80343c53e40a7804aae8be58bc24e",
            "max": 1534236,
            "min": 0,
            "orientation": "horizontal",
            "style": "IPY_MODEL_f0e778c920f043349c44ddc66518b59b",
            "value": 1534236
          }
        },
        "9d8125468bf74c1589fcbe04b0623926": {
          "model_module": "@jupyter-widgets/controls",
          "model_module_version": "1.5.0",
          "model_name": "FloatProgressModel",
          "state": {
            "_dom_classes": [],
            "_model_module": "@jupyter-widgets/controls",
            "_model_module_version": "1.5.0",
            "_model_name": "FloatProgressModel",
            "_view_count": null,
            "_view_module": "@jupyter-widgets/controls",
            "_view_module_version": "1.5.0",
            "_view_name": "ProgressView",
            "bar_style": "success",
            "description": "",
            "description_tooltip": null,
            "layout": "IPY_MODEL_1ae296845e2142f0a78b743ecd22ace2",
            "max": 1510,
            "min": 0,
            "orientation": "horizontal",
            "style": "IPY_MODEL_fa5edd6cc3544e2b8ed9165b1536a8fe",
            "value": 1510
          }
        },
        "9df88f66f7854edaa8c37253a159a51e": {
          "model_module": "@jupyter-widgets/controls",
          "model_module_version": "1.5.0",
          "model_name": "DescriptionStyleModel",
          "state": {
            "_model_module": "@jupyter-widgets/controls",
            "_model_module_version": "1.5.0",
            "_model_name": "DescriptionStyleModel",
            "_view_count": null,
            "_view_module": "@jupyter-widgets/base",
            "_view_module_version": "1.2.0",
            "_view_name": "StyleView",
            "description_width": ""
          }
        },
        "a4be69c6d110405ab55510b59b9a6f41": {
          "model_module": "@jupyter-widgets/base",
          "model_module_version": "1.2.0",
          "model_name": "LayoutModel",
          "state": {
            "_model_module": "@jupyter-widgets/base",
            "_model_module_version": "1.2.0",
            "_model_name": "LayoutModel",
            "_view_count": null,
            "_view_module": "@jupyter-widgets/base",
            "_view_module_version": "1.2.0",
            "_view_name": "LayoutView",
            "align_content": null,
            "align_items": null,
            "align_self": null,
            "border": null,
            "bottom": null,
            "display": null,
            "flex": null,
            "flex_flow": null,
            "grid_area": null,
            "grid_auto_columns": null,
            "grid_auto_flow": null,
            "grid_auto_rows": null,
            "grid_column": null,
            "grid_gap": null,
            "grid_row": null,
            "grid_template_areas": null,
            "grid_template_columns": null,
            "grid_template_rows": null,
            "height": null,
            "justify_content": null,
            "justify_items": null,
            "left": null,
            "margin": null,
            "max_height": null,
            "max_width": null,
            "min_height": null,
            "min_width": null,
            "object_fit": null,
            "object_position": null,
            "order": null,
            "overflow": null,
            "overflow_x": null,
            "overflow_y": null,
            "padding": null,
            "right": null,
            "top": null,
            "visibility": null,
            "width": null
          }
        },
        "a561031934464b0194d648c18fa96076": {
          "model_module": "@jupyter-widgets/controls",
          "model_module_version": "1.5.0",
          "model_name": "DescriptionStyleModel",
          "state": {
            "_model_module": "@jupyter-widgets/controls",
            "_model_module_version": "1.5.0",
            "_model_name": "DescriptionStyleModel",
            "_view_count": null,
            "_view_module": "@jupyter-widgets/base",
            "_view_module_version": "1.2.0",
            "_view_name": "StyleView",
            "description_width": ""
          }
        },
        "b0b397924c2f498db32d7cb57b2648db": {
          "model_module": "@jupyter-widgets/controls",
          "model_module_version": "1.5.0",
          "model_name": "HTMLModel",
          "state": {
            "_dom_classes": [],
            "_model_module": "@jupyter-widgets/controls",
            "_model_module_version": "1.5.0",
            "_model_name": "HTMLModel",
            "_view_count": null,
            "_view_module": "@jupyter-widgets/controls",
            "_view_module_version": "1.5.0",
            "_view_name": "HTMLView",
            "description": "",
            "description_tooltip": null,
            "layout": "IPY_MODEL_c7913c050b574b298c8a11ee6ab0fcfd",
            "placeholder": "​",
            "style": "IPY_MODEL_d689fe03f55f4148b4f62445873b055c",
            "value": "Downloading data: 100%"
          }
        },
        "bfa1065e3afd4d6ab9d8b9cce855730f": {
          "model_module": "@jupyter-widgets/controls",
          "model_module_version": "1.5.0",
          "model_name": "HBoxModel",
          "state": {
            "_dom_classes": [],
            "_model_module": "@jupyter-widgets/controls",
            "_model_module_version": "1.5.0",
            "_model_name": "HBoxModel",
            "_view_count": null,
            "_view_module": "@jupyter-widgets/controls",
            "_view_module_version": "1.5.0",
            "_view_name": "HBoxView",
            "box_style": "",
            "children": [
              "IPY_MODEL_b0b397924c2f498db32d7cb57b2648db",
              "IPY_MODEL_8c691d394cf24eb2b6eb61b2d17d59c7",
              "IPY_MODEL_23c5ec7c16144c2e83e57ff396a9a98b"
            ],
            "layout": "IPY_MODEL_cdbec1d537854931b737ffa577dd3fa6"
          }
        },
        "c30cb96c9c9f4846ab4bf94fe2e2ad9d": {
          "model_module": "@jupyter-widgets/controls",
          "model_module_version": "1.5.0",
          "model_name": "DescriptionStyleModel",
          "state": {
            "_model_module": "@jupyter-widgets/controls",
            "_model_module_version": "1.5.0",
            "_model_name": "DescriptionStyleModel",
            "_view_count": null,
            "_view_module": "@jupyter-widgets/base",
            "_view_module_version": "1.2.0",
            "_view_name": "StyleView",
            "description_width": ""
          }
        },
        "c3db2230ae9e40c597548a551bc5e4d6": {
          "model_module": "@jupyter-widgets/base",
          "model_module_version": "1.2.0",
          "model_name": "LayoutModel",
          "state": {
            "_model_module": "@jupyter-widgets/base",
            "_model_module_version": "1.2.0",
            "_model_name": "LayoutModel",
            "_view_count": null,
            "_view_module": "@jupyter-widgets/base",
            "_view_module_version": "1.2.0",
            "_view_name": "LayoutView",
            "align_content": null,
            "align_items": null,
            "align_self": null,
            "border": null,
            "bottom": null,
            "display": null,
            "flex": null,
            "flex_flow": null,
            "grid_area": null,
            "grid_auto_columns": null,
            "grid_auto_flow": null,
            "grid_auto_rows": null,
            "grid_column": null,
            "grid_gap": null,
            "grid_row": null,
            "grid_template_areas": null,
            "grid_template_columns": null,
            "grid_template_rows": null,
            "height": null,
            "justify_content": null,
            "justify_items": null,
            "left": null,
            "margin": null,
            "max_height": null,
            "max_width": null,
            "min_height": null,
            "min_width": null,
            "object_fit": null,
            "object_position": null,
            "order": null,
            "overflow": null,
            "overflow_x": null,
            "overflow_y": null,
            "padding": null,
            "right": null,
            "top": null,
            "visibility": null,
            "width": null
          }
        },
        "c519b25093884b60bf9a826ea1ef36f3": {
          "model_module": "@jupyter-widgets/controls",
          "model_module_version": "1.5.0",
          "model_name": "DescriptionStyleModel",
          "state": {
            "_model_module": "@jupyter-widgets/controls",
            "_model_module_version": "1.5.0",
            "_model_name": "DescriptionStyleModel",
            "_view_count": null,
            "_view_module": "@jupyter-widgets/base",
            "_view_module_version": "1.2.0",
            "_view_name": "StyleView",
            "description_width": ""
          }
        },
        "c7913c050b574b298c8a11ee6ab0fcfd": {
          "model_module": "@jupyter-widgets/base",
          "model_module_version": "1.2.0",
          "model_name": "LayoutModel",
          "state": {
            "_model_module": "@jupyter-widgets/base",
            "_model_module_version": "1.2.0",
            "_model_name": "LayoutModel",
            "_view_count": null,
            "_view_module": "@jupyter-widgets/base",
            "_view_module_version": "1.2.0",
            "_view_name": "LayoutView",
            "align_content": null,
            "align_items": null,
            "align_self": null,
            "border": null,
            "bottom": null,
            "display": null,
            "flex": null,
            "flex_flow": null,
            "grid_area": null,
            "grid_auto_columns": null,
            "grid_auto_flow": null,
            "grid_auto_rows": null,
            "grid_column": null,
            "grid_gap": null,
            "grid_row": null,
            "grid_template_areas": null,
            "grid_template_columns": null,
            "grid_template_rows": null,
            "height": null,
            "justify_content": null,
            "justify_items": null,
            "left": null,
            "margin": null,
            "max_height": null,
            "max_width": null,
            "min_height": null,
            "min_width": null,
            "object_fit": null,
            "object_position": null,
            "order": null,
            "overflow": null,
            "overflow_x": null,
            "overflow_y": null,
            "padding": null,
            "right": null,
            "top": null,
            "visibility": null,
            "width": null
          }
        },
        "c7eb9ba2c7794e68a5e3b4f73e5b069a": {
          "model_module": "@jupyter-widgets/controls",
          "model_module_version": "1.5.0",
          "model_name": "HTMLModel",
          "state": {
            "_dom_classes": [],
            "_model_module": "@jupyter-widgets/controls",
            "_model_module_version": "1.5.0",
            "_model_name": "HTMLModel",
            "_view_count": null,
            "_view_module": "@jupyter-widgets/controls",
            "_view_module_version": "1.5.0",
            "_view_name": "HTMLView",
            "description": "",
            "description_tooltip": null,
            "layout": "IPY_MODEL_716bec098dc240fd849be1e70c23b958",
            "placeholder": "​",
            "style": "IPY_MODEL_e830d27e5dc4418588a65af93c32f7e6",
            "value": "Generating train split: 100%"
          }
        },
        "cdbec1d537854931b737ffa577dd3fa6": {
          "model_module": "@jupyter-widgets/base",
          "model_module_version": "1.2.0",
          "model_name": "LayoutModel",
          "state": {
            "_model_module": "@jupyter-widgets/base",
            "_model_module_version": "1.2.0",
            "_model_name": "LayoutModel",
            "_view_count": null,
            "_view_module": "@jupyter-widgets/base",
            "_view_module_version": "1.2.0",
            "_view_name": "LayoutView",
            "align_content": null,
            "align_items": null,
            "align_self": null,
            "border": null,
            "bottom": null,
            "display": null,
            "flex": null,
            "flex_flow": null,
            "grid_area": null,
            "grid_auto_columns": null,
            "grid_auto_flow": null,
            "grid_auto_rows": null,
            "grid_column": null,
            "grid_gap": null,
            "grid_row": null,
            "grid_template_areas": null,
            "grid_template_columns": null,
            "grid_template_rows": null,
            "height": null,
            "justify_content": null,
            "justify_items": null,
            "left": null,
            "margin": null,
            "max_height": null,
            "max_width": null,
            "min_height": null,
            "min_width": null,
            "object_fit": null,
            "object_position": null,
            "order": null,
            "overflow": null,
            "overflow_x": null,
            "overflow_y": null,
            "padding": null,
            "right": null,
            "top": null,
            "visibility": null,
            "width": null
          }
        },
        "d02c59ff64d64a619df33657727c2ac4": {
          "model_module": "@jupyter-widgets/controls",
          "model_module_version": "1.5.0",
          "model_name": "ProgressStyleModel",
          "state": {
            "_model_module": "@jupyter-widgets/controls",
            "_model_module_version": "1.5.0",
            "_model_name": "ProgressStyleModel",
            "_view_count": null,
            "_view_module": "@jupyter-widgets/base",
            "_view_module_version": "1.2.0",
            "_view_name": "StyleView",
            "bar_color": null,
            "description_width": ""
          }
        },
        "d15fb403b71d4bff843c5a387a5ea36c": {
          "model_module": "@jupyter-widgets/controls",
          "model_module_version": "1.5.0",
          "model_name": "HTMLModel",
          "state": {
            "_dom_classes": [],
            "_model_module": "@jupyter-widgets/controls",
            "_model_module_version": "1.5.0",
            "_model_name": "HTMLModel",
            "_view_count": null,
            "_view_module": "@jupyter-widgets/controls",
            "_view_module_version": "1.5.0",
            "_view_name": "HTMLView",
            "description": "",
            "description_tooltip": null,
            "layout": "IPY_MODEL_897db75b6abc4cd0923d7caf2448e82b",
            "placeholder": "​",
            "style": "IPY_MODEL_3afaf53201e94c7e8ba391b95fc1c3d8",
            "value": "Downloading metadata: 100%"
          }
        },
        "d3ae8fb928144977823d719cc71bf943": {
          "model_module": "@jupyter-widgets/controls",
          "model_module_version": "1.5.0",
          "model_name": "FloatProgressModel",
          "state": {
            "_dom_classes": [],
            "_model_module": "@jupyter-widgets/controls",
            "_model_module_version": "1.5.0",
            "_model_name": "FloatProgressModel",
            "_view_count": null,
            "_view_module": "@jupyter-widgets/controls",
            "_view_module_version": "1.5.0",
            "_view_name": "ProgressView",
            "bar_style": "success",
            "description": "",
            "description_tooltip": null,
            "layout": "IPY_MODEL_434bd85cc1694c76bd76cfd62f9a9be5",
            "max": 2357,
            "min": 0,
            "orientation": "horizontal",
            "style": "IPY_MODEL_d02c59ff64d64a619df33657727c2ac4",
            "value": 2357
          }
        },
        "d437b2869445412e8cdbbfccc1c40101": {
          "model_module": "@jupyter-widgets/base",
          "model_module_version": "1.2.0",
          "model_name": "LayoutModel",
          "state": {
            "_model_module": "@jupyter-widgets/base",
            "_model_module_version": "1.2.0",
            "_model_name": "LayoutModel",
            "_view_count": null,
            "_view_module": "@jupyter-widgets/base",
            "_view_module_version": "1.2.0",
            "_view_name": "LayoutView",
            "align_content": null,
            "align_items": null,
            "align_self": null,
            "border": null,
            "bottom": null,
            "display": null,
            "flex": null,
            "flex_flow": null,
            "grid_area": null,
            "grid_auto_columns": null,
            "grid_auto_flow": null,
            "grid_auto_rows": null,
            "grid_column": null,
            "grid_gap": null,
            "grid_row": null,
            "grid_template_areas": null,
            "grid_template_columns": null,
            "grid_template_rows": null,
            "height": null,
            "justify_content": null,
            "justify_items": null,
            "left": null,
            "margin": null,
            "max_height": null,
            "max_width": null,
            "min_height": null,
            "min_width": null,
            "object_fit": null,
            "object_position": null,
            "order": null,
            "overflow": null,
            "overflow_x": null,
            "overflow_y": null,
            "padding": null,
            "right": null,
            "top": null,
            "visibility": null,
            "width": null
          }
        },
        "d689fe03f55f4148b4f62445873b055c": {
          "model_module": "@jupyter-widgets/controls",
          "model_module_version": "1.5.0",
          "model_name": "DescriptionStyleModel",
          "state": {
            "_model_module": "@jupyter-widgets/controls",
            "_model_module_version": "1.5.0",
            "_model_name": "DescriptionStyleModel",
            "_view_count": null,
            "_view_module": "@jupyter-widgets/base",
            "_view_module_version": "1.2.0",
            "_view_name": "StyleView",
            "description_width": ""
          }
        },
        "d9a5c93f47954f00bb4d7b2562b87e60": {
          "model_module": "@jupyter-widgets/controls",
          "model_module_version": "1.5.0",
          "model_name": "ProgressStyleModel",
          "state": {
            "_model_module": "@jupyter-widgets/controls",
            "_model_module_version": "1.5.0",
            "_model_name": "ProgressStyleModel",
            "_view_count": null,
            "_view_module": "@jupyter-widgets/base",
            "_view_module_version": "1.2.0",
            "_view_name": "StyleView",
            "bar_color": null,
            "description_width": ""
          }
        },
        "df4fb8b15c8e4464b5834c6a3dbd12c9": {
          "model_module": "@jupyter-widgets/base",
          "model_module_version": "1.2.0",
          "model_name": "LayoutModel",
          "state": {
            "_model_module": "@jupyter-widgets/base",
            "_model_module_version": "1.2.0",
            "_model_name": "LayoutModel",
            "_view_count": null,
            "_view_module": "@jupyter-widgets/base",
            "_view_module_version": "1.2.0",
            "_view_name": "LayoutView",
            "align_content": null,
            "align_items": null,
            "align_self": null,
            "border": null,
            "bottom": null,
            "display": null,
            "flex": null,
            "flex_flow": null,
            "grid_area": null,
            "grid_auto_columns": null,
            "grid_auto_flow": null,
            "grid_auto_rows": null,
            "grid_column": null,
            "grid_gap": null,
            "grid_row": null,
            "grid_template_areas": null,
            "grid_template_columns": null,
            "grid_template_rows": null,
            "height": null,
            "justify_content": null,
            "justify_items": null,
            "left": null,
            "margin": null,
            "max_height": null,
            "max_width": null,
            "min_height": null,
            "min_width": null,
            "object_fit": null,
            "object_position": null,
            "order": null,
            "overflow": null,
            "overflow_x": null,
            "overflow_y": null,
            "padding": null,
            "right": null,
            "top": null,
            "visibility": null,
            "width": null
          }
        },
        "e37e414744b04538a24a6ee4d9a5ba90": {
          "model_module": "@jupyter-widgets/controls",
          "model_module_version": "1.5.0",
          "model_name": "HBoxModel",
          "state": {
            "_dom_classes": [],
            "_model_module": "@jupyter-widgets/controls",
            "_model_module_version": "1.5.0",
            "_model_name": "HBoxModel",
            "_view_count": null,
            "_view_module": "@jupyter-widgets/controls",
            "_view_module_version": "1.5.0",
            "_view_name": "HBoxView",
            "box_style": "",
            "children": [
              "IPY_MODEL_3a1bc15fb77943988919ca6f504f6d4f",
              "IPY_MODEL_66455f3ba9594dada59f669a43c85e8f",
              "IPY_MODEL_866bb81e20e24caaa363784f4fd048ec"
            ],
            "layout": "IPY_MODEL_d437b2869445412e8cdbbfccc1c40101"
          }
        },
        "e830d27e5dc4418588a65af93c32f7e6": {
          "model_module": "@jupyter-widgets/controls",
          "model_module_version": "1.5.0",
          "model_name": "DescriptionStyleModel",
          "state": {
            "_model_module": "@jupyter-widgets/controls",
            "_model_module_version": "1.5.0",
            "_model_name": "DescriptionStyleModel",
            "_view_count": null,
            "_view_module": "@jupyter-widgets/base",
            "_view_module_version": "1.2.0",
            "_view_name": "StyleView",
            "description_width": ""
          }
        },
        "efbcd9eaef6c40f48721cd1ef81ad4ea": {
          "model_module": "@jupyter-widgets/controls",
          "model_module_version": "1.5.0",
          "model_name": "HTMLModel",
          "state": {
            "_dom_classes": [],
            "_model_module": "@jupyter-widgets/controls",
            "_model_module_version": "1.5.0",
            "_model_name": "HTMLModel",
            "_view_count": null,
            "_view_module": "@jupyter-widgets/controls",
            "_view_module_version": "1.5.0",
            "_view_name": "HTMLView",
            "description": "",
            "description_tooltip": null,
            "layout": "IPY_MODEL_43f1affb1f9d4597b2ed08f4dccfa82d",
            "placeholder": "​",
            "style": "IPY_MODEL_7f8a1097e0b54ac9bede391ae62a5ea0",
            "value": " 1.51k/1.51k [00:00&lt;00:00, 56.3kB/s]"
          }
        },
        "efdebbeba075454c896231a39ecd9002": {
          "model_module": "@jupyter-widgets/base",
          "model_module_version": "1.2.0",
          "model_name": "LayoutModel",
          "state": {
            "_model_module": "@jupyter-widgets/base",
            "_model_module_version": "1.2.0",
            "_model_name": "LayoutModel",
            "_view_count": null,
            "_view_module": "@jupyter-widgets/base",
            "_view_module_version": "1.2.0",
            "_view_name": "LayoutView",
            "align_content": null,
            "align_items": null,
            "align_self": null,
            "border": null,
            "bottom": null,
            "display": null,
            "flex": null,
            "flex_flow": null,
            "grid_area": null,
            "grid_auto_columns": null,
            "grid_auto_flow": null,
            "grid_auto_rows": null,
            "grid_column": null,
            "grid_gap": null,
            "grid_row": null,
            "grid_template_areas": null,
            "grid_template_columns": null,
            "grid_template_rows": null,
            "height": null,
            "justify_content": null,
            "justify_items": null,
            "left": null,
            "margin": null,
            "max_height": null,
            "max_width": null,
            "min_height": null,
            "min_width": null,
            "object_fit": null,
            "object_position": null,
            "order": null,
            "overflow": null,
            "overflow_x": null,
            "overflow_y": null,
            "padding": null,
            "right": null,
            "top": null,
            "visibility": null,
            "width": null
          }
        },
        "f0e778c920f043349c44ddc66518b59b": {
          "model_module": "@jupyter-widgets/controls",
          "model_module_version": "1.5.0",
          "model_name": "ProgressStyleModel",
          "state": {
            "_model_module": "@jupyter-widgets/controls",
            "_model_module_version": "1.5.0",
            "_model_name": "ProgressStyleModel",
            "_view_count": null,
            "_view_module": "@jupyter-widgets/base",
            "_view_module_version": "1.2.0",
            "_view_name": "StyleView",
            "bar_color": null,
            "description_width": ""
          }
        },
        "f6b5bb6382964c36999cd4c6982b664f": {
          "model_module": "@jupyter-widgets/base",
          "model_module_version": "1.2.0",
          "model_name": "LayoutModel",
          "state": {
            "_model_module": "@jupyter-widgets/base",
            "_model_module_version": "1.2.0",
            "_model_name": "LayoutModel",
            "_view_count": null,
            "_view_module": "@jupyter-widgets/base",
            "_view_module_version": "1.2.0",
            "_view_name": "LayoutView",
            "align_content": null,
            "align_items": null,
            "align_self": null,
            "border": null,
            "bottom": null,
            "display": null,
            "flex": null,
            "flex_flow": null,
            "grid_area": null,
            "grid_auto_columns": null,
            "grid_auto_flow": null,
            "grid_auto_rows": null,
            "grid_column": null,
            "grid_gap": null,
            "grid_row": null,
            "grid_template_areas": null,
            "grid_template_columns": null,
            "grid_template_rows": null,
            "height": null,
            "justify_content": null,
            "justify_items": null,
            "left": null,
            "margin": null,
            "max_height": null,
            "max_width": null,
            "min_height": null,
            "min_width": null,
            "object_fit": null,
            "object_position": null,
            "order": null,
            "overflow": null,
            "overflow_x": null,
            "overflow_y": null,
            "padding": null,
            "right": null,
            "top": null,
            "visibility": null,
            "width": null
          }
        },
        "fa5edd6cc3544e2b8ed9165b1536a8fe": {
          "model_module": "@jupyter-widgets/controls",
          "model_module_version": "1.5.0",
          "model_name": "ProgressStyleModel",
          "state": {
            "_model_module": "@jupyter-widgets/controls",
            "_model_module_version": "1.5.0",
            "_model_name": "ProgressStyleModel",
            "_view_count": null,
            "_view_module": "@jupyter-widgets/base",
            "_view_module_version": "1.2.0",
            "_view_name": "StyleView",
            "bar_color": null,
            "description_width": ""
          }
        }
      }
    }
  },
  "nbformat": 4,
  "nbformat_minor": 0
}
