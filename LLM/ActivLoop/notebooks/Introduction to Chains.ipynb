{
 "cells": [
  {
   "cell_type": "code",
   "execution_count": 1,
   "metadata": {},
   "outputs": [
    {
     "name": "stderr",
     "output_type": "stream",
     "text": [
      "c:\\Users\\sri.karan\\.conda\\envs\\activeloop\\lib\\site-packages\\deeplake\\util\\check_latest_version.py:32: UserWarning: A newer version of deeplake (3.6.17) is available. It's recommended that you update to the latest version using `pip install -U deeplake`.\n",
      "  warnings.warn(\n"
     ]
    }
   ],
   "source": [
    "import pandas  as pd\n",
    "from langchain.llms import OpenAI\n",
    "from dotenv import load_dotenv\n",
    "\n",
    "import openai,os\n",
    "load_dotenv(r'D:\\Git\\NLP\\LLM\\ActivLoop\\.env')\n",
    "openai_api_key = os.getenv(\"ACTIVELOOP_TOKEN\")\n",
    "\n",
    "assert openai_api_key, \"ERROR: Azure OpenAI Key is missing\"\n",
    "openai.api_key = openai_api_key\n",
    "\n",
    "openai.api_base = os.getenv(\"OpenAiService\")\n",
    "openai.api_type = \"azure\"\n",
    "openai.api_version =os.getenv(\"OpenAiVersion\")\n",
    "davincimodel= os.getenv(\"OpenAiDavinci\")\n",
    "active_loop_token=os.getenv(\"ACTIVELOOP_TOKEN\")\n",
    "embedding_model=os.getenv(\"OpenAiEmbedding\")\n",
    "chat_ai=os.getenv(\"ChatAI\")#\n",
    "HUGGINGFACEHUB_API_TOKEN=os.getenv(\"HUGGINGFACEHUB_API_TOKEN\")"
   ]
  },
  {
   "attachments": {},
   "cell_type": "markdown",
   "metadata": {},
   "source": [
    "Welcome to fifth module! Up to this point, the course covered all the fundamental functionalities of the LangChain libraries in previous modules. During the past lessons, we explored various kinds of language models, learned techniques to maximize their effectiveness through effective prompts, and discovered methods to provide context by leveraging external resources. In this module, we will delve into the concept of Chains, which introduces an abstraction layer that builds upon the previously discussed concepts. Chains offer a seamless interface for accomplishing a multitude of tasks out of the box. Here are the lessons you’ll find in this module and what you’ll learn:\n",
    "\n",
    "\n",
    "1. Chains and Why They Are Used: In our first lesson of the Chains module, we will explore the effectiveness of prompting techniques, which enable natural language querying of these models. We delve deeper into the concept of chains, which provide an end-to-end pipeline for utilizing language models. These chains seamlessly integrate models, prompts, memory, parsing output, and debugging capabilities, offering a user-friendly interface. By inheriting the Chain class, we learned how to design custom pipelines, exemplified by the LLMChain in LangChain.\n",
    "2. Create a YouTube Video Summarizer Using Whisper and LangChain:  Building upon the capabilities of language models, our next lesson introduces a solution to summarize YouTube videos. We acknowledge the overwhelming abundance of information and the time constraints that often hinder our ability to consume it all. Whisper and LangChain come to the rescue as cutting-edge tools for video summarization. Whisper, a sophisticated automatic speech recognition (ASR) system, transcribes voice inputs into text. Leveraging LangChain's summarization techniques, such as stuff, refine, and map_reduce, we can effectively extract key takeaways from lengthy videos. The customizability of LangChain further enhances the summarization process, allowing personalized prompts, multilingual summaries, and storage of URLs in a Deep Lake vector store. This advanced solution empowers users to save time while improving knowledge retention and understanding across various topics.\n",
    "3. Creating a Voice Assistant for your Knowledge Base: Expanding the realm of language models, the next lesson ventures into the development of a voice assistant powered by artificial intelligence tools. Whisper plays an important role as an ASR system, transcribing voice inputs into text. The voice assistant employs Eleven Labs to generate engaging and natural voice outputs. The heart of the project is a robust question-answering mechanism that utilizes a vector database housing relevant documents. The voice assistant generates precise and timely responses by feeding these documents and the user's questions to the language model. This comprehensive voice assistant project showcases the synergy between ASR systems, language models, and question-answering mechanisms.\n",
    "4. LangChain & GPT-4 for Code Understanding: Twitter Algorithm: Moving beyond textual data, the next lesson delves into the realm of code comprehension. LangChain, in conjunction with Deep Lake and GPT-4, provides a transformative approach to understanding complex codebases. LangChain, as a wrapper for large language models, makes them more accessible and usable, particularly in the context of codebases. Deep Lake, a serverless and open-source vector store, plays an important role in storing embeddings and original data with version control. The Conversational Retriever Chain interacts with the codebase stored in Deep Lake, retrieving relevant code snippets based on user queries. This lesson demonstrates how LangChain, Deep Lake, and GPT-4 can revolutionize code comprehension and facilitate insightful interactions with codebases.\n",
    "5. 3 ways to build a recommendation engine for songs with LangChain: Our next lesson delves into the realm of recommendation engines, where we leverage LangChain's power to craft a song recommendation engine. Large Language Models (LLMs) and vector databases enrich the user experience, focusing on the case study of 'FairyTaleDJ,' a web app suggesting Disney songs based on user emotions. Encoding methods, data management, and matching user input are the core areas of exploration. Employing LLMs to encode data makes the retrieval process faster and more efficient. Through the case study, we learn from successes and failures, gaining insights into constructing emotion-responsive recommendation engines with LangChain.\n",
    "5. Guarding Against Undesirable Outputs with the Self-Critique Chain: While language models have remarkable capabilities, they can occasionally generate undesirable outputs. Our final lesson addresses this issue by introducing the self-critique chain, which acts as a mechanism to ensure model responses are appropriate in a production environment. By iterating over the model's output and checking against predefined expectations, the self-critique chain prompts the model to correct itself when necessary. This approach ensures ethical and responsible behavior, such as student mentoring.\n"
   ]
  },
  {
   "cell_type": "code",
   "execution_count": null,
   "metadata": {},
   "outputs": [],
   "source": []
  }
 ],
 "metadata": {
  "kernelspec": {
   "display_name": "activeloop",
   "language": "python",
   "name": "python3"
  },
  "language_info": {
   "codemirror_mode": {
    "name": "ipython",
    "version": 3
   },
   "file_extension": ".py",
   "mimetype": "text/x-python",
   "name": "python",
   "nbconvert_exporter": "python",
   "pygments_lexer": "ipython3",
   "version": "3.8.17"
  },
  "orig_nbformat": 4
 },
 "nbformat": 4,
 "nbformat_minor": 2
}
