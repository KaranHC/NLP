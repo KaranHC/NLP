{
 "cells": [
  {
   "cell_type": "code",
   "execution_count": 1,
   "metadata": {},
   "outputs": [
    {
     "name": "stderr",
     "output_type": "stream",
     "text": [
      "c:\\Users\\sri.karan\\.conda\\envs\\activeloop\\lib\\site-packages\\deeplake\\util\\check_latest_version.py:32: UserWarning: A newer version of deeplake (3.6.17) is available. It's recommended that you update to the latest version using `pip install -U deeplake`.\n",
      "  warnings.warn(\n"
     ]
    }
   ],
   "source": [
    "import pandas  as pd\n",
    "from langchain.llms import OpenAI\n",
    "from dotenv import load_dotenv\n",
    "\n",
    "import openai,os\n",
    "load_dotenv(r'D:\\Git\\NLP\\LLM\\ActivLoop\\.env')\n",
    "openai_api_key = os.getenv(\"ACTIVELOOP_TOKEN\")\n",
    "\n",
    "assert openai_api_key, \"ERROR: Azure OpenAI Key is missing\"\n",
    "openai.api_key = openai_api_key\n",
    "\n",
    "openai.api_base = os.getenv(\"OpenAiService\")\n",
    "openai.api_type = \"azure\"\n",
    "openai.api_version =os.getenv(\"OpenAiVersion\")\n",
    "davincimodel= os.getenv(\"OpenAiDavinci\")\n",
    "active_loop_token=os.getenv(\"ACTIVELOOP_TOKEN\")\n",
    "embedding_model=os.getenv(\"OpenAiEmbedding\")\n",
    "chat_ai=os.getenv(\"ChatAI\")#\n",
    "HUGGINGFACEHUB_API_TOKEN=os.getenv(\"HUGGINGFACEHUB_API_TOKEN\")"
   ]
  },
  {
   "attachments": {},
   "cell_type": "markdown",
   "metadata": {},
   "source": [
    "In this lesson we will explore how LangChain, Deep Lake, and GPT-4 can be used to develop a sales assistant able to give advice to salesman, taking into considerations internal guidelines.\n",
    "\n",
    "### Introduction\n",
    "This particular article provides an in-depth view of a sales call assistant that connects you to a chatbot that understands the context of your conversation. A great feature of SalesCopilot is its ability to detect potential objections from customers and deliver recommendations on how best to address them.\n",
    "\n",
    "The article is a journey that reveals the challenges faced and the solutions discovered during the creation of a the project. You'll learn about the two distinct text-splitting approaches that didn't work and how these failures paved the way for an effective solution.\n",
    "\n",
    "Firstly, the authors tried to rely solely on the LLM, but they encountered issues such as response inconsistency and slow response times with GPT-4. Secondly, they naively split the custom knowledge base into chunks, but this approach led to context misalignment and inefficient results.\n",
    "\n",
    "After these unsuccessful attempts, a more intelligent way of splitting the knowledge base based on its structure was adopted. This change greatly improved the quality of responses and ensured better context grounding for LLM responses. This process is explained in detail, helping you grasp how to navigate similar challenges in your own AI projects.\n",
    "\n",
    "Next, the article explores how SalesCopilot was integrated with Deep Lake. This integration enhanced SalesCopilot's capabilities by retrieving the most relevant responses from a custom knowledge base, thereby creating a persistent, efficient, and highly adaptable solution for handling customer objections.\n",
    "\n",
    "By the end of this lesson, you'll learn how to utilize LLMs, how to intelligently split your knowledge base, and integrate it with a vector database like Deep Lake for optimal performance."
   ]
  },
  {
   "attachments": {},
   "cell_type": "markdown",
   "metadata": {},
   "source": [
    "# https://www.activeloop.ai/resources/conversation-intelligence-gong-io-open-source-alternative-ai-sales-assistant/"
   ]
  },
  {
   "cell_type": "code",
   "execution_count": 2,
   "metadata": {},
   "outputs": [],
   "source": [
    "text = \"\"\"\n",
    "Objection: \"There's no money.\"\n",
    "It could be that your prospect's business simply isn't big enough or generating enough cash right now to afford a product like yours. Track their growth and see how you can help your prospect get to a place where your offering would fit into their business.\n",
    "\n",
    "Objection: \"We don't have any budget left this year.\"\n",
    "A variation of the \"no money\" objection, what your prospect's telling you here is that they're having cash flow issues. But if there's a pressing problem, it needs to get solved eventually. Either help your prospect secure a budget from executives to buy now or arrange a follow-up call for when they expect funding to return.\n",
    "\n",
    "Objection: \"We need to use that budget somewhere else.\"\n",
    "Prospects sometimes try to earmark resources for other uses. It's your job to make your product/service a priority that deserves budget allocation now. Share case studies of similar companies that have saved money, increased efficiency, or had a massive ROI with you.\n",
    "\"\"\"\n",
    "\n",
    "# Split the text into a list using the keyword \"Objection: \"\n",
    "objections_list = text.split(\"Objection: \")[1:]  # We ignore the first split as it is empty\n",
    "\n",
    "# Now, prepend \"Objection: \" to each item as splitting removed it\n",
    "objections_list = [\"Objection: \" + objection for objection in objections_list]\n"
   ]
  },
  {
   "cell_type": "code",
   "execution_count": 3,
   "metadata": {},
   "outputs": [
    {
     "data": {
      "text/plain": [
       "['Objection: \"There\\'s no money.\"\\nIt could be that your prospect\\'s business simply isn\\'t big enough or generating enough cash right now to afford a product like yours. Track their growth and see how you can help your prospect get to a place where your offering would fit into their business.\\n\\n',\n",
       " 'Objection: \"We don\\'t have any budget left this year.\"\\nA variation of the \"no money\" objection, what your prospect\\'s telling you here is that they\\'re having cash flow issues. But if there\\'s a pressing problem, it needs to get solved eventually. Either help your prospect secure a budget from executives to buy now or arrange a follow-up call for when they expect funding to return.\\n\\n',\n",
       " 'Objection: \"We need to use that budget somewhere else.\"\\nProspects sometimes try to earmark resources for other uses. It\\'s your job to make your product/service a priority that deserves budget allocation now. Share case studies of similar companies that have saved money, increased efficiency, or had a massive ROI with you.\\n']"
      ]
     },
     "execution_count": 3,
     "metadata": {},
     "output_type": "execute_result"
    }
   ],
   "source": [
    "objections_list"
   ]
  },
  {
   "cell_type": "code",
   "execution_count": 4,
   "metadata": {},
   "outputs": [],
   "source": [
    "import os\n",
    "import re\n",
    "from langchain.embeddings import OpenAIEmbeddings\n",
    "from langchain.vectorstores import DeepLake\n",
    "\n",
    "class DeepLakeLoader:\n",
    "    def __init__(self, source_data_path):\n",
    "        self.source_data_path = source_data_path\n",
    "        self.file_name = os.path.basename(source_data_path) # What we'll name our database \n",
    "        self.data = self.split_data()\n",
    "        if self.check_if_db_exists():\n",
    "            self.db = self.load_db()\n",
    "        else:\n",
    "            self.db = self.create_db()\n",
    "    def split_data(self):  \n",
    "        \"\"\"  \n",
    "        Preprocess the data by splitting it into passages.  \n",
    "\n",
    "        If using a different data source, this function will need to be modified.  \n",
    "\n",
    "        Returns:  \n",
    "            split_data (list): List of passages.  \n",
    "        \"\"\"  \n",
    "        with open(self.source_data_path, 'r') as f:  \n",
    "            content = f.read()  \n",
    "        split_data = re.split(r'(?=\\d+\\. )', content)\n",
    "        if split_data[0] == '':  \n",
    "            split_data.pop(0)  \n",
    "        split_data = [entry for entry in split_data if len(entry) >= 30]  \n",
    "        return split_data\n",
    "    def check_if_db_exists(self):\n",
    "        \"\"\"\n",
    "        Check if the database already exists.\n",
    "\n",
    "        Returns:\n",
    "            bool: True if the database exists, False otherwise.\n",
    "        \"\"\"\n",
    "        return os.path.exists(f'deeplake/{self.file_name}')\n",
    "\n",
    "    def load_db(self):  \n",
    "        \"\"\"  \n",
    "        Load the database if it already exists.  \n",
    "\n",
    "        Returns:  \n",
    "            DeepLake: DeepLake object.  \n",
    "        \"\"\"\n",
    "        embeddings = OpenAIEmbeddings(deployment=embedding_model)\n",
    "        my_activeloop_org_id=\"hayagriva99999\"\n",
    "        my_activeloop_dataset_name = \"sales_coplot\"\n",
    "        dataset_path = f\"hub://{my_activeloop_org_id}/{my_activeloop_dataset_name}\"\n",
    "        return DeepLake(dataset_path=dataset_path, embedding_function=embeddings,read_only=True)  \n",
    "        #return DeepLake(dataset_path=f'deeplake/{self.file_name}', embedding_function=OpenAIEmbeddings(deployemnt=embedding_model), read_only=True)  \n",
    "\n",
    "    def create_db(self):  \n",
    "        \"\"\"  \n",
    "        Create the database if it does not already exist.  \n",
    "\n",
    "        Databases are stored in the deeplake directory.  \n",
    "\n",
    "        Returns:  \n",
    "            DeepLake: DeepLake object.  \n",
    "        \"\"\"  \n",
    "        embeddings = OpenAIEmbeddings(deployment=embedding_model)\n",
    "        my_activeloop_org_id=\"hayagriva99999\"\n",
    "        my_activeloop_dataset_name = \"sales_coplot\"\n",
    "        dataset_path = f\"hub://{my_activeloop_org_id}/{my_activeloop_dataset_name}\"\n",
    "        db=DeepLake.from_texts(self.data[:16],embeddings,dataset_path=dataset_path)\n",
    "        # db.add_documents(self.data)\n",
    "        return db\n",
    "\n",
    "        # return DeepLake.from_texts(self.data, embeddings, dataset_path=dataset_path)\n",
    "\n",
    "    def query_db(self, query):  \n",
    "        \"\"\"  \n",
    "        Query the database for passages that are similar to the query.  \n",
    "\n",
    "        Args:  \n",
    "            query (str): Query string.  \n",
    "\n",
    "        Returns:  \n",
    "            content (list): List of passages that are similar to the query.  \n",
    "        \"\"\"  \n",
    "        results = self.db.similarity_search(query, k=3)  \n",
    "        content = []  \n",
    "        for result in results:  \n",
    "            content.append(result.page_content)  \n",
    "        return content\n",
    "\n"
   ]
  },
  {
   "cell_type": "code",
   "execution_count": 5,
   "metadata": {},
   "outputs": [
    {
     "data": {
      "text/plain": [
       "['', '1. First item. ', '2. Second item. ', '3. Third item.']"
      ]
     },
     "execution_count": 5,
     "metadata": {},
     "output_type": "execute_result"
    }
   ],
   "source": [
    "content = \"1. First item. 2. Second item. 3. Third item.\"\n",
    "re.split(r'(?=\\d+\\. )', content)"
   ]
  },
  {
   "cell_type": "code",
   "execution_count": 6,
   "metadata": {},
   "outputs": [
    {
     "name": "stdout",
     "output_type": "stream",
     "text": [
      "Deep Lake Dataset in hub://hayagriva99999/sales_coplot already exists, loading from the storage\n"
     ]
    },
    {
     "name": "stderr",
     "output_type": "stream",
     "text": [
      "|"
     ]
    },
    {
     "name": "stdout",
     "output_type": "stream",
     "text": [
      "Dataset(path='hub://hayagriva99999/sales_coplot', tensors=['embedding', 'id', 'metadata', 'text'])\n",
      "\n",
      "  tensor      htype      shape      dtype  compression\n",
      "  -------    -------    -------    -------  ------- \n",
      " embedding  embedding  (32, 1536)  float32   None   \n",
      "    id        text      (32, 1)      str     None   \n",
      " metadata     json      (32, 1)      str     None   \n",
      "   text       text      (32, 1)      str     None   \n"
     ]
    },
    {
     "name": "stderr",
     "output_type": "stream",
     "text": [
      " \r"
     ]
    }
   ],
   "source": [
    "db = DeepLakeLoader(r'D:\\Git\\NLP\\LLM\\ActivLoop\\data\\SalesTesting.txt')\n"
   ]
  },
  {
   "cell_type": "code",
   "execution_count": null,
   "metadata": {},
   "outputs": [],
   "source": []
  },
  {
   "cell_type": "code",
   "execution_count": 7,
   "metadata": {},
   "outputs": [],
   "source": [
    "LIVE_CHAT_PROMPT = \"\"\"\n",
    "Reminder: You're SalesCopilot.\n",
    "Your goal is to help the user in their sales call with the customer. \n",
    "Using conversation transcripts, you'll help create responses and guide the user (labeled You).\n",
    "Keep your responses helpful, concise, and relevant to the conversation.  \n",
    "The transcripts may be fragmented, incomplete, or even incorrect. Do not ask for clarification, do your best to understand what\n",
    "the transcripts say based on context. Be sure of everything you say.\n",
    "Keep responses concise and to the point. Starting now, answer the user's question based on the transcript:\n",
    "\n",
    "\"\"\"\n",
    "\n",
    "DETECT_OBJECTION_PROMPT = \"\"\"\n",
    "Your task is to read the transcript and discern whether the customer is raising any objections to the product or service the salesperson is selling.\n",
    "If the customer is simply stating their thoughts, preferences, or facts that are not specifically connected to the product or service, it is not an objection. \n",
    "Quote only from the transcript.\n",
    "Do not add, infer, or interpret anything.\n",
    "Example:\n",
    "'''\n",
    "Customer: I'm not sure if I can afford this. It's a bit expensive. The sky is blue. I like the color blue. \n",
    "\n",
    "You: I'm not sure if I can afford this. It's a bit expensive.\n",
    "'''\n",
    "If there is no objection, respond with 'None'.\n",
    "Starting now, you will respond only with either the quote or None: \n",
    "\"\"\"\n",
    "\n",
    "OBJECTION_GUIDELINES_PROMPT = \"\"\"\n",
    "You are SalesCopilot. You will be provided with a customer objection, and a selection\n",
    "of guidelines on how to respond to certain objections. \n",
    "Using the provided content, write out the objection and the actionable course of action you recommend.\n",
    "Objections sound like:\n",
    "'''It's too expensive.\n",
    "There's no money.\n",
    "We don't have any budget left.\n",
    "I need to use this budget somewhere else.\n",
    "I don't want to get stuck in a contract.\n",
    "We're already working with another vendor.\n",
    "I'm locked into a contract with a competitor.\n",
    "I can get a cheaper version somewhere else.'''\n",
    " \n",
    "Example of your message:\n",
    "\n",
    "'It seems like the customer is {explain their objection}.\n",
    "\n",
    "I recommend you {course of action for salesperson}.'\n",
    "\n",
    "\"\"\"\n",
    "\n",
    "SAVED_TRANSCRIPT_PROMPT =\"\"\"\n",
    "You are SalesCopilot. You will be provided with a transcript of a sales call between the user and a customer.\n",
    "Answer any questions the user asks you. You may also assess the user's performance and provide feedback.\n",
    "The transcripts may be fragmented, incomplete, or even incorrect. Do not ask for clarification, do your best to understand what\n",
    "the transcripts say based on context.\n",
    "The speaker labeled \"You\" in the transcripts is the user you are helping.\n",
    "\"\"\""
   ]
  },
  {
   "cell_type": "code",
   "execution_count": 8,
   "metadata": {},
   "outputs": [],
   "source": [
    "results = db.query_db(\"It's too expensive.\")\n"
   ]
  },
  {
   "cell_type": "code",
   "execution_count": 9,
   "metadata": {},
   "outputs": [
    {
     "data": {
      "text/plain": [
       "['1. \"It\\'s too expensive.\"\\nCommon sales objections and rebuttals about price\\n\\nPrice objections are the most common type of objection and are even voiced by prospects who have every intention of buying. Beware — the moment you start focusing on price as a selling point, you reduce yourself to a transactional middleman. Instead, circle back to the product\\'s value.\\n\\nExample Rebuttal\\n\"I\\'d love to unpack [product\\'s] features and how it can help with the issue of [prospect problem] you shared with me.\"\\n\\n',\n",
       " '1. \"It\\'s too expensive.\"\\nCommon sales objections and rebuttals about price\\n\\nPrice objections are the most common type of objection and are even voiced by prospects who have every intention of buying. Beware — the moment you start focusing on price as a selling point, you reduce yourself to a transactional middleman. Instead, circle back to the product\\'s value.\\n\\nExample Rebuttal\\n\"I\\'d love to unpack [product\\'s] features and how it can help with the issue of [prospect problem] you shared with me.\"\\n\\n',\n",
       " '2. \"There\\'s no money.\"\\nIt could be that your prospect\\'s business simply isn\\'t big enough or generating enough cash right now to afford a product like yours. Track their growth and see how you can help your prospect get to a place where your offering would fit into their business.\\n\\nExample Rebuttal\\n\"I understand. Allow me to explain our other offerings that may be a better fit for your current growth levels and budget.\"\\n\\n']"
      ]
     },
     "execution_count": 9,
     "metadata": {},
     "output_type": "execute_result"
    }
   ],
   "source": [
    "results"
   ]
  },
  {
   "cell_type": "code",
   "execution_count": 10,
   "metadata": {},
   "outputs": [
    {
     "name": "stderr",
     "output_type": "stream",
     "text": [
      "WARNING! engine is not default parameter.\n",
      "                    engine was transferred to model_kwargs.\n",
      "                    Please confirm that engine is what you intended.\n"
     ]
    }
   ],
   "source": [
    "from langchain.chat_models import ChatOpenAI\n",
    "from langchain.schema import SystemMessage, HumanMessage, AIMessage\n",
    "\n",
    "chat = ChatOpenAI(engine=chat_ai)\n",
    "system_message = SystemMessage(content=OBJECTION_GUIDELINES_PROMPT)\n",
    "human_message = HumanMessage(content=f'Customer objection: {\"Its too expensive.\"} | Relevant guidelines: {results}')\n",
    "\n",
    "response = chat([system_message, human_message])"
   ]
  },
  {
   "cell_type": "code",
   "execution_count": 11,
   "metadata": {},
   "outputs": [
    {
     "data": {
      "text/plain": [
       "['1. \"It\\'s too expensive.\"\\nCommon sales objections and rebuttals about price\\n\\nPrice objections are the most common type of objection and are even voiced by prospects who have every intention of buying. Beware — the moment you start focusing on price as a selling point, you reduce yourself to a transactional middleman. Instead, circle back to the product\\'s value.\\n\\nExample Rebuttal\\n\"I\\'d love to unpack [product\\'s] features and how it can help with the issue of [prospect problem] you shared with me.\"\\n\\n',\n",
       " '1. \"It\\'s too expensive.\"\\nCommon sales objections and rebuttals about price\\n\\nPrice objections are the most common type of objection and are even voiced by prospects who have every intention of buying. Beware — the moment you start focusing on price as a selling point, you reduce yourself to a transactional middleman. Instead, circle back to the product\\'s value.\\n\\nExample Rebuttal\\n\"I\\'d love to unpack [product\\'s] features and how it can help with the issue of [prospect problem] you shared with me.\"\\n\\n',\n",
       " '2. \"There\\'s no money.\"\\nIt could be that your prospect\\'s business simply isn\\'t big enough or generating enough cash right now to afford a product like yours. Track their growth and see how you can help your prospect get to a place where your offering would fit into their business.\\n\\nExample Rebuttal\\n\"I understand. Allow me to explain our other offerings that may be a better fit for your current growth levels and budget.\"\\n\\n']"
      ]
     },
     "execution_count": 11,
     "metadata": {},
     "output_type": "execute_result"
    }
   ],
   "source": [
    "results"
   ]
  },
  {
   "cell_type": "code",
   "execution_count": 12,
   "metadata": {},
   "outputs": [
    {
     "data": {
      "text/plain": [
       "'It seems like the customer is objecting on the basis of the price being too high.\\n\\nI recommend you to focus on the value of the product and how it can help solve the customer\\'s problem. Avoid making price the main selling point as it may reduce you to a transactional middleman. Instead, offer to unpack the product\\'s features and explain how it can assist with the customer\\'s issue. For instance, you could say, \"I\\'d love to unpack our product\\'s features and how it can help with the issue you shared with me.\"'"
      ]
     },
     "execution_count": 12,
     "metadata": {},
     "output_type": "execute_result"
    }
   ],
   "source": [
    "response.content"
   ]
  },
  {
   "attachments": {},
   "cell_type": "markdown",
   "metadata": {},
   "source": []
  }
 ],
 "metadata": {
  "kernelspec": {
   "display_name": "activeloop",
   "language": "python",
   "name": "python3"
  },
  "language_info": {
   "codemirror_mode": {
    "name": "ipython",
    "version": 3
   },
   "file_extension": ".py",
   "mimetype": "text/x-python",
   "name": "python",
   "nbconvert_exporter": "python",
   "pygments_lexer": "ipython3",
   "version": "3.8.17"
  },
  "orig_nbformat": 4
 },
 "nbformat": 4,
 "nbformat_minor": 2
}
