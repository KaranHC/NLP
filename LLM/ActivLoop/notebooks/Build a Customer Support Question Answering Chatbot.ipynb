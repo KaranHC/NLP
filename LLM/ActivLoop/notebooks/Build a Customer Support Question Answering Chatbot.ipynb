{
 "cells": [
  {
   "cell_type": "code",
   "execution_count": 1,
   "metadata": {},
   "outputs": [
    {
     "name": "stderr",
     "output_type": "stream",
     "text": [
      "c:\\Users\\sri.karan\\.conda\\envs\\activeloop\\lib\\site-packages\\deeplake\\util\\check_latest_version.py:32: UserWarning: A newer version of deeplake (3.6.17) is available. It's recommended that you update to the latest version using `pip install -U deeplake`.\n",
      "  warnings.warn(\n"
     ]
    }
   ],
   "source": [
    "import pandas  as pd\n",
    "from langchain.llms import OpenAI\n",
    "from dotenv import load_dotenv\n",
    "\n",
    "import openai,os\n",
    "load_dotenv(r'D:\\Git\\NLP\\LLM\\ActivLoop\\.env')\n",
    "openai_api_key = os.getenv(\"ACTIVELOOP_TOKEN\")\n",
    "\n",
    "assert openai_api_key, \"ERROR: Azure OpenAI Key is missing\"\n",
    "openai.api_key = openai_api_key\n",
    "\n",
    "openai.api_base = os.getenv(\"OpenAiService\")\n",
    "openai.api_type = \"azure\"\n",
    "openai.api_version =os.getenv(\"OpenAiVersion\")\n",
    "davincimodel= os.getenv(\"OpenAiDavinci\")\n",
    "active_loop_token=os.getenv(\"ACTIVELOOP_TOKEN\")\n",
    "embedding_model=os.getenv(\"OpenAiEmbedding\")\n",
    "chat_ai=os.getenv(\"ChatAI\")#\n",
    "HUGGINGFACEHUB_API_TOKEN=os.getenv(\"HUGGINGFACEHUB_API_TOKEN\")"
   ]
  },
  {
   "attachments": {},
   "cell_type": "markdown",
   "metadata": {},
   "source": [
    "### Introduction\n",
    "As we witness accelerated technological progress, large language models like GPT-4 and ChatGPT have emerged as significant breakthroughs in the tech landscape. These state-of-the-art models demonstrate exceptional prowess in content generation. However, they are not without their share of challenges, such as biases and hallucinations. Despite these limitations, LLMs have the potential to bring about a transformative impact on chatbot development.\n",
    "\n",
    "Traditional, primarily intent-based chatbots have been designed to respond to specific user intents. These intents comprise a collection of sample questions and corresponding responses. For instance, a \"Restaurant Recommendations\" intent might include sample questions like \"Can you suggest a good Italian restaurant nearby?\" or \"Where can I find the best sushi in town?\" with responses such as \"You can try the Italian restaurant 'La Trattoria' nearby\" or \"The top-rated sushi place in town is 'Sushi Palace.'\"\n",
    "\n",
    "When users interact with the chatbot, their queries are matched to the most similar intent, generating the associated response. However, as LLMs continue to evolve, chatbot development is shifting toward more sophisticated and dynamic solutions capable of handling a broader range of user inquiries with greater precision and nuance."
   ]
  },
  {
   "attachments": {},
   "cell_type": "markdown",
   "metadata": {},
   "source": [
    "### Having a Knowledge Base\n",
    "LLMs can significantly enhance chatbot functionality by associating broader intents with documents from a Knowledge Base (KB) instead of specific questions and answers. This approach streamlines intent management and generates more tailored responses to user inquiries.\n",
    "\n",
    "GPT3 has a maximum prompt size of around 4,000 tokens, which is substantial but insufficient for incorporating an entire knowledge base in a single prompt. \n",
    "\n",
    "Future LLMs may not have this limitation while retaining the text generation capabilities. However, for now, we need to design a solution around it.\n",
    "\n",
    "##### Workflow\n",
    "This project aims to build a chatbot that leverages GPT3 to search for answers within documents. The workflow for the experiment is explained in the following diagram."
   ]
  },
  {
   "attachments": {},
   "cell_type": "markdown",
   "metadata": {},
   "source": [
    "First we scrape some content from online articles, we split them into small chunks, compute their embeddings and store them in Deep Lake. Then, we use a user query to retrieve the most relevant chunks from Deep Lake, we put them into a prompt, which will be used to generate the final answer by the LLM.\n",
    "\n",
    "It is important to note that there is always a risk of generating hallucinations or false information when using LLMs. Although this might not be acceptable for many customers support use cases, the chatbot can still be helpful for assisting operators in drafting answers that they can double-check before sending them to the user.\n",
    "\n",
    "In the next steps, we'll explore how to manage conversations with GPT-3 and provide examples to demonstrate the effectiveness of this workflow:\n",
    "\n",
    "First, set up the OPENAI_API_KEY and ACTIVELOOP_TOKEN environment variables with your API keys and tokens.\n",
    "\n",
    "As we’re going to use the SeleniumURLLoader LangChain class, and it uses the unstructured and selenium Python library, let’s install it using pip. It is recommended to install the latest version of the library. Nonetheless, please be aware that the code has been tested specifically on version 0.7.7."
   ]
  },
  {
   "cell_type": "code",
   "execution_count": 2,
   "metadata": {},
   "outputs": [],
   "source": [
    "from langchain.embeddings.openai import OpenAIEmbeddings\n",
    "from langchain.vectorstores import DeepLake\n",
    "from langchain.text_splitter import CharacterTextSplitter\n",
    "from langchain import OpenAI\n",
    "from langchain.document_loaders import SeleniumURLLoader\n",
    "from langchain import PromptTemplate"
   ]
  },
  {
   "attachments": {},
   "cell_type": "markdown",
   "metadata": {},
   "source": [
    "These libraries provide functionality for handling OpenAI embeddings, managing vector storage, splitting text, and interacting with the OpenAI API. They also enable the creation of a context-aware question-answering system, incorporating retrieval and text generation.\n",
    "\n",
    "The database for our chatbot will consist of articles regarding technical issues."
   ]
  },
  {
   "cell_type": "code",
   "execution_count": 3,
   "metadata": {},
   "outputs": [],
   "source": [
    "# we'll use information from the following articles\n",
    "urls = ['https://beebom.com/what-is-nft-explained/',\n",
    "        'https://beebom.com/how-delete-spotify-account/',\n",
    "        'https://beebom.com/how-download-gif-twitter/',\n",
    "        'https://beebom.com/how-use-chatgpt-linux-terminal/',\n",
    "        'https://beebom.com/how-delete-spotify-account/',\n",
    "        'https://beebom.com/how-save-instagram-story-with-music/',\n",
    "        'https://beebom.com/how-install-pip-windows/',\n",
    "        'https://beebom.com/how-check-disk-usage-linux/']"
   ]
  },
  {
   "attachments": {},
   "cell_type": "markdown",
   "metadata": {},
   "source": [
    "### 1: Split the documents into chunks and compute their embeddings\n",
    "We load the documents from the provided URLs and split them into chunks using the CharacterTextSplitter with a chunk size of 1000 and no overlap:"
   ]
  },
  {
   "cell_type": "code",
   "execution_count": 4,
   "metadata": {},
   "outputs": [],
   "source": [
    "# use the selenium scraper to load the documents\n",
    "loader = SeleniumURLLoader(urls=urls)\n",
    "docs_not_splitted = loader.load()\n",
    "\n"
   ]
  },
  {
   "cell_type": "code",
   "execution_count": 6,
   "metadata": {},
   "outputs": [
    {
     "name": "stdout",
     "output_type": "stream",
     "text": [
      "Home  Internet  NFTs Explained: What is an NFT and What is Its Use\n",
      "\n",
      "NFTs Explained: What is an NFT and What is Its Use\n",
      "\n",
      "Arjun Sha\n",
      "\n",
      "Last Updated: December 6, 2021 4:42 pm\n",
      "\n",
      "After Bitcoin and Blockchain, NFT is another word to have entered our lexicon. The buzzword is everywhere and people are wondering what is NFT and what is its use? Well, there is not really a one-line explainer. And that’s why we have brought a comprehensive explainer on NFT, what is its use in digital art, and more. So without wasting any time, let’s go ahead and learn about NFTs (Non-fungible Token) in complete detail.\n",
      "\n",
      "What is NFT: A Definitive Explainer (2021)\n",
      "\n",
      "Here, we have mentioned all the questions that people have in their minds regarding NFT. You can click on the table to find all the sections that we have covered in this article and click on the link to move to the corresponding section.\n",
      "\n",
      "Table of Contents\n",
      "\n",
      "NFTs Explained: What is NFT in Crypto?\n",
      "\n",
      "What is the Use of NFT in Digital Art?\n",
      "\n",
      "How is Blockchain Related to NFT?\n",
      "\n",
      "A Brief History of NFT\n",
      "\n",
      "The Cons of NFT\n",
      "\n",
      "How to Buy NFTs\n",
      "\n",
      "How to Sell NFTs\n",
      "\n",
      "How to Make NFTs\n",
      "\n",
      "Frequently Asked Questions (FAQs)\n",
      "\t\t\n",
      "Is Ethereum an NFT?Where can I sell NFTs?\n",
      "\n",
      "NFTs Explained: What is NFT in Crypto?\n",
      "\n",
      "Before anything, let me give you a clear-headed definition of NFT and what it stands for. NFT stands for Non-fungible Token. Fungible by its very definition means something that is mutually interchangeable. For example, you can exchange a $10 note with another $10 note or exchange it with two $5 notes. In both cases, the value remains the same and you will have no problem exchanging the money. Here, money is a fungible item as it can be exchanged without diminishing the value.\n",
      "\n",
      "So when we say Non-fungible, it means something that can’t be exchanged with a similar item of similar value. To give you a simple example, if you want to replace the Mona Lisa painting kept in Louvre, Paris with another printout of the same image, will it be the same? And more importantly, will it hold the same value? The answer is no. Here, the incomparable Mona Lisa painting is a Non-fungible item that can’t be exchanged with another item having an identical appearance.\n",
      "\n",
      "Uniqueness is the key here. A Non-fungible item is, therefore, something that is unique and authentic. Something that holds value for its authenticity. Now we come to the token part. A token is a 40-digit string of words and numbers that hold the information of the original artist who created the masterpiece, the current owner of the item (it can only be one), and the current price of the item. This storage of information is backed by Blockchain technology which can’t be altered by any means due to its decentralized system.\n",
      "\n",
      "Finally, when you put all three words together, NFT means an incorruptible token that holds ownership information about an item that is unique and authentic. NFT is basically a certificate of ownership or authenticity. This is the general definition of NFT, but if you want to get a complete idea about NFTs then you need to understand the concept with digital art as an example, which I have covered in the next section.\n",
      "\n",
      "What is the Use of NFT in Digital Art?\n",
      "\n",
      "Many must be wondering what is the use of NFT in digital art and why is there so much hullabaloo about it? Well, as I explained in the above section that NFT is a signature of authenticity and it provides that authentic stamp of approval on the web while dealing with digital arts. We all know, in today’s world anything can be tampered with and people can pass off others’ work as theirs. Basically, on the web, it’s next to impossible to find the original creator of an artwork and that’s where NFTs come into the play. NFTs pretty much aim to bring art collecting into the digital age with completely digital art that is sold as NFTs.\n",
      "\n",
      "NFT provides a means for digital creators to put their work in the public domain without having to worry about proving ownership or authenticity. Digital artists can generate NFT for their original work and auction it off to another person while maintaining the information about the original creator, the current owner, and the current value. The best part about NFT is that as many times the digital art is sold to another person, a share of the value will be transferred to the original creator. This makes NFT a great proposition to digital artists for earning money through their artwork.\n",
      "\n",
      "Taking a real-life example, Christie’s — the famous British auction house for paintings — recently auctioned a digital art in NFT. The digital art is called “Everydays – The First 5000 Days” was made by Mike Winkelmann who goes by the name of Beeple. The digital image was sold for $69 million and the buyer got a 319MB digital file (JPEG image) along with the NFT (token) which holds the information about its ownership, et al.\n",
      "\n",
      "Jack Dorsey has started an NFT auction about his first tweet which currently holds the value of $2.5 million. Similarly,\n",
      "\n",
      "Kings of Leon — a rockband — has announced that their new music album will be released with NFT. Strangely, the\n",
      "\n",
      "Nyan Cat GIF has been sold for $587,000 with NFT and many new NFT marketplaces have opened up such as\n",
      "\n",
      "OpenSea,\n",
      "\n",
      "CryptoPunks, etc. that sell digital collectible with NFTs. It’s still a niche market, but growing rapidly in the crypto world.\n",
      "\n",
      "How is Blockchain Related to NFT?\n",
      "\n",
      "I have explained above that Blockchain technology is the bedrock on which NFT is built. We already know Blockchain is foolproof and it’s massively used in managing several cryptocurrencies. Every transaction through NFT is put on a public ledger which means the whole system is quite transparent. Another aspect of this technology is that it creates a chain which means everything is traceable right to the original creator.\n",
      "\n",
      "One thing to note is that you can only buy NFTs with cryptocurrency and particularly, from Ethereum. Currently, Ethereum is the market leader in issuing and managing NFTs because of its early headstart. However, some services also accept Bitcoin for buying and selling them.\n",
      "\n",
      "A Brief History of NFT\n",
      "\n",
      "Now that we have learned about NFT in detail, let’s find out how NFT was originated. First off, the reason Ethereum has an early headstart is because they were the ones who started this project with their new NFT blockchain system called ERC-721 in 2015. Subsequent to that, Ethereum brought ERC-1155 and advanced the technology before Bitcoin and Flow could catch up.\n",
      "\n",
      "In what was the first introduction of NFT to the masses, in 2017, Ethereum introduced a blockchain game called CryptoKitties. In this game, players could purchase, collect, breed, and sell virtual cats using Ether (Ethereum’s cryptocurrency). At that time, the highest-selling cat was sold at $117,712 which was mind-boggling. Getting a cue, Ethereum incorporated the NFT system into its cryptocurrency and now they are leading the market.\n",
      "\n",
      "To give you some numbers, in 2018, NFT had a total market share of $50 million; in 2019, it reached around $150 million and in 2020, the NFT market ballooned to a massive $338 million. Now with the current boom, it’s anyone’s guess where the market will go from here.\n",
      "\n",
      "The Cons of NFT\n",
      "\n",
      "While we discussed the pros of NFT from above and beyond, there are some major cons that you should keep in mind before investing in a digital collectible through NFT. First off, it takes up an enormous amount of energy to generate and maintain the system which makes it unsustainable and makes a negative impact on the ecology. It’s because, unlike cryptocurrency, a non-fungible token runs on a proof-of-work blockchain which is less energy-efficient. As an aside, expect GPU prices to go even higher in the near future due to extreme mining.\n",
      "\n",
      "Apart from that, critics warn that NFT is a bubble, and people who are buying a strange GIF or collecting a rare video clip at such a high cost will come crashing down. Experts say that paintings and rare collectibles do not hold value just because of the sheer artistry, but also because there is an established audience who want to own and collect rare paintings or an artwork that no other person has.\n",
      "\n",
      "Experts point out that those who are buying digital artwork are not paying huge sums because they appreciate art. Instead, they want to create a bubble to earn money by reselling it at a higher price. It’s worth noting that the digital world does not have a scarcity of artwork — unlike physical masterpieces — so the prices will likely come down once the bubble bursts.\n",
      "\n",
      "How to Buy NFTs\n",
      "\n",
      "Buying an NFT is as simple as heading to any of the NFT marketplaces, and making a purchase. However, there are certain things you need to take into consideration before you make your first NFT purchase.\n",
      "\n",
      "First, you need to ensure that you have a crypto wallet that supports NFTs. Second, you need to see which marketplace you want to buy from, as well as the cryptocurrency required to purchase the NFT you’re interested in. For example, while Ethereum (ETH) is one of the leading players in NFTs, there are marketplaces that use other cryptocurrencies as well. So make sure you have enough of the currency to pay for your desired unique piece of digital art.\n",
      "\n",
      "Some of the NFT marketplaces you can check out are OpenSea, Rarible, Mintable, Nifty Gateway (this is the one Grimes sold her video on), and others.\n",
      "\n",
      "How to Sell NFTs\n",
      "\n",
      "If you’re the owner of a piece of digital art or any other content that you want to sell as an NFT, you can do the same on NFT marketplaces as well. Though the details may differ, all you need to do is upload your digital work, fill out the details about its creation, etc, and set a price for your digital file.\n",
      "\n",
      "Then, your NFT can be purchased by people looking to buy NFTs. Whenever your NFT is sold, you will get paid for your work. However, do note that some marketplaces have fees that they will charge you for hosting and selling your NFT. So make sure that you read the fine print well, before choosing the marketplace you want to sell your NFT on.\n",
      "\n",
      "How to Make NFTs\n",
      "\n",
      "Making NFTs is fairly straightforward once you’re done with the initial set up. The difficult part is actually figuring out the rest of the stuff. Basically, you will need a wallet that can be used with NFTs, such as MetaMask.\n",
      "\n",
      "Once you’ve created your wallet, you can connect it to the platform where you want to sell your art (such as OpenSea, Rarible, etc). Now, you can upload your digital piece of art to the platform, choose a price for it, and start an auction.\n",
      "\n",
      "However, things are slightly complicated. In Rarible, for example, you will have to pay a small fee to list your art. Further, you will have to pay additional money to get your art converted into an NFT, and then, once your NFT is sold, Rarible will also charge you a commission, as well as some money for transferring the cryptocurrency from the buyer’s wallet to yours.\n",
      "\n",
      "Overall, making a non-fungible token art is easy, but selling it involves a bit of work. So make sure you have plenty of time on your hand before you get started, and don’t set your asking price too low, or you may end up actually losing money by selling your art.\n",
      "\n",
      "Frequently Asked Questions (FAQs)\n",
      "\n",
      "Is Ethereum an NFT?\n",
      "\n",
      "No, Ethereum is one of the blockchains that hosts NFTs. It’s also a cryptocurrency you can use to buy NFTs. However, Ethereum itself is not an NFT.\n",
      "\n",
      "Where can I sell NFTs?\n",
      "\n",
      "There are many NFT marketplaces out there, including OpenSea, Rarible, Atomic Market, and many others that you can use to sell your NFT.\n",
      "\n",
      "Verdict: Where is NFT Heading?\n",
      "\n",
      "That was our comprehensive explainer on NFT and what it means in digital art and other digital collectibles. While NFT does add a new dimension that can help in verifying authenticity, I think the current craze of owning a digital item at a sky-high price is misplaced.\n",
      "\n",
      "It’s a great technology that can have a huge impact on the music industry and other creative professions. It will surely reduce intermediaries and artists will be able to reap the benefits directly from the consumers. Anyway, that is all from us. But what do you think about NFTs? Do tell us your opinions in the comment section below.\n",
      "\n",
      "TAGS\n",
      "\n",
      "Blockchain\n",
      "\n",
      "featured\n",
      "\n",
      "NFT\n",
      "\n",
      "2 Comments\n",
      "\n",
      "Recommended Articles\n",
      "\n",
      "Venba Review: Hits Too Close to Home\n",
      "\n",
      "12 Games Like Wordle You Should Try in 2023\n",
      "\n",
      "How to Use ChatGPT Code Interpreter for Free\n",
      "\n",
      "Minecraft 1.21: Release Date, New Features, Leaks & Rumors\n",
      "\n",
      "How to Use GPT-4’s Multimodal Capability in Bing Chat Right Now\n",
      "\n",
      "Nothing Phone 2 Review: Price Dilutes the Hype?\n",
      "\n",
      "2 Comments\n",
      "\n",
      "chandragupta maurya says:\t\t\t\t\t\n",
      "\n",
      "\t\t\t\t\t\n",
      "\t\t\t\t\t\tApr 23, 2022 at 8:16 pm\t\t\t\t\t\n",
      "\n",
      "\t\t\t\t\t\t\t\t\t\n",
      "\n",
      "\t\t\t\t\n",
      "\t\t\t\t\ti can agree that this is one of the best article on NFTs ,before i was not able to understand about NFTs\n",
      "\t\t\t\t\n",
      "\n",
      "\t\t\t\tReply\n",
      "\n",
      "Rizwan says:\t\t\t\t\t\n",
      "\n",
      "\t\t\t\t\t\n",
      "\t\t\t\t\t\tApr 15, 2022 at 12:16 am\t\t\t\t\t\n",
      "\n",
      "\t\t\t\t\t\t\t\t\t\n",
      "\n",
      "\t\t\t\t\n",
      "\t\t\t\t\tThe best article about  NFTs I’ve read. I know absolutely nothing about  Crypto, but I understood it without any problem. Big up for the author! Also about NFT Marketplaces\n",
      "\t\t\t\t\n",
      "\n",
      "\t\t\t\tReply\n",
      "\n",
      "Leave a Reply \n",
      "\n",
      "Cancel reply\n",
      "\n",
      "Your Comment\n",
      "\n",
      "Your Name\n",
      "\n",
      "Your Email *\n",
      "\n",
      "You Might Like\n",
      "\n",
      "News\n",
      "\n",
      "Minecraft Bans NFTs and Blockchain Integration from the Game\n",
      "\n",
      "News\n",
      "\n",
      "Samsung’s Blockchain-based File Transfer App ‘Private Share’ to Debut With Galaxy S21: Report\n",
      "\n",
      "News\n",
      "\n",
      "Telegram Abandons TON Blockchain Platform Following Adverse Court Ruling\n",
      "\n",
      "News\n",
      "\n",
      "India Announces Blockchain-Based Payment Platform ‘Vajra’\n",
      "\n",
      "News\n",
      "\n",
      "BSES Launches Blockchain Platform for Peer-to-Peer Solar Power Trading\n",
      "\n",
      "REVIEWS\n",
      "\n",
      "Venba Review: Hits Too Close to Home\n",
      "\n",
      "Venba has managed to turn a lot of heads since its first announcement at Nintendo Direct in late 2022. After all, you don’t get frequently games where you need to prepare South Indian cuisine throughout the experience. I gravitated toward […]\n",
      "\n",
      "Nothing Phone 2 Review: Price Dilutes the Hype?\n",
      "\n",
      "The much-anticipated Nothing Phone (2) is finally here, and it created a lot of buzz in the smartphone market. While the Nothing Phone (2) looks similar to its predecessor, it is still a wake-up call for the smartphone industry. One […]\n",
      "\n",
      "MSI Stealth 14 Studio A13V Review: Compact Powerhouse\n",
      "\n",
      "Earlier this year, MSI updated their Titan, Vector, Stealth, Raider, and several other gaming laptop lineups. We have already reviewed the colossal MSI Titan GT77 HX 13V, and recently, we got our hands on the MSI Stealth 14 Studio A13V. […]\n"
     ]
    }
   ],
   "source": [
    "print(docs_not_splitted[0].page_content)"
   ]
  },
  {
   "cell_type": "code",
   "execution_count": 7,
   "metadata": {},
   "outputs": [
    {
     "name": "stderr",
     "output_type": "stream",
     "text": [
      "Created a chunk of size 1226, which is longer than the specified 1000\n"
     ]
    }
   ],
   "source": [
    "# we split the documents into smaller chunks\n",
    "text_splitter = CharacterTextSplitter(chunk_size=1000, chunk_overlap=0)\n",
    "docs = text_splitter.split_documents(docs_not_splitted)"
   ]
  },
  {
   "cell_type": "code",
   "execution_count": 8,
   "metadata": {},
   "outputs": [
    {
     "data": {
      "text/plain": [
       "127"
      ]
     },
     "execution_count": 8,
     "metadata": {},
     "output_type": "execute_result"
    }
   ],
   "source": [
    "len(docs)"
   ]
  },
  {
   "attachments": {},
   "cell_type": "markdown",
   "metadata": {},
   "source": [
    "Next, we compute the embeddings using OpenAIEmbeddings and store them in a Deep Lake vector store on the cloud. In an ideal production scenario, we could upload a whole website or course lesson on a Deep Lake dataset, allowing for search among even thousands or millions of documents. As we are using a cloud serverless Deep Lake dataset, applications running on different locations can easily access the same centralized dataset without the need of deploying a vector store on a custom machine.\n",
    "\n",
    "Let’s now modify the following code by adding your Activeloop organization ID. It worth noting that the org id is your username by default."
   ]
  },
  {
   "attachments": {},
   "cell_type": "markdown",
   "metadata": {},
   "source": [
    "# Before executing the following code, make sure to have\n",
    "# your OpenAI key saved in the “OPENAI_API_KEY” environment variable.\n",
    "embeddings = OpenAIEmbeddings(model=\"text-embedding-ada-002\")\n",
    "\n",
    "# create Deep Lake dataset\n",
    "# TODO: use your organization id here. (by default, org id is your username)\n",
    "my_activeloop_org_id = \"hayagriva99999\"\n",
    "my_activeloop_dataset_name = \"langchain_course_customer_support\"\n",
    "dataset_path = f\"hub://{my_activeloop_org_id}/{my_activeloop_dataset_name}\"\n",
    "db = DeepLake(dataset_path=dataset_path, embedding_function=embeddings)\n",
    "\n",
    "# add documents to our Deep Lake dataset\n",
    "db.add_documents(docs)"
   ]
  },
  {
   "cell_type": "code",
   "execution_count": 11,
   "metadata": {},
   "outputs": [
    {
     "name": "stdout",
     "output_type": "stream",
     "text": [
      "Deep Lake Dataset in hub://hayagriva99999/langchain_course_customer_support already exists, loading from the storage\n"
     ]
    }
   ],
   "source": [
    "# Before executing the following code, make sure to have\n",
    "# your OpenAI key saved in the “OPENAI_API_KEY” environment variable.\n",
    "embeddings = OpenAIEmbeddings(deployment=embedding_model)\n",
    "\n",
    "# create Deep Lake dataset\n",
    "# TODO: use your organization id here. (by default, org id is your username)\n",
    "my_activeloop_org_id = \"hayagriva99999\"\n",
    "my_activeloop_dataset_name = \"langchain_course_customer_support\"\n",
    "dataset_path = f\"hub://{my_activeloop_org_id}/{my_activeloop_dataset_name}\"\n",
    "db = DeepLake(dataset_path=dataset_path, embedding_function=embeddings)\n",
    "\n",
    "# add documents to our Deep Lake dataset\n"
   ]
  },
  {
   "cell_type": "code",
   "execution_count": 13,
   "metadata": {},
   "outputs": [
    {
     "data": {
      "text/plain": [
       "127"
      ]
     },
     "execution_count": 13,
     "metadata": {},
     "output_type": "execute_result"
    }
   ],
   "source": [
    "len(docs)"
   ]
  },
  {
   "cell_type": "code",
   "execution_count": 14,
   "metadata": {},
   "outputs": [
    {
     "name": "stderr",
     "output_type": "stream",
     "text": [
      "-"
     ]
    },
    {
     "name": "stdout",
     "output_type": "stream",
     "text": [
      "Dataset(path='hub://hayagriva99999/langchain_course_customer_support', tensors=['embedding', 'id', 'metadata', 'text'])\n",
      "\n",
      "  tensor      htype      shape      dtype  compression\n",
      "  -------    -------    -------    -------  ------- \n",
      " embedding  embedding  (16, 1536)  float32   None   \n",
      "    id        text      (16, 1)      str     None   \n",
      " metadata     json      (16, 1)      str     None   \n",
      "   text       text      (16, 1)      str     None   \n"
     ]
    },
    {
     "name": "stderr",
     "output_type": "stream",
     "text": [
      " \r"
     ]
    },
    {
     "data": {
      "text/plain": [
       "['5ef2decd-34ec-11ee-8522-70cd0d7e92f2',\n",
       " '5ef2dece-34ec-11ee-b97b-70cd0d7e92f2',\n",
       " '5ef2decf-34ec-11ee-acc1-70cd0d7e92f2',\n",
       " '5ef2ded0-34ec-11ee-bb13-70cd0d7e92f2',\n",
       " '5ef2ded1-34ec-11ee-b514-70cd0d7e92f2',\n",
       " '5ef2ded2-34ec-11ee-a299-70cd0d7e92f2',\n",
       " '5ef2ded3-34ec-11ee-abbe-70cd0d7e92f2',\n",
       " '5ef2ded4-34ec-11ee-990a-70cd0d7e92f2',\n",
       " '5ef2ded5-34ec-11ee-b59f-70cd0d7e92f2',\n",
       " '5ef2ded6-34ec-11ee-ad23-70cd0d7e92f2',\n",
       " '5ef2ded7-34ec-11ee-a192-70cd0d7e92f2',\n",
       " '5ef2ded8-34ec-11ee-91a3-70cd0d7e92f2',\n",
       " '5ef2ded9-34ec-11ee-a165-70cd0d7e92f2',\n",
       " '5ef2deda-34ec-11ee-b3f1-70cd0d7e92f2',\n",
       " '5ef2dedb-34ec-11ee-8f12-70cd0d7e92f2',\n",
       " '5ef2dedc-34ec-11ee-b65d-70cd0d7e92f2']"
      ]
     },
     "execution_count": 14,
     "metadata": {},
     "output_type": "execute_result"
    }
   ],
   "source": [
    "db.add_documents(docs[:16])"
   ]
  },
  {
   "attachments": {},
   "cell_type": "markdown",
   "metadata": {},
   "source": [
    "To retrieve the most similar chunks to a given query, we can use the similarity_search method of the Deep Lake vector store:"
   ]
  },
  {
   "cell_type": "code",
   "execution_count": 15,
   "metadata": {},
   "outputs": [
    {
     "name": "stdout",
     "output_type": "stream",
     "text": [
      "Uniqueness is the key here. A Non-fungible item is, therefore, something that is unique and authentic. Something that holds value for its authenticity. Now we come to the token part. A token is a 40-digit string of words and numbers that hold the information of the original artist who created the masterpiece, the current owner of the item (it can only be one), and the current price of the item. This storage of information is backed by Blockchain technology which can’t be altered by any means due to its decentralized system.\n",
      "\n",
      "Finally, when you put all three words together, NFT means an incorruptible token that holds ownership information about an item that is unique and authentic. NFT is basically a certificate of ownership or authenticity. This is the general definition of NFT, but if you want to get a complete idea about NFTs then you need to understand the concept with digital art as an example, which I have covered in the next section.\n",
      "\n",
      "What is the Use of NFT in Digital Art?\n"
     ]
    }
   ],
   "source": [
    "# let's see the top relevant documents to a specific query\n",
    "query = \"how to check disk usage in linux?\"\n",
    "docs = db.similarity_search(query)\n",
    "print(docs[0].page_content)"
   ]
  },
  {
   "attachments": {},
   "cell_type": "markdown",
   "metadata": {},
   "source": [
    "### 2: Craft a prompt for GPT-3 using the suggested strategies\n",
    "We will create a prompt template that incorporates role-prompting, relevant Knowledge Base information, and the user's question:"
   ]
  },
  {
   "cell_type": "code",
   "execution_count": 16,
   "metadata": {},
   "outputs": [],
   "source": [
    "# let's write a prompt for a customer support chatbot that\n",
    "# answer questions using information extracted from our db\n",
    "template = \"\"\"You are an exceptional customer support chatbot that gently answer questions.\n",
    "\n",
    "You know the following context information.\n",
    "\n",
    "{chunks_formatted}\n",
    "\n",
    "Answer to the following question from a customer. Use only information from the previous context information. Do not invent stuff.\n",
    "\n",
    "Question: {query}\n",
    "\n",
    "Answer:\"\"\"\n",
    "\n",
    "prompt = PromptTemplate(\n",
    "    input_variables=[\"chunks_formatted\", \"query\"],\n",
    "    template=template,\n",
    ")"
   ]
  },
  {
   "attachments": {},
   "cell_type": "markdown",
   "metadata": {},
   "source": [
    "The template sets the chatbot's persona as an exceptional customer support chatbot. The template takes two input variables: chunks_formatted, which consists of the pre-formatted chunks from articles, and query, representing the customer's question. The objective is to generate an accurate answer using only the provided chunks without creating any false or invented information.\n",
    "\n",
    "### 3: Utilize the GPT3 model with a temperature of 0 for text generation\n",
    "To generate a response, we first retrieve the top-k (e.g., top-3) chunks most similar to the user query, format the prompt, and send the formatted prompt to the GPT3 model with a temperature of 0."
   ]
  },
  {
   "cell_type": "code",
   "execution_count": 18,
   "metadata": {},
   "outputs": [
    {
     "name": "stderr",
     "output_type": "stream",
     "text": [
      "WARNING! engine is not default parameter.\n",
      "                    engine was transferred to model_kwargs.\n",
      "                    Please confirm that engine is what you intended.\n"
     ]
    },
    {
     "name": "stdout",
     "output_type": "stream",
     "text": [
      " To check disk usage in Linux, you can use the command line utility 'df'. This command will show you the total disk space, used disk space, and available disk space. You can also use the 'du' command to check the disk usage of individual files and directories.\n"
     ]
    }
   ],
   "source": [
    "# the full pipeline\n",
    "\n",
    "# user question\n",
    "query = \"How to check disk usage in linux?\"\n",
    "\n",
    "# retrieve relevant chunks\n",
    "docs = db.similarity_search(query)\n",
    "retrieved_chunks = [doc.page_content for doc in docs]\n",
    "\n",
    "# format the prompt\n",
    "chunks_formatted = \"\\n\\n\".join(retrieved_chunks)\n",
    "prompt_formatted = prompt.format(chunks_formatted=chunks_formatted, query=query)\n",
    "\n",
    "# generate answer\n",
    "llm = OpenAI(engine=davincimodel, temperature=0)\n",
    "answer = llm(prompt_formatted)\n",
    "print(answer)\n"
   ]
  },
  {
   "attachments": {},
   "cell_type": "markdown",
   "metadata": {},
   "source": [
    "### Issues with Generating Answers using GPT-3\n",
    "In the previous example, the chatbot generally performs well. However, there are certain situations where it could fail.\n",
    "\n",
    "Suppose we ask, \"Is the Linux distribution free?\" and provide GPT-3 with a document about kernel features as context. It might generate an answer like \"Yes, the Linux distribution is free to download and use,\" even if such information is not present in the context document. Producing false information is highly undesirable for customer service chatbots!\n",
    "\n",
    "GPT-3 is less likely to generate false information when the answer to the user's question is contained within the context. Since user questions are often brief and ambiguous, we cannot always rely on the semantic search step to retrieve the correct document. Thus, there is always a risk of generating false information.\n",
    "\n",
    "### Conclusion\n",
    "GPT-3 is highly effective in creating conversational chatbots capable of answering specific questions based on the contextual information provided in the prompt. However, it can be challenging to ensure that the model generates answers solely based on the context, as it has a tendency to hallucinate (i.e., generate new, potentially false information). The severity of generating false information varies depending on the use case.\n",
    "\n",
    "To conclude, we implemented a context-aware question-answering system using LangChain, following the provided code and strategies. The process involved splitting documents into chunks, computing their embeddings, implementing a retriever to find similar chunks, crafting a prompt for GPT-3, and using the GPT3 model for text generation. This approach demonstrates the potential of leveraging GPT-3 to create powerful and contextually accurate chatbots while also highlighting the need to be cautious about the possibility of generating false information.\n",
    "\n",
    "In the next lesson, you’ll see how to leverage Deep Lake and GPT-4 for building a sales assistant."
   ]
  },
  {
   "attachments": {},
   "cell_type": "markdown",
   "metadata": {},
   "source": [
    "https://learnprompting.org/docs/applied_prompting/build_chatbot_from_kb"
   ]
  },
  {
   "cell_type": "code",
   "execution_count": 2,
   "metadata": {},
   "outputs": [],
   "source": [
    "import os\n",
    "\n",
    "from dotenv import load_dotenv\n",
    "import streamlit as st\n",
    "\n",
    "# from api_utils import BuildBook\n",
    "# from deep_lake_utils import SaveToDeepLake\n",
    "# from pdf_gen_utils import build_pdf\n",
    "import sys\n",
    "sys.path.append(r\"c:\\users\\sri.karan\\appdata\\roaming\\python\\python38\\site-packages\")\n",
    "\n",
    "STYLES = {\n",
    "            'Impressionism': 'Monet, impressionist art style, loose brushstrokes, vibrant colors, painted, painted light',\n",
    "            'Cubism': 'Cubist art style, Picasso, fragmented forms, geometric shapes, angular lines, limited color palette, artistic',\n",
    "            'Surrealism': 'Surrealist art style, dreamlike, abstract art, dream-like artwork, Salvador Dalí, art',\n",
    "            'Japanese Ukiyo-e': 'Ukiyo-e art style, Hokusai, woodblock prints, flat areas of color, outlines, nature, Japanese culture',\n",
    "            'Art Nouveau': 'Art Nouveau style, Mucha, curving lines, natural forms, ornamental, elegant, stylized',\n",
    "            'Folk Art': 'Folk art style, naive art, simple shapes, bright colors, childlike, intuitive, traditional',\n",
    "            'Expressionism': 'Expressionist art style, Edvard Munch, distorted forms, dramatic colors, emotional impact, subjective'\n",
    "          }\n",
    "\n",
    "\n",
    "load_dotenv(r'D:\\Git\\NLP\\LLM\\ActivLoop\\.env')\n",
    "dataset_path = os.getenv('DATASET_PATH')\n"
   ]
  },
  {
   "attachments": {},
   "cell_type": "markdown",
   "metadata": {},
   "source": []
  }
 ],
 "metadata": {
  "kernelspec": {
   "display_name": "activeloop",
   "language": "python",
   "name": "python3"
  },
  "language_info": {
   "codemirror_mode": {
    "name": "ipython",
    "version": 3
   },
   "file_extension": ".py",
   "mimetype": "text/x-python",
   "name": "python",
   "nbconvert_exporter": "python",
   "pygments_lexer": "ipython3",
   "version": "3.8.17"
  },
  "orig_nbformat": 4
 },
 "nbformat": 4,
 "nbformat_minor": 2
}
