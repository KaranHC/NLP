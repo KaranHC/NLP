{
 "cells": [
  {
   "cell_type": "code",
   "execution_count": 1,
   "metadata": {},
   "outputs": [
    {
     "name": "stderr",
     "output_type": "stream",
     "text": [
      "c:\\Users\\sri.karan\\.conda\\envs\\activeloop\\lib\\site-packages\\deeplake\\util\\check_latest_version.py:32: UserWarning: A newer version of deeplake (3.6.18) is available. It's recommended that you update to the latest version using `pip install -U deeplake`.\n",
      "  warnings.warn(\n"
     ]
    }
   ],
   "source": [
    "import pandas  as pd\n",
    "from langchain.llms import OpenAI\n",
    "from dotenv import load_dotenv\n",
    "\n",
    "import openai,os\n",
    "load_dotenv(r'D:\\Git\\NLP\\LLM\\ActivLoop\\.env')\n",
    "openai_api_key = os.getenv(\"ACTIVELOOP_TOKEN\")\n",
    "\n",
    "assert openai_api_key, \"ERROR: Azure OpenAI Key is missing\"\n",
    "openai.api_key = openai_api_key\n",
    "\n",
    "openai.api_base = os.getenv(\"OpenAiService\")\n",
    "openai.api_type = \"azure\"\n",
    "openai.api_version =os.getenv(\"OpenAiVersion\")\n",
    "davincimodel= os.getenv(\"OpenAiDavinci\")\n",
    "active_loop_token=os.getenv(\"ACTIVELOOP_TOKEN\")\n",
    "embedding_model=os.getenv(\"OpenAiEmbedding\")\n",
    "chat_ai=os.getenv(\"ChatAI\")#\n",
    "HUGGINGFACEHUB_API_TOKEN=os.getenv(\"HUGGINGFACEHUB_API_TOKEN\")"
   ]
  },
  {
   "attachments": {},
   "cell_type": "markdown",
   "metadata": {},
   "source": [
    "### Introduction\n",
    "In this lesson we'll delve into DataChad, an open-source project that permits users to ask questions about any data source. DataChad is an open-source project that enables querying any data source, from local files to URLs, using LangChain, embeddings, Deep Lake, and large language models (LLMs) like GPT-3.5-turbo or GPT-4.\n",
    "\n",
    "Recently, DataChad's capabilities have been expanded to include local deployment using GPT4all. This allows all data to be processed locally without making any API calls, providing enhanced privacy and data security.\n",
    "\n",
    "This lesson will showcase how DataChad can simplify data querying and highlight its potential for on-premises deployment in enterprise settings. We'll delve into the integration of LLMs, vector similarity, and the recently introduced local deployment feature.\n",
    "\n",
    "So, whether you need a deep dive into complex data or swift insights, DataChad offers a new level of efficiency. Let's get started!\n",
    "\n",
    "\n",
    "### The Workflow\n",
    "The workflow for building an All-In-One Chat with Anything App consists of three main parts:\n",
    "\n",
    "1. The Streamlit App: Defined in app.py, this serves as the user interface for the application, allowing users to interact with the system.\n",
    "2. The Processing Functions: Located in utils.py, this section contains all the crucial processing functionality and API calls. This part enables the extraction, transformation, and loading (ETL) of data and interacts with external APIs to perform complex tasks such as language model inferencing or database querying.\n",
    "3. The Constants: Defined in constants.py, this part of the workflow includes project-specific paths, names, and descriptions. This section is crucial for the application's configuration, ensuring consistency and ease of modifications or updates across the project."
   ]
  },
  {
   "attachments": {},
   "cell_type": "markdown",
   "metadata": {},
   "source": [
    "https://www.activeloop.ai/resources/data-chad-an-ai-app-with-lang-chain-deep-lake-to-chat-with-any-data/"
   ]
  },
  {
   "attachments": {},
   "cell_type": "markdown",
   "metadata": {},
   "source": [
    "https://github.com/gustavz/datachad"
   ]
  },
  {
   "attachments": {},
   "cell_type": "markdown",
   "metadata": {},
   "source": []
  }
 ],
 "metadata": {
  "kernelspec": {
   "display_name": "activeloop",
   "language": "python",
   "name": "python3"
  },
  "language_info": {
   "codemirror_mode": {
    "name": "ipython",
    "version": 3
   },
   "file_extension": ".py",
   "mimetype": "text/x-python",
   "name": "python",
   "nbconvert_exporter": "python",
   "pygments_lexer": "ipython3",
   "version": "3.8.17"
  },
  "orig_nbformat": 4
 },
 "nbformat": 4,
 "nbformat_minor": 2
}
