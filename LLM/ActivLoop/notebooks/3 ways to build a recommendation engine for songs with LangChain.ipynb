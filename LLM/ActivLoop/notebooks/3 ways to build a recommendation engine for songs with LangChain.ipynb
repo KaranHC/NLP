{
 "cells": [
  {
   "cell_type": "code",
   "execution_count": 1,
   "metadata": {},
   "outputs": [
    {
     "name": "stderr",
     "output_type": "stream",
     "text": [
      "c:\\Users\\sri.karan\\.conda\\envs\\activeloop\\lib\\site-packages\\deeplake\\util\\check_latest_version.py:32: UserWarning: A newer version of deeplake (3.6.17) is available. It's recommended that you update to the latest version using `pip install -U deeplake`.\n",
      "  warnings.warn(\n"
     ]
    }
   ],
   "source": [
    "import pandas  as pd\n",
    "from langchain.llms import OpenAI\n",
    "from dotenv import load_dotenv\n",
    "\n",
    "import openai,os\n",
    "load_dotenv(r'D:\\Git\\NLP\\LLM\\ActivLoop\\.env')\n",
    "openai_api_key = os.getenv(\"ACTIVELOOP_TOKEN\")\n",
    "\n",
    "assert openai_api_key, \"ERROR: Azure OpenAI Key is missing\"\n",
    "openai.api_key = openai_api_key\n",
    "\n",
    "openai.api_base = os.getenv(\"OpenAiService\")\n",
    "openai.api_type = \"azure\"\n",
    "openai.api_version =os.getenv(\"OpenAiVersion\")\n",
    "davincimodel= os.getenv(\"OpenAiDavinci\")\n",
    "active_loop_token=os.getenv(\"ACTIVELOOP_TOKEN\")\n",
    "embedding_model=os.getenv(\"OpenAiEmbedding\")\n",
    "chat_ai=os.getenv(\"ChatAI\")#\n",
    "HUGGINGFACEHUB_API_TOKEN=os.getenv(\"HUGGINGFACEHUB_API_TOKEN\")"
   ]
  },
  {
   "attachments": {},
   "cell_type": "markdown",
   "metadata": {},
   "source": [
    "### Introduction\n",
    "Welcome to the lesson on crafting a song recommendation engine with LangChain. We'll explore the use of Large Language Models (LLMs) and vector databases to enrich user experience through a case study of 'FairyTaleDJ,' a unique web app that suggests Disney songs based on user emotions.\n",
    "\n",
    "We'll demonstrate how to use LLMs to encode data, enhancing the retrieval process and making it faster and more efficient. By the end of this lesson, you'll have explored three strategies for constructing an emotion-responsive recommendation engine, and learned from their successes and failures.\n",
    "\n",
    "Our focus will be on three core areas: data management, encoding methods, and matching user input to generate fitting song recommendations. Get ready for the journey through the innovative world of recommendation engines with LangChain.\n",
    "\n",
    "The Workflow\n",
    "\n",
    "Building a song recommendation engine using LangChain involves data collection, encoding, and matching. We scrape Disney song lyrics and gather their Spotify URLs. Using Activeloop Deep Lake Vector Database in LangChain, we convert the lyrics into embedded data with relevant metadata.\n",
    "\n",
    "For matching songs to user input, we convert both song lyrics and user inputs into a list of emotions with the help of the OpenAI model. These emotions are embedded and stored in Deep Lake. A similarity search is then conducted in the vector database based on these emotions to provide song recommendations.\n",
    "\n",
    "We filter out low-scoring matches and ensure the same song isn't recommended twice to add variation. Finally, we create a user-friendly interface using Streamlit and host it on Hugging Face Spaces."
   ]
  },
  {
   "attachments": {},
   "cell_type": "markdown",
   "metadata": {},
   "source": [
    "https://learn.activeloop.ai/courses/take/langchain/multimedia/46318173-3-ways-to-build-a-recommendation-engine-for-songs-with-langchain"
   ]
  },
  {
   "attachments": {},
   "cell_type": "markdown",
   "metadata": {},
   "source": [
    "Hey there! Today we will see how to leverage Deep Lake Vector Database to create a document retrieval system. This will be different from your usual Question Answering demo app, where we just directly apply the user's query to embedded documents using LangChain. We will showcase how we can leverage Large Language Models (LLMs) to encode our data to make our matching easier, better, and faster.\n",
    "\n",
    "Step by step, we'll unpack the behind-the-scenes of FairytaleDJ, a web app to recommend Disney songs based on user input. The goal is simple: We ask how the user feels, and we want to retrieve Disney songs that go \"well\" with that input. For example, if the user is sad, a song like Reflection from Mulan would probably be appropriate. Spotify, we're coming for you.\n",
    "\n",
    "Just joking...\n",
    "\n",
    "Or maybe not...\n",
    "\n",
    "In any case, such 'document' retrieval is a perfect example where vanilla Question Answering over docs fails. You won't get good results if you try to find similarities between users' feelings (like, \"Today I am great\") and song lyrics. That's because song embeddings capture everything in the lyrics, making them \"more open\". Instead, we want to encode inputs, users, and lyrics into a similar representation and then run the search. We won't spoil too much here, so shopping list time. We need mainly three things: data, a way to encode it, and a way to match it with user input.\n",
    "\n",
    "Getting the Data for the Song Recommendation Engine\n",
    "To get our songs, we scraped https://www.disneyclips.com/lyrics/, a website containing all the lyrics for all Disney songs ever made. The code is here, and it relies on asyncio to speed up things. We won't focus too much on it, since it's not central to our story (plays Encanto music we don't talk about asyncio, no, no, no...).\n",
    "\n",
    "Then, we used Spotify Python APIs to get all the embedding URLs for each song into the \"Disney Hits\" Playlist. We removed all the songs we had scraped but were not in this playlist. By doing so, we end up with 85 songs."
   ]
  },
  {
   "attachments": {},
   "cell_type": "markdown",
   "metadata": {},
   "source": [
    "https://github.com/FrancescoSaverioZuppichini/FairytaleDJ/blob/main/scrape.py"
   ]
  },
  {
   "cell_type": "code",
   "execution_count": null,
   "metadata": {},
   "outputs": [],
   "source": []
  }
 ],
 "metadata": {
  "kernelspec": {
   "display_name": "activeloop",
   "language": "python",
   "name": "python3"
  },
  "language_info": {
   "codemirror_mode": {
    "name": "ipython",
    "version": 3
   },
   "file_extension": ".py",
   "mimetype": "text/x-python",
   "name": "python",
   "nbconvert_exporter": "python",
   "pygments_lexer": "ipython3",
   "version": "3.8.17"
  },
  "orig_nbformat": 4
 },
 "nbformat": 4,
 "nbformat_minor": 2
}
