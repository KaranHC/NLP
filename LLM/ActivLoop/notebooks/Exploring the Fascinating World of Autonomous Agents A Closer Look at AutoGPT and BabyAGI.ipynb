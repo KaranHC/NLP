{
 "cells": [
  {
   "cell_type": "code",
   "execution_count": 1,
   "metadata": {},
   "outputs": [
    {
     "name": "stderr",
     "output_type": "stream",
     "text": [
      "c:\\Users\\sri.karan\\.conda\\envs\\activeloop\\lib\\site-packages\\deeplake\\util\\check_latest_version.py:32: UserWarning: A newer version of deeplake (3.6.19) is available. It's recommended that you update to the latest version using `pip install -U deeplake`.\n",
      "  warnings.warn(\n"
     ]
    }
   ],
   "source": [
    "import pandas  as pd\n",
    "from langchain.llms import OpenAI\n",
    "from dotenv import load_dotenv\n",
    "\n",
    "import openai,os\n",
    "load_dotenv(r'D:\\Git\\NLP\\LLM\\ActivLoop\\.env')\n",
    "openai_api_key = os.getenv(\"ACTIVELOOP_TOKEN\")\n",
    "\n",
    "assert openai_api_key, \"ERROR: Azure OpenAI Key is missing\"\n",
    "openai.api_key = openai_api_key\n",
    "\n",
    "openai.api_base = os.getenv(\"OpenAiService\")\n",
    "openai.api_type = \"azure\"\n",
    "openai.api_version =os.getenv(\"OpenAiVersion\")\n",
    "davincimodel= os.getenv(\"OpenAiDavinci\")\n",
    "active_loop_token=os.getenv(\"ACTIVELOOP_TOKEN\")\n",
    "embedding_model=os.getenv(\"OpenAiEmbedding\")\n",
    "chat_ai=os.getenv(\"ChatAI\")#\n",
    "HUGGINGFACEHUB_API_TOKEN=os.getenv(\"HUGGINGFACEHUB_API_TOKEN\")"
   ]
  },
  {
   "attachments": {},
   "cell_type": "markdown",
   "metadata": {},
   "source": [
    "### Introduction\n",
    "AutoGPT and BabyAGI are two exciting developments in the world of autonomous agents, which are AI systems designed to carry out tasks without needing constant human guidance. These innovative agents are making waves due to their ability to work independently to achieve a specific objective. Their introduction has led to unreal hype with over 100k stars on GitHub, and they've been heralded as a peek into the future.\n",
    "\n",
    "AutoGPT, an open-source initiative, employs GPT-4 to sift through the internet in a structured manner, formulate subtasks, and initiate new agents. This project has quickly become a sensation, marked by its rapid growth in popularity among the GitHub community. On the other hand, BabyAGI functions similarly via the integration of GPT-4, a vector store, and LangChain. It creates tasks based on prior outcomes and a set goal.\n",
    "\n",
    "While Auto GPT and similar technologies are rapidly evolving, developers are also building and improving on these models. The intrigue surrounding these autonomous agents stems from a few key factors:\n",
    "\n",
    "1. Limited human involvement: Unlike traditional systems like ChatGPT that require human prompts, autonomous agents such as AutoGPT and BabyAGI require minimal human intervention.\n",
    "2. Diverse applications: The potential use cases for these autonomous agents are vast, spanning from personal assistants and problem solvers to automated aids for tasks like email management and prospecting.\n",
    "3. Swift progress: The rapid pace of growth and interest in these projects highlights the significant potential of autonomous agents to revolutionize the AI landscape and beyond.\n",
    "\n",
    "\n",
    "To effectively utilize these agents, we need to start by setting long-term goals tailored to the project's specific needs. These goals might encompass generating high-quality natural language text, answering questions with accuracy and context, and learning from user interactions for continuous performance improvement.\n",
    "\n",
    "### What is AutoGPT?\n",
    "AutoGPT, a type of autonomous AI agent, is designed to carry out tasks until they are solved. \n",
    "\n",
    "It brings three key features to the table:\n",
    "\n",
    "1. Firstly, it's connected to the internet, allowing for real-time research and information retrieval.\n",
    "2. Secondly, it can self-prompt, generating a list of sub-tasks to accomplish a given task.\n",
    "3. Lastly, it can execute tasks, including spinning up other AI agents. While the first two features have been successful, the execution aspect has met with some challenges, including getting caught in loops or wrongly assuming a task has been completed.<br>\n",
    "The initial conception of AutoGPT was as a general autonomous agent capable of doing anything. However, this wide breadth of application seemed to dilute its effectiveness. As a result, a shift has been observed in the AutoGPT space, with developers starting to build specialized agents. These agents are designed to perform specific tasks effectively and efficiently, making them more practically useful. \n",
    "\n",
    "### How AutoGPT work?\n",
    "The concept behind AutoGPT is simple yet profound. Rather than only generating text in response to prompts like plain ChatGPT and GPT-4, AutoGPT is designed to generate, prioritize, and execute tasks. These tasks can range in complexity and are not confined to mere text generation.\n",
    "\n",
    "##### AutoGPT can understand the overall goal, break it down into subtasks, execute those tasks, and dynamically adjust its actions based on the ongoing context.\n",
    "AutoGPT uses plugins for internet browsing and other forms of access to gather necessary information. The outside memory serves as its context-aware module, enabling it to evaluate its current situation, generate new tasks, self-correct if needed, and add new tasks to its queue. This allows for a dynamic flow of operations where tasks are executed and constantly reprioritized based on the context and situation. This understanding of the task, the environment, and the goal at each point in the process transforms AutoGPT from a passive text generator into an active, goal-oriented agent.\n",
    "\n",
    "While this could open up new vistas of AI-powered productivity and problem-solving, it also ushers in new challenges regarding control, misuse, and unforeseen consequences.\n",
    "\n",
    "##### What is BabyAGI?\n",
    "Baby AGI works similarly to autoGPT. It operates in an infinite loop, pulling tasks from a list, executing them, enriching the results, and creating new tasks based on the previous task's objective and results. The concept is similar, but the specific implementation is different. Let’s see it in more detail.\n",
    "\n",
    "##### How BabyAGI works\n",
    "BabyAGI operates in a loop that revolves around four main sub-agents: the Execution Agent, the Task Creation Agent, the Prioritization Agent, and the Context Agent.\n",
    "\n",
    "1. Execution Agent: This is the agent that executes the tasks. It takes an objective and a task as parameters, constructs a prompt based on these inputs, and feeds it to a LLM (e.g. GPT4). The LLM then returns a result, which is the outcome of executing the task.\n",
    "2. Task Creation Agent: Here, the system creates new tasks based on the previously executed task's objective and result. The agent uses a prompt that includes the task description and the current task list and feeds this prompt to the LLM, which generates a list of new tasks. These tasks are returned as a list of dictionaries, each dictionary representing a new task.\n",
    "3. Prioritization Agent: This function is responsible for prioritizing the tasks in the tasks list.\n",
    "4. Context Agent: The scope of this agent is to collect the results from the Execution Agent and merge them with all the other intermediate results from the previous executions of the Execution Agent."
   ]
  },
  {
   "cell_type": "code",
   "execution_count": null,
   "metadata": {},
   "outputs": [],
   "source": [
    "import os\n",
    "os.environ[\"OPENAI_API_KEY\"] = \"<YOUR-OPENAI-API-KEY>\""
   ]
  },
  {
   "attachments": {},
   "cell_type": "markdown",
   "metadata": {},
   "source": [
    "We then create a vector store. Depending on what vector store you use, this step may look different. To proceed, please install either the faiss-gpu or faiss-cpu library. While we recommend utilizing the latest version of libraries, it is important to note that the codes have been tested using version 1.7.2. Remember to install the other required packages with the following command: pip install langchain==0.0.208 deeplake openai tiktoken."
   ]
  },
  {
   "cell_type": "code",
   "execution_count": 2,
   "metadata": {},
   "outputs": [],
   "source": [
    "from langchain.embeddings import OpenAIEmbeddings\n",
    "import faiss\n",
    "from langchain.vectorstores import FAISS\n",
    "from langchain.docstore import InMemoryDocstore\n",
    "\n",
    "# Define the embedding model\n",
    "embeddings_model = OpenAIEmbeddings(deployment=embedding_model)\n",
    "\n",
    "# Initialize the vectorstore\n",
    "embedding_size = 1536\n",
    "index = faiss.IndexFlatL2(embedding_size)\n",
    "vectorstore = FAISS(embeddings_model.embed_query, index, InMemoryDocstore({}), {})"
   ]
  },
  {
   "cell_type": "code",
   "execution_count": 3,
   "metadata": {},
   "outputs": [
    {
     "name": "stderr",
     "output_type": "stream",
     "text": [
      "WARNING! engine is not default parameter.\n",
      "                    engine was transferred to model_kwargs.\n",
      "                    Please confirm that engine is what you intended.\n"
     ]
    },
    {
     "name": "stdout",
     "output_type": "stream",
     "text": [
      "\u001b[95m\u001b[1m\n",
      "*****TASK LIST*****\n",
      "\u001b[0m\u001b[0m\n",
      "1: Make a todo list\n",
      "\u001b[92m\u001b[1m\n",
      "*****NEXT TASK*****\n",
      "\u001b[0m\u001b[0m\n",
      "1: Make a todo list\n",
      "\u001b[93m\u001b[1m\n",
      "*****TASK RESULT*****\n",
      "\u001b[0m\u001b[0m\n",
      "\n",
      "\n",
      "-Check weather conditions and plan accordingly\n",
      "-Pack appropriate clothing and gear\n",
      "-Make reservations for lodging and transportation\n",
      "-Create a budget and itinerary\n",
      "-Research activities and attractions in the area\n",
      "-Pack a camera and plenty of snacks!\n",
      "\u001b[95m\u001b[1m\n",
      "*****TASK LIST*****\n",
      "\u001b[0m\u001b[0m\n",
      "2: Check the weather forecast for the Grand Canyon area.\n",
      "3: Pack clothing and gear appropriate for the forecasted weather conditions.\n",
      "4: Make reservations for lodging and transportation to the Grand Canyon.\n",
      "5: Create a budget and itinerary for the trip.\n",
      "6: Research activities and attractions in the Grand Canyon area.\n",
      "7: Pack a camera and plenty of snacks!\n",
      "\u001b[92m\u001b[1m\n",
      "*****NEXT TASK*****\n",
      "\u001b[0m\u001b[0m\n",
      "2: Check the weather forecast for the Grand Canyon area.\n",
      "\u001b[93m\u001b[1m\n",
      "*****TASK RESULT*****\n",
      "\u001b[0m\u001b[0m\n",
      " The weather forecast for the Grand Canyon area shows that it will be sunny and clear for the next few days.\n",
      "\u001b[95m\u001b[1m\n",
      "*****TASK LIST*****\n",
      "\u001b[0m\u001b[0m\n",
      "Purchase plane tickets to the Grand Canyon area: 3. Purchase plane tickets to the Grand Canyon area. 2. Rent a car for the duration of the trip. 1. Pack clothing and gear appropriate for the forecasted weather conditions. 4. Plan out daily activities and attractions to visit while at the Grand Canyon. 5. Make sure to pack sunscreen and hats for the trip. 6. Don't forget to bring your camera to take plenty of pictures!\n",
      "\u001b[92m\u001b[1m\n",
      "*****NEXT TASK*****\n",
      "\u001b[0m\u001b[0m\n",
      "Purchase plane tickets to the Grand Canyon area: 3. Purchase plane tickets to the Grand Canyon area. 2. Rent a car for the duration of the trip. 1. Pack clothing and gear appropriate for the forecasted weather conditions. 4. Plan out daily activities and attractions to visit while at the Grand Canyon. 5. Make sure to pack sunscreen and hats for the trip. 6. Don't forget to bring your camera to take plenty of pictures!\n"
     ]
    },
    {
     "ename": "ValueError",
     "evalue": "invalid literal for int() with base 10: 'Purchase plane tickets to the Grand Canyon area'",
     "output_type": "error",
     "traceback": [
      "\u001b[1;31m---------------------------------------------------------------------------\u001b[0m",
      "\u001b[1;31mValueError\u001b[0m                                Traceback (most recent call last)",
      "Cell \u001b[1;32mIn[3], line 15\u001b[0m\n\u001b[0;32m      7\u001b[0m \u001b[39m# create thebabyagi agent\u001b[39;00m\n\u001b[0;32m      8\u001b[0m \u001b[39m# If max_iterations is None, the agent may go on forever if stuck in loops\u001b[39;00m\n\u001b[0;32m      9\u001b[0m baby_agi \u001b[39m=\u001b[39m BabyAGI\u001b[39m.\u001b[39mfrom_llm(\n\u001b[0;32m     10\u001b[0m     llm\u001b[39m=\u001b[39mOpenAI(engine\u001b[39m=\u001b[39mdavincimodel, temperature\u001b[39m=\u001b[39m\u001b[39m0\u001b[39m),\n\u001b[0;32m     11\u001b[0m     vectorstore\u001b[39m=\u001b[39mvectorstore,\n\u001b[0;32m     12\u001b[0m     verbose\u001b[39m=\u001b[39m\u001b[39mFalse\u001b[39;00m,\n\u001b[0;32m     13\u001b[0m     max_iterations\u001b[39m=\u001b[39m\u001b[39m3\u001b[39m\n\u001b[0;32m     14\u001b[0m )\n\u001b[1;32m---> 15\u001b[0m response \u001b[39m=\u001b[39m baby_agi({\u001b[39m\"\u001b[39;49m\u001b[39mobjective\u001b[39;49m\u001b[39m\"\u001b[39;49m: goal})\n",
      "File \u001b[1;32mc:\\Users\\sri.karan\\.conda\\envs\\activeloop\\lib\\site-packages\\langchain\\chains\\base.py:166\u001b[0m, in \u001b[0;36mChain.__call__\u001b[1;34m(self, inputs, return_only_outputs, callbacks, tags, include_run_info)\u001b[0m\n\u001b[0;32m    164\u001b[0m \u001b[39mexcept\u001b[39;00m (\u001b[39mKeyboardInterrupt\u001b[39;00m, \u001b[39mException\u001b[39;00m) \u001b[39mas\u001b[39;00m e:\n\u001b[0;32m    165\u001b[0m     run_manager\u001b[39m.\u001b[39mon_chain_error(e)\n\u001b[1;32m--> 166\u001b[0m     \u001b[39mraise\u001b[39;00m e\n\u001b[0;32m    167\u001b[0m run_manager\u001b[39m.\u001b[39mon_chain_end(outputs)\n\u001b[0;32m    168\u001b[0m final_outputs: Dict[\u001b[39mstr\u001b[39m, Any] \u001b[39m=\u001b[39m \u001b[39mself\u001b[39m\u001b[39m.\u001b[39mprep_outputs(\n\u001b[0;32m    169\u001b[0m     inputs, outputs, return_only_outputs\n\u001b[0;32m    170\u001b[0m )\n",
      "File \u001b[1;32mc:\\Users\\sri.karan\\.conda\\envs\\activeloop\\lib\\site-packages\\langchain\\chains\\base.py:160\u001b[0m, in \u001b[0;36mChain.__call__\u001b[1;34m(self, inputs, return_only_outputs, callbacks, tags, include_run_info)\u001b[0m\n\u001b[0;32m    154\u001b[0m run_manager \u001b[39m=\u001b[39m callback_manager\u001b[39m.\u001b[39mon_chain_start(\n\u001b[0;32m    155\u001b[0m     dumpd(\u001b[39mself\u001b[39m),\n\u001b[0;32m    156\u001b[0m     inputs,\n\u001b[0;32m    157\u001b[0m )\n\u001b[0;32m    158\u001b[0m \u001b[39mtry\u001b[39;00m:\n\u001b[0;32m    159\u001b[0m     outputs \u001b[39m=\u001b[39m (\n\u001b[1;32m--> 160\u001b[0m         \u001b[39mself\u001b[39;49m\u001b[39m.\u001b[39;49m_call(inputs, run_manager\u001b[39m=\u001b[39;49mrun_manager)\n\u001b[0;32m    161\u001b[0m         \u001b[39mif\u001b[39;00m new_arg_supported\n\u001b[0;32m    162\u001b[0m         \u001b[39melse\u001b[39;00m \u001b[39mself\u001b[39m\u001b[39m.\u001b[39m_call(inputs)\n\u001b[0;32m    163\u001b[0m     )\n\u001b[0;32m    164\u001b[0m \u001b[39mexcept\u001b[39;00m (\u001b[39mKeyboardInterrupt\u001b[39;00m, \u001b[39mException\u001b[39;00m) \u001b[39mas\u001b[39;00m e:\n\u001b[0;32m    165\u001b[0m     run_manager\u001b[39m.\u001b[39mon_chain_error(e)\n",
      "File \u001b[1;32mc:\\Users\\sri.karan\\.conda\\envs\\activeloop\\lib\\site-packages\\langchain\\experimental\\autonomous_agents\\baby_agi\\baby_agi.py:137\u001b[0m, in \u001b[0;36mBabyAGI._call\u001b[1;34m(self, inputs, run_manager)\u001b[0m\n\u001b[0;32m    135\u001b[0m \u001b[39m# Step 2: Execute the task\u001b[39;00m\n\u001b[0;32m    136\u001b[0m result \u001b[39m=\u001b[39m \u001b[39mself\u001b[39m\u001b[39m.\u001b[39mexecute_task(objective, task[\u001b[39m\"\u001b[39m\u001b[39mtask_name\u001b[39m\u001b[39m\"\u001b[39m])\n\u001b[1;32m--> 137\u001b[0m this_task_id \u001b[39m=\u001b[39m \u001b[39mint\u001b[39;49m(task[\u001b[39m\"\u001b[39;49m\u001b[39mtask_id\u001b[39;49m\u001b[39m\"\u001b[39;49m])\n\u001b[0;32m    138\u001b[0m \u001b[39mself\u001b[39m\u001b[39m.\u001b[39mprint_task_result(result)\n\u001b[0;32m    140\u001b[0m \u001b[39m# Step 3: Store the result in Pinecone\u001b[39;00m\n",
      "\u001b[1;31mValueError\u001b[0m: invalid literal for int() with base 10: 'Purchase plane tickets to the Grand Canyon area'"
     ]
    }
   ],
   "source": [
    "from langchain import OpenAI\n",
    "from langchain.experimental import BabyAGI\n",
    "\n",
    "# set the goal\n",
    "goal = \"Plan a trip to the Grand Canyon\"\n",
    "\n",
    "# create thebabyagi agent\n",
    "# If max_iterations is None, the agent may go on forever if stuck in loops\n",
    "baby_agi = BabyAGI.from_llm(\n",
    "    llm=OpenAI(engine=davincimodel, temperature=0),\n",
    "    vectorstore=vectorstore,\n",
    "    verbose=False,\n",
    "    max_iterations=3\n",
    ")\n",
    "response = baby_agi({\"objective\": goal})"
   ]
  },
  {
   "attachments": {},
   "cell_type": "markdown",
   "metadata": {},
   "source": [
    "This output reflects the systematic way in which the BabyAGI model approaches tasks. \n",
    "\n",
    "It begins by outlining the tasks, making a to-do list regarding a trip to the Grand Canyon, then it proceeds to complete each task one by one. \n",
    "\n",
    "For each task, it not only lists out the information gained through research but also offers a plan of action or what steps it would take to accomplish the task.\n",
    "\n",
    "The agent also dynamically updates its task list based on new information or steps necessary to accomplish broader tasks, like researching the best ways to get to the Grand Canyon, then breaking it down into more specific sub-tasks. This sequential, methodical approach underscores BabyAGI's ability to handle multi-step tasks in an organized manner.\n",
    "\n",
    "### Future Possibilities\n",
    "The future possibilities for AI agents like BabyAGI and AutoGPT are truly exciting, based on the potential improvements and applications.\n",
    "\n",
    "As for the current status, each autonomous agent has its strengths and challenges: AutoGPT is powerful for complex tasks, though it has a steeper learning curve. BabyAGI excels at providing detailed task lists toward a goal, though it does face implementation hurdles. They both sometimes fall short in executing tasks, but these agents are improving every day with the effort of the open-source community.\n",
    "\n",
    "These AI agents are already showing how they can navigate tasks and problems with autonomy that was previously the domain of human intellect. \n",
    "\n",
    "In the next lesson we’ll use AutoGPT with LangChain and explain more about how it works.\n",
    "\n",
    "RESOURCES:"
   ]
  },
  {
   "attachments": {},
   "cell_type": "markdown",
   "metadata": {},
   "source": [
    "https://python.langchain.com/docs/use_cases/autonomous_agents/baby_agi.html<br>\n",
    "https://www.lesswrong.com/posts/566kBoPi76t8KAkoD/on-autogpt<br>\n",
    "https://github.com/yoheinakajima/babyagi/blob/main/docs/inspired-projects.md"
   ]
  },
  {
   "cell_type": "code",
   "execution_count": null,
   "metadata": {},
   "outputs": [],
   "source": []
  }
 ],
 "metadata": {
  "kernelspec": {
   "display_name": "activeloop",
   "language": "python",
   "name": "python3"
  },
  "language_info": {
   "codemirror_mode": {
    "name": "ipython",
    "version": 3
   },
   "file_extension": ".py",
   "mimetype": "text/x-python",
   "name": "python",
   "nbconvert_exporter": "python",
   "pygments_lexer": "ipython3",
   "version": "3.8.17"
  },
  "orig_nbformat": 4
 },
 "nbformat": 4,
 "nbformat_minor": 2
}
