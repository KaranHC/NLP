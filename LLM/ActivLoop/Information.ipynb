{
 "cells": [
  {
   "cell_type": "code",
   "execution_count": 10,
   "metadata": {},
   "outputs": [],
   "source": [
    "from dotenv import load_dotenv\n",
    "import os"
   ]
  },
  {
   "cell_type": "code",
   "execution_count": 11,
   "metadata": {},
   "outputs": [
    {
     "data": {
      "text/plain": [
       "True"
      ]
     },
     "execution_count": 11,
     "metadata": {},
     "output_type": "execute_result"
    }
   ],
   "source": [
    "load_dotenv(r'D:\\Git\\NLP\\LLM\\ActivLoop\\.env')\n"
   ]
  },
  {
   "cell_type": "code",
   "execution_count": 14,
   "metadata": {},
   "outputs": [
    {
     "name": "stdout",
     "output_type": "stream",
     "text": [
      "Collecting langchain==0.0.208\n",
      "  Downloading langchain-0.0.208-py3-none-any.whl (1.1 MB)\n",
      "     ---------------------------------------- 1.1/1.1 MB 1.6 MB/s eta 0:00:00\n",
      "Collecting deeplake\n",
      "  Downloading deeplake-3.6.13.tar.gz (527 kB)\n",
      "     -------------------------------------- 527.7/527.7 kB 4.7 MB/s eta 0:00:00\n",
      "  Preparing metadata (setup.py): started\n",
      "  Preparing metadata (setup.py): finished with status 'done'\n",
      "Collecting openai\n",
      "  Using cached openai-0.27.8-py3-none-any.whl (73 kB)\n",
      "Collecting tiktoken\n",
      "  Using cached tiktoken-0.4.0-cp38-cp38-win_amd64.whl (635 kB)\n",
      "Collecting PyYAML>=5.4.1 (from langchain==0.0.208)\n",
      "  Using cached PyYAML-6.0.1-cp38-cp38-win_amd64.whl (157 kB)\n",
      "Collecting SQLAlchemy<3,>=1.4 (from langchain==0.0.208)\n",
      "  Using cached SQLAlchemy-2.0.19-cp38-cp38-win_amd64.whl (2.0 MB)\n",
      "Collecting aiohttp<4.0.0,>=3.8.3 (from langchain==0.0.208)\n",
      "  Downloading aiohttp-3.8.5-cp38-cp38-win_amd64.whl (327 kB)\n",
      "     -------------------------------------- 327.9/327.9 kB 6.8 MB/s eta 0:00:00\n",
      "Collecting async-timeout<5.0.0,>=4.0.0 (from langchain==0.0.208)\n",
      "  Using cached async_timeout-4.0.2-py3-none-any.whl (5.8 kB)\n",
      "Collecting dataclasses-json<0.6.0,>=0.5.7 (from langchain==0.0.208)\n",
      "  Downloading dataclasses_json-0.5.13-py3-none-any.whl (26 kB)\n",
      "Collecting langchainplus-sdk>=0.0.13 (from langchain==0.0.208)\n",
      "  Downloading langchainplus_sdk-0.0.20-py3-none-any.whl (25 kB)\n",
      "Collecting numexpr<3.0.0,>=2.8.4 (from langchain==0.0.208)\n",
      "  Using cached numexpr-2.8.4-cp38-cp38-win_amd64.whl (92 kB)\n",
      "Collecting numpy<2,>=1 (from langchain==0.0.208)\n",
      "  Using cached numpy-1.24.4-cp38-cp38-win_amd64.whl (14.9 MB)\n",
      "Collecting openapi-schema-pydantic<2.0,>=1.2 (from langchain==0.0.208)\n",
      "  Using cached openapi_schema_pydantic-1.2.4-py3-none-any.whl (90 kB)\n",
      "Collecting pydantic<2,>=1 (from langchain==0.0.208)\n",
      "  Downloading pydantic-1.10.12-cp38-cp38-win_amd64.whl (2.2 MB)\n",
      "     ---------------------------------------- 2.2/2.2 MB 5.7 MB/s eta 0:00:00\n",
      "Collecting requests<3,>=2 (from langchain==0.0.208)\n",
      "  Using cached requests-2.31.0-py3-none-any.whl (62 kB)\n",
      "Collecting tenacity<9.0.0,>=8.1.0 (from langchain==0.0.208)\n",
      "  Using cached tenacity-8.2.2-py3-none-any.whl (24 kB)\n",
      "Collecting pillow (from deeplake)\n",
      "  Downloading Pillow-10.0.0-cp38-cp38-win_amd64.whl (2.5 MB)\n",
      "     ---------------------------------------- 2.5/2.5 MB 4.4 MB/s eta 0:00:00\n",
      "Collecting boto3 (from deeplake)\n",
      "  Downloading boto3-1.28.10-py3-none-any.whl (135 kB)\n",
      "     -------------------------------------- 135.8/135.8 kB 4.0 MB/s eta 0:00:00\n",
      "Collecting click (from deeplake)\n",
      "  Downloading click-8.1.6-py3-none-any.whl (97 kB)\n",
      "     ---------------------------------------- 97.9/97.9 kB 5.8 MB/s eta 0:00:00\n",
      "Collecting pathos (from deeplake)\n",
      "  Downloading pathos-0.3.1-py3-none-any.whl (82 kB)\n",
      "     ---------------------------------------- 82.1/82.1 kB 2.2 MB/s eta 0:00:00\n",
      "Collecting humbug>=0.3.1 (from deeplake)\n",
      "  Downloading humbug-0.3.2-py3-none-any.whl (15 kB)\n",
      "Collecting tqdm (from deeplake)\n",
      "  Using cached tqdm-4.65.0-py3-none-any.whl (77 kB)\n",
      "Collecting numcodecs (from deeplake)\n",
      "  Downloading numcodecs-0.11.0-cp38-cp38-win_amd64.whl (611 kB)\n",
      "     -------------------------------------- 611.6/611.6 kB 4.3 MB/s eta 0:00:00\n",
      "Collecting pyjwt (from deeplake)\n",
      "  Using cached PyJWT-2.8.0-py3-none-any.whl (22 kB)\n",
      "Collecting regex>=2022.1.18 (from tiktoken)\n",
      "  Using cached regex-2023.6.3-cp38-cp38-win_amd64.whl (268 kB)\n",
      "Collecting attrs>=17.3.0 (from aiohttp<4.0.0,>=3.8.3->langchain==0.0.208)\n",
      "  Using cached attrs-23.1.0-py3-none-any.whl (61 kB)\n",
      "Collecting charset-normalizer<4.0,>=2.0 (from aiohttp<4.0.0,>=3.8.3->langchain==0.0.208)\n",
      "  Using cached charset_normalizer-3.2.0-cp38-cp38-win_amd64.whl (96 kB)\n",
      "Collecting multidict<7.0,>=4.5 (from aiohttp<4.0.0,>=3.8.3->langchain==0.0.208)\n",
      "  Using cached multidict-6.0.4-cp38-cp38-win_amd64.whl (28 kB)\n",
      "Collecting yarl<2.0,>=1.0 (from aiohttp<4.0.0,>=3.8.3->langchain==0.0.208)\n",
      "  Using cached yarl-1.9.2-cp38-cp38-win_amd64.whl (61 kB)\n",
      "Collecting frozenlist>=1.1.1 (from aiohttp<4.0.0,>=3.8.3->langchain==0.0.208)\n",
      "  Using cached frozenlist-1.4.0-cp38-cp38-win_amd64.whl (44 kB)\n",
      "Collecting aiosignal>=1.1.2 (from aiohttp<4.0.0,>=3.8.3->langchain==0.0.208)\n",
      "  Using cached aiosignal-1.3.1-py3-none-any.whl (7.6 kB)\n",
      "Collecting marshmallow<4.0.0,>=3.18.0 (from dataclasses-json<0.6.0,>=0.5.7->langchain==0.0.208)\n",
      "  Downloading marshmallow-3.20.1-py3-none-any.whl (49 kB)\n",
      "     ---------------------------------------- 49.4/49.4 kB 2.6 MB/s eta 0:00:00\n",
      "Collecting typing-inspect<1,>=0.4.0 (from dataclasses-json<0.6.0,>=0.5.7->langchain==0.0.208)\n",
      "  Using cached typing_inspect-0.9.0-py3-none-any.whl (8.8 kB)\n",
      "Requirement already satisfied: typing-extensions>=4.2.0 in c:\\users\\sri.karan\\.conda\\envs\\activeloop\\lib\\site-packages (from pydantic<2,>=1->langchain==0.0.208) (4.7.1)\n",
      "Collecting idna<4,>=2.5 (from requests<3,>=2->langchain==0.0.208)\n",
      "  Using cached idna-3.4-py3-none-any.whl (61 kB)\n",
      "Collecting urllib3<3,>=1.21.1 (from requests<3,>=2->langchain==0.0.208)\n",
      "  Using cached urllib3-2.0.4-py3-none-any.whl (123 kB)\n",
      "Collecting certifi>=2017.4.17 (from requests<3,>=2->langchain==0.0.208)\n",
      "  Downloading certifi-2023.7.22-py3-none-any.whl (158 kB)\n",
      "     -------------------------------------- 158.3/158.3 kB 4.6 MB/s eta 0:00:00\n",
      "Collecting greenlet!=0.4.17 (from SQLAlchemy<3,>=1.4->langchain==0.0.208)\n",
      "  Using cached greenlet-2.0.2-cp38-cp38-win_amd64.whl (192 kB)\n",
      "Collecting botocore<1.32.0,>=1.31.10 (from boto3->deeplake)\n",
      "  Downloading botocore-1.31.10-py3-none-any.whl (11.0 MB)\n",
      "     ---------------------------------------- 11.0/11.0 MB 2.5 MB/s eta 0:00:00\n",
      "Collecting jmespath<2.0.0,>=0.7.1 (from boto3->deeplake)\n",
      "  Using cached jmespath-1.0.1-py3-none-any.whl (20 kB)\n",
      "Collecting s3transfer<0.7.0,>=0.6.0 (from boto3->deeplake)\n",
      "  Downloading s3transfer-0.6.1-py3-none-any.whl (79 kB)\n",
      "     ---------------------------------------- 79.8/79.8 kB 2.2 MB/s eta 0:00:00\n",
      "Requirement already satisfied: colorama in c:\\users\\sri.karan\\.conda\\envs\\activeloop\\lib\\site-packages (from click->deeplake) (0.4.6)\n",
      "Collecting entrypoints (from numcodecs->deeplake)\n",
      "  Using cached entrypoints-0.4-py3-none-any.whl (5.3 kB)\n",
      "Collecting ppft>=1.7.6.7 (from pathos->deeplake)\n",
      "  Downloading ppft-1.7.6.7-py3-none-any.whl (56 kB)\n",
      "     ---------------------------------------- 56.8/56.8 kB 1.5 MB/s eta 0:00:00\n",
      "Collecting dill>=0.3.7 (from pathos->deeplake)\n",
      "  Downloading dill-0.3.7-py3-none-any.whl (115 kB)\n",
      "     -------------------------------------- 115.3/115.3 kB 2.2 MB/s eta 0:00:00\n",
      "Collecting pox>=0.3.3 (from pathos->deeplake)\n",
      "  Downloading pox-0.3.3-py3-none-any.whl (29 kB)\n",
      "Collecting multiprocess>=0.70.15 (from pathos->deeplake)\n",
      "  Downloading multiprocess-0.70.15-py38-none-any.whl (132 kB)\n",
      "     -------------------------------------- 132.6/132.6 kB 2.6 MB/s eta 0:00:00\n",
      "Requirement already satisfied: python-dateutil<3.0.0,>=2.1 in c:\\users\\sri.karan\\.conda\\envs\\activeloop\\lib\\site-packages (from botocore<1.32.0,>=1.31.10->boto3->deeplake) (2.8.2)\n",
      "Collecting urllib3<3,>=1.21.1 (from requests<3,>=2->langchain==0.0.208)\n",
      "  Downloading urllib3-1.26.16-py2.py3-none-any.whl (143 kB)\n",
      "     -------------------------------------- 143.1/143.1 kB 2.1 MB/s eta 0:00:00\n",
      "Requirement already satisfied: packaging>=17.0 in c:\\users\\sri.karan\\.conda\\envs\\activeloop\\lib\\site-packages (from marshmallow<4.0.0,>=3.18.0->dataclasses-json<0.6.0,>=0.5.7->langchain==0.0.208) (23.1)\n",
      "Collecting mypy-extensions>=0.3.0 (from typing-inspect<1,>=0.4.0->dataclasses-json<0.6.0,>=0.5.7->langchain==0.0.208)\n",
      "  Using cached mypy_extensions-1.0.0-py3-none-any.whl (4.7 kB)\n",
      "Requirement already satisfied: six>=1.5 in c:\\users\\sri.karan\\.conda\\envs\\activeloop\\lib\\site-packages (from python-dateutil<3.0.0,>=2.1->botocore<1.32.0,>=1.31.10->boto3->deeplake) (1.16.0)\n",
      "Building wheels for collected packages: deeplake\n",
      "  Building wheel for deeplake (setup.py): started\n",
      "  Building wheel for deeplake (setup.py): finished with status 'done'\n",
      "  Created wheel for deeplake: filename=deeplake-3.6.13-py3-none-any.whl size=642738 sha256=d427b11aeb5bde95edf5d395ee8e296d44644c3e509e160e15ede5fe24b66c6c\n",
      "  Stored in directory: c:\\users\\sri.karan\\appdata\\local\\pip\\cache\\wheels\\e3\\23\\92\\a47e0a9a351154f1f4b6da1b836233da8253b10d1737e2729f\n",
      "Successfully built deeplake\n",
      "Installing collected packages: urllib3, tqdm, tenacity, regex, PyYAML, pyjwt, pydantic, ppft, pox, pillow, numpy, mypy-extensions, multidict, marshmallow, jmespath, idna, greenlet, frozenlist, entrypoints, dill, click, charset-normalizer, certifi, attrs, async-timeout, yarl, typing-inspect, SQLAlchemy, requests, openapi-schema-pydantic, numexpr, numcodecs, multiprocess, botocore, aiosignal, tiktoken, s3transfer, pathos, langchainplus-sdk, humbug, dataclasses-json, aiohttp, openai, langchain, boto3, deeplake\n",
      "Successfully installed PyYAML-6.0.1 SQLAlchemy-2.0.19 aiohttp-3.8.5 aiosignal-1.3.1 async-timeout-4.0.2 attrs-23.1.0 boto3-1.28.10 botocore-1.31.10 certifi-2023.7.22 charset-normalizer-3.2.0 click-8.1.6 dataclasses-json-0.5.13 deeplake-3.6.13 dill-0.3.7 entrypoints-0.4 frozenlist-1.4.0 greenlet-2.0.2 humbug-0.3.2 idna-3.4 jmespath-1.0.1 langchain-0.0.208 langchainplus-sdk-0.0.20 marshmallow-3.20.1 multidict-6.0.4 multiprocess-0.70.15 mypy-extensions-1.0.0 numcodecs-0.11.0 numexpr-2.8.4 numpy-1.24.4 openai-0.27.8 openapi-schema-pydantic-1.2.4 pathos-0.3.1 pillow-10.0.0 pox-0.3.3 ppft-1.7.6.7 pydantic-1.10.12 pyjwt-2.8.0 regex-2023.6.3 requests-2.31.0 s3transfer-0.6.1 tenacity-8.2.2 tiktoken-0.4.0 tqdm-4.65.0 typing-inspect-0.9.0 urllib3-1.26.16 yarl-1.9.2\n"
     ]
    },
    {
     "name": "stderr",
     "output_type": "stream",
     "text": [
      "ERROR: pip's dependency resolver does not currently take into account all the packages that are installed. This behaviour is the source of the following dependency conflicts.\n",
      "altair 4.2.0 requires jinja2, which is not installed.\n",
      "altair 4.2.0 requires jsonschema>=3.0, which is not installed.\n",
      "altair 4.2.0 requires pandas>=0.18, which is not installed.\n",
      "altair 4.2.0 requires toolz, which is not installed.\n",
      "pydeck 0.7.1 requires ipywidgets>=7.0.0, which is not installed.\n",
      "pydeck 0.7.1 requires jinja2>=2.10.1, which is not installed.\n",
      "spektral 1.0.8 requires joblib, which is not installed.\n",
      "spektral 1.0.8 requires lxml, which is not installed.\n",
      "spektral 1.0.8 requires networkx, which is not installed.\n",
      "spektral 1.0.8 requires pandas, which is not installed.\n",
      "spektral 1.0.8 requires scikit-learn, which is not installed.\n",
      "spektral 1.0.8 requires scipy, which is not installed.\n",
      "tensorboard 2.7.0 requires werkzeug>=0.11.15, which is not installed.\n",
      "tensorflow 2.7.0 requires h5py>=2.9.0, which is not installed.\n",
      "tensorflow 2.7.0 requires keras<2.8,>=2.7.0rc0, which is not installed.\n",
      "tensorflow 2.7.0 requires wrapt>=1.11.0, which is not installed.\n",
      "spektral 1.0.8 requires numpy<1.20, but you have numpy 1.24.4 which is incompatible.\n"
     ]
    }
   ],
   "source": [
    "!pip install langchain==0.0.208 deeplake openai tiktoken"
   ]
  },
  {
   "cell_type": "code",
   "execution_count": null,
   "metadata": {},
   "outputs": [],
   "source": [
    "os.getenv(\"ACTIVELOOP_TOKEN\")"
   ]
  },
  {
   "cell_type": "code",
   "execution_count": null,
   "metadata": {},
   "outputs": [],
   "source": []
  }
 ],
 "metadata": {
  "kernelspec": {
   "display_name": "activeloop",
   "language": "python",
   "name": "python3"
  },
  "language_info": {
   "codemirror_mode": {
    "name": "ipython",
    "version": 3
   },
   "file_extension": ".py",
   "mimetype": "text/x-python",
   "name": "python",
   "nbconvert_exporter": "python",
   "pygments_lexer": "ipython3",
   "version": "3.8.17"
  },
  "orig_nbformat": 4
 },
 "nbformat": 4,
 "nbformat_minor": 2
}
